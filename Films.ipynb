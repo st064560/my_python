{
  "nbformat": 4,
  "nbformat_minor": 0,
  "metadata": {
    "kernelspec": {
      "display_name": "Python 3",
      "language": "python",
      "name": "python3"
    },
    "language_info": {
      "codemirror_mode": {
        "name": "ipython",
        "version": 3
      },
      "file_extension": ".py",
      "mimetype": "text/x-python",
      "name": "python",
      "nbconvert_exporter": "python",
      "pygments_lexer": "ipython3",
      "version": "3.7.3"
    },
    "colab": {
      "name": "Films.ipynb",
      "provenance": [],
      "include_colab_link": true
    }
  },
  "cells": [
    {
      "cell_type": "markdown",
      "metadata": {
        "id": "view-in-github",
        "colab_type": "text"
      },
      "source": [
        "<a href=\"https://colab.research.google.com/github/st064560/my_python/blob/master/Films.ipynb\" target=\"_parent\"><img src=\"https://colab.research.google.com/assets/colab-badge.svg\" alt=\"Open In Colab\"/></a>"
      ]
    },
    {
      "cell_type": "markdown",
      "metadata": {
        "id": "ViwnocC6Em-6",
        "colab_type": "text"
      },
      "source": [
        "<a href=\"https://colab.research.google.com/github/dm-fedorov/pandas_basic/blob/master/%D0%A2%D0%B5%D0%BF%D0%BB%D0%B8%D1%86%D0%B0/3.%20%D0%9A%D0%B8%D0%BD%D0%BE%D0%BF%D0%BE%D0%B8%D1%81%D0%BA.ipynb\"><img align=\"left\" src=\"https://colab.research.google.com/assets/colab-badge.svg\" alt=\"Open in Colab\" title=\"Open and Execute in Google Colaboratory\" target=\"_blank\"></a>"
      ]
    },
    {
      "cell_type": "markdown",
      "metadata": {
        "id": "g_2WKkJ1Em_C",
        "colab_type": "text"
      },
      "source": [
        "Источник: Кинопоиск 23.12.2018\n",
        "\n",
        "Данные собрал: [Андрей Дорожный](http://dorozhnij.com/)\n",
        "\n",
        "- **name** Название фильма\n",
        "- **country** Страна производства\n",
        "- **time** Продолжительность фильма, мин\n",
        "- **ranking** Балл на Кинопоиске\n",
        "- **type** Жанр\n",
        "- **year** Год выпуска\n",
        "- **director** Режиссер"
      ]
    },
    {
      "cell_type": "code",
      "metadata": {
        "id": "NMX2_Ss1Em_G",
        "colab_type": "code",
        "outputId": "2c802d4c-f7d6-4378-b3bc-60e859ebbd6d",
        "colab": {
          "base_uri": "https://localhost:8080/",
          "height": 204
        }
      },
      "source": [
        "import pandas as pd\n",
        "\n",
        "url = \"https://raw.githubusercontent.com/dm-fedorov/pandas_basic/master/data/new_year_film.csv\"\n",
        "kino = pd.read_csv(url)\n",
        "kino.head()"
      ],
      "execution_count": 0,
      "outputs": [
        {
          "output_type": "execute_result",
          "data": {
            "text/html": [
              "<div>\n",
              "<style scoped>\n",
              "    .dataframe tbody tr th:only-of-type {\n",
              "        vertical-align: middle;\n",
              "    }\n",
              "\n",
              "    .dataframe tbody tr th {\n",
              "        vertical-align: top;\n",
              "    }\n",
              "\n",
              "    .dataframe thead th {\n",
              "        text-align: right;\n",
              "    }\n",
              "</style>\n",
              "<table border=\"1\" class=\"dataframe\">\n",
              "  <thead>\n",
              "    <tr style=\"text-align: right;\">\n",
              "      <th></th>\n",
              "      <th>name</th>\n",
              "      <th>country</th>\n",
              "      <th>time</th>\n",
              "      <th>ranking</th>\n",
              "      <th>type</th>\n",
              "      <th>year</th>\n",
              "      <th>director</th>\n",
              "    </tr>\n",
              "  </thead>\n",
              "  <tbody>\n",
              "    <tr>\n",
              "      <th>0</th>\n",
              "      <td>Невеста</td>\n",
              "      <td>Россия</td>\n",
              "      <td>74</td>\n",
              "      <td>7,66</td>\n",
              "      <td>фильм</td>\n",
              "      <td>2006</td>\n",
              "      <td>Билли Уайлдер</td>\n",
              "    </tr>\n",
              "    <tr>\n",
              "      <th>1</th>\n",
              "      <td>Кто приходит в зимний вечер</td>\n",
              "      <td>Россия</td>\n",
              "      <td>90</td>\n",
              "      <td>6,038</td>\n",
              "      <td>фильм</td>\n",
              "      <td>2006</td>\n",
              "      <td>Билли Уайлдер</td>\n",
              "    </tr>\n",
              "    <tr>\n",
              "      <th>2</th>\n",
              "      <td>Моя мама Снегурочка</td>\n",
              "      <td>Россия</td>\n",
              "      <td>90</td>\n",
              "      <td>6,828</td>\n",
              "      <td>фильм</td>\n",
              "      <td>2007</td>\n",
              "      <td>Билли Уайлдер</td>\n",
              "    </tr>\n",
              "    <tr>\n",
              "      <th>3</th>\n",
              "      <td>Набережная Орфевр</td>\n",
              "      <td>Франция</td>\n",
              "      <td>106</td>\n",
              "      <td>7,597</td>\n",
              "      <td>фильм</td>\n",
              "      <td>1947</td>\n",
              "      <td>Билли Уайлдер</td>\n",
              "    </tr>\n",
              "    <tr>\n",
              "      <th>4</th>\n",
              "      <td>Лузер</td>\n",
              "      <td>Россия</td>\n",
              "      <td>104</td>\n",
              "      <td>6,065</td>\n",
              "      <td>фильм</td>\n",
              "      <td>2007</td>\n",
              "      <td>Билли Уайлдер</td>\n",
              "    </tr>\n",
              "  </tbody>\n",
              "</table>\n",
              "</div>"
            ],
            "text/plain": [
              "                          name  country  time  ...   type  year       director\n",
              "0                      Невеста   Россия    74  ...  фильм  2006  Билли Уайлдер\n",
              "1  Кто приходит в зимний вечер   Россия    90  ...  фильм  2006  Билли Уайлдер\n",
              "2          Моя мама Снегурочка   Россия    90  ...  фильм  2007  Билли Уайлдер\n",
              "3            Набережная Орфевр  Франция   106  ...  фильм  1947  Билли Уайлдер\n",
              "4                       Лузер    Россия   104  ...  фильм  2007  Билли Уайлдер\n",
              "\n",
              "[5 rows x 7 columns]"
            ]
          },
          "metadata": {
            "tags": []
          },
          "execution_count": 1
        }
      ]
    },
    {
      "cell_type": "markdown",
      "metadata": {
        "id": "2QVE3NTpEm_2",
        "colab_type": "text"
      },
      "source": [
        "### Задания"
      ]
    },
    {
      "cell_type": "markdown",
      "metadata": {
        "id": "RSyYCGCTEm_5",
        "colab_type": "text"
      },
      "source": [
        "Определите советского режиссера с минимальным рейтингом."
      ]
    },
    {
      "cell_type": "code",
      "metadata": {
        "id": "vb3fOZ8YEm_9",
        "colab_type": "code",
        "outputId": "04cf955c-ec5f-4664-dfb3-9b9402af8cce",
        "colab": {
          "base_uri": "https://localhost:8080/",
          "height": 34
        }
      },
      "source": [
        "kino = pd.read_csv(url)\n",
        "#kino.head()\n",
        "kino[(kino.country == \"Россия\") & (kino.ranking == kino.ranking.min())].director"
      ],
      "execution_count": 0,
      "outputs": [
        {
          "output_type": "execute_result",
          "data": {
            "text/plain": [
              "Series([], Name: director, dtype: object)"
            ]
          },
          "metadata": {
            "tags": []
          },
          "execution_count": 6
        }
      ]
    },
    {
      "cell_type": "markdown",
      "metadata": {
        "id": "X6ltIARVHnsh",
        "colab_type": "text"
      },
      "source": [
        "Заменим запятую точкой и изменим на инт."
      ]
    },
    {
      "cell_type": "code",
      "metadata": {
        "id": "QBiz4X_GEnAQ",
        "colab_type": "code",
        "outputId": "e8f3b296-a3c8-495c-f8a5-5a1a3a3f774f",
        "colab": {
          "base_uri": "https://localhost:8080/",
          "height": 221
        }
      },
      "source": [
        "kino['ranking'] = kino['ranking'].str.replace(',','.')\n",
        "kino.ranking"
      ],
      "execution_count": 0,
      "outputs": [
        {
          "output_type": "execute_result",
          "data": {
            "text/plain": [
              "0       7.66\n",
              "1      6.038\n",
              "2      6.828\n",
              "3      7.597\n",
              "4      6.065\n",
              "       ...  \n",
              "145    7.929\n",
              "146    8.021\n",
              "147     7.94\n",
              "148    8.049\n",
              "149    6.814\n",
              "Name: ranking, Length: 150, dtype: object"
            ]
          },
          "metadata": {
            "tags": []
          },
          "execution_count": 13
        }
      ]
    },
    {
      "cell_type": "code",
      "metadata": {
        "id": "rJ6pJxaWI5YG",
        "colab_type": "code",
        "colab": {}
      },
      "source": [
        "kino['ranking'] = pd.to_numeric(kino['ranking'])"
      ],
      "execution_count": 0,
      "outputs": []
    },
    {
      "cell_type": "code",
      "metadata": {
        "id": "RS5DUp8VH3GT",
        "colab_type": "code",
        "colab": {}
      },
      "source": [
        ""
      ],
      "execution_count": 0,
      "outputs": []
    }
  ]
}