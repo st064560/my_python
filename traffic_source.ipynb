{
  "nbformat": 4,
  "nbformat_minor": 0,
  "metadata": {
    "colab": {
      "name": "traffic_source.ipynb",
      "provenance": [],
      "collapsed_sections": [],
      "authorship_tag": "ABX9TyMHADNG2QLsFJ0OZjI8m/XS",
      "include_colab_link": true
    },
    "kernelspec": {
      "name": "python3",
      "display_name": "Python 3"
    }
  },
  "cells": [
    {
      "cell_type": "markdown",
      "metadata": {
        "id": "view-in-github",
        "colab_type": "text"
      },
      "source": [
        "<a href=\"https://colab.research.google.com/github/st064560/my_python/blob/master/traffic_source.ipynb\" target=\"_parent\"><img src=\"https://colab.research.google.com/assets/colab-badge.svg\" alt=\"Open In Colab\"/></a>"
      ]
    },
    {
      "cell_type": "code",
      "metadata": {
        "id": "q2ryCg0ccYcN",
        "colab_type": "code",
        "colab": {}
      },
      "source": [
        "# импортируем библиотеки numpy и pandas\n",
        "import numpy as np\n",
        "import pandas as pd\n",
        "\n",
        "# импортируем библиотеку datetime для работы с датами\n",
        "import datetime\n",
        "from datetime import datetime, date\n",
        "\n",
        "# импортируем библиотеку matplotlib для построения графиков\n",
        "import matplotlib.pyplot as plt\n",
        "%matplotlib inline"
      ],
      "execution_count": 49,
      "outputs": []
    },
    {
      "cell_type": "code",
      "metadata": {
        "id": "WnXV_ziniqir",
        "colab_type": "code",
        "colab": {
          "base_uri": "https://localhost:8080/",
          "height": 197
        },
        "outputId": "8e0dc27c-d47a-4d6a-8c6c-41823848f795"
      },
      "source": [
        "df = pd.read_excel('/content/upd_orders_2020.xlsx')\n",
        "df.head()"
      ],
      "execution_count": 50,
      "outputs": [
        {
          "output_type": "execute_result",
          "data": {
            "text/html": [
              "<div>\n",
              "<style scoped>\n",
              "    .dataframe tbody tr th:only-of-type {\n",
              "        vertical-align: middle;\n",
              "    }\n",
              "\n",
              "    .dataframe tbody tr th {\n",
              "        vertical-align: top;\n",
              "    }\n",
              "\n",
              "    .dataframe thead th {\n",
              "        text-align: right;\n",
              "    }\n",
              "</style>\n",
              "<table border=\"1\" class=\"dataframe\">\n",
              "  <thead>\n",
              "    <tr style=\"text-align: right;\">\n",
              "      <th></th>\n",
              "      <th>Номер Заказа</th>\n",
              "      <th>дата заказа</th>\n",
              "      <th>year</th>\n",
              "      <th>Статус заказа</th>\n",
              "      <th>email</th>\n",
              "      <th>ЦЕНА ДО СКИДКИ SUM, RUR</th>\n",
              "      <th>ЦЕНА ПОСЛЕ СКИДКИ  SUM, RUR</th>\n",
              "    </tr>\n",
              "  </thead>\n",
              "  <tbody>\n",
              "    <tr>\n",
              "      <th>0</th>\n",
              "      <td>132312746</td>\n",
              "      <td>2020-01-01</td>\n",
              "      <td>2020</td>\n",
              "      <td>complete</td>\n",
              "      <td>julek.85@mail.ru</td>\n",
              "      <td>2717.50</td>\n",
              "      <td>2320.8333</td>\n",
              "    </tr>\n",
              "    <tr>\n",
              "      <th>1</th>\n",
              "      <td>132312754</td>\n",
              "      <td>2020-01-01</td>\n",
              "      <td>2020</td>\n",
              "      <td>complete</td>\n",
              "      <td>galia1407@mail.ru</td>\n",
              "      <td>1683.34</td>\n",
              "      <td>1599.1667</td>\n",
              "    </tr>\n",
              "    <tr>\n",
              "      <th>2</th>\n",
              "      <td>132312762</td>\n",
              "      <td>2020-01-01</td>\n",
              "      <td>2020</td>\n",
              "      <td>complete</td>\n",
              "      <td>culpa89@mail.ru</td>\n",
              "      <td>2945.00</td>\n",
              "      <td>2903.3333</td>\n",
              "    </tr>\n",
              "    <tr>\n",
              "      <th>3</th>\n",
              "      <td>132312766</td>\n",
              "      <td>2020-01-01</td>\n",
              "      <td>2020</td>\n",
              "      <td>complete</td>\n",
              "      <td>olga-tanskaya@mail.ru</td>\n",
              "      <td>2179.17</td>\n",
              "      <td>1735.0000</td>\n",
              "    </tr>\n",
              "    <tr>\n",
              "      <th>4</th>\n",
              "      <td>132312776</td>\n",
              "      <td>2020-01-01</td>\n",
              "      <td>2020</td>\n",
              "      <td>complete</td>\n",
              "      <td>melody79@bk.ru</td>\n",
              "      <td>4179.17</td>\n",
              "      <td>3220.8333</td>\n",
              "    </tr>\n",
              "  </tbody>\n",
              "</table>\n",
              "</div>"
            ],
            "text/plain": [
              "  Номер Заказа  ... ЦЕНА ПОСЛЕ СКИДКИ  SUM, RUR\n",
              "0    132312746  ...                   2320.8333\n",
              "1    132312754  ...                   1599.1667\n",
              "2    132312762  ...                   2903.3333\n",
              "3    132312766  ...                   1735.0000\n",
              "4    132312776  ...                   3220.8333\n",
              "\n",
              "[5 rows x 7 columns]"
            ]
          },
          "metadata": {
            "tags": []
          },
          "execution_count": 50
        }
      ]
    },
    {
      "cell_type": "code",
      "metadata": {
        "id": "Y47QF0crkdNm",
        "colab_type": "code",
        "colab": {
          "base_uri": "https://localhost:8080/",
          "height": 197
        },
        "outputId": "bd297f6a-c4c9-4b0d-f516-c84b3da3572f"
      },
      "source": [
        "sf = pd.read_excel('/content/traffic_source_2020.xlsx')\n",
        "sf.head()"
      ],
      "execution_count": 51,
      "outputs": [
        {
          "output_type": "execute_result",
          "data": {
            "text/html": [
              "<div>\n",
              "<style scoped>\n",
              "    .dataframe tbody tr th:only-of-type {\n",
              "        vertical-align: middle;\n",
              "    }\n",
              "\n",
              "    .dataframe tbody tr th {\n",
              "        vertical-align: top;\n",
              "    }\n",
              "\n",
              "    .dataframe thead th {\n",
              "        text-align: right;\n",
              "    }\n",
              "</style>\n",
              "<table border=\"1\" class=\"dataframe\">\n",
              "  <thead>\n",
              "    <tr style=\"text-align: right;\">\n",
              "      <th></th>\n",
              "      <th>ИД клиента</th>\n",
              "      <th>Email</th>\n",
              "      <th>Шаблон действия</th>\n",
              "      <th>Точка контакта</th>\n",
              "      <th>Дата</th>\n",
              "    </tr>\n",
              "  </thead>\n",
              "  <tbody>\n",
              "    <tr>\n",
              "      <th>0</th>\n",
              "      <td>5916911</td>\n",
              "      <td>lyka17@mail.ru</td>\n",
              "      <td>Переход на сайт</td>\n",
              "      <td>yandex.ru</td>\n",
              "      <td>2020-01-01 00:12:42</td>\n",
              "    </tr>\n",
              "    <tr>\n",
              "      <th>1</th>\n",
              "      <td>6587058</td>\n",
              "      <td>cunninghamclan4@msn.com</td>\n",
              "      <td>Vichy Регистрация в программе лояльности</td>\n",
              "      <td>vichyconsult.ru</td>\n",
              "      <td>2020-01-01 00:42:52</td>\n",
              "    </tr>\n",
              "    <tr>\n",
              "      <th>2</th>\n",
              "      <td>6587062</td>\n",
              "      <td>shop.yo@gmail.com</td>\n",
              "      <td>Vichy Регистрация в программе лояльности</td>\n",
              "      <td>vichyconsult.ru</td>\n",
              "      <td>2020-01-01 00:42:52</td>\n",
              "    </tr>\n",
              "    <tr>\n",
              "      <th>3</th>\n",
              "      <td>6587065</td>\n",
              "      <td>cfuglestad@yahoo.com</td>\n",
              "      <td>Vichy Регистрация в программе лояльности</td>\n",
              "      <td>vichyconsult.ru</td>\n",
              "      <td>2020-01-01 00:42:52</td>\n",
              "    </tr>\n",
              "    <tr>\n",
              "      <th>4</th>\n",
              "      <td>6587067</td>\n",
              "      <td>ysinger@windstream.net</td>\n",
              "      <td>Vichy Регистрация в программе лояльности</td>\n",
              "      <td>vichyconsult.ru</td>\n",
              "      <td>2020-01-01 00:42:52</td>\n",
              "    </tr>\n",
              "  </tbody>\n",
              "</table>\n",
              "</div>"
            ],
            "text/plain": [
              "   ИД клиента                    Email  ...   Точка контакта                Дата\n",
              "0     5916911           lyka17@mail.ru  ...        yandex.ru 2020-01-01 00:12:42\n",
              "1     6587058  cunninghamclan4@msn.com  ...  vichyconsult.ru 2020-01-01 00:42:52\n",
              "2     6587062        shop.yo@gmail.com  ...  vichyconsult.ru 2020-01-01 00:42:52\n",
              "3     6587065     cfuglestad@yahoo.com  ...  vichyconsult.ru 2020-01-01 00:42:52\n",
              "4     6587067   ysinger@windstream.net  ...  vichyconsult.ru 2020-01-01 00:42:52\n",
              "\n",
              "[5 rows x 5 columns]"
            ]
          },
          "metadata": {
            "tags": []
          },
          "execution_count": 51
        }
      ]
    },
    {
      "cell_type": "code",
      "metadata": {
        "id": "jA7o02h3naso",
        "colab_type": "code",
        "colab": {
          "base_uri": "https://localhost:8080/",
          "height": 197
        },
        "outputId": "67acff48-4eab-491e-ce49-e0161581a31c"
      },
      "source": [
        "sf = sf.rename(columns={\"Email\": \"email\", \"Точка контакта\": \"source\",  \"Шаблон действия\": \"action\",  \"Дата\": \"date\",  \"B\": \"c\"})\n",
        "sf.head()"
      ],
      "execution_count": 52,
      "outputs": [
        {
          "output_type": "execute_result",
          "data": {
            "text/html": [
              "<div>\n",
              "<style scoped>\n",
              "    .dataframe tbody tr th:only-of-type {\n",
              "        vertical-align: middle;\n",
              "    }\n",
              "\n",
              "    .dataframe tbody tr th {\n",
              "        vertical-align: top;\n",
              "    }\n",
              "\n",
              "    .dataframe thead th {\n",
              "        text-align: right;\n",
              "    }\n",
              "</style>\n",
              "<table border=\"1\" class=\"dataframe\">\n",
              "  <thead>\n",
              "    <tr style=\"text-align: right;\">\n",
              "      <th></th>\n",
              "      <th>ИД клиента</th>\n",
              "      <th>email</th>\n",
              "      <th>action</th>\n",
              "      <th>source</th>\n",
              "      <th>date</th>\n",
              "    </tr>\n",
              "  </thead>\n",
              "  <tbody>\n",
              "    <tr>\n",
              "      <th>0</th>\n",
              "      <td>5916911</td>\n",
              "      <td>lyka17@mail.ru</td>\n",
              "      <td>Переход на сайт</td>\n",
              "      <td>yandex.ru</td>\n",
              "      <td>2020-01-01 00:12:42</td>\n",
              "    </tr>\n",
              "    <tr>\n",
              "      <th>1</th>\n",
              "      <td>6587058</td>\n",
              "      <td>cunninghamclan4@msn.com</td>\n",
              "      <td>Vichy Регистрация в программе лояльности</td>\n",
              "      <td>vichyconsult.ru</td>\n",
              "      <td>2020-01-01 00:42:52</td>\n",
              "    </tr>\n",
              "    <tr>\n",
              "      <th>2</th>\n",
              "      <td>6587062</td>\n",
              "      <td>shop.yo@gmail.com</td>\n",
              "      <td>Vichy Регистрация в программе лояльности</td>\n",
              "      <td>vichyconsult.ru</td>\n",
              "      <td>2020-01-01 00:42:52</td>\n",
              "    </tr>\n",
              "    <tr>\n",
              "      <th>3</th>\n",
              "      <td>6587065</td>\n",
              "      <td>cfuglestad@yahoo.com</td>\n",
              "      <td>Vichy Регистрация в программе лояльности</td>\n",
              "      <td>vichyconsult.ru</td>\n",
              "      <td>2020-01-01 00:42:52</td>\n",
              "    </tr>\n",
              "    <tr>\n",
              "      <th>4</th>\n",
              "      <td>6587067</td>\n",
              "      <td>ysinger@windstream.net</td>\n",
              "      <td>Vichy Регистрация в программе лояльности</td>\n",
              "      <td>vichyconsult.ru</td>\n",
              "      <td>2020-01-01 00:42:52</td>\n",
              "    </tr>\n",
              "  </tbody>\n",
              "</table>\n",
              "</div>"
            ],
            "text/plain": [
              "   ИД клиента                    email  ...           source                date\n",
              "0     5916911           lyka17@mail.ru  ...        yandex.ru 2020-01-01 00:12:42\n",
              "1     6587058  cunninghamclan4@msn.com  ...  vichyconsult.ru 2020-01-01 00:42:52\n",
              "2     6587062        shop.yo@gmail.com  ...  vichyconsult.ru 2020-01-01 00:42:52\n",
              "3     6587065     cfuglestad@yahoo.com  ...  vichyconsult.ru 2020-01-01 00:42:52\n",
              "4     6587067   ysinger@windstream.net  ...  vichyconsult.ru 2020-01-01 00:42:52\n",
              "\n",
              "[5 rows x 5 columns]"
            ]
          },
          "metadata": {
            "tags": []
          },
          "execution_count": 52
        }
      ]
    },
    {
      "cell_type": "code",
      "metadata": {
        "id": "7wOvlYVks-3A",
        "colab_type": "code",
        "colab": {}
      },
      "source": [
        "mn = sf.source.value_counts()"
      ],
      "execution_count": 40,
      "outputs": []
    },
    {
      "cell_type": "code",
      "metadata": {
        "id": "vKT6cDx6tHcp",
        "colab_type": "code",
        "colab": {}
      },
      "source": [
        "k = mn.head(20)"
      ],
      "execution_count": 45,
      "outputs": []
    },
    {
      "cell_type": "code",
      "metadata": {
        "id": "XNOFNT0vtSBi",
        "colab_type": "code",
        "colab": {
          "base_uri": "https://localhost:8080/",
          "height": 725
        },
        "outputId": "5485d059-183f-4780-fb28-7092b50313ab"
      },
      "source": [
        "k.plot(kind = 'bar')"
      ],
      "execution_count": 48,
      "outputs": [
        {
          "output_type": "execute_result",
          "data": {
            "text/plain": [
              "<matplotlib.axes._subplots.AxesSubplot at 0x7f8b90f44fd0>"
            ]
          },
          "metadata": {
            "tags": []
          },
          "execution_count": 48
        },
        {
          "output_type": "display_data",
          "data": {
            "image/png": "[encoded data removed]",
            "text/plain": [
              "<Figure size 432x288 with 1 Axes>"
            ]
          },
          "metadata": {
            "tags": [],
            "needs_background": "light"
          }
        }
      ]
    },
    {
      "cell_type": "code",
      "metadata": {
        "id": "lOeeFNbZnLZ3",
        "colab_type": "code",
        "colab": {
          "base_uri": "https://localhost:8080/",
          "height": 397
        },
        "outputId": "63a1b7b0-4a00-4b54-a4a4-2e71d5e92974"
      },
      "source": [
        "sf = pd.merge(sf, df,\n",
        "                       how='left', on='email')\n",
        "sf.head(5)"
      ],
      "execution_count": 53,
      "outputs": [
        {
          "output_type": "execute_result",
          "data": {
            "text/html": [
              "<div>\n",
              "<style scoped>\n",
              "    .dataframe tbody tr th:only-of-type {\n",
              "        vertical-align: middle;\n",
              "    }\n",
              "\n",
              "    .dataframe tbody tr th {\n",
              "        vertical-align: top;\n",
              "    }\n",
              "\n",
              "    .dataframe thead th {\n",
              "        text-align: right;\n",
              "    }\n",
              "</style>\n",
              "<table border=\"1\" class=\"dataframe\">\n",
              "  <thead>\n",
              "    <tr style=\"text-align: right;\">\n",
              "      <th></th>\n",
              "      <th>ИД клиента</th>\n",
              "      <th>email</th>\n",
              "      <th>action</th>\n",
              "      <th>source</th>\n",
              "      <th>date</th>\n",
              "      <th>Номер Заказа</th>\n",
              "      <th>дата заказа</th>\n",
              "      <th>year</th>\n",
              "      <th>Статус заказа</th>\n",
              "      <th>ЦЕНА ДО СКИДКИ SUM, RUR</th>\n",
              "      <th>ЦЕНА ПОСЛЕ СКИДКИ  SUM, RUR</th>\n",
              "    </tr>\n",
              "  </thead>\n",
              "  <tbody>\n",
              "    <tr>\n",
              "      <th>0</th>\n",
              "      <td>5916911</td>\n",
              "      <td>lyka17@mail.ru</td>\n",
              "      <td>Переход на сайт</td>\n",
              "      <td>yandex.ru</td>\n",
              "      <td>2020-01-01 00:12:42</td>\n",
              "      <td>NaN</td>\n",
              "      <td>NaT</td>\n",
              "      <td>NaN</td>\n",
              "      <td>NaN</td>\n",
              "      <td>NaN</td>\n",
              "      <td>NaN</td>\n",
              "    </tr>\n",
              "    <tr>\n",
              "      <th>1</th>\n",
              "      <td>6587058</td>\n",
              "      <td>cunninghamclan4@msn.com</td>\n",
              "      <td>Vichy Регистрация в программе лояльности</td>\n",
              "      <td>vichyconsult.ru</td>\n",
              "      <td>2020-01-01 00:42:52</td>\n",
              "      <td>NaN</td>\n",
              "      <td>NaT</td>\n",
              "      <td>NaN</td>\n",
              "      <td>NaN</td>\n",
              "      <td>NaN</td>\n",
              "      <td>NaN</td>\n",
              "    </tr>\n",
              "    <tr>\n",
              "      <th>2</th>\n",
              "      <td>6587062</td>\n",
              "      <td>shop.yo@gmail.com</td>\n",
              "      <td>Vichy Регистрация в программе лояльности</td>\n",
              "      <td>vichyconsult.ru</td>\n",
              "      <td>2020-01-01 00:42:52</td>\n",
              "      <td>NaN</td>\n",
              "      <td>NaT</td>\n",
              "      <td>NaN</td>\n",
              "      <td>NaN</td>\n",
              "      <td>NaN</td>\n",
              "      <td>NaN</td>\n",
              "    </tr>\n",
              "    <tr>\n",
              "      <th>3</th>\n",
              "      <td>6587065</td>\n",
              "      <td>cfuglestad@yahoo.com</td>\n",
              "      <td>Vichy Регистрация в программе лояльности</td>\n",
              "      <td>vichyconsult.ru</td>\n",
              "      <td>2020-01-01 00:42:52</td>\n",
              "      <td>NaN</td>\n",
              "      <td>NaT</td>\n",
              "      <td>NaN</td>\n",
              "      <td>NaN</td>\n",
              "      <td>NaN</td>\n",
              "      <td>NaN</td>\n",
              "    </tr>\n",
              "    <tr>\n",
              "      <th>4</th>\n",
              "      <td>6587067</td>\n",
              "      <td>ysinger@windstream.net</td>\n",
              "      <td>Vichy Регистрация в программе лояльности</td>\n",
              "      <td>vichyconsult.ru</td>\n",
              "      <td>2020-01-01 00:42:52</td>\n",
              "      <td>NaN</td>\n",
              "      <td>NaT</td>\n",
              "      <td>NaN</td>\n",
              "      <td>NaN</td>\n",
              "      <td>NaN</td>\n",
              "      <td>NaN</td>\n",
              "    </tr>\n",
              "  </tbody>\n",
              "</table>\n",
              "</div>"
            ],
            "text/plain": [
              "   ИД клиента  ... ЦЕНА ПОСЛЕ СКИДКИ  SUM, RUR\n",
              "0     5916911  ...                         NaN\n",
              "1     6587058  ...                         NaN\n",
              "2     6587062  ...                         NaN\n",
              "3     6587065  ...                         NaN\n",
              "4     6587067  ...                         NaN\n",
              "\n",
              "[5 rows x 11 columns]"
            ]
          },
          "metadata": {
            "tags": []
          },
          "execution_count": 53
        }
      ]
    },
    {
      "cell_type": "code",
      "metadata": {
        "id": "MEStznqmoeU2",
        "colab_type": "code",
        "colab": {
          "base_uri": "https://localhost:8080/",
          "height": 336
        },
        "outputId": "d192ad16-7763-475c-9651-04a3505ed960"
      },
      "source": [
        "sf.info()"
      ],
      "execution_count": 54,
      "outputs": [
        {
          "output_type": "stream",
          "text": [
            "<class 'pandas.core.frame.DataFrame'>\n",
            "Int64Index: 267603 entries, 0 to 267602\n",
            "Data columns (total 11 columns):\n",
            " #   Column                       Non-Null Count   Dtype         \n",
            "---  ------                       --------------   -----         \n",
            " 0   ИД клиента                   267603 non-null  int64         \n",
            " 1   email                        266336 non-null  object        \n",
            " 2   action                       267603 non-null  object        \n",
            " 3   source                       267603 non-null  object        \n",
            " 4   date                         267603 non-null  datetime64[ns]\n",
            " 5   Номер Заказа                 18572 non-null   object        \n",
            " 6   дата заказа                  18572 non-null   datetime64[ns]\n",
            " 7   year                         18572 non-null   float64       \n",
            " 8   Статус заказа                18572 non-null   object        \n",
            " 9   ЦЕНА ДО СКИДКИ SUM, RUR      18572 non-null   float64       \n",
            " 10  ЦЕНА ПОСЛЕ СКИДКИ  SUM, RUR  18572 non-null   float64       \n",
            "dtypes: datetime64[ns](2), float64(3), int64(1), object(5)\n",
            "memory usage: 24.5+ MB\n"
          ],
          "name": "stdout"
        }
      ]
    },
    {
      "cell_type": "code",
      "metadata": {
        "id": "FHx4RqqksSK5",
        "colab_type": "code",
        "colab": {}
      },
      "source": [
        "sf = sf.dropna()"
      ],
      "execution_count": 55,
      "outputs": []
    },
    {
      "cell_type": "code",
      "metadata": {
        "id": "6quDyPhysczC",
        "colab_type": "code",
        "colab": {}
      },
      "source": [
        "traffic = sf.source.value_counts()"
      ],
      "execution_count": 57,
      "outputs": []
    },
    {
      "cell_type": "code",
      "metadata": {
        "id": "oBLBnF3HHY9M",
        "colab_type": "code",
        "colab": {
          "base_uri": "https://localhost:8080/",
          "height": 763
        },
        "outputId": "0657b540-52b4-4465-9700-7f3d12e85fdb"
      },
      "source": [
        "sf.action.value_counts(normalize = True)"
      ],
      "execution_count": 74,
      "outputs": [
        {
          "output_type": "execute_result",
          "data": {
            "text/plain": [
              "Переход на сайт                                                                           0.732339\n",
              "Vichy Регистрация в программе лояльности                                                  0.115604\n",
              "Vichy Оформление заказа с помощью стандартной формы на сайте                              0.050345\n",
              "Регистрация клиента в операции 'Vichy. Оформление заказа'                                 0.026545\n",
              "SkinConsultAI. Отправка результата диагностики                                            0.014376\n",
              "Регистрация клиента в операции 'Подписка Vichy V3'                                        0.008884\n",
              "Корректировка данных при импорте                                                          0.007754\n",
              "Изменился потребитель, пользующийся устройством                                           0.006246\n",
              "Подписка клиента в операции 'Сбор контактов Vichy из соцсетей через LeadAds'              0.004308\n",
              "Vichy Потребитель прошел диагностику Normaderm                                            0.004200\n",
              "Vichy Потребитель прошел диагностику волос на сайте                                       0.003877\n",
              "Vichy Вход на сайт (веб-трекер)                                                           0.003392\n",
              "Vichy Регистрация при оформлении заказа (с подпиской)                                     0.003285\n",
              "Vichy Регистрация при оформлении заказа (без подписки)                                    0.002261\n",
              "Vichy Оповещение о сгорании баллов через 7 дней                                           0.002100\n",
              "Добавление продукта в список в операции 'Vichy Подписка на товар'                         0.002046\n",
              "Подписка клиента в операции 'Vichy отправка письма с промокодом на набор'                 0.001992\n",
              "Добавление продукта в список в операции 'Vichy установка состава корзины'                 0.001831\n",
              "Vichy Регистрация через основную форму (с подпиской на рассылки)                          0.001238\n",
              "Регистрация клиента в операции 'SkinConsultAI. Прохождение опроса диагностики кожи'       0.001023\n",
              "SkinConsultAI. Пользователь сгенерировал реферальную ссылку                               0.001023\n",
              "Vichy Отправка письма для диагностики Normaderm на сайте                                  0.000915\n",
              "Редактирование клиента в операции 'Подписка Vichy V3'                                     0.000808\n",
              "Vichy - просмотр категории товара                                                         0.000646\n",
              "Подписка клиента в операции 'Подписка на Vichy на сайте Skin.ru'                          0.000538\n",
              "Импорт VICHY                                                                              0.000485\n",
              "Vichy Регистрация через основную форму (без подписки на рассылки)                         0.000485\n",
              "Доставка заказа Vichy                                                                     0.000269\n",
              "Похожие потребители (редактируемый)                                                       0.000215\n",
              "Подписка клиента в операции 'Подписка на VICHY на сайте makeUp.ru'                        0.000215\n",
              "Vichy Отправка письма для диагностики Normaderm Яндекс.Здоровье                           0.000108\n",
              "Vichy - просмотр товара                                                                   0.000108\n",
              "Диагностика волос Dercos. Отправка письма и подписка на рассылки                          0.000108\n",
              "Похожие потребители                                                                       0.000054\n",
              "Неизвестный источник                                                                      0.000054\n",
              "Добавление продукта в список в операции 'Vichy. Передача списка продуктов для отзывов'    0.000054\n",
              "Регистрация клиента в операции 'Подписка через Lead Ads'                                  0.000054\n",
              "Регистрация клиента в операции 'Vichy Анкета Slow age Sample'                             0.000054\n",
              "Vichy-Смена пароля (Автоматически смигрирована из старой)                                 0.000054\n",
              "Регистрация клиента в операции 'Подписка Vichy V3 Марафон ампул'                          0.000054\n",
              "Vichy Добавление данных о доставке заказа                                                 0.000054\n",
              "Name: action, dtype: float64"
            ]
          },
          "metadata": {
            "tags": []
          },
          "execution_count": 74
        }
      ]
    },
    {
      "cell_type": "code",
      "metadata": {
        "id": "5HqlZj8dGqua",
        "colab_type": "code",
        "colab": {
          "base_uri": "https://localhost:8080/",
          "height": 790
        },
        "outputId": "12097efc-1c41-451f-e853-cc8aaff6c473"
      },
      "source": [
        "sf"
      ],
      "execution_count": 70,
      "outputs": [
        {
          "output_type": "execute_result",
          "data": {
            "text/html": [
              "<div>\n",
              "<style scoped>\n",
              "    .dataframe tbody tr th:only-of-type {\n",
              "        vertical-align: middle;\n",
              "    }\n",
              "\n",
              "    .dataframe tbody tr th {\n",
              "        vertical-align: top;\n",
              "    }\n",
              "\n",
              "    .dataframe thead th {\n",
              "        text-align: right;\n",
              "    }\n",
              "</style>\n",
              "<table border=\"1\" class=\"dataframe\">\n",
              "  <thead>\n",
              "    <tr style=\"text-align: right;\">\n",
              "      <th></th>\n",
              "      <th>ИД клиента</th>\n",
              "      <th>email</th>\n",
              "      <th>action</th>\n",
              "      <th>source</th>\n",
              "      <th>date</th>\n",
              "      <th>Номер Заказа</th>\n",
              "      <th>дата заказа</th>\n",
              "      <th>year</th>\n",
              "      <th>Статус заказа</th>\n",
              "      <th>ЦЕНА ДО СКИДКИ SUM, RUR</th>\n",
              "      <th>ЦЕНА ПОСЛЕ СКИДКИ  SUM, RUR</th>\n",
              "    </tr>\n",
              "  </thead>\n",
              "  <tbody>\n",
              "    <tr>\n",
              "      <th>6</th>\n",
              "      <td>6596389</td>\n",
              "      <td>aa15303128@gmail.com</td>\n",
              "      <td>SkinConsultAI. Отправка результата диагностики</td>\n",
              "      <td>vichyconsult.ru</td>\n",
              "      <td>2020-01-01 01:22:06</td>\n",
              "      <td>132435396</td>\n",
              "      <td>2020-03-21</td>\n",
              "      <td>2020.0</td>\n",
              "      <td>complete</td>\n",
              "      <td>1290.8300</td>\n",
              "      <td>1161.6633</td>\n",
              "    </tr>\n",
              "    <tr>\n",
              "      <th>29</th>\n",
              "      <td>6587159</td>\n",
              "      <td>t.schuvalova1981@yandex.ru</td>\n",
              "      <td>Vichy Регистрация в программе лояльности</td>\n",
              "      <td>vichyconsult.ru</td>\n",
              "      <td>2020-01-01 10:50:01</td>\n",
              "      <td>132314899</td>\n",
              "      <td>2020-01-04</td>\n",
              "      <td>2020.0</td>\n",
              "      <td>complete</td>\n",
              "      <td>4785.8300</td>\n",
              "      <td>4410.0000</td>\n",
              "    </tr>\n",
              "    <tr>\n",
              "      <th>42</th>\n",
              "      <td>6587243</td>\n",
              "      <td>tera.glushkova@yandex.ru</td>\n",
              "      <td>Переход на сайт</td>\n",
              "      <td>utm_term Не указан</td>\n",
              "      <td>2020-01-01 12:36:21</td>\n",
              "      <td>132312877</td>\n",
              "      <td>2020-01-01</td>\n",
              "      <td>2020.0</td>\n",
              "      <td>complete</td>\n",
              "      <td>3315.0000</td>\n",
              "      <td>3054.1667</td>\n",
              "    </tr>\n",
              "    <tr>\n",
              "      <th>45</th>\n",
              "      <td>6587210</td>\n",
              "      <td>ks_ma92@bk.ru</td>\n",
              "      <td>Vichy Регистрация в программе лояльности</td>\n",
              "      <td>vichyconsult.ru</td>\n",
              "      <td>2020-01-01 12:40:49</td>\n",
              "      <td>132330488</td>\n",
              "      <td>2020-01-20</td>\n",
              "      <td>2020.0</td>\n",
              "      <td>complete</td>\n",
              "      <td>3492.5000</td>\n",
              "      <td>2370.8333</td>\n",
              "    </tr>\n",
              "    <tr>\n",
              "      <th>58</th>\n",
              "      <td>6587252</td>\n",
              "      <td>plynin53@mail.ru</td>\n",
              "      <td>Добавление продукта в список в операции 'Vichy...</td>\n",
              "      <td>vichyconsult.ru</td>\n",
              "      <td>2020-01-01 13:09:29</td>\n",
              "      <td>132312913</td>\n",
              "      <td>2020-01-01</td>\n",
              "      <td>2020.0</td>\n",
              "      <td>complete</td>\n",
              "      <td>3438.3300</td>\n",
              "      <td>3168.3333</td>\n",
              "    </tr>\n",
              "    <tr>\n",
              "      <th>...</th>\n",
              "      <td>...</td>\n",
              "      <td>...</td>\n",
              "      <td>...</td>\n",
              "      <td>...</td>\n",
              "      <td>...</td>\n",
              "      <td>...</td>\n",
              "      <td>...</td>\n",
              "      <td>...</td>\n",
              "      <td>...</td>\n",
              "      <td>...</td>\n",
              "      <td>...</td>\n",
              "    </tr>\n",
              "    <tr>\n",
              "      <th>267525</th>\n",
              "      <td>7357536</td>\n",
              "      <td>alinka.sergeeva.01@inbox.ru</td>\n",
              "      <td>Vichy Оповещение о сгорании баллов через 7 дней</td>\n",
              "      <td>vichyconsult.ru</td>\n",
              "      <td>2020-08-11 18:26:20</td>\n",
              "      <td>132363481</td>\n",
              "      <td>2020-02-03</td>\n",
              "      <td>2020.0</td>\n",
              "      <td>complete</td>\n",
              "      <td>2086.6700</td>\n",
              "      <td>805.0033</td>\n",
              "    </tr>\n",
              "    <tr>\n",
              "      <th>267526</th>\n",
              "      <td>7357536</td>\n",
              "      <td>alinka.sergeeva.01@inbox.ru</td>\n",
              "      <td>Vichy Оповещение о сгорании баллов через 7 дней</td>\n",
              "      <td>vichyconsult.ru</td>\n",
              "      <td>2020-08-11 18:26:20</td>\n",
              "      <td>132434243</td>\n",
              "      <td>2020-03-20</td>\n",
              "      <td>2020.0</td>\n",
              "      <td>complete</td>\n",
              "      <td>832.5000</td>\n",
              "      <td>371.6667</td>\n",
              "    </tr>\n",
              "    <tr>\n",
              "      <th>267527</th>\n",
              "      <td>7357538</td>\n",
              "      <td>o_shipitun@mail.ru</td>\n",
              "      <td>Vichy Оповещение о сгорании баллов через 7 дней</td>\n",
              "      <td>vichyconsult.ru</td>\n",
              "      <td>2020-08-11 18:26:34</td>\n",
              "      <td>132503083</td>\n",
              "      <td>2020-04-29</td>\n",
              "      <td>2020.0</td>\n",
              "      <td>complete</td>\n",
              "      <td>999.0000</td>\n",
              "      <td>968.3333</td>\n",
              "    </tr>\n",
              "    <tr>\n",
              "      <th>267528</th>\n",
              "      <td>7357538</td>\n",
              "      <td>o_shipitun@mail.ru</td>\n",
              "      <td>Vichy Оповещение о сгорании баллов через 7 дней</td>\n",
              "      <td>vichyconsult.ru</td>\n",
              "      <td>2020-08-11 18:26:34</td>\n",
              "      <td>132556694</td>\n",
              "      <td>2020-06-05</td>\n",
              "      <td>2020.0</td>\n",
              "      <td>complete</td>\n",
              "      <td>499.0000</td>\n",
              "      <td>238.3333</td>\n",
              "    </tr>\n",
              "    <tr>\n",
              "      <th>267529</th>\n",
              "      <td>7221259</td>\n",
              "      <td>maclenka-1@mail.ru</td>\n",
              "      <td>Vichy Оповещение о сгорании баллов через 7 дней</td>\n",
              "      <td>vichyconsult.ru</td>\n",
              "      <td>2020-08-11 18:28:25</td>\n",
              "      <td>132527593</td>\n",
              "      <td>2020-05-18</td>\n",
              "      <td>2020.0</td>\n",
              "      <td>complete</td>\n",
              "      <td>5231.5325</td>\n",
              "      <td>4618.3317</td>\n",
              "    </tr>\n",
              "  </tbody>\n",
              "</table>\n",
              "<p>18572 rows × 11 columns</p>\n",
              "</div>"
            ],
            "text/plain": [
              "        ИД клиента  ... ЦЕНА ПОСЛЕ СКИДКИ  SUM, RUR\n",
              "6          6596389  ...                   1161.6633\n",
              "29         6587159  ...                   4410.0000\n",
              "42         6587243  ...                   3054.1667\n",
              "45         6587210  ...                   2370.8333\n",
              "58         6587252  ...                   3168.3333\n",
              "...            ...  ...                         ...\n",
              "267525     7357536  ...                    805.0033\n",
              "267526     7357536  ...                    371.6667\n",
              "267527     7357538  ...                    968.3333\n",
              "267528     7357538  ...                    238.3333\n",
              "267529     7221259  ...                   4618.3317\n",
              "\n",
              "[18572 rows x 11 columns]"
            ]
          },
          "metadata": {
            "tags": []
          },
          "execution_count": 70
        }
      ]
    },
    {
      "cell_type": "code",
      "metadata": {
        "id": "AGm9KH0kG6xi",
        "colab_type": "code",
        "colab": {}
      },
      "source": [
        "traffic.to_excel('traffic_results_2020.xlsx')"
      ],
      "execution_count": 71,
      "outputs": []
    },
    {
      "cell_type": "code",
      "metadata": {
        "id": "62VOcYTIHOa0",
        "colab_type": "code",
        "colab": {}
      },
      "source": [
        "sf.to_excel('sf_results_2020.xlsx')"
      ],
      "execution_count": 72,
      "outputs": []
    },
    {
      "cell_type": "code",
      "metadata": {
        "id": "bjd4G8DIElrO",
        "colab_type": "code",
        "colab": {
          "base_uri": "https://localhost:8080/",
          "height": 212
        },
        "outputId": "dfd88d56-f63c-43d4-9047-2cd9b88e89de"
      },
      "source": [
        "perc = sf.source.value_counts(normalize=True)\n",
        "perc.head(10)"
      ],
      "execution_count": 66,
      "outputs": [
        {
          "output_type": "execute_result",
          "data": {
            "text/plain": [
              "vichyconsult.ru       0.232716\n",
              "utm_term Не указан    0.161964\n",
              "Прямой переход        0.161533\n",
              "google.com            0.113504\n",
              "yandex.ru             0.044852\n",
              "google.ru             0.032199\n",
              "виши                  0.030638\n",
              "vichy                 0.011577\n",
              "instagram.com         0.009261\n",
              "flocktory.com         0.007700\n",
              "Name: source, dtype: float64"
            ]
          },
          "metadata": {
            "tags": []
          },
          "execution_count": 66
        }
      ]
    },
    {
      "cell_type": "code",
      "metadata": {
        "id": "LcZNrYamE2lu",
        "colab_type": "code",
        "colab": {
          "base_uri": "https://localhost:8080/",
          "height": 377
        },
        "outputId": "1ce16a1c-cd36-4e6e-e7c0-87ea717ca9fc"
      },
      "source": [
        "perc.head(10).plot(kind = 'bar')"
      ],
      "execution_count": 69,
      "outputs": [
        {
          "output_type": "execute_result",
          "data": {
            "text/plain": [
              "<matplotlib.axes._subplots.AxesSubplot at 0x7f8b94f90710>"
            ]
          },
          "metadata": {
            "tags": []
          },
          "execution_count": 69
        },
        {
          "output_type": "display_data",
          "data": {
            "image/png": "[encoded data removed]",
            "text/plain": [
              "<Figure size 432x288 with 1 Axes>"
            ]
          },
          "metadata": {
            "tags": [],
            "needs_background": "light"
          }
        }
      ]
    },
    {
      "cell_type": "code",
      "metadata": {
        "id": "vgYnPqEdCcME",
        "colab_type": "code",
        "colab": {
          "base_uri": "https://localhost:8080/",
          "height": 478
        },
        "outputId": "274fa5a3-e64c-42db-da2c-4683c2cc2c77"
      },
      "source": [
        "traffic.head(25)"
      ],
      "execution_count": 59,
      "outputs": [
        {
          "output_type": "execute_result",
          "data": {
            "text/plain": [
              "vichyconsult.ru                                                                            4322\n",
              "utm_term Не указан                                                                         3008\n",
              "Прямой переход                                                                             3000\n",
              "google.com                                                                                 2108\n",
              "yandex.ru                                                                                   833\n",
              "google.ru                                                                                   598\n",
              "виши                                                                                        569\n",
              "vichy                                                                                       215\n",
              "instagram.com                                                                               172\n",
              "flocktory.com                                                                               143\n",
              "footer subscription                                                                         111\n",
              "Vichy диагностика Normaderm                                                                  95\n",
              "vk.com                                                                                       92\n",
              "виши интернет магазин                                                                        92\n",
              "виши официальный сайт                                                                        90\n",
              "Диагностика Vichy Dercos                                                                     74\n",
              "yabs.yandex.ru                                                                               72\n",
              "carousel-1stparty-vichy-community                                                            72\n",
              "carousel-beauty-interests                                                                    65\n",
              "vic_yand_ao_brde_brand_bran_search_text_cv_ru_12480679_common|!виши_!виши|!виши|текст_1      49\n",
              "Web_VIC_WebOwnSite_BrandWebsite_LandingPage_LiftactivMaraphonTestDriveig_LeadAds             47\n",
              "serovski                                                                                     45\n",
              "carousel-work                                                                                38\n",
              "skinconsult                                                                                  35\n",
              "story-competitors                                                                            34\n",
              "Name: source, dtype: int64"
            ]
          },
          "metadata": {
            "tags": []
          },
          "execution_count": 59
        }
      ]
    },
    {
      "cell_type": "code",
      "metadata": {
        "id": "vTbGPjTADlBH",
        "colab_type": "code",
        "colab": {
          "base_uri": "https://localhost:8080/",
          "height": 992
        },
        "outputId": "de80d11a-cf63-4719-fc9a-e3dc465259f7"
      },
      "source": [
        "k = traffic.head(20)\n",
        "k.plot(kind = 'bar', figsize = (14, 8))"
      ],
      "execution_count": 64,
      "outputs": [
        {
          "output_type": "execute_result",
          "data": {
            "text/plain": [
              "<matplotlib.axes._subplots.AxesSubplot at 0x7f8b8f485e48>"
            ]
          },
          "metadata": {
            "tags": []
          },
          "execution_count": 64
        },
        {
          "output_type": "display_data",
          "data": {
            "image/png": "[encoded data removed]",
            "text/plain": [
              "<Figure size 1008x576 with 1 Axes>"
            ]
          },
          "metadata": {
            "tags": [],
            "needs_background": "light"
          }
        }
      ]
    },
    {
      "cell_type": "code",
      "metadata": {
        "id": "hLbXSQ-9owei",
        "colab_type": "code",
        "colab": {
          "base_uri": "https://localhost:8080/",
          "height": 461
        },
        "outputId": "871a2bdf-1bae-4898-c4da-40507eb038cb"
      },
      "source": [
        "df.info()"
      ],
      "execution_count": 14,
      "outputs": [
        {
          "output_type": "stream",
          "text": [
            "<class 'pandas.core.frame.DataFrame'>\n",
            "Int64Index: 171 entries, 466 to 70396\n",
            "Data columns (total 18 columns):\n",
            " #   Column                       Non-Null Count  Dtype         \n",
            "---  ------                       --------------  -----         \n",
            " 0   Номер Заказа                 171 non-null    object        \n",
            " 1   дата заказа                  171 non-null    datetime64[ns]\n",
            " 2   Статус заказа                171 non-null    object        \n",
            " 3   email                        171 non-null    object        \n",
            " 4   ЦЕНА ДО СКИДКИ SUM, RUR      171 non-null    float64       \n",
            " 5   ЦЕНА ПОСЛЕ СКИДКИ  SUM, RUR  171 non-null    float64       \n",
            " 6   ИД клиента_x                 171 non-null    float64       \n",
            " 7   action_x                     171 non-null    object        \n",
            " 8   source_x                     171 non-null    object        \n",
            " 9   date_x                       171 non-null    datetime64[ns]\n",
            " 10  ИД клиента_y                 171 non-null    float64       \n",
            " 11  action_y                     171 non-null    object        \n",
            " 12  source_y                     171 non-null    object        \n",
            " 13  date_y                       171 non-null    datetime64[ns]\n",
            " 14  ИД клиента                   171 non-null    float64       \n",
            " 15  action                       171 non-null    object        \n",
            " 16  source                       171 non-null    object        \n",
            " 17  date                         171 non-null    datetime64[ns]\n",
            "dtypes: datetime64[ns](4), float64(5), object(9)\n",
            "memory usage: 25.4+ KB\n"
          ],
          "name": "stdout"
        }
      ]
    },
    {
      "cell_type": "code",
      "metadata": {
        "id": "jq_-paqGpAEi",
        "colab_type": "code",
        "colab": {
          "base_uri": "https://localhost:8080/",
          "height": 265
        },
        "outputId": "2b35f094-ea60-4093-f2f5-9b748c735811"
      },
      "source": [
        "df.source.value_counts()"
      ],
      "execution_count": 15,
      "outputs": [
        {
          "output_type": "execute_result",
          "data": {
            "text/plain": [
              "vichyconsult.ru                                                  109\n",
              "flocktory.com                                                     25\n",
              "utm_term Не указан                                                10\n",
              "Прямой переход                                                     8\n",
              "vichy                                                              7\n",
              "google.com                                                         3\n",
              "header-subscription                                                2\n",
              "Web_VIC_WebOwnSite_BrandWebsite_Popup_AqualiaThermal_Standard      2\n",
              "skinconsult                                                        1\n",
              "виши                                                               1\n",
              "image-1stparty-skinru-scan                                         1\n",
              "Добавление сотрудника Vichy                                        1\n",
              "Диагностика Vichy Dercos                                           1\n",
              "Name: source, dtype: int64"
            ]
          },
          "metadata": {
            "tags": []
          },
          "execution_count": 15
        }
      ]
    },
    {
      "cell_type": "code",
      "metadata": {
        "id": "XMcJgdh4onfR",
        "colab_type": "code",
        "colab": {}
      },
      "source": [
        ""
      ],
      "execution_count": null,
      "outputs": []
    }
  ]
}