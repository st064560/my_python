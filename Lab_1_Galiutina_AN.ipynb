{
  "nbformat": 4,
  "nbformat_minor": 0,
  "metadata": {
    "colab": {
      "name": "Lab_1_Galiutina_AN.ipynb",
      "provenance": [],
      "collapsed_sections": [],
      "include_colab_link": true
    },
    "kernelspec": {
      "name": "python3",
      "display_name": "Python 3"
    }
  },
  "cells": [
    {
      "cell_type": "markdown",
      "metadata": {
        "id": "view-in-github",
        "colab_type": "text"
      },
      "source": [
        "<a href=\"https://colab.research.google.com/github/st064560/my_python/blob/master/Lab_1_Galiutina_AN.ipynb\" target=\"_parent\"><img src=\"https://colab.research.google.com/assets/colab-badge.svg\" alt=\"Open In Colab\"/></a>"
      ]
    },
    {
      "cell_type": "markdown",
      "metadata": {
        "id": "LWNo-R-pOySj",
        "colab_type": "text"
      },
      "source": [
        "## 1. Определим статистику посещаемости группы (просмотры, посещения в год)\n",
        "\n",
        "\n",
        "*  Для начала откроем файл и посмотрим его содержимое, пропустим первую строку\n",
        "\n",
        "\n",
        "\n"
      ]
    },
    {
      "cell_type": "code",
      "metadata": {
        "id": "3VALzMnNOh4f",
        "colab_type": "code",
        "outputId": "d195c32b-62dc-4c3b-ebb9-4e007bae00c2",
        "colab": {
          "base_uri": "https://localhost:8080/",
          "height": 34
        }
      },
      "source": [
        "import csv\n",
        "\n",
        "with open('Lab_1_data.stat', 'r') as file:\n",
        "    stat = csv.reader(file)\n",
        "    for line in stat:\n",
        "      if line[0] == \"Дата\":\n",
        "        continue\n",
        "      else:\n",
        "        print(line)\n",
        "        break"
      ],
      "execution_count": 0,
      "outputs": [
        {
          "output_type": "stream",
          "text": [
            "['15.03.2020', 'views', '', '', '1']\n"
          ],
          "name": "stdout"
        }
      ]
    },
    {
      "cell_type": "markdown",
      "metadata": {
        "id": "R1mrBJLvQAbA",
        "colab_type": "text"
      },
      "source": [
        " \n",
        "\n",
        "*  Создадим словарь views_stat и запишем туда следующие значение: [дата] - [просмотры]\n",
        "\n",
        "\n"
      ]
    },
    {
      "cell_type": "code",
      "metadata": {
        "id": "fWsl86uUP_-1",
        "colab_type": "code",
        "outputId": "6d5b3953-7261-4de2-91da-dc9d2ec98881",
        "colab": {
          "base_uri": "https://localhost:8080/",
          "height": 34
        }
      },
      "source": [
        "import csv\n",
        "from pprint import pprint # красивая печать словарей\n",
        "\n",
        "views_stat = dict()\n",
        "lst = []\n",
        "\n",
        "with open('Lab_1_data.stat', 'r') as file:\n",
        "    stat = csv.reader(file)\n",
        "    for line in stat:\n",
        "      if line[0] == \"Дата\":\n",
        "        continue\n",
        "      else:\n",
        "        views_stat[line[0]] = int(line[4])\n",
        "output_items = {k: views_stat[k] for k in list(views_stat.keys())[:5]}\n",
        "print(output_items)\n"
      ],
      "execution_count": 0,
      "outputs": [
        {
          "output_type": "stream",
          "text": [
            "{'15.03.2020': 1, '14.03.2020': 1, '13.03.2020': 4, '12.03.2020': 1, '11.03.2020': 1}\n"
          ],
          "name": "stdout"
        }
      ]
    },
    {
      "cell_type": "markdown",
      "metadata": {
        "id": "rSShebpBT7hV",
        "colab_type": "text"
      },
      "source": [
        " \n",
        "\n",
        "*   В словраре views определим 5 ключей (2016, 2017 итд), в дальнейшем таким образом разделим данные по годам.\n",
        "*   C помощью метода split разделим дату и оставим только год.Получим словаь views = [год] - [показатель].\n",
        "\n",
        "\n",
        "\n"
      ]
    },
    {
      "cell_type": "code",
      "metadata": {
        "id": "OE53jpKRitwu",
        "colab_type": "code",
        "outputId": "07e59dce-0441-4465-801f-3a7a7883dd0e",
        "colab": {
          "base_uri": "https://localhost:8080/",
          "height": 34
        }
      },
      "source": [
        "import csv\n",
        "import collections\n",
        "views = dict()\n",
        "\n",
        "with open (\"Lab_1_data.stat\", 'r') as file:\n",
        " data = csv.reader(file)\n",
        " views[\"2016\"] = 0\n",
        " views[\"2017\"] = 0\n",
        " views[\"2018\"] = 0\n",
        " views[\"2019\"] = 0\n",
        " views[\"2020\"] = 0\n",
        " \n",
        " for line in data:\n",
        "      if line[0]==\"Дата\":\n",
        "       continue\n",
        "      else:\n",
        "       if line[1] == \"views\":\n",
        "        #t = str(line[0])\n",
        "         views[str(line[0].split('.')[2])] = views[str(line[0].split('.')[2])] + int(line[4])\n",
        "views\n"
      ],
      "execution_count": 138,
      "outputs": [
        {
          "output_type": "execute_result",
          "data": {
            "text/plain": [
              "{'2016': 841, '2017': 1132, '2018': 733, '2019': 1896, '2020': 309}"
            ]
          },
          "metadata": {
            "tags": []
          },
          "execution_count": 138
        }
      ]
    },
    {
      "cell_type": "markdown",
      "metadata": {
        "id": "IbGK3Io50aoe",
        "colab_type": "text"
      },
      "source": [
        "\n",
        "\n",
        "*   Проделаем тоже самое с показателем visitors.\n",
        "*   Получим словаь visitors = [год] - [показатель].\n",
        "\n",
        "\n"
      ]
    },
    {
      "cell_type": "code",
      "metadata": {
        "id": "kkZF8csvT6-r",
        "colab_type": "code",
        "outputId": "130b2392-5a1e-4bef-f3ff-dc003a09afd7",
        "colab": {
          "base_uri": "https://localhost:8080/",
          "height": 34
        }
      },
      "source": [
        "import csv\n",
        "import collections\n",
        "visitors = dict()\n",
        "\n",
        "with open (\"Lab_1_data.stat\", 'r') as file:\n",
        " data = csv.reader(file)\n",
        " visitors[\"2016\"] = 0\n",
        " visitors[\"2017\"] = 0\n",
        " visitors[\"2018\"] = 0\n",
        " visitors[\"2019\"] = 0\n",
        " visitors[\"2020\"] = 0\n",
        " \n",
        " for line in data:\n",
        "      if line[0]==\"Дата\":\n",
        "       continue\n",
        "      else:\n",
        "       if line[1] == \"visitors\":\n",
        "        \n",
        "         visitors[str(line[0].split('.')[2])] = visitors[str(line[0].split('.')[2])] + int(line[4])\n",
        "visitors\n",
        "\n"
      ],
      "execution_count": 141,
      "outputs": [
        {
          "output_type": "execute_result",
          "data": {
            "text/plain": [
              "{'2016': 610, '2017': 823, '2018': 535, '2019': 1057, '2020': 204}"
            ]
          },
          "metadata": {
            "tags": []
          },
          "execution_count": 141
        }
      ]
    },
    {
      "cell_type": "markdown",
      "metadata": {
        "id": "FnJoIuna1M_W",
        "colab_type": "text"
      },
      "source": [
        "\n",
        "\n",
        "\n",
        "* Построим линейный график для показателя views.\n",
        "\n",
        "\n"
      ]
    },
    {
      "cell_type": "code",
      "metadata": {
        "id": "LO2uGK3NjMc9",
        "colab_type": "code",
        "outputId": "7a20e3d9-467f-4de6-da13-4c0297ca0f7b",
        "colab": {
          "base_uri": "https://localhost:8080/",
          "height": 404
        }
      },
      "source": [
        "import numpy as np\n",
        "\n",
        "import matplotlib.pyplot as plt\n",
        "%matplotlib inline\n",
        "\n",
        "x_coords = list(views.keys())\n",
        "y_coords = list(views.values())\n",
        "\n",
        "fig, ax = plt.subplots()\n",
        "fig.set_figwidth(10)    #  ширина Figure\n",
        "fig.set_figheight(6)    #  высота Figure\n",
        "\n",
        "# Построить график.\n",
        "plt.plot(x_coords, y_coords)\n",
        "\n",
        "# Добавить заголовок.\n",
        "plt.title('Показатель параметра \"views\" - просмотры')\n",
        "\n",
        "# Добавить на оси описательные метки.\n",
        "plt.xlabel('год')\n",
        "plt.ylabel('количество просмотров')\n",
        "# Добавить сетку.\n",
        "plt.grid(True)\n",
        "\n",
        "\n",
        "# Показать график.\n",
        "plt.show()"
      ],
      "execution_count": 0,
      "outputs": [
        {
          "output_type": "display_data",
          "data": {
            "image/png": "[encoded data removed]",
            "text/plain": [
              "<Figure size 720x432 with 1 Axes>"
            ]
          },
          "metadata": {
            "tags": [],
            "needs_background": "light"
          }
        }
      ]
    },
    {
      "cell_type": "markdown",
      "metadata": {
        "id": "3uqMG2hD3h3a",
        "colab_type": "text"
      },
      "source": [
        "\n",
        "\n",
        "\n",
        "* Объединим показатели 'views' и 'visitors' на линейном графике.\n",
        "\n"
      ]
    },
    {
      "cell_type": "code",
      "metadata": {
        "id": "K1lgWZ7tjWbG",
        "colab_type": "code",
        "outputId": "71d63dbb-c297-464a-dd1e-8793d99a87c7",
        "colab": {
          "base_uri": "https://localhost:8080/",
          "height": 404
        }
      },
      "source": [
        "import numpy as np\n",
        "\n",
        "import matplotlib.pyplot as plt\n",
        "%matplotlib inline\n",
        "\n",
        "x_coords = list(views.keys())\n",
        "x1_coords = list(visitors.keys())\n",
        "\n",
        "y_coords = list(views.values())\n",
        "y1_coords = list(visitors.values())\n",
        "\n",
        "fig, ax = plt.subplots()\n",
        "fig.set_figwidth(10)    #  ширина Figure\n",
        "fig.set_figheight(6)    #  высота Figure\n",
        "\n",
        "# Построить график.\n",
        "plt.plot(x_coords, y_coords, label = 'просмотры')\n",
        "plt.plot(x1_coords, y1_coords, label = 'посетители')\n",
        "\n",
        "plt.legend(fontsize = 10,\n",
        "          ncol = 2,    #  количество столбцов\n",
        "          facecolor = 'oldlace',    #  цвет области\n",
        "          edgecolor = 'r',    #  цвет крайней линии\n",
        "          title = 'Показатели',    #  заголовок\n",
        "          title_fontsize = '10'    #  размер шрифта заголовка\n",
        "         )\n",
        "\n",
        "\n",
        "# Добавить заголовок.\n",
        "plt.title('Показатели обратной связи')\n",
        "\n",
        "# Добавить на оси описательные метки.\n",
        "plt.xlabel('год')\n",
        "plt.ylabel('количество')\n",
        "\n",
        "# Добавить сетку.\n",
        "plt.grid(True)\n",
        "\n",
        "# Показать график.\n",
        "plt.show()"
      ],
      "execution_count": 0,
      "outputs": [
        {
          "output_type": "display_data",
          "data": {
            "image/png": "[encoded data removed]",
            "text/plain": [
              "<Figure size 720x432 with 1 Axes>"
            ]
          },
          "metadata": {
            "tags": [],
            "needs_background": "light"
          }
        }
      ]
    },
    {
      "cell_type": "markdown",
      "metadata": {
        "id": "1-PMtjV0Caex",
        "colab_type": "text"
      },
      "source": [
        "**Вывод**:\n",
        "Мы не можем основывать свой анализ на данных 2019 года, тк политика сбора данных Вконтакте была изменена. Данные за 2020 год также нельзя считать показательными, так как данные представлены только за первый квартал. Таким образом, на основании данных 2016, 2017, 2018 годов показатели посещаемости группы (просмотры, посещения в год) на уровне 500 - 1200 пользователей в год.*"
      ]
    },
    {
      "cell_type": "markdown",
      "metadata": {
        "id": "uHD6r1chkZyZ",
        "colab_type": "text"
      },
      "source": [
        "## 2. Проведём анализ охвата аудитории (reach/reach_viral/reach_subscribers)"
      ]
    },
    {
      "cell_type": "markdown",
      "metadata": {
        "id": "Sdb6yZObkfDE",
        "colab_type": "text"
      },
      "source": [
        " \n",
        "\n",
        "*   Создадим словарь reach = [дата] - [полный охват].\n",
        "\n",
        "\n"
      ]
    },
    {
      "cell_type": "code",
      "metadata": {
        "id": "XKZU7yfdUfHG",
        "colab_type": "code",
        "outputId": "1db99e55-8a7f-4344-dc8a-9ee423c7032a",
        "colab": {
          "base_uri": "https://localhost:8080/",
          "height": 34
        }
      },
      "source": [
        "import csv\n",
        "import collections\n",
        "reach = dict()\n",
        "\n",
        "with open (\"Lab_1_data.stat\", 'r') as file:\n",
        " data = csv.reader(file)\n",
        " reach[\"2016\"] = 0\n",
        " reach[\"2017\"] = 0\n",
        " reach[\"2018\"] = 0\n",
        " reach[\"2019\"] = 0\n",
        " reach[\"2020\"] = 0\n",
        "\n",
        " \n",
        " for line in data:\n",
        "      if line[0]==\"Дата\":\n",
        "       continue\n",
        "      else:\n",
        "       if line[1] == \"reach\":\n",
        "        \n",
        "         reach[str(line[0].split('.')[2])] = reach[str(line[0].split('.')[2])] + int(line[4])\n",
        "reach\n",
        "\n"
      ],
      "execution_count": 2,
      "outputs": [
        {
          "output_type": "execute_result",
          "data": {
            "text/plain": [
              "{'2016': 555, '2017': 733, '2018': 475, '2019': 4000, '2020': 491}"
            ]
          },
          "metadata": {
            "tags": []
          },
          "execution_count": 2
        }
      ]
    },
    {
      "cell_type": "markdown",
      "metadata": {
        "id": "l5LtHLu9kopP",
        "colab_type": "text"
      },
      "source": [
        "\n",
        "\n",
        "*  Создадим словарь reach_viral = [дата] - [виральный охват].\n",
        "\n",
        "\n",
        "\n",
        "\n"
      ]
    },
    {
      "cell_type": "code",
      "metadata": {
        "id": "IN6zljcskser",
        "colab_type": "code",
        "outputId": "38128db8-fb87-4e33-fca5-add6c52b9a62",
        "colab": {
          "base_uri": "https://localhost:8080/",
          "height": 34
        }
      },
      "source": [
        "import csv\n",
        "import collections\n",
        "reach_viral = dict()\n",
        "\n",
        "with open (\"Lab_1_data.stat\", 'r') as file:\n",
        " data = csv.reader(file)\n",
        " reach_viral[\"2016\"] = 0\n",
        " reach_viral[\"2017\"] = 0\n",
        " reach_viral[\"2018\"] = 0\n",
        " reach_viral[\"2019\"] = 0\n",
        " reach_viral[\"2020\"] = 0\n",
        "\n",
        " \n",
        " for line in data:\n",
        "      if line[0]==\"Дата\":\n",
        "       continue\n",
        "      else:\n",
        "       if line[1] == \"reach_viral\":\n",
        "        \n",
        "         reach_viral[str(line[0].split('.')[2])] = reach_viral[str(line[0].split('.')[2])] + int(line[4])\n",
        "reach_viral"
      ],
      "execution_count": 3,
      "outputs": [
        {
          "output_type": "execute_result",
          "data": {
            "text/plain": [
              "{'2016': 410, '2017': 548, '2018': 385, '2019': 1379, '2020': 170}"
            ]
          },
          "metadata": {
            "tags": []
          },
          "execution_count": 3
        }
      ]
    },
    {
      "cell_type": "markdown",
      "metadata": {
        "id": "Fk34zXNmkwU0",
        "colab_type": "text"
      },
      "source": [
        "\n",
        "\n",
        "* Создадим словарь reach_subscribers = [дата] - [охват подписчиков].\n",
        "\n",
        "\n",
        "\n",
        "\n"
      ]
    },
    {
      "cell_type": "code",
      "metadata": {
        "id": "GZdJ-q21k0xp",
        "colab_type": "code",
        "outputId": "665a55f8-3765-4b06-aded-3bb8dfce036d",
        "colab": {
          "base_uri": "https://localhost:8080/",
          "height": 34
        }
      },
      "source": [
        "import csv\n",
        "import collections\n",
        "reach_subscribers = dict()\n",
        "\n",
        "with open (\"Lab_1_data.stat\", 'r') as file:\n",
        " data = csv.reader(file)\n",
        " reach_subscribers[\"2016\"] = 0\n",
        " reach_subscribers[\"2017\"] = 0\n",
        " reach_subscribers[\"2018\"] = 0\n",
        " reach_subscribers[\"2019\"] = 0\n",
        " reach_subscribers[\"2020\"] = 0\n",
        "\n",
        " \n",
        " for line in data:\n",
        "      if line[0]==\"Дата\":\n",
        "       continue\n",
        "      else:\n",
        "       if line[1] == \"reach_subscribers\":\n",
        "        \n",
        "         reach_subscribers[str(line[0].split('.')[2])] = reach_subscribers[str(line[0].split('.')[2])] + int(line[4])\n",
        "reach_subscribers"
      ],
      "execution_count": 4,
      "outputs": [
        {
          "output_type": "execute_result",
          "data": {
            "text/plain": [
              "{'2016': 145, '2017': 185, '2018': 90, '2019': 2621, '2020': 321}"
            ]
          },
          "metadata": {
            "tags": []
          },
          "execution_count": 4
        }
      ]
    },
    {
      "cell_type": "markdown",
      "metadata": {
        "id": "3z-kQi-4k4Ml",
        "colab_type": "text"
      },
      "source": [
        "\n",
        "\n",
        "* Отобразим полученные из словарей reach, reach_viral, reach_subscribers данные на графике.\n",
        "\n",
        "\n",
        "\n"
      ]
    },
    {
      "cell_type": "code",
      "metadata": {
        "id": "DRSTphl-k8hf",
        "colab_type": "code",
        "outputId": "35b2c32b-0422-497c-96b3-3d777f79dec5",
        "colab": {
          "base_uri": "https://localhost:8080/",
          "height": 404
        }
      },
      "source": [
        "import numpy as np\n",
        "\n",
        "import matplotlib.pyplot as plt\n",
        "%matplotlib inline\n",
        "\n",
        "x_coords = list(reach.keys())\n",
        "x1_coords = list(reach_viral.keys())\n",
        "x2_coords = list(reach_subscribers.keys())\n",
        "\n",
        "y_coords = list(reach.values())\n",
        "y1_coords = list(reach_viral.values())\n",
        "y2_coords = list(reach_subscribers.values())\n",
        "\n",
        "fig, ax = plt.subplots()\n",
        "fig.set_figwidth(10)    #  ширина Figure\n",
        "fig.set_figheight(6)    #  высота Figure\n",
        "\n",
        "\n",
        "# Построить график.\n",
        "plt.plot(x_coords, y_coords, label = 'Полный охват')\n",
        "plt.plot(x1_coords, y1_coords, label = 'Виральный охват')\n",
        "plt.plot(x2_coords, y2_coords, label = 'Охват подписчиков')\n",
        "\n",
        "plt.legend(fontsize = 8,\n",
        "          ncol = 1,    #  количество столбцов\n",
        "          facecolor = 'oldlace',    #  цвет области\n",
        "          edgecolor = 'r',    #  цвет крайней линии\n",
        "          title = 'Показатели',    #  заголовок\n",
        "          title_fontsize = '8'    #  размер шрифта заголовка\n",
        "         )\n",
        "\n",
        "\n",
        "# Добавить заголовок.\n",
        "plt.title('Охват аудитории')\n",
        "\n",
        "# Добавить на оси описательные метки.\n",
        "plt.xlabel('год')\n",
        "plt.ylabel('количество')\n",
        "\n",
        "# Добавить сетку.\n",
        "plt.grid(True)\n",
        "\n",
        "# Показать график.\n",
        "plt.show()"
      ],
      "execution_count": 5,
      "outputs": [
        {
          "output_type": "display_data",
          "data": {
            "image/png": "[encoded data removed]",
            "text/plain": [
              "<Figure size 720x432 with 1 Axes>"
            ]
          },
          "metadata": {
            "tags": [],
            "needs_background": "light"
          }
        }
      ]
    },
    {
      "cell_type": "markdown",
      "metadata": {
        "id": "-KRhb7tfDGDs",
        "colab_type": "text"
      },
      "source": [
        "**Вывод:** показатели вирального охвата преимущественно выше показателей органического. Это означает, что участники группы согласны распространять контент группы среди своих друзей. Естественное тиражирование постов увеличивает показатели охвата и позволяет привлечь в группу новых подписчиков."
      ]
    },
    {
      "cell_type": "markdown",
      "metadata": {
        "id": "-DRxUV3Ok6xB",
        "colab_type": "text"
      },
      "source": [
        "##3. Проведём анализ демографии (пол - gender, возраст аудитории - age, gender_age, страна - countries)"
      ]
    },
    {
      "cell_type": "markdown",
      "metadata": {
        "id": "4hmEfLdlqgCR",
        "colab_type": "text"
      },
      "source": [
        "\n",
        "\n",
        "* Создадим словарь gender = [год] - [кортеж = пол, значение]\n",
        "\n",
        "* Используем кортеж в качестве значений словаря, чтобы поместить туда сразу несколько значений.\n",
        "\n",
        "\n"
      ]
    },
    {
      "cell_type": "code",
      "metadata": {
        "id": "s5ZPZEYz2X1n",
        "colab_type": "code",
        "colab": {
          "base_uri": "https://localhost:8080/",
          "height": 54
        },
        "outputId": "dbadee14-6ba4-46fb-b79f-6fbcce66d175"
      },
      "source": [
        "import csv\n",
        "\n",
        "gender = dict()\n",
        "\n",
        "with open('Lab_1_data.stat', 'r') as file:\n",
        "    stat = csv.reader(file)\n",
        "    for line in stat:\n",
        "        if line[0] == \"Дата\":\n",
        "          continue\n",
        "        else:\n",
        "          if line[1] == 'gender':\n",
        "            if line[0].split('.')[2] in gender:\n",
        "              age = gender.get(line[0].split('.')[2])\n",
        "              if line[2] in age:\n",
        "                count = int(age.get(line[2]))\n",
        "                count+= int(line[4])\n",
        "                age[line[2]] = count\n",
        "              else:\n",
        "                age[line[2]] = int(line[4])\n",
        "            else:\n",
        "              gender[line[0].split('.')[2]] = {line[2]: line[4]}\n",
        "\n",
        "print(gender)"
      ],
      "execution_count": 117,
      "outputs": [
        {
          "output_type": "stream",
          "text": [
            "{'2020': {'М': 117, 'Ж': 42}, '2019': {'Ж': 311, 'М': 620}, '2018': {'М': 303, 'Ж': 181}, '2017': {'М': 465, 'Ж': 264}, '2016': {'М': 383, 'Ж': 167}}\n"
          ],
          "name": "stdout"
        }
      ]
    },
    {
      "cell_type": "markdown",
      "metadata": {
        "id": "Ey2OP9lG2iVF",
        "colab_type": "text"
      },
      "source": [
        "\n",
        "\n",
        "*  Отсортируем полученный словарь gender так, чтобы по порядку шли годы и показатели 'M', 'Ж'.\n",
        "\n",
        "\n",
        "\n"
      ]
    },
    {
      "cell_type": "code",
      "metadata": {
        "id": "SYOmBJvUmMP1",
        "colab_type": "code",
        "outputId": "5bc6e9a1-f117-4c1b-b4e3-772ae8327cc0",
        "colab": {
          "base_uri": "https://localhost:8080/",
          "height": 54
        }
      },
      "source": [
        "import csv\n",
        "\n",
        "gender = dict()\n",
        "\n",
        "with open('Lab_1_data.stat', 'r') as file:\n",
        "    stat = csv.reader(file)\n",
        "    for line in stat:\n",
        "        if line[0] == \"Дата\":\n",
        "          continue\n",
        "        else:\n",
        "          if line[1] == 'gender':\n",
        "            if line[0].split('.')[2] in gender:\n",
        "              age = gender.get(line[0].split('.')[2])\n",
        "              if line[2] in age:\n",
        "                count = int(age.get(line[2]))\n",
        "                count+= int(line[4])\n",
        "                age[line[2]] = count\n",
        "              else:\n",
        "                age[line[2]] = int(line[4])\n",
        "            else:\n",
        "              gender[line[0].split('.')[2]] = {line[2]: line[4]}\n",
        "\n",
        "#print(sorted(gender.items()))\n",
        "for key in sorted(gender.keys()):\n",
        "  gender[key] = sorted(gender[key].items())\n",
        "\n",
        "print(gender)\n",
        "\n",
        "#print(type(gender['2020'][0]))"
      ],
      "execution_count": 118,
      "outputs": [
        {
          "output_type": "stream",
          "text": [
            "{'2020': [('Ж', 42), ('М', 117)], '2019': [('Ж', 311), ('М', 620)], '2018': [('Ж', 181), ('М', 303)], '2017': [('Ж', 264), ('М', 465)], '2016': [('Ж', 167), ('М', 383)]}\n"
          ],
          "name": "stdout"
        }
      ]
    },
    {
      "cell_type": "markdown",
      "metadata": {
        "id": "wqsUIgI3q0U2",
        "colab_type": "text"
      },
      "source": [
        "\n",
        "\n",
        "*  Используя созданный словарь gender, построим столбчатую диаграмму охвата аудитории по полу.\n",
        "\n",
        "*   Функция draw_gender позволяет ввести нужный нам год для построение графика, например \"2017\".\n",
        "\n",
        "\n",
        "\n",
        "\n",
        "\n",
        "\n",
        "\n"
      ]
    },
    {
      "cell_type": "code",
      "metadata": {
        "id": "EmEtbRpcq5Sh",
        "colab_type": "code",
        "outputId": "dd255a74-9b7b-47f1-b226-5d073c826a2f",
        "colab": {
          "base_uri": "https://localhost:8080/",
          "height": 390
        }
      },
      "source": [
        "import matplotlib.pyplot as plt\n",
        "%matplotlib inline\n",
        "def draw_gender():\n",
        "    # Создать список с координатами X левого края каждого столбика\n",
        "    men = list()\n",
        "    women = list()\n",
        "    years = list()\n",
        "    for key in sorted(gender.keys()):\n",
        "      years.append(key)\n",
        "      men.append(gender[key][1][1])\n",
        "      women.append(gender[key][0][1])\n",
        "    # Создать переменную для ширины столбика.\n",
        "    bar_width = 0.5\n",
        "\n",
        "    ind = np.array(len(men))\n",
        "    fig, ax = plt.subplots()\n",
        "    plt.title('Охват аудитории / Пол')\n",
        "    \n",
        "    ## массив, который содержит номера отрезков - тиков\n",
        "    xs = range(len(men))\n",
        "    ##  первый элемент plt.bar проставляет индексы иксов\n",
        "    ## (на каких местах будут стоять значения - столбец)\n",
        "    plt.bar([x + 0.2 for x in xs], men,\n",
        "          width = 0.4, color = 'blue', label='men')\n",
        "    plt.bar([x - 0.2 for x in xs], women,\n",
        "          width = 0.4, color = 'red', label='women')\n",
        "    \n",
        "    \n",
        "\n",
        "    fig.set_figwidth(12)    #  ширина Figure\n",
        "    fig.set_figheight(6)    #  высота Figure\n",
        "    ## расположение подписей на оси икс\n",
        "    plt.xticks(xs, years)\n",
        "    plt.legend()\n",
        "    plt.show()\n",
        "draw_gender()"
      ],
      "execution_count": 121,
      "outputs": [
        {
          "output_type": "display_data",
          "data": {
            "image/png": "[encoded data removed]",
            "text/plain": [
              "<Figure size 864x432 with 1 Axes>"
            ]
          },
          "metadata": {
            "tags": [],
            "needs_background": "light"
          }
        }
      ]
    },
    {
      "cell_type": "markdown",
      "metadata": {
        "id": "-2QBIVkIDSlj",
        "colab_type": "text"
      },
      "source": [
        "**Вывод:** посетителями группы преимущественно являются лица мужского пола. Показатель превышает идентичный показатель женского пола в 1,5 – 2 раза по всем годам."
      ]
    },
    {
      "cell_type": "markdown",
      "metadata": {
        "id": "5BCCx3imrykO",
        "colab_type": "text"
      },
      "source": [
        "\n",
        "Далее проанализируем возрастной показатель\n",
        "* Создадим словарь age_1 = [год] - [кортеж = возраст, значение]\n",
        "* Используем кортеж в качестве значений словаря, чтобы поместить туда сразу несколько значений.\n",
        "\n",
        "\n",
        "* Отсортируем полученнй словарь с помощью функции sorted.\n",
        "* Теперь годы и возраста в словаре идут по порядку\n",
        "\n",
        "\n",
        "\n",
        "\n",
        "\n",
        "\n"
      ]
    },
    {
      "cell_type": "code",
      "metadata": {
        "id": "GZT66stXr0Gc",
        "colab_type": "code",
        "outputId": "addf2323-b34e-4fde-be39-b9a16a5a4f60",
        "colab": {
          "base_uri": "https://localhost:8080/",
          "height": 54
        }
      },
      "source": [
        "import csv\n",
        "\n",
        "age_1 = dict()\n",
        "\n",
        "with open('Lab_1_data.stat', 'r') as file:\n",
        "    stat = csv.reader(file)\n",
        "    for line in stat:\n",
        "        if line[0] == \"Дата\":\n",
        "          continue\n",
        "        else:\n",
        "          if line[1] == 'age':\n",
        "            if line[0].split('.')[2] in age_1:\n",
        "              years_1 = age_1.get(line[0].split('.')[2])\n",
        "              if line[2] in years_1:\n",
        "                count = int(years_1.get(line[2]))\n",
        "                count+= int(line[4])\n",
        "                years_1[line[2]] = count\n",
        "              else:\n",
        "                years_1[line[2]] = int(line[4])\n",
        "            else:\n",
        "              age_1[line[0].split('.')[2]] = {line[2]: line[4]}\n",
        "\n",
        "#print(sorted(age_1.items()))\n",
        "for key in sorted(age_1.keys()):\n",
        "  age_1[key] = sorted(age_1[key].items())\n",
        "\n",
        "print(age_1)\n",
        "\n",
        "#print(type(age_1['2020'][0]))"
      ],
      "execution_count": 94,
      "outputs": [
        {
          "output_type": "stream",
          "text": [
            "{'2020': [('1-18', 1), ('18-21', 37), ('21-24', 24), ('24-27', 17), ('27-30', 22), ('30-35', 30), ('35-45', 13), ('45+', 3)], '2019': [('1-18', 8), ('18-21', 345), ('21-24', 140), ('24-27', 79), ('27-30', 58), ('30-35', 149), ('35-45', 38), ('45+', 38)], '2018': [('1-18', 15), ('18-21', 110), ('21-24', 110), ('24-27', 65), ('27-30', 24), ('30-35', 32), ('35-45', 29), ('45+', 57)], '2017': [('1-18', 30), ('18-21', 188), ('21-24', 143), ('24-27', 80), ('27-30', 39), ('30-35', 55), ('35-45', 38), ('45+', 69)], '2016': [('1-18', 28), ('18-21', 172), ('21-24', 129), ('24-27', 36), ('27-30', 17), ('30-35', 33), ('35-45', 23), ('45+', 31)]}\n"
          ],
          "name": "stdout"
        }
      ]
    },
    {
      "cell_type": "markdown",
      "metadata": {
        "id": "BdVuD1no9A4u",
        "colab_type": "text"
      },
      "source": [
        "\n",
        "\n",
        "* Используя созданный словарь age_1, построим столбчатую диаграмму охвата аудитории по возрасту.\n",
        "* Функция draw_age позволяет ввести нужный нам год для построение графика, например \"2019\".\n",
        "\n",
        "\n",
        "\n"
      ]
    },
    {
      "cell_type": "code",
      "metadata": {
        "id": "Ozp0E5cN7pCX",
        "colab_type": "code",
        "colab": {
          "base_uri": "https://localhost:8080/",
          "height": 390
        },
        "outputId": "9532a575-345c-4a05-cb22-f2657204d24e"
      },
      "source": [
        "import matplotlib.pyplot as plt\n",
        "%matplotlib inline\n",
        "def draw_age(year):\n",
        "    # Создать список с координатами X левого края каждого столбика\n",
        "    left_edges = list()\n",
        "    for i in range(len(age_1[year])):\n",
        "      left_edges.append(age_1[year][i][0])\n",
        "      \n",
        "\n",
        "\n",
        "    heights = list()\n",
        "    for i in range(len(age_1[year])):\n",
        "      heights.append(age_1[year][i][1])# Создать список с высотами каждого столбика.\n",
        "\n",
        "\n",
        "    # Создать переменную для ширины столбика.\n",
        "    bar_width = 0.5\n",
        "\n",
        "\n",
        "    fig, ax = plt.subplots()\n",
        "    fig.set_figwidth(10)    #  ширина Figure\n",
        "    fig.set_figheight(6)    #  высота Figure\n",
        "\n",
        "    plt.title('Охват аудитории / Возраст')\n",
        "\n",
        "\n",
        "\n",
        "    # Построить столбчатую диаграмму.\n",
        "    plt.bar(left_edges, heights, bar_width, label = year)\n",
        "    plt.legend()\n",
        "\n",
        "    # Показать столбчатую диаграмму.\n",
        "\n",
        "    plt.show()\n",
        "draw_age('2017')"
      ],
      "execution_count": 96,
      "outputs": [
        {
          "output_type": "display_data",
          "data": {
            "image/png": "[encoded data removed]",
            "text/plain": [
              "<Figure size 720x432 with 1 Axes>"
            ]
          },
          "metadata": {
            "tags": [],
            "needs_background": "light"
          }
        }
      ]
    },
    {
      "cell_type": "markdown",
      "metadata": {
        "id": "Rj7XVMrQDiBC",
        "colab_type": "text"
      },
      "source": [
        "**Вывод:** Лидирующие позиции по 2017, 2018, 2019 году занимают следующие возрастная группы: 18 -21 и 21 – 24. Это выпускники школ и студенты. Напротив, наименьшее количество посещений показывают возрастные группы: 1 – 18, 27 – 30 и 30 – 35 (кроме 2019 года)."
      ]
    },
    {
      "cell_type": "markdown",
      "metadata": {
        "id": "w4CJaop8sKl8",
        "colab_type": "text"
      },
      "source": [
        "\n",
        "Далеее проанализируем показатель пол - возраст.\n",
        "*   Строка 'gender_age' содержит сразу 3 критерия: пол, возраст, числовой показатель.\n",
        "*   Разбиваем данные на категории - словари.\n",
        "\n"
      ]
    },
    {
      "cell_type": "code",
      "metadata": {
        "id": "WWMYeeTgsNAv",
        "colab_type": "code",
        "outputId": "7b2558b1-6438-4eab-bc04-103b7d4222e1",
        "colab": {
          "base_uri": "https://localhost:8080/",
          "height": 54
        }
      },
      "source": [
        "import csv\n",
        "\n",
        "gender_age = dict()\n",
        "\n",
        "\n",
        "with open('Lab_1_data.stat', 'r') as file:\n",
        "    stat = csv.reader(file)\n",
        "    for line in stat:\n",
        "        if line[0] == \"Дата\":\n",
        "          continue\n",
        "        else:\n",
        "          if line[1] == 'gender_age':\n",
        "            if line[0].split('.')[2] in gender_age:\n",
        "              gender = gender_age.get(line[0].split('.')[2])\n",
        "              if line[2] in gender:\n",
        "                age = gender.get(line[2])\n",
        "                if line[3] in age:\n",
        "                  count = int(age.get(line[3]))\n",
        "                  count+= int(line[4])\n",
        "                  age[line[3]] = count\n",
        "                else:\n",
        "                  age[line[3]] = int(line[4])\n",
        "              else:\n",
        "                gender[line[2]] = {line[3]:line[4]}\n",
        "            else:\n",
        "              gender_age[line[0].split('.')[2]] = {line[2]: {line[3]:line[4]}}\n",
        "\n",
        "\n",
        "print(gender_age)\n"
      ],
      "execution_count": 97,
      "outputs": [
        {
          "output_type": "stream",
          "text": [
            "{'2020': {'М': {'30-35': 27, '27-30': 16, '35-45': 12, '1-18': 1, '18-21': 29, '21-24': 14, '24-27': 8, '45+': 2}, 'Ж': {'24-27': 9, '27-30': 6, '21-24': 10, '35-45': 1, '18-21': 8, '30-35': 3, '45+': 1}}, '2019': {'М': {'30-35': 136, '18-21': 249, '21-24': 70, '27-30': 34, '24-27': 37, '35-45': 25, '45+': 13, '1-18': 4}, 'Ж': {'18-21': 96, '24-27': 42, '21-24': 70, '27-30': 24, '35-45': 13, '1-18': 4, '30-35': 13, '45+': 25}}, '2018': {'М': {'45+': 37, '18-21': 70, '24-27': 45, '21-24': 69, '30-35': 18, '35-45': 22, '1-18': 9, '27-30': 14}, 'Ж': {'30-35': 14, '18-21': 40, '21-24': 41, '24-27': 20, '35-45': 7, '1-18': 6, '27-30': 10, '45+': 20}}, '2017': {'М': {'24-27': 46, '21-24': 111, '30-35': 24, '45+': 49, '18-21': 131, '35-45': 23, '1-18': 14, '27-30': 20}, 'Ж': {'27-30': 19, '30-35': 31, '45+': 20, '18-21': 57, '1-18': 16, '24-27': 34, '35-45': 15, '21-24': 32}}, '2016': {'М': {'1-18': 19, '21-24': 104, '35-45': 20, '30-35': 25, '45+': 18, '18-21': 120, '24-27': 24, '27-30': 10}, 'Ж': {'18-21': 52, '21-24': 25, '30-35': 8, '27-30': 7, '24-27': 12, '1-18': 9, '45+': 13, '35-45': 3}}}\n"
          ],
          "name": "stdout"
        }
      ]
    },
    {
      "cell_type": "markdown",
      "metadata": {
        "id": "oZcndfePP94s",
        "colab_type": "text"
      },
      "source": [
        "\n",
        "\n",
        "*   Проведём сортировку полученного словаря gender_age. Ключ словаря - год, значение - кортеж (пол, возраст)\n",
        "\n",
        "\n"
      ]
    },
    {
      "cell_type": "code",
      "metadata": {
        "id": "Eh7XYU0JP5VE",
        "colab_type": "code",
        "colab": {
          "base_uri": "https://localhost:8080/",
          "height": 54
        },
        "outputId": "0bc99963-7bcc-4e26-f5c3-c6576a384605"
      },
      "source": [
        "import csv\n",
        "\n",
        "gender_age = dict()\n",
        "\n",
        "\n",
        "with open('Lab_1_data.stat', 'r') as file:\n",
        "    stat = csv.reader(file)\n",
        "    for line in stat:\n",
        "        if line[0] == \"Дата\":\n",
        "          continue\n",
        "        else:\n",
        "          if line[1] == 'gender_age':\n",
        "            if line[0].split('.')[2] in gender_age:\n",
        "              gender = gender_age.get(line[0].split('.')[2])\n",
        "              if line[2] in gender:\n",
        "                age = gender.get(line[2])\n",
        "                if line[3] in age:\n",
        "                  count = int(age.get(line[3]))\n",
        "                  count+= int(line[4])\n",
        "                  age[line[3]] = count\n",
        "                else:\n",
        "                  age[line[3]] = int(line[4])\n",
        "              else:\n",
        "                gender[line[2]] = {line[3]:line[4]}\n",
        "            else:\n",
        "              gender_age[line[0].split('.')[2]] = {line[2]: {line[3]:line[4]}}\n",
        "\n",
        "\n",
        "\n",
        "# проходимся по ключам gender age получаем словарь с полом\n",
        "for key in sorted(gender_age.keys()):\n",
        "  # проходимся по ключам словаря с полами и получаем словарь с возр группами\n",
        "  for gender in sorted(gender_age[key].keys()):\n",
        "    # сортируем словарь возрастных групп \n",
        "    gender_age[key][gender] = sorted(gender_age[key][gender].items())\n",
        "  # сортируем словарь полов\n",
        "  gender_age[key] = sorted(gender_age[key].items())\n",
        "\n",
        "print(gender_age)\n",
        "\n"
      ],
      "execution_count": 98,
      "outputs": [
        {
          "output_type": "stream",
          "text": [
            "{'2020': [('Ж', [('18-21', 8), ('21-24', 10), ('24-27', 9), ('27-30', 6), ('30-35', 3), ('35-45', 1), ('45+', 1)]), ('М', [('1-18', 1), ('18-21', 29), ('21-24', 14), ('24-27', 8), ('27-30', 16), ('30-35', 27), ('35-45', 12), ('45+', 2)])], '2019': [('Ж', [('1-18', 4), ('18-21', 96), ('21-24', 70), ('24-27', 42), ('27-30', 24), ('30-35', 13), ('35-45', 13), ('45+', 25)]), ('М', [('1-18', 4), ('18-21', 249), ('21-24', 70), ('24-27', 37), ('27-30', 34), ('30-35', 136), ('35-45', 25), ('45+', 13)])], '2018': [('Ж', [('1-18', 6), ('18-21', 40), ('21-24', 41), ('24-27', 20), ('27-30', 10), ('30-35', 14), ('35-45', 7), ('45+', 20)]), ('М', [('1-18', 9), ('18-21', 70), ('21-24', 69), ('24-27', 45), ('27-30', 14), ('30-35', 18), ('35-45', 22), ('45+', 37)])], '2017': [('Ж', [('1-18', 16), ('18-21', 57), ('21-24', 32), ('24-27', 34), ('27-30', 19), ('30-35', 31), ('35-45', 15), ('45+', 20)]), ('М', [('1-18', 14), ('18-21', 131), ('21-24', 111), ('24-27', 46), ('27-30', 20), ('30-35', 24), ('35-45', 23), ('45+', 49)])], '2016': [('Ж', [('1-18', 9), ('18-21', 52), ('21-24', 25), ('24-27', 12), ('27-30', 7), ('30-35', 8), ('35-45', 3), ('45+', 13)]), ('М', [('1-18', 19), ('18-21', 120), ('21-24', 104), ('24-27', 24), ('27-30', 10), ('30-35', 25), ('35-45', 20), ('45+', 18)])]}\n"
          ],
          "name": "stdout"
        }
      ]
    },
    {
      "cell_type": "markdown",
      "metadata": {
        "id": "yeR5DgmvSfic",
        "colab_type": "text"
      },
      "source": [
        "\n",
        "\n",
        "*   Построим столбчатую даграмму для показателя gemder_age\n",
        "*   Для работы с определёнными критериям используем обращение к элементам [ключ], [индекс].\n",
        "*   Функция draw_gender_age(year) позволит вывести график для определённого года, например (\"2017\").\n",
        "\n",
        "\n",
        "\n"
      ]
    },
    {
      "cell_type": "code",
      "metadata": {
        "id": "y1tcNosSsYAb",
        "colab_type": "code",
        "outputId": "bb651025-773f-471d-f064-749d7313626b",
        "colab": {
          "base_uri": "https://localhost:8080/",
          "height": 390
        }
      },
      "source": [
        "%matplotlib inline\n",
        "import numpy as np\n",
        "import matplotlib.pyplot as plt\n",
        "\n",
        "def draw_gender_age(year):\n",
        "  ## женское распределение по возрастам\n",
        "  ## [0] - значение для категории Ж (а не М), [1] - возрастные показатели (а не Ж)\n",
        "  x1 = list()\n",
        "  y1 = list()\n",
        "  for i in range(len(gender_age[year][0][1])):\n",
        "    x1.append(gender_age[year][0][1][i][0])\n",
        "    y1.append(gender_age[year][0][1][i][1])\n",
        "\n",
        "  x2 = list()\n",
        "  y2 = list()\n",
        "  for i in range(len(gender_age[year][1][1])):\n",
        "    x2.append(gender_age[year][1][1][i][0])\n",
        "    y2.append(gender_age[year][1][1][i][1])\n",
        "\n",
        "  ind = np.array(len(x1))\n",
        "  fig, ax = plt.subplots()\n",
        "  \n",
        "  ## массив, который содержит номера отрезков - тиков\n",
        "  xs = range(len(x1))\n",
        "##  первый элемент plt.bar проставляет индексы иксов\n",
        "## (на каких местах будут стоять значения - столбец)\n",
        "\n",
        "  plt.title('Охват аудитории / Возраст, Пол / '+ year)\n",
        "  plt.bar([x + 0.2 for x in xs], y1,\n",
        "        width = 0.4, color = 'red', label=gender_age[year][0][0])\n",
        "  plt.bar([x - 0.2 for x in xs], y2,\n",
        "        width = 0.4, color = 'blue', label=gender_age[year][1][0])\n",
        "  \n",
        "  fig.set_figwidth(12)    #  ширина Figure\n",
        "  fig.set_figheight(6)    #  высота Figure\n",
        "  ## расположение подписей на оси икс\n",
        "  plt.xticks(xs, x1)\n",
        "  plt.legend()\n",
        "  plt.show()\n",
        "\n",
        "draw_gender_age('2018')\n"
      ],
      "execution_count": 107,
      "outputs": [
        {
          "output_type": "display_data",
          "data": {
            "image/png": "[encoded data removed]",
            "text/plain": [
              "<Figure size 864x432 with 1 Axes>"
            ]
          },
          "metadata": {
            "tags": [],
            "needs_background": "light"
          }
        }
      ]
    },
    {
      "cell_type": "markdown",
      "metadata": {
        "id": "CZ53_CAhD4Yt",
        "colab_type": "text"
      },
      "source": [
        "**Вывод:** как уже было замечено в предыдущих пунктах, наибольшую составляющую представляют представители мужского пола следующих возрастных категорий по убыванию: 18 – 21, 21 -24, 24 – 27 (для 2018 года), 30 – 35 (для 2019)."
      ]
    },
    {
      "cell_type": "markdown",
      "metadata": {
        "id": "yYzXysMcsiWQ",
        "colab_type": "text"
      },
      "source": [
        "\n",
        "\n",
        "Проанализируем демографический показатель \"countries\".\n",
        "\n",
        "\n",
        "*   Создаём словарь значений, если показатель встречается первый раз - записваем как новый.\n",
        "*   Остортируем полученный словарь по годам\\ страны - по алфавиту.\n",
        "\n"
      ]
    },
    {
      "cell_type": "code",
      "metadata": {
        "id": "mJhs3w2hskMW",
        "colab_type": "code",
        "outputId": "9ae30e28-f299-4200-8bf2-eb68972cdcab",
        "colab": {
          "base_uri": "https://localhost:8080/",
          "height": 54
        }
      },
      "source": [
        "import csv\n",
        "\n",
        "countries = dict()\n",
        "\n",
        "with open('Lab_1_data.stat', 'r') as file:\n",
        "    stat = csv.reader(file)\n",
        "    for line in stat:\n",
        "        if line[0] == \"Дата\":\n",
        "          continue\n",
        "        else:\n",
        "          if line[1] == 'countries':\n",
        "            if line[0].split('.')[2] in countries :\n",
        "              age_2 = countries.get(line[0].split('.')[2])\n",
        "              if line[2] in age_2:\n",
        "                count = int(age_2.get(line[2]))\n",
        "                count+= int(line[4])\n",
        "                age_2[line[2]] = count\n",
        "              else:\n",
        "                age_2[line[2]] = int(line[4])\n",
        "            else:\n",
        "              countries[line[0].split('.')[2]] = {line[2]: line[4]}\n",
        "\n",
        "#print(sorted(countries.items()))\n",
        "for key in sorted(countries.keys()):\n",
        "  countries[key] = sorted(countries[key].items())\n",
        "\n",
        "print(countries)\n",
        "\n",
        "#print(type(countries['2020'][0]))"
      ],
      "execution_count": 50,
      "outputs": [
        {
          "output_type": "stream",
          "text": [
            "{'2020': [('Азербайджан', 1), ('Беларусь', 6), ('Великобритания', 2), ('Венгрия', 1), ('Вьетнам', 1), ('Германия', 4), ('Индонезия', 1), ('Казахстан', 1), ('Канада', 1), ('Китай', 1), ('Малайзия', 1), ('Мексика', 1), ('Россия', 160), ('США', 15), ('Сингапур', 1), ('Таиланд', 1), ('Украина', 2), ('Финляндия', 1), ('Франция', 2), ('Южная Корея', 1)], '2019': [('', 7), ('Армения', 5), ('Беларусь', 10), ('Босния и Герцеговина', 1), ('Бразилия', 1), ('Великобритания', 2), ('Германия', 4), ('Индонезия', 1), ('Испания', 1), ('Казахстан', 7), ('Канада', 1), ('Китай', 1), ('Кыргызстан', 1), ('Малайзия', 1), ('Молдова', 2), ('Нидерланды', 3), ('Пакистан', 1), ('Польша', 2), ('Россия', 978), ('США', 7), ('Сингапур', 2), ('Таджикистан', 1), ('Таиланд', 5), ('Узбекистан', 1), ('Украина', 3), ('Франция', 4), ('Швейцария', 1), ('Швеция', 2), ('Южная Корея', 2)], '2018': [('', 3), ('Азербайджан', 2), ('Беларусь', 6), ('Великобритания', 2), ('Вьетнам', 1), ('Германия', 2), ('Дания', 1), ('Индонезия', 1), ('Испания', 2), ('Казахстан', 11), ('Молдова', 5), ('Нидерланды', 2), ('Россия', 477), ('США', 12), ('Украина', 4), ('Финляндия', 1), ('Франция', 1), ('Швеция', 1), ('Япония', 1)], '2017': [('', 10), ('Азербайджан', 1), ('Беларусь', 4), ('Израиль', 3), ('Италия', 1), ('Казахстан', 21), ('Кыргызстан', 2), ('Нидерланды', 1), ('Польша', 1), ('Россия', 725), ('США', 17), ('Тайвань', 1), ('Украина', 31), ('Франция', 3), ('Эстония', 1), ('Япония', 1)], '2016': [('', 1), ('Беларусь', 3), ('Великобритания', 1), ('Германия', 1), ('Ирландия', 1), ('Испания', 1), ('Казахстан', 12), ('Кыргызстан', 2), ('Латвия', 1), ('Россия', 548), ('США', 8), ('Турция', 2), ('Узбекистан', 1), ('Украина', 27), ('Франция', 1)]}\n"
          ],
          "name": "stdout"
        }
      ]
    },
    {
      "cell_type": "markdown",
      "metadata": {
        "id": "TSLZ276_NiKH",
        "colab_type": "text"
      },
      "source": [
        "\n",
        "\n",
        "*   Выведем круговую диаграмму с информацией о странах.\n",
        "*   Функция draw_countries позволит вывести график для каждого года, например (\"2020\"). \n",
        "\n"
      ]
    },
    {
      "cell_type": "code",
      "metadata": {
        "id": "tmR8sk44s7cR",
        "colab_type": "code",
        "outputId": "d00fcbf6-1123-4561-969a-476cd1b4086c",
        "colab": {
          "base_uri": "https://localhost:8080/",
          "height": 592
        }
      },
      "source": [
        "def draw_countries(year):\n",
        "    # Эта программа выводит простую круговую диаграмму.\n",
        "    import matplotlib.pyplot as plt\n",
        "    %matplotlib inline\n",
        "\n",
        "    # Создать список стран по году.\n",
        "    place = list()\n",
        "    for i in range(len(countries[year])):\n",
        "      place.append(countries[year][i][1])\n",
        "\n",
        "    all_places = sum(place)\n",
        "    # Создать список меток долей.\n",
        "    slice_labels = list()\n",
        "    # Сортируем легенду\n",
        "    countries[year].sort(key=lambda x: x[1], reverse=True)\n",
        "\n",
        "    for i in range(len(countries[year])):\n",
        "      percentage = \" \" + str(round(countries[year][i][1]/all_places*100, 1)) + '%'\n",
        "      slice_labels.append(countries[year][i][0]+ percentage)\n",
        "\n",
        "    fig, ax = plt.subplots()\n",
        " \n",
        "    # Создать из этих значений круговую диаграмму.\n",
        "    ax.pie(place)\n",
        "    \n",
        "\n",
        "\n",
        "    # Добавить заголовок.\n",
        "    plt.title('Анализ демографии по показателю \"countries\" - страна, ' + year, fontsize=15)\n",
        "\n",
        "    plt.legend(title = year,\n",
        "          loc=\"center left\",\n",
        "          labels=slice_labels,\n",
        "          bbox_to_anchor=(1, 0, 0.5, 1))\n",
        "    \n",
        "    fig.set_figwidth(20)    #  ширина Figure\n",
        "    fig.set_figheight(10)    #  высота Figure\n",
        "\n",
        "    # Показать круговую диаграмму.\n",
        "    plt.show()\n",
        "draw_countries('2019')"
      ],
      "execution_count": 135,
      "outputs": [
        {
          "output_type": "display_data",
          "data": {
            "image/png": "[encoded data removed]",
            "text/plain": [
              "<Figure size 1440x720 with 1 Axes>"
            ]
          },
          "metadata": {
            "tags": []
          }
        }
      ]
    },
    {
      "cell_type": "markdown",
      "metadata": {
        "id": "HpnVnyJxFmQ_",
        "colab_type": "text"
      },
      "source": [
        "**Вывод:** в группе превалируют пользователи из России: 78,4 % в 2020, 92,5 % в 2019. Второе место занимает группы пользователей из США 7,4 %, на третьем пользователи из республики Беларусь – 2,9 %."
      ]
    },
    {
      "cell_type": "markdown",
      "metadata": {
        "id": "NMQnpq63tHDV",
        "colab_type": "text"
      },
      "source": [
        "##4. Проведём анализ обратной связи\n",
        "\n",
        "\n",
        "*   Используем показатель feedback\n",
        "*   Выведем содержимое показателя\n",
        "\n",
        "\n",
        "\n",
        "*   Поскольку показатель содержит сравнительно малое количесвто данных, для дальнейшего анализа будем использовать критерии по всем годам, без разделения.\n",
        "\n",
        "\n",
        "\n",
        "\n"
      ]
    },
    {
      "cell_type": "code",
      "metadata": {
        "id": "tZ9izHFCtMn_",
        "colab_type": "code",
        "outputId": "cd6e53b1-e9e3-4979-b5b5-42ddb26dc0e7",
        "colab": {
          "base_uri": "https://localhost:8080/",
          "height": 901
        }
      },
      "source": [
        "import csv\n",
        "\n",
        "\n",
        "with open('Lab_1_data.stat', 'r') as file:\n",
        "    stat = csv.reader(file)\n",
        "    for line in stat:\n",
        "      if line[0] == \"Дата\":\n",
        "        continue\n",
        "      else:\n",
        "        if line[1] == \"feedback\":\n",
        "          print(line)\n",
        "         "
      ],
      "execution_count": 146,
      "outputs": [
        {
          "output_type": "stream",
          "text": [
            "['26.02.2020', 'feedback', 'Нравится', '', '1']\n",
            "['16.02.2020', 'feedback', 'Нравится', '', '1']\n",
            "['14.02.2020', 'feedback', 'Нравится', '', '2']\n",
            "['08.02.2020', 'feedback', 'Нравится', '', '1']\n",
            "['07.02.2020', 'feedback', 'Нравится', '', '3']\n",
            "['06.02.2020', 'feedback', 'Нравится', '', '1']\n",
            "['05.02.2020', 'feedback', 'Нравится', '', '4']\n",
            "['29.12.2019', 'feedback', 'Нравится', '', '2']\n",
            "['28.12.2019', 'feedback', 'Нравится', '', '1']\n",
            "['27.12.2019', 'feedback', 'Нравится', '', '9']\n",
            "['27.12.2019', 'feedback', 'Рассказали друзьям', '', '1']\n",
            "['21.12.2019', 'feedback', 'Нравится', '', '1']\n",
            "['20.12.2019', 'feedback', 'Нравится', '', '2']\n",
            "['09.12.2019', 'feedback', 'Нравится', '', '1']\n",
            "['08.12.2019', 'feedback', 'Нравится', '', '7']\n",
            "['06.12.2019', 'feedback', 'Нравится', '', '1']\n",
            "['05.12.2019', 'feedback', 'Нравится', '', '2']\n",
            "['05.12.2019', 'feedback', 'Рассказали друзьям', '', '1']\n",
            "['19.11.2019', 'feedback', 'Нравится', '', '2']\n",
            "['14.11.2019', 'feedback', 'Нравится', '', '1']\n",
            "['07.11.2019', 'feedback', 'Нравится', '', '2']\n",
            "['31.10.2019', 'feedback', 'Нравится', '', '1']\n",
            "['21.10.2019', 'feedback', 'Нравится', '', '1']\n",
            "['15.10.2019', 'feedback', 'Нравится', '', '1']\n",
            "['14.10.2019', 'feedback', 'Нравится', '', '5']\n",
            "['10.10.2019', 'feedback', 'Нравится', '', '1']\n",
            "['09.10.2019', 'feedback', 'Нравится', '', '2']\n",
            "['06.10.2019', 'feedback', 'Нравится', '', '1']\n",
            "['03.10.2019', 'feedback', 'Нравится', '', '3']\n",
            "['02.10.2019', 'feedback', 'Нравится', '', '1']\n",
            "['01.10.2019', 'feedback', 'Нравится', '', '1']\n",
            "['01.10.2019', 'feedback', 'Упоминания', '', '1']\n",
            "['30.09.2019', 'feedback', 'Нравится', '', '1']\n",
            "['27.09.2019', 'feedback', 'Нравится', '', '2']\n",
            "['26.09.2019', 'feedback', 'Нравится', '', '2']\n",
            "['25.09.2019', 'feedback', 'Нравится', '', '2']\n",
            "['25.09.2019', 'feedback', 'Комментарии', '', '2']\n",
            "['23.09.2019', 'feedback', 'Нравится', '', '1']\n",
            "['21.09.2019', 'feedback', 'Нравится', '', '1']\n",
            "['14.09.2019', 'feedback', 'Нравится', '', '1']\n",
            "['13.09.2019', 'feedback', 'Нравится', '', '6']\n",
            "['12.09.2019', 'feedback', 'Нравится', '', '1']\n",
            "['11.09.2019', 'feedback', 'Нравится', '', '3']\n",
            "['05.03.2018', 'feedback', 'Комментарии', '', '2']\n",
            "['08.10.2017', 'feedback', 'Нравится', '', '1']\n",
            "['26.04.2017', 'feedback', 'Комментарии', '', '1']\n",
            "['16.12.2016', 'feedback', 'Нравится', '', '2']\n",
            "['16.12.2016', 'feedback', 'Рассказали друзьям', '', '1']\n",
            "['15.10.2016', 'feedback', 'Нравится', '', '1']\n",
            "['30.09.2016', 'feedback', 'Нравится', '', '1']\n",
            "['25.09.2016', 'feedback', 'Нравится', '', '1']\n",
            "['16.08.2016', 'feedback', 'Нравится', '', '1']\n"
          ],
          "name": "stdout"
        }
      ]
    },
    {
      "cell_type": "markdown",
      "metadata": {
        "id": "efHNnl74NBYb",
        "colab_type": "text"
      },
      "source": [
        "\n",
        "\n",
        "*   Создадаим словарь feedback = [критерий] - [значение].\n",
        "\n",
        "\n"
      ]
    },
    {
      "cell_type": "code",
      "metadata": {
        "id": "c8t2EPXmtWpF",
        "colab_type": "code",
        "outputId": "c386e8e6-35b6-4c27-df94-0d4beabd73c6",
        "colab": {
          "base_uri": "https://localhost:8080/",
          "height": 34
        }
      },
      "source": [
        "import csv\n",
        "\n",
        "feedback = dict()\n",
        "\n",
        "with open('Lab_1_data.stat', 'r') as file:\n",
        "    stat = csv.reader(file)\n",
        "    feedback['Нравится'] = 0\n",
        "    feedback['Комментарии'] = 0\n",
        "    feedback['Рассказали друзьям'] = 0\n",
        "    feedback['Упоминания'] = 0\n",
        "\n",
        "    for line in stat:\n",
        "      if line[0] == \"Дата\":\n",
        "        continue\n",
        "      else:\n",
        "        if line[2] == \"Нравится\":\n",
        "          feedback[str(line[2])] = feedback[str(line[2])] + int(line[4])\n",
        "        elif line[2] == \"Комментарии\":\n",
        "          feedback[str(line[2])] = feedback[str(line[2])] + int(line[4])\n",
        "        elif line[2] == \"Рассказали друзьям\":\n",
        "          feedback[str(line[2])] = feedback[str(line[2])] + int(line[4])\n",
        "        elif line[2] == \"Упоминания\":\n",
        "          feedback[str(line[2])] = feedback[str(line[2])] + int(line[4])\n",
        "        \n",
        "feedback\n"
      ],
      "execution_count": 144,
      "outputs": [
        {
          "output_type": "execute_result",
          "data": {
            "text/plain": [
              "{'Комментарии': 5, 'Нравится': 88, 'Рассказали друзьям': 3, 'Упоминания': 1}"
            ]
          },
          "metadata": {
            "tags": []
          },
          "execution_count": 144
        }
      ]
    },
    {
      "cell_type": "markdown",
      "metadata": {
        "id": "fIazmrBnMfqd",
        "colab_type": "text"
      },
      "source": [
        "\n",
        "\n",
        "*  Построим круговую диаграмму, отображающую данные по обратной связи пользователей.\n",
        "*  Выведем легенду, а также процентные показатели.\n",
        "\n",
        "\n"
      ]
    },
    {
      "cell_type": "code",
      "metadata": {
        "id": "ZddkGW2_t3Lv",
        "colab_type": "code",
        "outputId": "97aaa4d8-b40c-498f-9ffb-ae6f557ce5f2",
        "colab": {
          "base_uri": "https://localhost:8080/",
          "height": 373
        }
      },
      "source": [
        "# Эта программа выводит простую круговую диаграмму.\n",
        "import matplotlib.pyplot as plt\n",
        "%matplotlib inline\n",
        "\n",
        "# Создать список показателей.\n",
        "response = list(feedback.values())\n",
        "all_resps = sum(response)\n",
        "\n",
        "\n",
        "# Создать список меток долей.\n",
        "slice_labels = list(feedback.keys())\n",
        "\n",
        "fig, ax = plt.subplots()\n",
        "fig.set_figwidth(12)    #  ширина Figure\n",
        "fig.set_figheight(6)    #  высота Figure\n",
        "\n",
        "# Создать из этих значений круговую диаграмму.\n",
        "plt.pie(response, autopct='%1.1f%%', pctdistance = 1.2)\n",
        "\n",
        "\n",
        "# Добавить заголовок.\n",
        "plt.title('Анализ обратной связи')\n",
        "\n",
        "plt.legend(title = 'Обратная связь',\n",
        "      loc=\"center left\",\n",
        "      labels=slice_labels,\n",
        "       bbox_to_anchor=(1.2, 0, 0.5, 1))\n",
        "\n",
        "\n",
        "# Показать круговую диаграмму.\n",
        "plt.show()"
      ],
      "execution_count": 78,
      "outputs": [
        {
          "output_type": "display_data",
          "data": {
            "image/png": "[encoded data removed]",
            "text/plain": [
              "<Figure size 864x432 with 1 Axes>"
            ]
          },
          "metadata": {
            "tags": []
          }
        }
      ]
    },
    {
      "cell_type": "markdown",
      "metadata": {
        "id": "_Hi__pd0FsWn",
        "colab_type": "text"
      },
      "source": [
        "**Вывод:** группа демонстрирует слабые показатели обратной связи пользователей.   Так, за 2020 год группу посетили \n",
        "\n",
        "\n",
        "*   print(sum(visitors.values())) = 204\n",
        "*   print(sum(feedback.values())) = 13\n",
        "\n",
        "\n",
        "\n",
        "\n",
        "Если в группе 204 человек и 13 из них активно реагируют на контент — значит, вовлечённых пользователей 15%.\n"
      ]
    },
    {
      "cell_type": "markdown",
      "metadata": {
        "id": "xmKMN42UF4nS",
        "colab_type": "text"
      },
      "source": [
        "# 5. Обосновать, подходит ли данная группа для продвижения нового товара среди активных пользователей из России моложе 30 лет?\n",
        "\n"
      ]
    },
    {
      "cell_type": "markdown",
      "metadata": {
        "id": "4JyBlbiPGC3c",
        "colab_type": "text"
      },
      "source": [
        "Анализ данных показал, что данная группа подходит для продвижения нового товара среди активных пользователей из России моложе 30 лет.\n",
        "\n",
        "*   Во – первых, исходя из анализа демографии пользователи из России являются превалирующей группой участников.\n",
        "\n",
        "*   Во – вторых, группу посещают в основном представители молодого поколения, это возрастные группы: 18 – 21, 21 – 24 и 24 – 27.\n",
        "\n",
        "\n",
        "\n",
        "Однако, следует также отметить, что аудиторию группы преимущественно составляют представители мужского пола – данный показатель в 1,5 – 2 раза превышает показатель женского пола. Основателям сообщества также стоит уделить внимание увеличению количества вовлечённых пользователей, показатель которых на 2019 год составил 15%. Достичь большего результата поможет регулярность публикаций, двусторонняя подача контента (вопросы, конкурсы, хештеги)."
      ]
    }
  ]
}