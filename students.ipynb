{
  "nbformat": 4,
  "nbformat_minor": 0,
  "metadata": {
    "colab": {
      "name": "students.ipynb",
      "provenance": [],
      "authorship_tag": "ABX9TyNcP6Gp4JxAPG/Rt4u96Q7u",
      "include_colab_link": true
    },
    "kernelspec": {
      "name": "python3",
      "display_name": "Python 3"
    }
  },
  "cells": [
    {
      "cell_type": "markdown",
      "metadata": {
        "id": "view-in-github",
        "colab_type": "text"
      },
      "source": [
        "<a href=\"https://colab.research.google.com/github/st064560/my_python/blob/master/students.ipynb\" target=\"_parent\"><img src=\"https://colab.research.google.com/assets/colab-badge.svg\" alt=\"Open In Colab\"/></a>"
      ]
    },
    {
      "cell_type": "code",
      "metadata": {
        "id": "_jjqp7EivLDY",
        "colab_type": "code",
        "colab": {
          "base_uri": "https://localhost:8080/",
          "height": 34
        },
        "outputId": "69166ab3-a3d6-41bc-de81-8248fb401433"
      },
      "source": [
        "## Задание 0\n",
        "import csv\n",
        "\n",
        "lst = list()\n",
        "\n",
        "with open('students.stat', 'r') as file:\n",
        "    data = csv.reader(file)\n",
        "    for line in data:\n",
        "        if line[0] == 'gender':\n",
        "          continue\n",
        "        else:\n",
        "          lst.append(line[0])\n",
        "import collections\n",
        "\n",
        "count = collections.Counter(lst)\n",
        "dict(count)"
      ],
      "execution_count": 2,
      "outputs": [
        {
          "output_type": "execute_result",
          "data": {
            "text/plain": [
              "{'female': 518, 'male': 482}"
            ]
          },
          "metadata": {
            "tags": []
          },
          "execution_count": 2
        }
      ]
    },
    {
      "cell_type": "code",
      "metadata": {
        "id": "wSBKGOmQwYEI",
        "colab_type": "code",
        "colab": {
          "base_uri": "https://localhost:8080/",
          "height": 34
        },
        "outputId": "a7bbf3b1-5007-4b44-fe4e-fd8800c0f9aa"
      },
      "source": [
        "## Задание 1\n",
        "import csv\n",
        "\n",
        "lst = []\n",
        "\n",
        "with open('students.stat', 'r') as file:\n",
        "    data = csv.reader(file)\n",
        "    for line in data:\n",
        "        if line[0] == 'gender':\n",
        "          continue\n",
        "        else:\n",
        "          if line[2] == \"bachelor's degree\":\n",
        "              lst.append(line[2])\n",
        "import collections\n",
        "\n",
        "count = collections.Counter(lst)\n",
        "dict(count)\n",
        "\n",
        "\n"
      ],
      "execution_count": 3,
      "outputs": [
        {
          "output_type": "execute_result",
          "data": {
            "text/plain": [
              "{\"bachelor's degree\": 118}"
            ]
          },
          "metadata": {
            "tags": []
          },
          "execution_count": 3
        }
      ]
    },
    {
      "cell_type": "code",
      "metadata": {
        "id": "wb35C1I7xQ60",
        "colab_type": "code",
        "colab": {
          "base_uri": "https://localhost:8080/",
          "height": 70
        },
        "outputId": "995ffc96-4d9f-4764-ecaa-f960b7c4b80a"
      },
      "source": [
        "# Задание 2\n",
        "\n",
        "import csv\n",
        "\n",
        "lst = list()\n",
        "degree = 0\n",
        "degree_var = dict()\n",
        "\n",
        "with open('students.stat', 'r') as file:\n",
        "    data = csv.reader(file)\n",
        "    for line in data:\n",
        "        if line[0] == 'gender':\n",
        "          continue\n",
        "        else:\n",
        "            lst.append(line[0])\n",
        "\n",
        "        if str(line[2]) == \"bachelor's degree\":\n",
        "            degree +=1\n",
        "        if str(line[2]) in degree_var:\n",
        "            degree_var[str(line[2])] += 1\n",
        "        else:\n",
        "            degree_var[str(line[2])] = 1\n",
        "\n",
        "import collections\n",
        "\n",
        "count = collections.Counter(lst)\n",
        "print(dict(count))\n",
        "print(degree)\n",
        "print(degree_var)\n"
      ],
      "execution_count": 6,
      "outputs": [
        {
          "output_type": "stream",
          "text": [
            "{'female': 518, 'male': 482}\n",
            "118\n",
            "{\"bachelor's degree\": 118, 'some college': 226, \"master's degree\": 59, \"associate's degree\": 222, 'high school': 196, 'some high school': 179}\n"
          ],
          "name": "stdout"
        }
      ]
    }
  ]
}