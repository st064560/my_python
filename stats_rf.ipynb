{
  "nbformat": 4,
  "nbformat_minor": 0,
  "metadata": {
    "colab": {
      "name": "stats_rf.ipynb",
      "provenance": [],
      "authorship_tag": "ABX9TyOAdrz3nioHI2vgSt57VM0+",
      "include_colab_link": true
    },
    "kernelspec": {
      "name": "python3",
      "display_name": "Python 3"
    }
  },
  "cells": [
    {
      "cell_type": "markdown",
      "metadata": {
        "id": "view-in-github",
        "colab_type": "text"
      },
      "source": [
        "<a href=\"https://colab.research.google.com/github/st064560/my_python/blob/master/stats_rf.ipynb\" target=\"_parent\"><img src=\"https://colab.research.google.com/assets/colab-badge.svg\" alt=\"Open In Colab\"/></a>"
      ]
    },
    {
      "cell_type": "code",
      "metadata": {
        "id": "v0vZQ3wEn8rA",
        "colab_type": "code",
        "colab": {}
      },
      "source": [
        "import csv\n",
        "\n",
        "years = dict()\n",
        "with open('razvodi.stat', 'r') as file:\n",
        "     stat = csv.reader(file)\n",
        "     for row in stat:\n",
        "       if row[0] == 'Годы':\n",
        "          continue\n",
        "       else:\n",
        "         years[int(row[0])] = int(row[1])\n",
        "\n",
        "years_2 = dict()\n",
        "with open('braki.stat', 'r') as file:\n",
        "     stat_2 = csv.reader(file)\n",
        "     ## пропускаем первую строку\n",
        "     for row_2 in stat_2:\n",
        "       if row_2[0] == 'Годы':\n",
        "          continue\n",
        "       else:\n",
        "           years_2[int(row_2[0])] = int(row_2[1])\n",
        "           \n"
      ],
      "execution_count": 0,
      "outputs": []
    },
    {
      "cell_type": "code",
      "metadata": {
        "id": "5vowvLVQ0mht",
        "colab_type": "code",
        "colab": {
          "base_uri": "https://localhost:8080/",
          "height": 275
        },
        "outputId": "0b55d1ff-256d-4e7e-c640-043c4fb06f03"
      },
      "source": [
        "import numpy as np\n",
        "\n",
        "import matplotlib.pyplot as plt\n",
        "%matplotlib inline\n",
        "\n",
        "x_coords = list(years.keys())\n",
        "y_coords = list(years.values())\n",
        "x_2_coords = list(years_2.keys())\n",
        "y_2_coords = list(years_2.values())\n",
        "\n",
        "\n",
        "# Построить график.\n",
        "plt.plot(x_coords, y_coords, x_2_coords, y_2_coords)\n",
        "\n",
        "# Показать график.\n",
        "plt.show()"
      ],
      "execution_count": 17,
      "outputs": [
        {
          "output_type": "display_data",
          "data": {
            "image/png": "[encoded data removed]",
            "text/plain": [
              "<Figure size 432x288 with 1 Axes>"
            ]
          },
          "metadata": {
            "tags": []
          }
        }
      ]
    },
    {
      "cell_type": "code",
      "metadata": {
        "id": "FvzY2e3T0tIf",
        "colab_type": "code",
        "colab": {
          "base_uri": "https://localhost:8080/",
          "height": 461
        },
        "outputId": "5d46714b-182b-4efd-8c65-f88cb43f23db"
      },
      "source": [
        "## словарь в порядке возрастания второго значения\n",
        "for i in sorted(years, key=years.get):\n",
        "    print(i, years[i])"
      ],
      "execution_count": 18,
      "outputs": [
        {
          "output_type": "stream",
          "text": [
            "1950 49378\n",
            "1960 184398\n",
            "1970 396589\n",
            "1990 559918\n",
            "1980 580720\n",
            "2018 583942\n",
            "2005 604942\n",
            "2016 608336\n",
            "2017 611436\n",
            "2015 611646\n",
            "2000 627703\n",
            "2004 635835\n",
            "2010 639321\n",
            "2006 640837\n",
            "2012 644101\n",
            "1995 665904\n",
            "2013 667971\n",
            "2011 669376\n",
            "2007 685910\n",
            "2014 693730\n",
            "2009 699430\n",
            "2008 703412\n",
            "2001 763493\n",
            "2003 798824\n",
            "2002 853647\n"
          ],
          "name": "stdout"
        }
      ]
    }
  ]
}