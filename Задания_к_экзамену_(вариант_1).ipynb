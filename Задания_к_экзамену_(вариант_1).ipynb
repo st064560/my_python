{
  "nbformat": 4,
  "nbformat_minor": 0,
  "metadata": {
    "colab": {
      "name": "Задания к экзамену (вариант 1).ipynb",
      "provenance": [],
      "collapsed_sections": [],
      "include_colab_link": true
    },
    "kernelspec": {
      "name": "python3",
      "display_name": "Python 3"
    }
  },
  "cells": [
    {
      "cell_type": "markdown",
      "metadata": {
        "id": "view-in-github",
        "colab_type": "text"
      },
      "source": [
        "<a href=\"https://colab.research.google.com/github/st064560/my_python/blob/master/%D0%97%D0%B0%D0%B4%D0%B0%D0%BD%D0%B8%D1%8F_%D0%BA_%D1%8D%D0%BA%D0%B7%D0%B0%D0%BC%D0%B5%D0%BD%D1%83_(%D0%B2%D0%B0%D1%80%D0%B8%D0%B0%D0%BD%D1%82_1).ipynb\" target=\"_parent\"><img src=\"https://colab.research.google.com/assets/colab-badge.svg\" alt=\"Open In Colab\"/></a>"
      ]
    },
    {
      "cell_type": "markdown",
      "metadata": {
        "id": "lshS1RiKRZ1z",
        "colab_type": "text"
      },
      "source": [
        "**<center>Вариант 1</center>**\n",
        "\n",
        "- Каждое задание оценивается в 5 баллов.\n",
        "- Решение необходимо загрузить в ББ в виде файла в формате ipynb.\n",
        "- Перед отправкой файла в ББ проверьте, что код выполняется корректно и не возникает ошибок. Для этого желательно перед отправкой файла запустить блокнот с решением (Выполнить все) в Google Colab."
      ]
    },
    {
      "cell_type": "markdown",
      "metadata": {
        "id": "hG8MgUxiYPZs",
        "colab_type": "text"
      },
      "source": [
        "**Задание 1.1.** Определите по [данным Кинопоиска](https://raw.githubusercontent.com/dm-fedorov/pandas_basic/master/data/new_year_film.csv) 1) средний рейтинг фильмов и 2) фильм с наибольшим рейтингом (5 баллов)."
      ]
    },
    {
      "cell_type": "code",
      "metadata": {
        "id": "ZwiylyL6JKGn",
        "colab_type": "code",
        "colab": {}
      },
      "source": [
        "# импортируем библиотеки numpy и pandas\n",
        "import numpy as np\n",
        "import pandas as pd\n",
        "\n",
        "# импортируем библиотеку datetime для работы с датами\n",
        "import datetime\n",
        "from datetime import datetime, date\n",
        "\n",
        "# импортируем библиотеку matplotlib для построения графиков\n",
        "import matplotlib.pyplot as plt\n",
        "%matplotlib inline"
      ],
      "execution_count": 93,
      "outputs": []
    },
    {
      "cell_type": "code",
      "metadata": {
        "id": "8QDNPT3hfGSC",
        "colab_type": "code",
        "colab": {
          "base_uri": "https://localhost:8080/",
          "height": 197
        },
        "outputId": "928ad223-8a34-4c43-8424-fbe033639d53"
      },
      "source": [
        "url = 'https://raw.githubusercontent.com/dm-fedorov/pandas_basic/master/data/new_year_film.csv'\n",
        "kino = pd.read_csv(url)\n",
        "kino.head()"
      ],
      "execution_count": 94,
      "outputs": [
        {
          "output_type": "execute_result",
          "data": {
            "text/html": [
              "<div>\n",
              "<style scoped>\n",
              "    .dataframe tbody tr th:only-of-type {\n",
              "        vertical-align: middle;\n",
              "    }\n",
              "\n",
              "    .dataframe tbody tr th {\n",
              "        vertical-align: top;\n",
              "    }\n",
              "\n",
              "    .dataframe thead th {\n",
              "        text-align: right;\n",
              "    }\n",
              "</style>\n",
              "<table border=\"1\" class=\"dataframe\">\n",
              "  <thead>\n",
              "    <tr style=\"text-align: right;\">\n",
              "      <th></th>\n",
              "      <th>name</th>\n",
              "      <th>country</th>\n",
              "      <th>time</th>\n",
              "      <th>ranking</th>\n",
              "      <th>type</th>\n",
              "      <th>year</th>\n",
              "      <th>director</th>\n",
              "    </tr>\n",
              "  </thead>\n",
              "  <tbody>\n",
              "    <tr>\n",
              "      <th>0</th>\n",
              "      <td>Невеста</td>\n",
              "      <td>Россия</td>\n",
              "      <td>74</td>\n",
              "      <td>7,66</td>\n",
              "      <td>фильм</td>\n",
              "      <td>2006</td>\n",
              "      <td>Билли Уайлдер</td>\n",
              "    </tr>\n",
              "    <tr>\n",
              "      <th>1</th>\n",
              "      <td>Кто приходит в зимний вечер</td>\n",
              "      <td>Россия</td>\n",
              "      <td>90</td>\n",
              "      <td>6,038</td>\n",
              "      <td>фильм</td>\n",
              "      <td>2006</td>\n",
              "      <td>Билли Уайлдер</td>\n",
              "    </tr>\n",
              "    <tr>\n",
              "      <th>2</th>\n",
              "      <td>Моя мама Снегурочка</td>\n",
              "      <td>Россия</td>\n",
              "      <td>90</td>\n",
              "      <td>6,828</td>\n",
              "      <td>фильм</td>\n",
              "      <td>2007</td>\n",
              "      <td>Билли Уайлдер</td>\n",
              "    </tr>\n",
              "    <tr>\n",
              "      <th>3</th>\n",
              "      <td>Набережная Орфевр</td>\n",
              "      <td>Франция</td>\n",
              "      <td>106</td>\n",
              "      <td>7,597</td>\n",
              "      <td>фильм</td>\n",
              "      <td>1947</td>\n",
              "      <td>Билли Уайлдер</td>\n",
              "    </tr>\n",
              "    <tr>\n",
              "      <th>4</th>\n",
              "      <td>Лузер</td>\n",
              "      <td>Россия</td>\n",
              "      <td>104</td>\n",
              "      <td>6,065</td>\n",
              "      <td>фильм</td>\n",
              "      <td>2007</td>\n",
              "      <td>Билли Уайлдер</td>\n",
              "    </tr>\n",
              "  </tbody>\n",
              "</table>\n",
              "</div>"
            ],
            "text/plain": [
              "                          name  country  time  ...   type  year       director\n",
              "0                      Невеста   Россия    74  ...  фильм  2006  Билли Уайлдер\n",
              "1  Кто приходит в зимний вечер   Россия    90  ...  фильм  2006  Билли Уайлдер\n",
              "2          Моя мама Снегурочка   Россия    90  ...  фильм  2007  Билли Уайлдер\n",
              "3            Набережная Орфевр  Франция   106  ...  фильм  1947  Билли Уайлдер\n",
              "4                       Лузер    Россия   104  ...  фильм  2007  Билли Уайлдер\n",
              "\n",
              "[5 rows x 7 columns]"
            ]
          },
          "metadata": {
            "tags": []
          },
          "execution_count": 94
        }
      ]
    },
    {
      "cell_type": "code",
      "metadata": {
        "id": "lQPvZq_Hfjdf",
        "colab_type": "code",
        "colab": {
          "base_uri": "https://localhost:8080/",
          "height": 230
        },
        "outputId": "eebb6ef7-dadd-49d7-d015-433856f3e47d"
      },
      "source": [
        "kino['ranking'] = kino['ranking'].str.replace(',','.')\n",
        "kino.ranking"
      ],
      "execution_count": 95,
      "outputs": [
        {
          "output_type": "execute_result",
          "data": {
            "text/plain": [
              "0       7.66\n",
              "1      6.038\n",
              "2      6.828\n",
              "3      7.597\n",
              "4      6.065\n",
              "       ...  \n",
              "145    7.929\n",
              "146    8.021\n",
              "147     7.94\n",
              "148    8.049\n",
              "149    6.814\n",
              "Name: ranking, Length: 150, dtype: object"
            ]
          },
          "metadata": {
            "tags": []
          },
          "execution_count": 95
        }
      ]
    },
    {
      "cell_type": "code",
      "metadata": {
        "id": "DXywoQXRfo8i",
        "colab_type": "code",
        "colab": {
          "base_uri": "https://localhost:8080/",
          "height": 34
        },
        "outputId": "64ce721a-f426-4b47-aa2e-5f66ca5eec5b"
      },
      "source": [
        "kino['ranking'] = pd.to_numeric(kino['ranking'])\n",
        "round(kino.ranking.mean(), 2)"
      ],
      "execution_count": 96,
      "outputs": [
        {
          "output_type": "execute_result",
          "data": {
            "text/plain": [
              "7.22"
            ]
          },
          "metadata": {
            "tags": []
          },
          "execution_count": 96
        }
      ]
    },
    {
      "cell_type": "code",
      "metadata": {
        "id": "-9SCvohqf6NJ",
        "colab_type": "code",
        "colab": {
          "base_uri": "https://localhost:8080/",
          "height": 34
        },
        "outputId": "18139477-4dd1-4e8d-f02d-d4b346bf2ef8"
      },
      "source": [
        "kino.ranking.max()"
      ],
      "execution_count": 97,
      "outputs": [
        {
          "output_type": "execute_result",
          "data": {
            "text/plain": [
              "8.776"
            ]
          },
          "metadata": {
            "tags": []
          },
          "execution_count": 97
        }
      ]
    },
    {
      "cell_type": "code",
      "metadata": {
        "id": "5E3w-kkVhBeU",
        "colab_type": "code",
        "colab": {
          "base_uri": "https://localhost:8080/",
          "height": 77
        },
        "outputId": "222dbede-9016-46b9-8837-3ebcbe234a4c"
      },
      "source": [
        "kino[kino.ranking == kino.ranking.max()]"
      ],
      "execution_count": 98,
      "outputs": [
        {
          "output_type": "execute_result",
          "data": {
            "text/html": [
              "<div>\n",
              "<style scoped>\n",
              "    .dataframe tbody tr th:only-of-type {\n",
              "        vertical-align: middle;\n",
              "    }\n",
              "\n",
              "    .dataframe tbody tr th {\n",
              "        vertical-align: top;\n",
              "    }\n",
              "\n",
              "    .dataframe thead th {\n",
              "        text-align: right;\n",
              "    }\n",
              "</style>\n",
              "<table border=\"1\" class=\"dataframe\">\n",
              "  <thead>\n",
              "    <tr style=\"text-align: right;\">\n",
              "      <th></th>\n",
              "      <th>name</th>\n",
              "      <th>country</th>\n",
              "      <th>time</th>\n",
              "      <th>ranking</th>\n",
              "      <th>type</th>\n",
              "      <th>year</th>\n",
              "      <th>director</th>\n",
              "    </tr>\n",
              "  </thead>\n",
              "  <tbody>\n",
              "    <tr>\n",
              "      <th>136</th>\n",
              "      <td>Зима в Простоквашино</td>\n",
              "      <td>СССР</td>\n",
              "      <td>15</td>\n",
              "      <td>8.776</td>\n",
              "      <td>мультфильм</td>\n",
              "      <td>1984</td>\n",
              "      <td>NaN</td>\n",
              "    </tr>\n",
              "  </tbody>\n",
              "</table>\n",
              "</div>"
            ],
            "text/plain": [
              "                     name country  time  ranking        type  year director\n",
              "136  Зима в Простоквашино    СССР    15    8.776  мультфильм  1984      NaN"
            ]
          },
          "metadata": {
            "tags": []
          },
          "execution_count": 98
        }
      ]
    },
    {
      "cell_type": "markdown",
      "metadata": {
        "id": "9eeHF71DYTKI",
        "colab_type": "text"
      },
      "source": [
        "**Задание 1.2.** Определите по [данным Яндекс-метрики](https://raw.githubusercontent.com/dm-fedorov/pandas_basic/master/data/data_stat/yandex-stat-q.csv) статистику распределения поисковых систем. Сохраните итоговый документ в формате Excel. Постройте график (5 баллов).\n"
      ]
    },
    {
      "cell_type": "code",
      "metadata": {
        "id": "u9cVcEhBJKr_",
        "colab_type": "code",
        "colab": {
          "base_uri": "https://localhost:8080/",
          "height": 197
        },
        "outputId": "a8b84ead-2851-4621-cc66-7ee5d2e3bbf2"
      },
      "source": [
        "import pandas as pd\n",
        "\n",
        "url = \"https://raw.githubusercontent.com/dm-fedorov/pandas_basic/master/data/data_stat/yandex-stat-q.csv\"\n",
        "\n",
        "df = pd.read_csv(url)\n",
        "df.head()"
      ],
      "execution_count": 99,
      "outputs": [
        {
          "output_type": "execute_result",
          "data": {
            "text/html": [
              "<div>\n",
              "<style scoped>\n",
              "    .dataframe tbody tr th:only-of-type {\n",
              "        vertical-align: middle;\n",
              "    }\n",
              "\n",
              "    .dataframe tbody tr th {\n",
              "        vertical-align: top;\n",
              "    }\n",
              "\n",
              "    .dataframe thead th {\n",
              "        text-align: right;\n",
              "    }\n",
              "</style>\n",
              "<table border=\"1\" class=\"dataframe\">\n",
              "  <thead>\n",
              "    <tr style=\"text-align: right;\">\n",
              "      <th></th>\n",
              "      <th>Поисковая фраза</th>\n",
              "      <th>Поисковая система</th>\n",
              "      <th>Визиты</th>\n",
              "      <th>Посетители</th>\n",
              "      <th>Отказы</th>\n",
              "      <th>Глубина просмотра</th>\n",
              "      <th>Время на сайте</th>\n",
              "    </tr>\n",
              "  </thead>\n",
              "  <tbody>\n",
              "    <tr>\n",
              "      <th>0</th>\n",
              "      <td>Итого и средние</td>\n",
              "      <td>NaN</td>\n",
              "      <td>72394</td>\n",
              "      <td>57803</td>\n",
              "      <td>0.120328</td>\n",
              "      <td>1.298934</td>\n",
              "      <td>00:01:18</td>\n",
              "    </tr>\n",
              "    <tr>\n",
              "      <th>1</th>\n",
              "      <td>pycode.ru</td>\n",
              "      <td>Яндекс</td>\n",
              "      <td>2068</td>\n",
              "      <td>1225</td>\n",
              "      <td>0.093810</td>\n",
              "      <td>1.674565</td>\n",
              "      <td>00:01:38</td>\n",
              "    </tr>\n",
              "    <tr>\n",
              "      <th>2</th>\n",
              "      <td>холопов алексей васильевич</td>\n",
              "      <td>Яндекс</td>\n",
              "      <td>1240</td>\n",
              "      <td>467</td>\n",
              "      <td>0.082258</td>\n",
              "      <td>1.941129</td>\n",
              "      <td>00:03:53</td>\n",
              "    </tr>\n",
              "    <tr>\n",
              "      <th>3</th>\n",
              "      <td>золотое правило дидактики</td>\n",
              "      <td>Яндекс</td>\n",
              "      <td>778</td>\n",
              "      <td>751</td>\n",
              "      <td>0.082262</td>\n",
              "      <td>1.087404</td>\n",
              "      <td>00:00:41</td>\n",
              "    </tr>\n",
              "    <tr>\n",
              "      <th>4</th>\n",
              "      <td>золотое правило дидактики я.а коменского</td>\n",
              "      <td>Яндекс</td>\n",
              "      <td>743</td>\n",
              "      <td>724</td>\n",
              "      <td>0.068641</td>\n",
              "      <td>1.044415</td>\n",
              "      <td>00:00:31</td>\n",
              "    </tr>\n",
              "  </tbody>\n",
              "</table>\n",
              "</div>"
            ],
            "text/plain": [
              "                            Поисковая фраза  ... Время на сайте\n",
              "0                           Итого и средние  ...       00:01:18\n",
              "1                                 pycode.ru  ...       00:01:38\n",
              "2                холопов алексей васильевич  ...       00:03:53\n",
              "3                 золотое правило дидактики  ...       00:00:41\n",
              "4  золотое правило дидактики я.а коменского  ...       00:00:31\n",
              "\n",
              "[5 rows x 7 columns]"
            ]
          },
          "metadata": {
            "tags": []
          },
          "execution_count": 99
        }
      ]
    },
    {
      "cell_type": "code",
      "metadata": {
        "id": "6U8bVcHbh1J3",
        "colab_type": "code",
        "colab": {
          "base_uri": "https://localhost:8080/",
          "height": 406
        },
        "outputId": "58cae018-493c-4b02-e02a-933d752f6133"
      },
      "source": [
        "df.dropna()"
      ],
      "execution_count": 100,
      "outputs": [
        {
          "output_type": "execute_result",
          "data": {
            "text/html": [
              "<div>\n",
              "<style scoped>\n",
              "    .dataframe tbody tr th:only-of-type {\n",
              "        vertical-align: middle;\n",
              "    }\n",
              "\n",
              "    .dataframe tbody tr th {\n",
              "        vertical-align: top;\n",
              "    }\n",
              "\n",
              "    .dataframe thead th {\n",
              "        text-align: right;\n",
              "    }\n",
              "</style>\n",
              "<table border=\"1\" class=\"dataframe\">\n",
              "  <thead>\n",
              "    <tr style=\"text-align: right;\">\n",
              "      <th></th>\n",
              "      <th>Поисковая фраза</th>\n",
              "      <th>Поисковая система</th>\n",
              "      <th>Визиты</th>\n",
              "      <th>Посетители</th>\n",
              "      <th>Отказы</th>\n",
              "      <th>Глубина просмотра</th>\n",
              "      <th>Время на сайте</th>\n",
              "    </tr>\n",
              "  </thead>\n",
              "  <tbody>\n",
              "    <tr>\n",
              "      <th>1</th>\n",
              "      <td>pycode.ru</td>\n",
              "      <td>Яндекс</td>\n",
              "      <td>2068</td>\n",
              "      <td>1225</td>\n",
              "      <td>0.093810</td>\n",
              "      <td>1.674565</td>\n",
              "      <td>00:01:38</td>\n",
              "    </tr>\n",
              "    <tr>\n",
              "      <th>2</th>\n",
              "      <td>холопов алексей васильевич</td>\n",
              "      <td>Яндекс</td>\n",
              "      <td>1240</td>\n",
              "      <td>467</td>\n",
              "      <td>0.082258</td>\n",
              "      <td>1.941129</td>\n",
              "      <td>00:03:53</td>\n",
              "    </tr>\n",
              "    <tr>\n",
              "      <th>3</th>\n",
              "      <td>золотое правило дидактики</td>\n",
              "      <td>Яндекс</td>\n",
              "      <td>778</td>\n",
              "      <td>751</td>\n",
              "      <td>0.082262</td>\n",
              "      <td>1.087404</td>\n",
              "      <td>00:00:41</td>\n",
              "    </tr>\n",
              "    <tr>\n",
              "      <th>4</th>\n",
              "      <td>золотое правило дидактики я.а коменского</td>\n",
              "      <td>Яндекс</td>\n",
              "      <td>743</td>\n",
              "      <td>724</td>\n",
              "      <td>0.068641</td>\n",
              "      <td>1.044415</td>\n",
              "      <td>00:00:31</td>\n",
              "    </tr>\n",
              "    <tr>\n",
              "      <th>5</th>\n",
              "      <td>как писать тезисы к исследовательской работе</td>\n",
              "      <td>Яндекс</td>\n",
              "      <td>741</td>\n",
              "      <td>614</td>\n",
              "      <td>0.025641</td>\n",
              "      <td>1.148448</td>\n",
              "      <td>00:01:25</td>\n",
              "    </tr>\n",
              "    <tr>\n",
              "      <th>...</th>\n",
              "      <td>...</td>\n",
              "      <td>...</td>\n",
              "      <td>...</td>\n",
              "      <td>...</td>\n",
              "      <td>...</td>\n",
              "      <td>...</td>\n",
              "      <td>...</td>\n",
              "    </tr>\n",
              "    <tr>\n",
              "      <th>33784</th>\n",
              "      <td> тезисы доклада в сборнике конференции на тем...</td>\n",
              "      <td>Яндекс</td>\n",
              "      <td>1</td>\n",
              "      <td>1</td>\n",
              "      <td>0.000000</td>\n",
              "      <td>1.000000</td>\n",
              "      <td>00:00:14</td>\n",
              "    </tr>\n",
              "    <tr>\n",
              "      <th>33785</th>\n",
              "      <td> структурированные тезисы (введение, цель, ма...</td>\n",
              "      <td>Яндекс</td>\n",
              "      <td>1</td>\n",
              "      <td>1</td>\n",
              "      <td>0.000000</td>\n",
              "      <td>2.000000</td>\n",
              "      <td>00:03:15</td>\n",
              "    </tr>\n",
              "    <tr>\n",
              "      <th>33786</th>\n",
              "      <td> в чем проявляются различия между «прикладной...</td>\n",
              "      <td>Яндекс</td>\n",
              "      <td>1</td>\n",
              "      <td>1</td>\n",
              "      <td>0.000000</td>\n",
              "      <td>1.000000</td>\n",
              "      <td>00:00:15</td>\n",
              "    </tr>\n",
              "    <tr>\n",
              "      <th>33787</th>\n",
              "      <td> преимущества метода кейс-стади (метод кейсов)</td>\n",
              "      <td>Яндекс</td>\n",
              "      <td>1</td>\n",
              "      <td>1</td>\n",
              "      <td>0.000000</td>\n",
              "      <td>2.000000</td>\n",
              "      <td>00:12:18</td>\n",
              "    </tr>\n",
              "    <tr>\n",
              "      <th>33788</th>\n",
              "      <td>﻿понятие безопасности в классической и совреме...</td>\n",
              "      <td>Яндекс</td>\n",
              "      <td>1</td>\n",
              "      <td>1</td>\n",
              "      <td>0.000000</td>\n",
              "      <td>1.000000</td>\n",
              "      <td>00:00:13</td>\n",
              "    </tr>\n",
              "  </tbody>\n",
              "</table>\n",
              "<p>33788 rows × 7 columns</p>\n",
              "</div>"
            ],
            "text/plain": [
              "                                         Поисковая фраза  ... Время на сайте\n",
              "1                                              pycode.ru  ...       00:01:38\n",
              "2                             холопов алексей васильевич  ...       00:03:53\n",
              "3                              золотое правило дидактики  ...       00:00:41\n",
              "4               золотое правило дидактики я.а коменского  ...       00:00:31\n",
              "5           как писать тезисы к исследовательской работе  ...       00:01:25\n",
              "...                                                  ...  ...            ...\n",
              "33784   тезисы доклада в сборнике конференции на тем...  ...       00:00:14\n",
              "33785   структурированные тезисы (введение, цель, ма...  ...       00:03:15\n",
              "33786   в чем проявляются различия между «прикладной...  ...       00:00:15\n",
              "33787     преимущества метода кейс-стади (метод кейсов)  ...       00:12:18\n",
              "33788  ﻿понятие безопасности в классической и совреме...  ...       00:00:13\n",
              "\n",
              "[33788 rows x 7 columns]"
            ]
          },
          "metadata": {
            "tags": []
          },
          "execution_count": 100
        }
      ]
    },
    {
      "cell_type": "code",
      "metadata": {
        "id": "963gqOU2h_UN",
        "colab_type": "code",
        "colab": {
          "base_uri": "https://localhost:8080/",
          "height": 70
        },
        "outputId": "5074a472-836c-4faa-d012-5792e9bfbe76"
      },
      "source": [
        "df['Поисковая система'].unique()"
      ],
      "execution_count": 101,
      "outputs": [
        {
          "output_type": "execute_result",
          "data": {
            "text/plain": [
              "array([nan, 'Яндекс', 'Google', 'Bing', 'Rambler', 'Skydns', 'Mail.ru',\n",
              "       'Tut.by', 'Yahoo!', 'Ask.com', 'Baidu', 'Nigma', 'Спутник', 'I.ua',\n",
              "       'hi.ru', 'Poisk.ru', 'plusnetwork.com'], dtype=object)"
            ]
          },
          "metadata": {
            "tags": []
          },
          "execution_count": 101
        }
      ]
    },
    {
      "cell_type": "code",
      "metadata": {
        "id": "hAtLVlTyklnS",
        "colab_type": "code",
        "colab": {
          "base_uri": "https://localhost:8080/",
          "height": 557
        },
        "outputId": "a1d16861-a0f9-4534-edb4-6882a6b25d1e"
      },
      "source": [
        "m = df['Поисковая система'].value_counts()\n",
        "m_df = m.reset_index()\n",
        "m_df = m_df.set_index(['index'])\n",
        "m_df\n"
      ],
      "execution_count": 102,
      "outputs": [
        {
          "output_type": "execute_result",
          "data": {
            "text/html": [
              "<div>\n",
              "<style scoped>\n",
              "    .dataframe tbody tr th:only-of-type {\n",
              "        vertical-align: middle;\n",
              "    }\n",
              "\n",
              "    .dataframe tbody tr th {\n",
              "        vertical-align: top;\n",
              "    }\n",
              "\n",
              "    .dataframe thead th {\n",
              "        text-align: right;\n",
              "    }\n",
              "</style>\n",
              "<table border=\"1\" class=\"dataframe\">\n",
              "  <thead>\n",
              "    <tr style=\"text-align: right;\">\n",
              "      <th></th>\n",
              "      <th>Поисковая система</th>\n",
              "    </tr>\n",
              "    <tr>\n",
              "      <th>index</th>\n",
              "      <th></th>\n",
              "    </tr>\n",
              "  </thead>\n",
              "  <tbody>\n",
              "    <tr>\n",
              "      <th>Яндекс</th>\n",
              "      <td>32603</td>\n",
              "    </tr>\n",
              "    <tr>\n",
              "      <th>Google</th>\n",
              "      <td>420</td>\n",
              "    </tr>\n",
              "    <tr>\n",
              "      <th>Mail.ru</th>\n",
              "      <td>276</td>\n",
              "    </tr>\n",
              "    <tr>\n",
              "      <th>Bing</th>\n",
              "      <td>185</td>\n",
              "    </tr>\n",
              "    <tr>\n",
              "      <th>Rambler</th>\n",
              "      <td>169</td>\n",
              "    </tr>\n",
              "    <tr>\n",
              "      <th>Skydns</th>\n",
              "      <td>71</td>\n",
              "    </tr>\n",
              "    <tr>\n",
              "      <th>Ask.com</th>\n",
              "      <td>29</td>\n",
              "    </tr>\n",
              "    <tr>\n",
              "      <th>Tut.by</th>\n",
              "      <td>12</td>\n",
              "    </tr>\n",
              "    <tr>\n",
              "      <th>Nigma</th>\n",
              "      <td>11</td>\n",
              "    </tr>\n",
              "    <tr>\n",
              "      <th>Yahoo!</th>\n",
              "      <td>3</td>\n",
              "    </tr>\n",
              "    <tr>\n",
              "      <th>hi.ru</th>\n",
              "      <td>3</td>\n",
              "    </tr>\n",
              "    <tr>\n",
              "      <th>plusnetwork.com</th>\n",
              "      <td>2</td>\n",
              "    </tr>\n",
              "    <tr>\n",
              "      <th>Baidu</th>\n",
              "      <td>1</td>\n",
              "    </tr>\n",
              "    <tr>\n",
              "      <th>Poisk.ru</th>\n",
              "      <td>1</td>\n",
              "    </tr>\n",
              "    <tr>\n",
              "      <th>Спутник</th>\n",
              "      <td>1</td>\n",
              "    </tr>\n",
              "    <tr>\n",
              "      <th>I.ua</th>\n",
              "      <td>1</td>\n",
              "    </tr>\n",
              "  </tbody>\n",
              "</table>\n",
              "</div>"
            ],
            "text/plain": [
              "                 Поисковая система\n",
              "index                             \n",
              "Яндекс                       32603\n",
              "Google                         420\n",
              "Mail.ru                        276\n",
              "Bing                           185\n",
              "Rambler                        169\n",
              "Skydns                          71\n",
              "Ask.com                         29\n",
              "Tut.by                          12\n",
              "Nigma                           11\n",
              "Yahoo!                           3\n",
              "hi.ru                            3\n",
              "plusnetwork.com                  2\n",
              "Baidu                            1\n",
              "Poisk.ru                         1\n",
              "Спутник                          1\n",
              "I.ua                             1"
            ]
          },
          "metadata": {
            "tags": []
          },
          "execution_count": 102
        }
      ]
    },
    {
      "cell_type": "markdown",
      "metadata": {
        "id": "KLR6HokOmD8c",
        "colab_type": "text"
      },
      "source": [
        "На представленном графике видно, что наиболее популярной поисковой системой для данной страницы является Яндекс."
      ]
    },
    {
      "cell_type": "code",
      "metadata": {
        "id": "RoxnVyqxlDb-",
        "colab_type": "code",
        "colab": {
          "base_uri": "https://localhost:8080/",
          "height": 372
        },
        "outputId": "7f9759cf-20cc-47a7-dadb-98f8f56aca6a"
      },
      "source": [
        "m_df.plot.bar()"
      ],
      "execution_count": 103,
      "outputs": [
        {
          "output_type": "execute_result",
          "data": {
            "text/plain": [
              "<matplotlib.axes._subplots.AxesSubplot at 0x7f791170d9b0>"
            ]
          },
          "metadata": {
            "tags": []
          },
          "execution_count": 103
        },
        {
          "output_type": "display_data",
          "data": {
            "image/png": "[encoded data removed]",
            "text/plain": [
              "<Figure size 432x288 with 1 Axes>"
            ]
          },
          "metadata": {
            "tags": [],
            "needs_background": "light"
          }
        }
      ]
    },
    {
      "cell_type": "code",
      "metadata": {
        "id": "nTvPldSGkuWZ",
        "colab_type": "code",
        "colab": {}
      },
      "source": [
        "df.to_excel('Statistics.xlsx')"
      ],
      "execution_count": 104,
      "outputs": []
    },
    {
      "cell_type": "markdown",
      "metadata": {
        "id": "-_xLTWRnWJlL",
        "colab_type": "text"
      },
      "source": [
        "**Задание 2.1.** По [данным](https://raw.githubusercontent.com/dm-fedorov/pandas_basic/master/data/deputat.csv) определите средний возраст депутатов (5 баллов).\n",
        "\n"
      ]
    },
    {
      "cell_type": "code",
      "metadata": {
        "id": "bfhDnuZBJLEZ",
        "colab_type": "code",
        "colab": {
          "base_uri": "https://localhost:8080/",
          "height": 197
        },
        "outputId": "831ac88c-9c92-4330-f221-47a2b2750368"
      },
      "source": [
        "import pandas as pd\n",
        "\n",
        "url = \"https://raw.githubusercontent.com/dm-fedorov/pandas_basic/master/data/deputat.csv\"\n",
        "df_1 = pd.read_csv(url)\n",
        "df_1.head()"
      ],
      "execution_count": 106,
      "outputs": [
        {
          "output_type": "execute_result",
          "data": {
            "text/html": [
              "<div>\n",
              "<style scoped>\n",
              "    .dataframe tbody tr th:only-of-type {\n",
              "        vertical-align: middle;\n",
              "    }\n",
              "\n",
              "    .dataframe tbody tr th {\n",
              "        vertical-align: top;\n",
              "    }\n",
              "\n",
              "    .dataframe thead th {\n",
              "        text-align: right;\n",
              "    }\n",
              "</style>\n",
              "<table border=\"1\" class=\"dataframe\">\n",
              "  <thead>\n",
              "    <tr style=\"text-align: right;\">\n",
              "      <th></th>\n",
              "      <th>name</th>\n",
              "      <th>lastname</th>\n",
              "      <th>otchestvo</th>\n",
              "      <th>gender</th>\n",
              "      <th>birthdate</th>\n",
              "      <th>start</th>\n",
              "      <th>end</th>\n",
              "      <th>district</th>\n",
              "    </tr>\n",
              "  </thead>\n",
              "  <tbody>\n",
              "    <tr>\n",
              "      <th>0</th>\n",
              "      <td>Ефимов</td>\n",
              "      <td>Виталий</td>\n",
              "      <td>Борисович</td>\n",
              "      <td>м</td>\n",
              "      <td>04.04.1940</td>\n",
              "      <td>18.09.2016</td>\n",
              "      <td>NaN</td>\n",
              "      <td>Мордовский</td>\n",
              "    </tr>\n",
              "    <tr>\n",
              "      <th>1</th>\n",
              "      <td>Максимова</td>\n",
              "      <td>Надежда</td>\n",
              "      <td>Сергеевна</td>\n",
              "      <td>ж</td>\n",
              "      <td>13.01.1942</td>\n",
              "      <td>18.09.2016</td>\n",
              "      <td>NaN</td>\n",
              "      <td>Хакасский</td>\n",
              "    </tr>\n",
              "    <tr>\n",
              "      <th>2</th>\n",
              "      <td>Мищеряков</td>\n",
              "      <td>Юрий</td>\n",
              "      <td>Николаевич</td>\n",
              "      <td>м</td>\n",
              "      <td>01.01.1945</td>\n",
              "      <td>18.09.2016</td>\n",
              "      <td>NaN</td>\n",
              "      <td>Оренбургский</td>\n",
              "    </tr>\n",
              "    <tr>\n",
              "      <th>3</th>\n",
              "      <td>Борцов</td>\n",
              "      <td>Николай</td>\n",
              "      <td>Иванович</td>\n",
              "      <td>м</td>\n",
              "      <td>08.09.1945</td>\n",
              "      <td>18.09.2016</td>\n",
              "      <td>NaN</td>\n",
              "      <td>Липецкий</td>\n",
              "    </tr>\n",
              "    <tr>\n",
              "      <th>4</th>\n",
              "      <td>Гончар</td>\n",
              "      <td>Николай</td>\n",
              "      <td>Николаевич</td>\n",
              "      <td>м</td>\n",
              "      <td>18.10.1946</td>\n",
              "      <td>18.09.2016</td>\n",
              "      <td>NaN</td>\n",
              "      <td>Центральный</td>\n",
              "    </tr>\n",
              "  </tbody>\n",
              "</table>\n",
              "</div>"
            ],
            "text/plain": [
              "        name lastname   otchestvo  ...       start  end      district\n",
              "0     Ефимов  Виталий   Борисович  ...  18.09.2016  NaN    Мордовский\n",
              "1  Максимова  Надежда   Сергеевна  ...  18.09.2016  NaN     Хакасский\n",
              "2  Мищеряков     Юрий  Николаевич  ...  18.09.2016  NaN  Оренбургский\n",
              "3     Борцов  Николай    Иванович  ...  18.09.2016  NaN      Липецкий\n",
              "4     Гончар  Николай  Николаевич  ...  18.09.2016  NaN   Центральный\n",
              "\n",
              "[5 rows x 8 columns]"
            ]
          },
          "metadata": {
            "tags": []
          },
          "execution_count": 106
        }
      ]
    },
    {
      "cell_type": "code",
      "metadata": {
        "id": "7oPuySYii9_k",
        "colab_type": "code",
        "colab": {
          "base_uri": "https://localhost:8080/",
          "height": 283
        },
        "outputId": "32f8b75c-21d2-4ce1-832f-8a1897693eb0"
      },
      "source": [
        "df_1.info()"
      ],
      "execution_count": 107,
      "outputs": [
        {
          "output_type": "stream",
          "text": [
            "<class 'pandas.core.frame.DataFrame'>\n",
            "RangeIndex: 211 entries, 0 to 210\n",
            "Data columns (total 8 columns):\n",
            " #   Column     Non-Null Count  Dtype \n",
            "---  ------     --------------  ----- \n",
            " 0   name       211 non-null    object\n",
            " 1   lastname   211 non-null    object\n",
            " 2   otchestvo  211 non-null    object\n",
            " 3   gender     211 non-null    object\n",
            " 4   birthdate  211 non-null    object\n",
            " 5   start      211 non-null    object\n",
            " 6   end        12 non-null     object\n",
            " 7   district   211 non-null    object\n",
            "dtypes: object(8)\n",
            "memory usage: 13.3+ KB\n"
          ],
          "name": "stdout"
        }
      ]
    },
    {
      "cell_type": "code",
      "metadata": {
        "id": "WHgi8Shqjbiq",
        "colab_type": "code",
        "colab": {
          "base_uri": "https://localhost:8080/",
          "height": 406
        },
        "outputId": "8b279e0b-045e-45dd-8e95-035dbe743018"
      },
      "source": [
        "df_1 = df_1.rename(columns = {'birdhdate': 'birthdate'})\n",
        "df_1"
      ],
      "execution_count": 108,
      "outputs": [
        {
          "output_type": "execute_result",
          "data": {
            "text/html": [
              "<div>\n",
              "<style scoped>\n",
              "    .dataframe tbody tr th:only-of-type {\n",
              "        vertical-align: middle;\n",
              "    }\n",
              "\n",
              "    .dataframe tbody tr th {\n",
              "        vertical-align: top;\n",
              "    }\n",
              "\n",
              "    .dataframe thead th {\n",
              "        text-align: right;\n",
              "    }\n",
              "</style>\n",
              "<table border=\"1\" class=\"dataframe\">\n",
              "  <thead>\n",
              "    <tr style=\"text-align: right;\">\n",
              "      <th></th>\n",
              "      <th>name</th>\n",
              "      <th>lastname</th>\n",
              "      <th>otchestvo</th>\n",
              "      <th>gender</th>\n",
              "      <th>birthdate</th>\n",
              "      <th>start</th>\n",
              "      <th>end</th>\n",
              "      <th>district</th>\n",
              "    </tr>\n",
              "  </thead>\n",
              "  <tbody>\n",
              "    <tr>\n",
              "      <th>0</th>\n",
              "      <td>Ефимов</td>\n",
              "      <td>Виталий</td>\n",
              "      <td>Борисович</td>\n",
              "      <td>м</td>\n",
              "      <td>04.04.1940</td>\n",
              "      <td>18.09.2016</td>\n",
              "      <td>NaN</td>\n",
              "      <td>Мордовский</td>\n",
              "    </tr>\n",
              "    <tr>\n",
              "      <th>1</th>\n",
              "      <td>Максимова</td>\n",
              "      <td>Надежда</td>\n",
              "      <td>Сергеевна</td>\n",
              "      <td>ж</td>\n",
              "      <td>13.01.1942</td>\n",
              "      <td>18.09.2016</td>\n",
              "      <td>NaN</td>\n",
              "      <td>Хакасский</td>\n",
              "    </tr>\n",
              "    <tr>\n",
              "      <th>2</th>\n",
              "      <td>Мищеряков</td>\n",
              "      <td>Юрий</td>\n",
              "      <td>Николаевич</td>\n",
              "      <td>м</td>\n",
              "      <td>01.01.1945</td>\n",
              "      <td>18.09.2016</td>\n",
              "      <td>NaN</td>\n",
              "      <td>Оренбургский</td>\n",
              "    </tr>\n",
              "    <tr>\n",
              "      <th>3</th>\n",
              "      <td>Борцов</td>\n",
              "      <td>Николай</td>\n",
              "      <td>Иванович</td>\n",
              "      <td>м</td>\n",
              "      <td>08.09.1945</td>\n",
              "      <td>18.09.2016</td>\n",
              "      <td>NaN</td>\n",
              "      <td>Липецкий</td>\n",
              "    </tr>\n",
              "    <tr>\n",
              "      <th>4</th>\n",
              "      <td>Гончар</td>\n",
              "      <td>Николай</td>\n",
              "      <td>Николаевич</td>\n",
              "      <td>м</td>\n",
              "      <td>18.10.1946</td>\n",
              "      <td>18.09.2016</td>\n",
              "      <td>NaN</td>\n",
              "      <td>Центральный</td>\n",
              "    </tr>\n",
              "    <tr>\n",
              "      <th>...</th>\n",
              "      <td>...</td>\n",
              "      <td>...</td>\n",
              "      <td>...</td>\n",
              "      <td>...</td>\n",
              "      <td>...</td>\n",
              "      <td>...</td>\n",
              "      <td>...</td>\n",
              "      <td>...</td>\n",
              "    </tr>\n",
              "    <tr>\n",
              "      <th>206</th>\n",
              "      <td>Федяев</td>\n",
              "      <td>Павел</td>\n",
              "      <td>Михайлович</td>\n",
              "      <td>м</td>\n",
              "      <td>31.07.1982</td>\n",
              "      <td>18.09.2016</td>\n",
              "      <td>NaN</td>\n",
              "      <td>Заводский</td>\n",
              "    </tr>\n",
              "    <tr>\n",
              "      <th>207</th>\n",
              "      <td>Романов</td>\n",
              "      <td>Михаил</td>\n",
              "      <td>Валентинович</td>\n",
              "      <td>м</td>\n",
              "      <td>03.11.1984</td>\n",
              "      <td>18.09.2016</td>\n",
              "      <td>NaN</td>\n",
              "      <td>Юго-Восточный</td>\n",
              "    </tr>\n",
              "    <tr>\n",
              "      <th>208</th>\n",
              "      <td>Грибов</td>\n",
              "      <td>Александр</td>\n",
              "      <td>Сергеевич</td>\n",
              "      <td>м</td>\n",
              "      <td>22.05.1986</td>\n",
              "      <td>18.09.2016</td>\n",
              "      <td>NaN</td>\n",
              "      <td>Ярославский</td>\n",
              "    </tr>\n",
              "    <tr>\n",
              "      <th>209</th>\n",
              "      <td>Прокопьев</td>\n",
              "      <td>Александр</td>\n",
              "      <td>Сергеевич</td>\n",
              "      <td>м</td>\n",
              "      <td>05.08.1986</td>\n",
              "      <td>18.09.2016</td>\n",
              "      <td>NaN</td>\n",
              "      <td>Бийский</td>\n",
              "    </tr>\n",
              "    <tr>\n",
              "      <th>210</th>\n",
              "      <td>Шипулин</td>\n",
              "      <td>Антон</td>\n",
              "      <td>Владимирович</td>\n",
              "      <td>м</td>\n",
              "      <td>21.08.1987</td>\n",
              "      <td>08.09.2019</td>\n",
              "      <td>NaN</td>\n",
              "      <td>Серовский</td>\n",
              "    </tr>\n",
              "  </tbody>\n",
              "</table>\n",
              "<p>211 rows × 8 columns</p>\n",
              "</div>"
            ],
            "text/plain": [
              "          name   lastname     otchestvo  ...       start  end       district\n",
              "0       Ефимов    Виталий     Борисович  ...  18.09.2016  NaN     Мордовский\n",
              "1    Максимова    Надежда     Сергеевна  ...  18.09.2016  NaN      Хакасский\n",
              "2    Мищеряков       Юрий    Николаевич  ...  18.09.2016  NaN   Оренбургский\n",
              "3       Борцов    Николай      Иванович  ...  18.09.2016  NaN       Липецкий\n",
              "4       Гончар    Николай    Николаевич  ...  18.09.2016  NaN    Центральный\n",
              "..         ...        ...           ...  ...         ...  ...            ...\n",
              "206     Федяев      Павел    Михайлович  ...  18.09.2016  NaN      Заводский\n",
              "207    Романов     Михаил  Валентинович  ...  18.09.2016  NaN  Юго-Восточный\n",
              "208     Грибов  Александр     Сергеевич  ...  18.09.2016  NaN    Ярославский\n",
              "209  Прокопьев  Александр     Сергеевич  ...  18.09.2016  NaN        Бийский\n",
              "210    Шипулин      Антон  Владимирович  ...  08.09.2019  NaN      Серовский\n",
              "\n",
              "[211 rows x 8 columns]"
            ]
          },
          "metadata": {
            "tags": []
          },
          "execution_count": 108
        }
      ]
    },
    {
      "cell_type": "code",
      "metadata": {
        "id": "kLqm9mCUjK-A",
        "colab_type": "code",
        "colab": {
          "base_uri": "https://localhost:8080/",
          "height": 230
        },
        "outputId": "249093b4-975b-49cd-a290-04e947433a3e"
      },
      "source": [
        "df_1['birthdate'] = pd.to_datetime(df_1['birthdate'])\n",
        "df_1['birthdate']"
      ],
      "execution_count": 109,
      "outputs": [
        {
          "output_type": "execute_result",
          "data": {
            "text/plain": [
              "0     1940-04-04\n",
              "1     1942-01-13\n",
              "2     1945-01-01\n",
              "3     1945-08-09\n",
              "4     1946-10-18\n",
              "         ...    \n",
              "206   1982-07-31\n",
              "207   1984-03-11\n",
              "208   1986-05-22\n",
              "209   1986-05-08\n",
              "210   1987-08-21\n",
              "Name: birthdate, Length: 211, dtype: datetime64[ns]"
            ]
          },
          "metadata": {
            "tags": []
          },
          "execution_count": 109
        }
      ]
    },
    {
      "cell_type": "code",
      "metadata": {
        "id": "vSBaevy0jq8i",
        "colab_type": "code",
        "colab": {
          "base_uri": "https://localhost:8080/",
          "height": 34
        },
        "outputId": "e9101dfe-4644-431d-ce35-e2b94ec4b6d4"
      },
      "source": [
        "df_1['age'] = 2020 - df_1.birthdate.dt.year\n",
        "round(df_1.age.mean(), 1)"
      ],
      "execution_count": 110,
      "outputs": [
        {
          "output_type": "execute_result",
          "data": {
            "text/plain": [
              "56.3"
            ]
          },
          "metadata": {
            "tags": []
          },
          "execution_count": 110
        }
      ]
    },
    {
      "cell_type": "markdown",
      "metadata": {
        "id": "dnbLvwKDU049",
        "colab_type": "text"
      },
      "source": [
        "**Задание 2.2.** По [данным отдела кадров](https://raw.githubusercontent.com/dm-fedorov/pandas_basic/master/data/it.csv) определите возраст программистов с максимальной з.п. в рублях (5 баллов)."
      ]
    },
    {
      "cell_type": "code",
      "metadata": {
        "id": "ocey7uC6JL_f",
        "colab_type": "code",
        "colab": {
          "base_uri": "https://localhost:8080/",
          "height": 197
        },
        "outputId": "1bfb9962-864a-42c2-e857-08ddc038cd6e"
      },
      "source": [
        "import pandas as pd\n",
        "\n",
        "url = \"https://raw.githubusercontent.com/dm-fedorov/pandas_basic/master/data/it.csv\"\n",
        "hr = pd.read_csv(url)\n",
        "hr.head()"
      ],
      "execution_count": 111,
      "outputs": [
        {
          "output_type": "execute_result",
          "data": {
            "text/html": [
              "<div>\n",
              "<style scoped>\n",
              "    .dataframe tbody tr th:only-of-type {\n",
              "        vertical-align: middle;\n",
              "    }\n",
              "\n",
              "    .dataframe tbody tr th {\n",
              "        vertical-align: top;\n",
              "    }\n",
              "\n",
              "    .dataframe thead th {\n",
              "        text-align: right;\n",
              "    }\n",
              "</style>\n",
              "<table border=\"1\" class=\"dataframe\">\n",
              "  <thead>\n",
              "    <tr style=\"text-align: right;\">\n",
              "      <th></th>\n",
              "      <th>id</th>\n",
              "      <th>Дата рождения</th>\n",
              "      <th>Вакансия</th>\n",
              "      <th>Технология</th>\n",
              "      <th>Локация</th>\n",
              "      <th>З/п в валюте найма</th>\n",
              "    </tr>\n",
              "  </thead>\n",
              "  <tbody>\n",
              "    <tr>\n",
              "      <th>0</th>\n",
              "      <td>1</td>\n",
              "      <td>18.04.1994</td>\n",
              "      <td>Инженер-программист 2 категории</td>\n",
              "      <td>JS</td>\n",
              "      <td>Санкт-Петербург</td>\n",
              "      <td>140 000,00 ₽</td>\n",
              "    </tr>\n",
              "    <tr>\n",
              "      <th>1</th>\n",
              "      <td>2</td>\n",
              "      <td>27.03.1993</td>\n",
              "      <td>Разработчик информационных систем</td>\n",
              "      <td>.NET</td>\n",
              "      <td>Москва</td>\n",
              "      <td>130 000,00 ₽</td>\n",
              "    </tr>\n",
              "    <tr>\n",
              "      <th>2</th>\n",
              "      <td>3</td>\n",
              "      <td>24.11.1983</td>\n",
              "      <td>Java Developer</td>\n",
              "      <td>Java</td>\n",
              "      <td>Санкт-Петербург</td>\n",
              "      <td>200 000,00 ₽</td>\n",
              "    </tr>\n",
              "    <tr>\n",
              "      <th>3</th>\n",
              "      <td>4</td>\n",
              "      <td>09.06.1989</td>\n",
              "      <td>Архитектор ПО</td>\n",
              "      <td>Java</td>\n",
              "      <td>Москва</td>\n",
              "      <td>250 000,00 ₽</td>\n",
              "    </tr>\n",
              "    <tr>\n",
              "      <th>4</th>\n",
              "      <td>5</td>\n",
              "      <td>03.10.1978</td>\n",
              "      <td>QA Automation Engineer</td>\n",
              "      <td>QA</td>\n",
              "      <td>Санкт-Петербург</td>\n",
              "      <td>172 413,00 ₽</td>\n",
              "    </tr>\n",
              "  </tbody>\n",
              "</table>\n",
              "</div>"
            ],
            "text/plain": [
              "   id Дата рождения  ...          Локация З/п в валюте найма\n",
              "0   1    18.04.1994  ...  Санкт-Петербург       140 000,00 ₽\n",
              "1   2    27.03.1993  ...           Москва       130 000,00 ₽\n",
              "2   3    24.11.1983  ...  Санкт-Петербург       200 000,00 ₽\n",
              "3   4    09.06.1989  ...           Москва       250 000,00 ₽\n",
              "4   5    03.10.1978  ...  Санкт-Петербург       172 413,00 ₽\n",
              "\n",
              "[5 rows x 6 columns]"
            ]
          },
          "metadata": {
            "tags": []
          },
          "execution_count": 111
        }
      ]
    },
    {
      "cell_type": "code",
      "metadata": {
        "id": "WNopqGM4nntu",
        "colab_type": "code",
        "colab": {
          "base_uri": "https://localhost:8080/",
          "height": 247
        },
        "outputId": "e7c26642-da21-4926-80bb-47ef07cb5ac0"
      },
      "source": [
        "hr.info()"
      ],
      "execution_count": 112,
      "outputs": [
        {
          "output_type": "stream",
          "text": [
            "<class 'pandas.core.frame.DataFrame'>\n",
            "RangeIndex: 58 entries, 0 to 57\n",
            "Data columns (total 6 columns):\n",
            " #   Column              Non-Null Count  Dtype \n",
            "---  ------              --------------  ----- \n",
            " 0   id                  58 non-null     int64 \n",
            " 1   Дата рождения       58 non-null     object\n",
            " 2   Вакансия            58 non-null     object\n",
            " 3   Технология          58 non-null     object\n",
            " 4   Локация             58 non-null     object\n",
            " 5   З/п в валюте найма  58 non-null     object\n",
            "dtypes: int64(1), object(5)\n",
            "memory usage: 2.8+ KB\n"
          ],
          "name": "stdout"
        }
      ]
    },
    {
      "cell_type": "code",
      "metadata": {
        "id": "TU2yCiMlnrpz",
        "colab_type": "code",
        "colab": {
          "base_uri": "https://localhost:8080/",
          "height": 197
        },
        "outputId": "e21b5164-e897-4690-fd9a-0b4fa7c15f0e"
      },
      "source": [
        "hr = hr.rename(columns = {'Дата рождения': 'birthdate'})\n",
        "hr['birthdate'] = pd.to_datetime(hr['birthdate'])\n",
        "hr['age'] = 2020 - hr.birthdate.dt.year\n",
        "hr.head()"
      ],
      "execution_count": 113,
      "outputs": [
        {
          "output_type": "execute_result",
          "data": {
            "text/html": [
              "<div>\n",
              "<style scoped>\n",
              "    .dataframe tbody tr th:only-of-type {\n",
              "        vertical-align: middle;\n",
              "    }\n",
              "\n",
              "    .dataframe tbody tr th {\n",
              "        vertical-align: top;\n",
              "    }\n",
              "\n",
              "    .dataframe thead th {\n",
              "        text-align: right;\n",
              "    }\n",
              "</style>\n",
              "<table border=\"1\" class=\"dataframe\">\n",
              "  <thead>\n",
              "    <tr style=\"text-align: right;\">\n",
              "      <th></th>\n",
              "      <th>id</th>\n",
              "      <th>birthdate</th>\n",
              "      <th>Вакансия</th>\n",
              "      <th>Технология</th>\n",
              "      <th>Локация</th>\n",
              "      <th>З/п в валюте найма</th>\n",
              "      <th>age</th>\n",
              "    </tr>\n",
              "  </thead>\n",
              "  <tbody>\n",
              "    <tr>\n",
              "      <th>0</th>\n",
              "      <td>1</td>\n",
              "      <td>1994-04-18</td>\n",
              "      <td>Инженер-программист 2 категории</td>\n",
              "      <td>JS</td>\n",
              "      <td>Санкт-Петербург</td>\n",
              "      <td>140 000,00 ₽</td>\n",
              "      <td>26</td>\n",
              "    </tr>\n",
              "    <tr>\n",
              "      <th>1</th>\n",
              "      <td>2</td>\n",
              "      <td>1993-03-27</td>\n",
              "      <td>Разработчик информационных систем</td>\n",
              "      <td>.NET</td>\n",
              "      <td>Москва</td>\n",
              "      <td>130 000,00 ₽</td>\n",
              "      <td>27</td>\n",
              "    </tr>\n",
              "    <tr>\n",
              "      <th>2</th>\n",
              "      <td>3</td>\n",
              "      <td>1983-11-24</td>\n",
              "      <td>Java Developer</td>\n",
              "      <td>Java</td>\n",
              "      <td>Санкт-Петербург</td>\n",
              "      <td>200 000,00 ₽</td>\n",
              "      <td>37</td>\n",
              "    </tr>\n",
              "    <tr>\n",
              "      <th>3</th>\n",
              "      <td>4</td>\n",
              "      <td>1989-09-06</td>\n",
              "      <td>Архитектор ПО</td>\n",
              "      <td>Java</td>\n",
              "      <td>Москва</td>\n",
              "      <td>250 000,00 ₽</td>\n",
              "      <td>31</td>\n",
              "    </tr>\n",
              "    <tr>\n",
              "      <th>4</th>\n",
              "      <td>5</td>\n",
              "      <td>1978-03-10</td>\n",
              "      <td>QA Automation Engineer</td>\n",
              "      <td>QA</td>\n",
              "      <td>Санкт-Петербург</td>\n",
              "      <td>172 413,00 ₽</td>\n",
              "      <td>42</td>\n",
              "    </tr>\n",
              "  </tbody>\n",
              "</table>\n",
              "</div>"
            ],
            "text/plain": [
              "   id  birthdate  ... З/п в валюте найма age\n",
              "0   1 1994-04-18  ...       140 000,00 ₽  26\n",
              "1   2 1993-03-27  ...       130 000,00 ₽  27\n",
              "2   3 1983-11-24  ...       200 000,00 ₽  37\n",
              "3   4 1989-09-06  ...       250 000,00 ₽  31\n",
              "4   5 1978-03-10  ...       172 413,00 ₽  42\n",
              "\n",
              "[5 rows x 7 columns]"
            ]
          },
          "metadata": {
            "tags": []
          },
          "execution_count": 113
        }
      ]
    },
    {
      "cell_type": "code",
      "metadata": {
        "id": "cHp8KQkGrzj7",
        "colab_type": "code",
        "colab": {
          "base_uri": "https://localhost:8080/",
          "height": 197
        },
        "outputId": "7baef582-e780-45e9-fd79-35859d982d00"
      },
      "source": [
        "def to_num(s):\n",
        "    a =[]\n",
        "    l = ''\n",
        "    for i in s:\n",
        "        if i == ',':\n",
        "          a.append('.')\n",
        "        elif i.isdigit():\n",
        "           a.append(i)\n",
        "        else:\n",
        "            continue\n",
        "    return ''.join(a)\n",
        "\n",
        "def cur(s):\n",
        "     return ''.join([i for i in s if not i.isdigit()]).replace(',','').strip()\n",
        "\n",
        "hr['col'] = hr['З/п в валюте найма'].apply(to_num)\n",
        "hr['curenc'] = hr['З/п в валюте найма'].apply(cur)\n",
        "hr.head()"
      ],
      "execution_count": 114,
      "outputs": [
        {
          "output_type": "execute_result",
          "data": {
            "text/html": [
              "<div>\n",
              "<style scoped>\n",
              "    .dataframe tbody tr th:only-of-type {\n",
              "        vertical-align: middle;\n",
              "    }\n",
              "\n",
              "    .dataframe tbody tr th {\n",
              "        vertical-align: top;\n",
              "    }\n",
              "\n",
              "    .dataframe thead th {\n",
              "        text-align: right;\n",
              "    }\n",
              "</style>\n",
              "<table border=\"1\" class=\"dataframe\">\n",
              "  <thead>\n",
              "    <tr style=\"text-align: right;\">\n",
              "      <th></th>\n",
              "      <th>id</th>\n",
              "      <th>birthdate</th>\n",
              "      <th>Вакансия</th>\n",
              "      <th>Технология</th>\n",
              "      <th>Локация</th>\n",
              "      <th>З/п в валюте найма</th>\n",
              "      <th>age</th>\n",
              "      <th>col</th>\n",
              "      <th>curenc</th>\n",
              "    </tr>\n",
              "  </thead>\n",
              "  <tbody>\n",
              "    <tr>\n",
              "      <th>0</th>\n",
              "      <td>1</td>\n",
              "      <td>1994-04-18</td>\n",
              "      <td>Инженер-программист 2 категории</td>\n",
              "      <td>JS</td>\n",
              "      <td>Санкт-Петербург</td>\n",
              "      <td>140 000,00 ₽</td>\n",
              "      <td>26</td>\n",
              "      <td>140000.00</td>\n",
              "      <td>₽</td>\n",
              "    </tr>\n",
              "    <tr>\n",
              "      <th>1</th>\n",
              "      <td>2</td>\n",
              "      <td>1993-03-27</td>\n",
              "      <td>Разработчик информационных систем</td>\n",
              "      <td>.NET</td>\n",
              "      <td>Москва</td>\n",
              "      <td>130 000,00 ₽</td>\n",
              "      <td>27</td>\n",
              "      <td>130000.00</td>\n",
              "      <td>₽</td>\n",
              "    </tr>\n",
              "    <tr>\n",
              "      <th>2</th>\n",
              "      <td>3</td>\n",
              "      <td>1983-11-24</td>\n",
              "      <td>Java Developer</td>\n",
              "      <td>Java</td>\n",
              "      <td>Санкт-Петербург</td>\n",
              "      <td>200 000,00 ₽</td>\n",
              "      <td>37</td>\n",
              "      <td>200000.00</td>\n",
              "      <td>₽</td>\n",
              "    </tr>\n",
              "    <tr>\n",
              "      <th>3</th>\n",
              "      <td>4</td>\n",
              "      <td>1989-09-06</td>\n",
              "      <td>Архитектор ПО</td>\n",
              "      <td>Java</td>\n",
              "      <td>Москва</td>\n",
              "      <td>250 000,00 ₽</td>\n",
              "      <td>31</td>\n",
              "      <td>250000.00</td>\n",
              "      <td>₽</td>\n",
              "    </tr>\n",
              "    <tr>\n",
              "      <th>4</th>\n",
              "      <td>5</td>\n",
              "      <td>1978-03-10</td>\n",
              "      <td>QA Automation Engineer</td>\n",
              "      <td>QA</td>\n",
              "      <td>Санкт-Петербург</td>\n",
              "      <td>172 413,00 ₽</td>\n",
              "      <td>42</td>\n",
              "      <td>172413.00</td>\n",
              "      <td>₽</td>\n",
              "    </tr>\n",
              "  </tbody>\n",
              "</table>\n",
              "</div>"
            ],
            "text/plain": [
              "   id  birthdate                           Вакансия  ... age        col curenc\n",
              "0   1 1994-04-18    Инженер-программист 2 категории  ...  26  140000.00      ₽\n",
              "1   2 1993-03-27  Разработчик информационных систем  ...  27  130000.00      ₽\n",
              "2   3 1983-11-24                     Java Developer  ...  37  200000.00      ₽\n",
              "3   4 1989-09-06                      Архитектор ПО  ...  31  250000.00      ₽\n",
              "4   5 1978-03-10             QA Automation Engineer  ...  42  172413.00      ₽\n",
              "\n",
              "[5 rows x 9 columns]"
            ]
          },
          "metadata": {
            "tags": []
          },
          "execution_count": 114
        }
      ]
    },
    {
      "cell_type": "code",
      "metadata": {
        "id": "55Q8T6ITorWo",
        "colab_type": "code",
        "colab": {
          "base_uri": "https://localhost:8080/",
          "height": 77
        },
        "outputId": "3f39860d-6421-4bcb-90b7-3da7ea58575b"
      },
      "source": [
        "kn = hr[hr.curenc == '₽']\n",
        "kn[kn.col == kn.col.max()]"
      ],
      "execution_count": 115,
      "outputs": [
        {
          "output_type": "execute_result",
          "data": {
            "text/html": [
              "<div>\n",
              "<style scoped>\n",
              "    .dataframe tbody tr th:only-of-type {\n",
              "        vertical-align: middle;\n",
              "    }\n",
              "\n",
              "    .dataframe tbody tr th {\n",
              "        vertical-align: top;\n",
              "    }\n",
              "\n",
              "    .dataframe thead th {\n",
              "        text-align: right;\n",
              "    }\n",
              "</style>\n",
              "<table border=\"1\" class=\"dataframe\">\n",
              "  <thead>\n",
              "    <tr style=\"text-align: right;\">\n",
              "      <th></th>\n",
              "      <th>id</th>\n",
              "      <th>birthdate</th>\n",
              "      <th>Вакансия</th>\n",
              "      <th>Технология</th>\n",
              "      <th>Локация</th>\n",
              "      <th>З/п в валюте найма</th>\n",
              "      <th>age</th>\n",
              "      <th>col</th>\n",
              "      <th>curenc</th>\n",
              "    </tr>\n",
              "  </thead>\n",
              "  <tbody>\n",
              "    <tr>\n",
              "      <th>14</th>\n",
              "      <td>15</td>\n",
              "      <td>1986-03-16</td>\n",
              "      <td>Head of Software Testing Department</td>\n",
              "      <td>QA</td>\n",
              "      <td>Санкт-Петербург</td>\n",
              "      <td>375 000,00 ₽</td>\n",
              "      <td>34</td>\n",
              "      <td>375000.00</td>\n",
              "      <td>₽</td>\n",
              "    </tr>\n",
              "  </tbody>\n",
              "</table>\n",
              "</div>"
            ],
            "text/plain": [
              "    id  birthdate                             Вакансия  ... age        col curenc\n",
              "14  15 1986-03-16  Head of Software Testing Department  ...  34  375000.00      ₽\n",
              "\n",
              "[1 rows x 9 columns]"
            ]
          },
          "metadata": {
            "tags": []
          },
          "execution_count": 115
        }
      ]
    },
    {
      "cell_type": "code",
      "metadata": {
        "id": "g7BLhWtyvJWY",
        "colab_type": "code",
        "colab": {
          "base_uri": "https://localhost:8080/",
          "height": 52
        },
        "outputId": "929f0b5b-5911-4e17-fecc-f1539961caeb"
      },
      "source": [
        "kn[kn.col == kn.col.max()].age"
      ],
      "execution_count": 116,
      "outputs": [
        {
          "output_type": "execute_result",
          "data": {
            "text/plain": [
              "14    34\n",
              "Name: age, dtype: int64"
            ]
          },
          "metadata": {
            "tags": []
          },
          "execution_count": 116
        }
      ]
    },
    {
      "cell_type": "code",
      "metadata": {
        "id": "IKZazcYRvKfU",
        "colab_type": "code",
        "colab": {}
      },
      "source": [
        ""
      ],
      "execution_count": null,
      "outputs": []
    },
    {
      "cell_type": "markdown",
      "metadata": {
        "id": "X9feKakNJHgr",
        "colab_type": "text"
      },
      "source": [
        "**Задание 3.1.** По [данным](https://raw.githubusercontent.com/dm-fedorov/pandas_basic/master/data/tinkoff_hh.json), собранным с сайта hh, определите наиболее часто встречающиеся вакансии (vacancy) компании Тинькофф (5 баллов)."
      ]
    },
    {
      "cell_type": "code",
      "metadata": {
        "id": "dbpJFuYPJMbQ",
        "colab_type": "code",
        "colab": {
          "base_uri": "https://localhost:8080/",
          "height": 214
        },
        "outputId": "ccff977b-7fdc-4950-86f9-1476416f050c"
      },
      "source": [
        "import json\n",
        "i = 0\n",
        "d = dict()\n",
        "lst = []\n",
        "\n",
        "\n",
        "\n",
        "with open(\"tinkoff_hh.json\", encoding='utf8') as file:\n",
        "    for row in file:\n",
        "     if '{\"index' not in row:\n",
        "       d = json.loads(row)\n",
        "       lst.append(d)\n",
        "\n",
        "lst[0]"
      ],
      "execution_count": 117,
      "outputs": [
        {
          "output_type": "execute_result",
          "data": {
            "text/plain": [
              "{'company': 'Тинькофф',\n",
              " 'conditions': '- График работы 5/2 с плавающими выходными;\\n- Оклад + ежемесячная неограниченная премия;\\n- Место работы в шаговой доступности от м. Марьина Роща;\\n- Стипендия за обучение (в случае его прохождения и работы в штате более 2 месяцев);\\n- Скидка на посещение фитнес-клуба.',\n",
              " 'creation_date': '2019-01-15',\n",
              " 'duties': '- Звонить клиентам, которым банк одобрил кредит под залог;\\n- Согласовывать условия кредита;\\n- Консультировать клиентов по их вопросам;\\n- Назначать встречи с представителем банка.',\n",
              " 'employment_type': 'Полная занятость',\n",
              " 'experience': 'не требуется',\n",
              " 'income': 'от\\xa055\\xa0000\\xa0руб.',\n",
              " 'region': 'Москва',\n",
              " 'requirements': None,\n",
              " 'vacancy': 'Начинающий специалист по залоговому кредитованию'}"
            ]
          },
          "metadata": {
            "tags": []
          },
          "execution_count": 117
        }
      ]
    },
    {
      "cell_type": "code",
      "metadata": {
        "id": "0l-1awB0wj4T",
        "colab_type": "code",
        "colab": {}
      },
      "source": [
        ""
      ],
      "execution_count": null,
      "outputs": []
    },
    {
      "cell_type": "markdown",
      "metadata": {
        "id": "AzHlg_T6K3Zl",
        "colab_type": "text"
      },
      "source": [
        "**Задание 3.2.** По [данным](https://raw.githubusercontent.com/dm-fedorov/pandas_basic/master/data/tinkoff_hh.json), собранным с сайта hh, определите зарплаты работников Тинькофф, у которых в названии вакансии (vacancy) встречается слово Engineer (5 баллов)."
      ]
    },
    {
      "cell_type": "code",
      "metadata": {
        "id": "TMy_IxL9JMy3",
        "colab_type": "code",
        "colab": {}
      },
      "source": [
        ""
      ],
      "execution_count": null,
      "outputs": []
    }
  ]
}