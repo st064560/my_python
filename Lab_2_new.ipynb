{
  "nbformat": 4,
  "nbformat_minor": 0,
  "metadata": {
    "colab": {
      "name": "Галютина Анастасия Николаевна(1).ipynb",
      "provenance": [],
      "collapsed_sections": [],
      "include_colab_link": true
    },
    "kernelspec": {
      "display_name": "Python 3",
      "language": "python",
      "name": "python3"
    },
    "language_info": {
      "codemirror_mode": {
        "name": "ipython",
        "version": 3
      },
      "file_extension": ".py",
      "mimetype": "text/x-python",
      "name": "python",
      "nbconvert_exporter": "python",
      "pygments_lexer": "ipython3",
      "version": "3.7.3"
    }
  },
  "cells": [
    {
      "cell_type": "markdown",
      "metadata": {
        "id": "view-in-github",
        "colab_type": "text"
      },
      "source": [
        "<a href=\"https://colab.research.google.com/github/st064560/my_python/blob/master/Lab_2_new.ipynb\" target=\"_parent\"><img src=\"https://colab.research.google.com/assets/colab-badge.svg\" alt=\"Open In Colab\"/></a>"
      ]
    },
    {
      "cell_type": "markdown",
      "metadata": {
        "colab_type": "text",
        "id": "iqCLKoFjFqrj"
      },
      "source": [
        "## Лабораторная работа 2\n",
        "\n",
        "**Поздравляем!** \n",
        "\n",
        "После успешной сдачи предыдущего проекта Вам стали доверять более сложные задачи.\n",
        "\n",
        "Вы познакомились с модулем [pandas](https://github.com/dm-fedorov/pandas_basic/tree/master/%D0%B1%D1%8B%D1%81%D1%82%D1%80%D0%BE%D0%B5%20%D0%B2%D0%B2%D0%B5%D0%B4%D0%B5%D0%BD%D0%B8%D0%B5%20%D0%B2%20pandas), поэтому руководство компании поставило перед Вами несколько новых задач по анализу данных с помощью данного модуля.\n",
        "\n",
        "### Задание 1\n",
        "\n",
        "Заказчик попросил провести анализ частоты запросов к сайту по версии [Яндекс.Метрики](https://yandex.ru/support/metrica/general/glossary.html):"
      ]
    },
    {
      "cell_type": "code",
      "metadata": {
        "colab_type": "code",
        "id": "e0r7hrdvFqrw",
        "outputId": "536e5ea5-348a-4a37-a972-49b794e8a780",
        "colab": {
          "base_uri": "https://localhost:8080/",
          "height": 204
        }
      },
      "source": [
        "import pandas as pd\n",
        "\n",
        "url = \"https://raw.githubusercontent.com/dm-fedorov/pandas_basic/master/data/data_stat/yandex-stat-q.csv\"\n",
        "\n",
        "df = pd.read_csv(url)\n",
        "df.head()\n"
      ],
      "execution_count": 1,
      "outputs": [
        {
          "output_type": "execute_result",
          "data": {
            "text/html": [
              "<div>\n",
              "<style scoped>\n",
              "    .dataframe tbody tr th:only-of-type {\n",
              "        vertical-align: middle;\n",
              "    }\n",
              "\n",
              "    .dataframe tbody tr th {\n",
              "        vertical-align: top;\n",
              "    }\n",
              "\n",
              "    .dataframe thead th {\n",
              "        text-align: right;\n",
              "    }\n",
              "</style>\n",
              "<table border=\"1\" class=\"dataframe\">\n",
              "  <thead>\n",
              "    <tr style=\"text-align: right;\">\n",
              "      <th></th>\n",
              "      <th>Поисковая фраза</th>\n",
              "      <th>Поисковая система</th>\n",
              "      <th>Визиты</th>\n",
              "      <th>Посетители</th>\n",
              "      <th>Отказы</th>\n",
              "      <th>Глубина просмотра</th>\n",
              "      <th>Время на сайте</th>\n",
              "    </tr>\n",
              "  </thead>\n",
              "  <tbody>\n",
              "    <tr>\n",
              "      <th>0</th>\n",
              "      <td>Итого и средние</td>\n",
              "      <td>NaN</td>\n",
              "      <td>72394</td>\n",
              "      <td>57803</td>\n",
              "      <td>0.120328</td>\n",
              "      <td>1.298934</td>\n",
              "      <td>00:01:18</td>\n",
              "    </tr>\n",
              "    <tr>\n",
              "      <th>1</th>\n",
              "      <td>pycode.ru</td>\n",
              "      <td>Яндекс</td>\n",
              "      <td>2068</td>\n",
              "      <td>1225</td>\n",
              "      <td>0.093810</td>\n",
              "      <td>1.674565</td>\n",
              "      <td>00:01:38</td>\n",
              "    </tr>\n",
              "    <tr>\n",
              "      <th>2</th>\n",
              "      <td>холопов алексей васильевич</td>\n",
              "      <td>Яндекс</td>\n",
              "      <td>1240</td>\n",
              "      <td>467</td>\n",
              "      <td>0.082258</td>\n",
              "      <td>1.941129</td>\n",
              "      <td>00:03:53</td>\n",
              "    </tr>\n",
              "    <tr>\n",
              "      <th>3</th>\n",
              "      <td>золотое правило дидактики</td>\n",
              "      <td>Яндекс</td>\n",
              "      <td>778</td>\n",
              "      <td>751</td>\n",
              "      <td>0.082262</td>\n",
              "      <td>1.087404</td>\n",
              "      <td>00:00:41</td>\n",
              "    </tr>\n",
              "    <tr>\n",
              "      <th>4</th>\n",
              "      <td>золотое правило дидактики я.а коменского</td>\n",
              "      <td>Яндекс</td>\n",
              "      <td>743</td>\n",
              "      <td>724</td>\n",
              "      <td>0.068641</td>\n",
              "      <td>1.044415</td>\n",
              "      <td>00:00:31</td>\n",
              "    </tr>\n",
              "  </tbody>\n",
              "</table>\n",
              "</div>"
            ],
            "text/plain": [
              "                            Поисковая фраза  ... Время на сайте\n",
              "0                           Итого и средние  ...       00:01:18\n",
              "1                                 pycode.ru  ...       00:01:38\n",
              "2                холопов алексей васильевич  ...       00:03:53\n",
              "3                 золотое правило дидактики  ...       00:00:41\n",
              "4  золотое правило дидактики я.а коменского  ...       00:00:31\n",
              "\n",
              "[5 rows x 7 columns]"
            ]
          },
          "metadata": {
            "tags": []
          },
          "execution_count": 1
        }
      ]
    },
    {
      "cell_type": "markdown",
      "metadata": {
        "colab_type": "text",
        "id": "l8E4MfL2Fqsx"
      },
      "source": [
        "**Задача 1.1**: определите статистику встречаемости отдельных слов в поисковых фразах. Это позволит понять тематику данного сайта и настроить показ рекламы.\n",
        "\n",
        "По условию задачи исходный файл с данными модифицировать нельзя.\n",
        "\n",
        "За помощью обратитетесь к [инструкции](https://github.com/dm-fedorov/pandas_basic/blob/master/%D0%B1%D1%8B%D1%81%D1%82%D1%80%D0%BE%D0%B5%20%D0%B2%D0%B2%D0%B5%D0%B4%D0%B5%D0%BD%D0%B8%D0%B5%20%D0%B2%20pandas/10.%20%D0%9A%D0%B0%D0%BA%20%D0%BC%D0%B0%D0%BD%D0%B8%D0%BF%D1%83%D0%BB%D0%B8%D1%80%D0%BE%D0%B2%D0%B0%D1%82%D1%8C%20%D1%82%D0%B5%D0%BA%D1%81%D1%82%D0%BE%D0%B2%D1%8B%D0%BC%D0%B8%20%D0%B4%D0%B0%D0%BD%D0%BD%D1%8B%D0%BC%D0%B8%3F.ipynb) и возможностям модуля [pymorphy2](https://github.com/dm-fedorov/python_basic/blob/master/pymorphy2.ipynb)."
      ]
    },
    {
      "cell_type": "markdown",
      "metadata": {
        "colab_type": "text",
        "id": "hRntEbctr6uh"
      },
      "source": [
        "**при работе над первым заданием вдохновлялась кодом из статьи: https://habr.com/ru/post/442626/\n",
        "Код и новые термины, которые там встретились, были подробно мной изучены."
      ]
    },
    {
      "cell_type": "markdown",
      "metadata": {
        "colab_type": "text",
        "id": "4w95tI5wnm0x"
      },
      "source": [
        "1. Уберём все лишние символы из текстовых данных"
      ]
    },
    {
      "cell_type": "code",
      "metadata": {
        "colab_type": "code",
        "id": "gzujkCAfV9Bb",
        "outputId": "56f050ed-754c-4fc3-9501-ffa535f4e2be",
        "colab": {
          "base_uri": "https://localhost:8080/",
          "height": 221
        }
      },
      "source": [
        "def unicode2str(s):\n",
        "    try:\n",
        "        return s.replace(u'\\u2014', u'-').replace(u'\\u2013', u'-').replace(u'\\u2026', u'...')\n",
        "    except:\n",
        "        return s\n",
        "titles = df[\"Поисковая фраза\"].map(unicode2str, na_action=None)\n",
        "titles"
      ],
      "execution_count": 2,
      "outputs": [
        {
          "output_type": "execute_result",
          "data": {
            "text/plain": [
              "0                                          Итого и средние\n",
              "1                                                pycode.ru\n",
              "2                               холопов алексей васильевич\n",
              "3                                золотое правило дидактики\n",
              "4                 золотое правило дидактики я.а коменского\n",
              "                               ...                        \n",
              "33784     тезисы доклада в сборнике конференции на тем...\n",
              "33785     структурированные тезисы (введение, цель, ма...\n",
              "33786     в чем проявляются различия между «прикладной...\n",
              "33787       преимущества метода кейс-стади (метод кейсов)\n",
              "33788    ﻿понятие безопасности в классической и совреме...\n",
              "Name: Поисковая фраза, Length: 33789, dtype: object"
            ]
          },
          "metadata": {
            "tags": []
          },
          "execution_count": 2
        }
      ]
    },
    {
      "cell_type": "code",
      "metadata": {
        "colab_type": "code",
        "id": "qHWq-7Y4osv8",
        "colab": {}
      },
      "source": [
        "2. Отделим рускоязычные запросы от прочих при помощи кодировки ascii"
      ],
      "execution_count": 0,
      "outputs": []
    },
    {
      "cell_type": "code",
      "metadata": {
        "colab_type": "code",
        "id": "1j8I3xXkXToF",
        "colab": {}
      },
      "source": [
        "def to_ascii(s):\n",
        "    try:\n",
        "        s = s.replace(\"'\", '').replace(\"-\", '').replace(\"|\", '')\n",
        "        return s.decode('utf-8').encode(\"ascii\", errors=\"ignore\").decode()\n",
        "    except:\n",
        "        return ''\n",
        "\n",
        "def is_asciiword(s):\n",
        "    ascii_word = to_ascii(s)\n",
        "    return len(ascii_word) > 2"
      ],
      "execution_count": 0,
      "outputs": []
    },
    {
      "cell_type": "markdown",
      "metadata": {
        "colab_type": "text",
        "id": "I1WSZhDbpNMn"
      },
      "source": [
        "3. Нормализуем вид англоязычных запросов"
      ]
    },
    {
      "cell_type": "code",
      "metadata": {
        "colab_type": "code",
        "id": "fQ_XJlX6XfZX",
        "colab": {}
      },
      "source": [
        "def normal_eng(s):\n",
        "    for sym in (\"'s\", '{', '}', \"'\", '\"', '}', ';', '.', ',', '[', ']', '(', ')', '-', '/', '\\\\'):\n",
        "        s = s.replace(sym, ' ')\n",
        "    return s.lower().strip()"
      ],
      "execution_count": 0,
      "outputs": []
    },
    {
      "cell_type": "code",
      "metadata": {
        "id": "Kq3zBnw4yHKE",
        "colab_type": "code",
        "colab": {
          "base_uri": "https://localhost:8080/",
          "height": 68
        },
        "outputId": "9c55dc23-fac3-4e01-8d09-e227a18922af"
      },
      "source": [
        "!pip3 install wordcloud"
      ],
      "execution_count": 5,
      "outputs": [
        {
          "output_type": "stream",
          "text": [
            "Requirement already satisfied: wordcloud in /usr/local/lib/python3.6/dist-packages (1.5.0)\n",
            "Requirement already satisfied: pillow in /usr/local/lib/python3.6/dist-packages (from wordcloud) (7.0.0)\n",
            "Requirement already satisfied: numpy>=1.6.1 in /usr/local/lib/python3.6/dist-packages (from wordcloud) (1.18.4)\n"
          ],
          "name": "stdout"
        }
      ]
    },
    {
      "cell_type": "markdown",
      "metadata": {
        "colab_type": "text",
        "id": "IVlE_OobpU_t"
      },
      "source": [
        "4. Работаем с запросами на русском языке. Проверяем слово на часть речи и с помощью модуля выводим его нормализовынную форму. "
      ]
    },
    {
      "cell_type": "code",
      "metadata": {
        "colab_type": "code",
        "id": "eN7kVd1rXou4",
        "outputId": "31792e0c-d7cc-4b73-b912-068fa8ffc503",
        "colab": {
          "base_uri": "https://localhost:8080/",
          "height": 258
        }
      },
      "source": [
        "!pip3 install pymorphy2\n",
        "!pip3 install pymorphy2-dicts\n",
        "!pip3 install DAWG-Python\n",
        "import pymorphy2\n",
        "\n",
        "morph = pymorphy2.MorphAnalyzer()\n",
        "\n",
        "def normal_rus(w):\n",
        "    res = morph.parse(w)\n",
        "    for r in res:\n",
        "        if 'NOUN' in r.tag:\n",
        "            return r.normal_form\n",
        "    return None"
      ],
      "execution_count": 6,
      "outputs": [
        {
          "output_type": "stream",
          "text": [
            "Collecting pymorphy2\n",
            "\u001b[?25l  Downloading https://files.pythonhosted.org/packages/a3/33/fff9675c68b5f6c63ec8c6e6ff57827dda28a1fa5b2c2d727dffff92dd47/pymorphy2-0.8-py2.py3-none-any.whl (46kB)\n",
            "\r\u001b[K     |███████                         | 10kB 19.2MB/s eta 0:00:01\r\u001b[K     |██████████████▏                 | 20kB 3.2MB/s eta 0:00:01\r\u001b[K     |█████████████████████▎          | 30kB 4.6MB/s eta 0:00:01\r\u001b[K     |████████████████████████████▍   | 40kB 5.9MB/s eta 0:00:01\r\u001b[K     |████████████████████████████████| 51kB 2.5MB/s \n",
            "\u001b[?25hCollecting dawg-python>=0.7\n",
            "  Downloading https://files.pythonhosted.org/packages/6a/84/ff1ce2071d4c650ec85745766c0047ccc3b5036f1d03559fd46bb38b5eeb/DAWG_Python-0.7.2-py2.py3-none-any.whl\n",
            "Collecting pymorphy2-dicts<3.0,>=2.4\n",
            "\u001b[?25l  Downloading https://files.pythonhosted.org/packages/02/51/2465fd4f72328ab50877b54777764d928da8cb15b74e2680fc1bd8cb3173/pymorphy2_dicts-2.4.393442.3710985-py2.py3-none-any.whl (7.1MB)\n",
            "\u001b[K     |████████████████████████████████| 7.1MB 13.9MB/s \n",
            "\u001b[?25hRequirement already satisfied: docopt>=0.6 in /usr/local/lib/python3.6/dist-packages (from pymorphy2) (0.6.2)\n",
            "Installing collected packages: dawg-python, pymorphy2-dicts, pymorphy2\n",
            "Successfully installed dawg-python-0.7.2 pymorphy2-0.8 pymorphy2-dicts-2.4.393442.3710985\n",
            "Requirement already satisfied: pymorphy2-dicts in /usr/local/lib/python3.6/dist-packages (2.4.393442.3710985)\n",
            "Requirement already satisfied: DAWG-Python in /usr/local/lib/python3.6/dist-packages (0.7.2)\n"
          ],
          "name": "stdout"
        }
      ]
    },
    {
      "cell_type": "markdown",
      "metadata": {
        "colab_type": "text",
        "id": "Mij371dlq5an"
      },
      "source": [
        "5. Соединим созданный код. Сначала проверяем английские слова, затем русские \n",
        "Получим словарь из ста наиболее часто встречающихся запросов."
      ]
    },
    {
      "cell_type": "code",
      "metadata": {
        "colab_type": "code",
        "id": "mRgwGcy9YYez",
        "outputId": "9f2cabc9-7543-410e-e805-a78a1c50fda0",
        "colab": {
          "base_uri": "https://localhost:8080/",
          "height": 1000
        }
      },
      "source": [
        "from collections import Counter\n",
        "\n",
        "c_dict = Counter()\n",
        "for s in titles.values:\n",
        "    for w in s.split():\n",
        "        if is_asciiword(w):\n",
        "             # English word or digit\n",
        "             n = normal_eng(w)\n",
        "             c_dict[n] += 1\n",
        "        else:\n",
        "             # Russian word\n",
        "             n = normal_rus(w)\n",
        "             if n is not None:\n",
        "                c_dict[n] += 1\n",
        "#c_dict\n",
        "common = c_dict.most_common(100)\n",
        "common\n"
      ],
      "execution_count": 7,
      "outputs": [
        {
          "output_type": "execute_result",
          "data": {
            "text/plain": [
              "[('тезис', 6848),\n",
              " ('век', 5995),\n",
              " ('конференция', 4726),\n",
              " ('работа', 3345),\n",
              " ('исполняющий', 3083),\n",
              " ('пример', 2991),\n",
              " ('безопасность', 2721),\n",
              " ('кандидат', 2522),\n",
              " ('правило', 1906),\n",
              " ('практика', 1829),\n",
              " ('доклад', 1586),\n",
              " ('статья', 1464),\n",
              " ('отчёт', 1344),\n",
              " ('дидактика', 1148),\n",
              " ('кейс', 1125),\n",
              " ('студент', 1047),\n",
              " ('выступление', 1005),\n",
              " ('секунда', 965),\n",
              " ('коменский', 964),\n",
              " ('человек', 920),\n",
              " ('тема', 877),\n",
              " ('принцип', 857),\n",
              " ('исследование', 823),\n",
              " ('обучение', 762),\n",
              " ('анализ', 750),\n",
              " ('задание', 725),\n",
              " ('написание', 721),\n",
              " ('метод', 696),\n",
              " ('сухомлинский', 694),\n",
              " ('образец', 673),\n",
              " ('область', 661),\n",
              " ('образование', 643),\n",
              " ('информация', 634),\n",
              " ('текст', 619),\n",
              " ('защита', 574),\n",
              " ('проблема', 564),\n",
              " ('иза', 540),\n",
              " ('золотой', 539),\n",
              " ('данные', 537),\n",
              " ('манипуляция', 526),\n",
              " ('лекция', 525),\n",
              " ('структура', 516),\n",
              " ('технология', 500),\n",
              " ('цитата', 460),\n",
              " ('программирование', 457),\n",
              " ('ли', 455),\n",
              " ('язык', 453),\n",
              " ('система', 449),\n",
              " ('холоп', 435),\n",
              " ('книга', 412),\n",
              " ('этика', 404),\n",
              " ('специалист', 400),\n",
              " ('преступление', 399),\n",
              " ('сеть', 397),\n",
              " ('слово', 393),\n",
              " ('сфера', 364),\n",
              " ('наука', 364),\n",
              " ('компетенция', 359),\n",
              " ('каменский', 353),\n",
              " ('проект', 353),\n",
              " ('курс', 350),\n",
              " ('оформление', 330),\n",
              " ('сознание', 327),\n",
              " ('аспект', 326),\n",
              " ('питон', 318),\n",
              " ('преподаватель', 316),\n",
              " ('обеспечение', 294),\n",
              " ('использование', 287),\n",
              " ('«золотой', 284),\n",
              " ('пря', 277),\n",
              " ('содержание', 265),\n",
              " ('расследование', 262),\n",
              " ('направление', 251),\n",
              " ('требование', 250),\n",
              " ('вуз', 248),\n",
              " ('основа', 237),\n",
              " ('высказывание', 232),\n",
              " ('школа', 231),\n",
              " ('литература', 223),\n",
              " ('сущность', 223),\n",
              " ('экономика', 217),\n",
              " ('задача', 216),\n",
              " ('чувство', 214),\n",
              " ('деятельность', 214),\n",
              " ('вопрос', 213),\n",
              " ('развитие', 210),\n",
              " ('речь', 207),\n",
              " ('понятие', 201),\n",
              " ('алексей', 198),\n",
              " ('россия', 195),\n",
              " ('психология', 192),\n",
              " ('ребёнок', 187),\n",
              " ('вид', 185),\n",
              " ('материал', 178),\n",
              " ('решение', 178),\n",
              " ('игра', 176),\n",
              " ('учебник', 174),\n",
              " ('история', 174),\n",
              " ('время', 174),\n",
              " ('результат', 174)]"
            ]
          },
          "metadata": {
            "tags": []
          },
          "execution_count": 7
        }
      ]
    },
    {
      "cell_type": "markdown",
      "metadata": {
        "colab_type": "text",
        "id": "lqMvM3yqqltC"
      },
      "source": [
        "6. Визуализируем полученный словарь:"
      ]
    },
    {
      "cell_type": "code",
      "metadata": {
        "colab_type": "code",
        "id": "jSnq3oX-bbqE",
        "outputId": "30e8a32e-29f4-4378-e2c2-70d93bb230a1",
        "colab": {
          "base_uri": "https://localhost:8080/",
          "height": 672
        }
      },
      "source": [
        "import numpy as np\n",
        "import pandas as pd\n",
        "from os import path\n",
        "from PIL import Image\n",
        "from wordcloud import WordCloud, STOPWORDS, ImageColorGenerator\n",
        "\n",
        "import matplotlib.pyplot as plt\n",
        "%matplotlib inline\n",
        "common = c_dict.most_common(100)\n",
        "wc = WordCloud(width=2600, height=2200, background_color=\"white\", relative_scaling=1.0,\n",
        "               collocations=False, min_font_size=10).generate_from_frequencies(dict(common))\n",
        "plt.axis(\"off\")\n",
        "plt.figure(figsize=(9, 6))\n",
        "plt.imshow(wc, interpolation=\"bilinear\")\n",
        "plt.xticks([])\n",
        "plt.yticks([])\n",
        "plt.tight_layout()\n",
        " \n",
        "plt.show()"
      ],
      "execution_count": 8,
      "outputs": [
        {
          "output_type": "display_data",
          "data": {
            "image/png": "[encoded data removed]",
            "text/plain": [
              "<Figure size 432x288 with 1 Axes>"
            ]
          },
          "metadata": {
            "tags": [],
            "needs_background": "light"
          }
        },
        {
          "output_type": "display_data",
          "data": {
            "image/png": "[encoded data removed]",
            "text/plain": [
              "<Figure size 648x432 with 1 Axes>"
            ]
          },
          "metadata": {
            "tags": []
          }
        }
      ]
    },
    {
      "cell_type": "markdown",
      "metadata": {
        "colab_type": "text",
        "id": "1h-Te1hBFqtH"
      },
      "source": [
        "### Задание 2"
      ]
    },
    {
      "cell_type": "markdown",
      "metadata": {
        "colab_type": "text",
        "id": "irxHA5ozFqtJ"
      },
      "source": [
        "Заказчик попросил провести анализ поведения пользователей на сайте по версии [Яндекс.Метрики](https://yandex.ru/support/metrica/general/glossary.html):"
      ]
    },
    {
      "cell_type": "code",
      "metadata": {
        "colab_type": "code",
        "id": "9CVFQ4hpFqtP",
        "outputId": "3b550b2b-f970-44e3-e1a2-fcdbe7d2b225",
        "colab": {
          "base_uri": "https://localhost:8080/",
          "height": 204
        }
      },
      "source": [
        "import pandas as pd\n",
        "\n",
        "url1 = \"https://raw.githubusercontent.com/dm-fedorov/pandas_basic/master/data/data_stat/yandex-stat.csv\"\n",
        "\n",
        "df = pd.read_csv(url1)\n",
        "df = df.drop([0])\n",
        "df.head()\n"
      ],
      "execution_count": 9,
      "outputs": [
        {
          "output_type": "execute_result",
          "data": {
            "text/html": [
              "<div>\n",
              "<style scoped>\n",
              "    .dataframe tbody tr th:only-of-type {\n",
              "        vertical-align: middle;\n",
              "    }\n",
              "\n",
              "    .dataframe tbody tr th {\n",
              "        vertical-align: top;\n",
              "    }\n",
              "\n",
              "    .dataframe thead th {\n",
              "        text-align: right;\n",
              "    }\n",
              "</style>\n",
              "<table border=\"1\" class=\"dataframe\">\n",
              "  <thead>\n",
              "    <tr style=\"text-align: right;\">\n",
              "      <th></th>\n",
              "      <th>Интервал дат визита</th>\n",
              "      <th>Визиты</th>\n",
              "      <th>Посетители</th>\n",
              "      <th>Просмотры</th>\n",
              "      <th>Доля новых посетителей</th>\n",
              "      <th>Отказы</th>\n",
              "      <th>Глубина просмотра</th>\n",
              "      <th>Время на сайте</th>\n",
              "    </tr>\n",
              "  </thead>\n",
              "  <tbody>\n",
              "    <tr>\n",
              "      <th>1</th>\n",
              "      <td>2020-03-08</td>\n",
              "      <td>49</td>\n",
              "      <td>46</td>\n",
              "      <td>55</td>\n",
              "      <td>0.565217</td>\n",
              "      <td>0.244898</td>\n",
              "      <td>1.122449</td>\n",
              "      <td>00:00:52</td>\n",
              "    </tr>\n",
              "    <tr>\n",
              "      <th>2</th>\n",
              "      <td>2020-03-07</td>\n",
              "      <td>152</td>\n",
              "      <td>137</td>\n",
              "      <td>198</td>\n",
              "      <td>0.846715</td>\n",
              "      <td>0.118421</td>\n",
              "      <td>1.302632</td>\n",
              "      <td>00:01:15</td>\n",
              "    </tr>\n",
              "    <tr>\n",
              "      <th>3</th>\n",
              "      <td>2020-03-06</td>\n",
              "      <td>172</td>\n",
              "      <td>160</td>\n",
              "      <td>209</td>\n",
              "      <td>0.812500</td>\n",
              "      <td>0.203488</td>\n",
              "      <td>1.215116</td>\n",
              "      <td>00:01:23</td>\n",
              "    </tr>\n",
              "    <tr>\n",
              "      <th>4</th>\n",
              "      <td>2020-03-05</td>\n",
              "      <td>208</td>\n",
              "      <td>199</td>\n",
              "      <td>266</td>\n",
              "      <td>0.859296</td>\n",
              "      <td>0.125000</td>\n",
              "      <td>1.278846</td>\n",
              "      <td>00:01:07</td>\n",
              "    </tr>\n",
              "    <tr>\n",
              "      <th>5</th>\n",
              "      <td>2020-03-04</td>\n",
              "      <td>242</td>\n",
              "      <td>221</td>\n",
              "      <td>307</td>\n",
              "      <td>0.809955</td>\n",
              "      <td>0.194215</td>\n",
              "      <td>1.268595</td>\n",
              "      <td>00:01:00</td>\n",
              "    </tr>\n",
              "  </tbody>\n",
              "</table>\n",
              "</div>"
            ],
            "text/plain": [
              "  Интервал дат визита  Визиты  ...  Глубина просмотра  Время на сайте\n",
              "1          2020-03-08      49  ...           1.122449        00:00:52\n",
              "2          2020-03-07     152  ...           1.302632        00:01:15\n",
              "3          2020-03-06     172  ...           1.215116        00:01:23\n",
              "4          2020-03-05     208  ...           1.278846        00:01:07\n",
              "5          2020-03-04     242  ...           1.268595        00:01:00\n",
              "\n",
              "[5 rows x 8 columns]"
            ]
          },
          "metadata": {
            "tags": []
          },
          "execution_count": 9
        }
      ]
    },
    {
      "cell_type": "markdown",
      "metadata": {
        "colab_type": "text",
        "id": "mKT3KdIBFqy2"
      },
      "source": [
        "**Задача 2.1**: определите, каким образом менялось поведение пользователей в зависимости от месяца и года. Постройте графики.\n",
        "\n",
        "По условию задачи исходный файл с данными модифицировать нельзя.\n",
        "\n",
        "За помощью обратитесь к [инструкции](https://github.com/dm-fedorov/pandas_basic/blob/master/%D0%B1%D1%8B%D1%81%D1%82%D1%80%D0%BE%D0%B5%20%D0%B2%D0%B2%D0%B5%D0%B4%D0%B5%D0%BD%D0%B8%D0%B5%20%D0%B2%20pandas/09.%20%D0%9A%D0%B0%D0%BA%20%D0%BB%D0%B5%D0%B3%D0%BA%D0%BE%20%D0%BE%D0%B1%D1%80%D0%B0%D0%B1%D0%B0%D1%82%D1%8B%D0%B2%D0%B0%D1%82%D1%8C%20%D0%B4%D0%B0%D0%BD%D0%BD%D1%8B%D0%B5%20%D0%B2%D1%80%D0%B5%D0%BC%D0%B5%D0%BD%D0%BD%D1%8B%D1%85%20%D1%80%D1%8F%D0%B4%D0%BE%D0%B2%3F.ipynb)."
      ]
    },
    {
      "cell_type": "markdown",
      "metadata": {
        "colab_type": "text",
        "id": "OwuH6zOFuiY0"
      },
      "source": [
        "1. Переведём данные столбца в формат datetime."
      ]
    },
    {
      "cell_type": "code",
      "metadata": {
        "colab_type": "code",
        "id": "AnjWU0zYFqzK",
        "outputId": "b194fa7b-630f-44d3-eb9b-4cd025cb7b57",
        "colab": {
          "base_uri": "https://localhost:8080/",
          "height": 221
        }
      },
      "source": [
        "df[\"Интервал дат визита\"] = pd.to_datetime(df[\"Интервал дат визита\"])\n",
        "\n",
        "df[\"Интервал дат визита\"]\n"
      ],
      "execution_count": 10,
      "outputs": [
        {
          "output_type": "execute_result",
          "data": {
            "text/plain": [
              "1      2020-03-08\n",
              "2      2020-03-07\n",
              "3      2020-03-06\n",
              "4      2020-03-05\n",
              "5      2020-03-04\n",
              "          ...    \n",
              "1093   2017-03-12\n",
              "1094   2017-03-11\n",
              "1095   2017-03-10\n",
              "1096   2017-03-09\n",
              "1097   2017-03-08\n",
              "Name: Интервал дат визита, Length: 1097, dtype: datetime64[ns]"
            ]
          },
          "metadata": {
            "tags": []
          },
          "execution_count": 10
        }
      ]
    },
    {
      "cell_type": "markdown",
      "metadata": {
        "colab_type": "text",
        "id": "kSAJcfVRvlyG"
      },
      "source": [
        "Создадим новый датафрэйм, в котором будут содержаться средние значения по всем столбцам. Перегруппируем временной период на месяца. \n",
        "Получили средние показатели для каждого месяца."
      ]
    },
    {
      "cell_type": "code",
      "metadata": {
        "colab_type": "code",
        "id": "gYHB-CLuQlHZ",
        "outputId": "994b13dc-42fa-4dd7-ca34-5d6fa3b79edc",
        "colab": {
          "base_uri": "https://localhost:8080/",
          "height": 1000
        }
      },
      "source": [
        "df = df.resample('M', on=\"Интервал дат визита\").mean()\n",
        "df"
      ],
      "execution_count": 11,
      "outputs": [
        {
          "output_type": "execute_result",
          "data": {
            "text/html": [
              "<div>\n",
              "<style scoped>\n",
              "    .dataframe tbody tr th:only-of-type {\n",
              "        vertical-align: middle;\n",
              "    }\n",
              "\n",
              "    .dataframe tbody tr th {\n",
              "        vertical-align: top;\n",
              "    }\n",
              "\n",
              "    .dataframe thead th {\n",
              "        text-align: right;\n",
              "    }\n",
              "</style>\n",
              "<table border=\"1\" class=\"dataframe\">\n",
              "  <thead>\n",
              "    <tr style=\"text-align: right;\">\n",
              "      <th></th>\n",
              "      <th>Визиты</th>\n",
              "      <th>Посетители</th>\n",
              "      <th>Просмотры</th>\n",
              "      <th>Доля новых посетителей</th>\n",
              "      <th>Отказы</th>\n",
              "      <th>Глубина просмотра</th>\n",
              "    </tr>\n",
              "    <tr>\n",
              "      <th>Интервал дат визита</th>\n",
              "      <th></th>\n",
              "      <th></th>\n",
              "      <th></th>\n",
              "      <th></th>\n",
              "      <th></th>\n",
              "      <th></th>\n",
              "    </tr>\n",
              "  </thead>\n",
              "  <tbody>\n",
              "    <tr>\n",
              "      <th>2017-03-31</th>\n",
              "      <td>530.333333</td>\n",
              "      <td>468.708333</td>\n",
              "      <td>751.375000</td>\n",
              "      <td>0.775001</td>\n",
              "      <td>0.134870</td>\n",
              "      <td>1.420962</td>\n",
              "    </tr>\n",
              "    <tr>\n",
              "      <th>2017-04-30</th>\n",
              "      <td>495.833333</td>\n",
              "      <td>436.733333</td>\n",
              "      <td>720.266667</td>\n",
              "      <td>0.776997</td>\n",
              "      <td>0.143677</td>\n",
              "      <td>1.457894</td>\n",
              "    </tr>\n",
              "    <tr>\n",
              "      <th>2017-05-31</th>\n",
              "      <td>434.516129</td>\n",
              "      <td>388.161290</td>\n",
              "      <td>641.258065</td>\n",
              "      <td>0.784017</td>\n",
              "      <td>0.165197</td>\n",
              "      <td>1.470824</td>\n",
              "    </tr>\n",
              "    <tr>\n",
              "      <th>2017-06-30</th>\n",
              "      <td>355.000000</td>\n",
              "      <td>321.633333</td>\n",
              "      <td>582.100000</td>\n",
              "      <td>0.791094</td>\n",
              "      <td>0.166214</td>\n",
              "      <td>1.610060</td>\n",
              "    </tr>\n",
              "    <tr>\n",
              "      <th>2017-07-31</th>\n",
              "      <td>209.451613</td>\n",
              "      <td>184.580645</td>\n",
              "      <td>361.677419</td>\n",
              "      <td>0.728195</td>\n",
              "      <td>0.158247</td>\n",
              "      <td>1.704932</td>\n",
              "    </tr>\n",
              "    <tr>\n",
              "      <th>2017-08-31</th>\n",
              "      <td>190.258065</td>\n",
              "      <td>160.741935</td>\n",
              "      <td>304.000000</td>\n",
              "      <td>0.674667</td>\n",
              "      <td>0.145575</td>\n",
              "      <td>1.595236</td>\n",
              "    </tr>\n",
              "    <tr>\n",
              "      <th>2017-09-30</th>\n",
              "      <td>321.066667</td>\n",
              "      <td>282.100000</td>\n",
              "      <td>507.666667</td>\n",
              "      <td>0.766718</td>\n",
              "      <td>0.147984</td>\n",
              "      <td>1.584445</td>\n",
              "    </tr>\n",
              "    <tr>\n",
              "      <th>2017-10-31</th>\n",
              "      <td>305.096774</td>\n",
              "      <td>271.935484</td>\n",
              "      <td>434.903226</td>\n",
              "      <td>0.786926</td>\n",
              "      <td>0.165850</td>\n",
              "      <td>1.427438</td>\n",
              "    </tr>\n",
              "    <tr>\n",
              "      <th>2017-11-30</th>\n",
              "      <td>311.333333</td>\n",
              "      <td>272.566667</td>\n",
              "      <td>434.800000</td>\n",
              "      <td>0.727672</td>\n",
              "      <td>0.151171</td>\n",
              "      <td>1.417022</td>\n",
              "    </tr>\n",
              "    <tr>\n",
              "      <th>2017-12-31</th>\n",
              "      <td>460.161290</td>\n",
              "      <td>407.225806</td>\n",
              "      <td>702.903226</td>\n",
              "      <td>0.775154</td>\n",
              "      <td>0.136865</td>\n",
              "      <td>1.538116</td>\n",
              "    </tr>\n",
              "    <tr>\n",
              "      <th>2018-01-31</th>\n",
              "      <td>377.129032</td>\n",
              "      <td>329.064516</td>\n",
              "      <td>578.774194</td>\n",
              "      <td>0.771838</td>\n",
              "      <td>0.142330</td>\n",
              "      <td>1.542695</td>\n",
              "    </tr>\n",
              "    <tr>\n",
              "      <th>2018-02-28</th>\n",
              "      <td>423.250000</td>\n",
              "      <td>371.464286</td>\n",
              "      <td>604.821429</td>\n",
              "      <td>0.795872</td>\n",
              "      <td>0.145799</td>\n",
              "      <td>1.429694</td>\n",
              "    </tr>\n",
              "    <tr>\n",
              "      <th>2018-03-31</th>\n",
              "      <td>460.193548</td>\n",
              "      <td>407.870968</td>\n",
              "      <td>632.000000</td>\n",
              "      <td>0.804833</td>\n",
              "      <td>0.135407</td>\n",
              "      <td>1.373057</td>\n",
              "    </tr>\n",
              "    <tr>\n",
              "      <th>2018-04-30</th>\n",
              "      <td>449.333333</td>\n",
              "      <td>399.433333</td>\n",
              "      <td>612.000000</td>\n",
              "      <td>0.804165</td>\n",
              "      <td>0.137430</td>\n",
              "      <td>1.366907</td>\n",
              "    </tr>\n",
              "    <tr>\n",
              "      <th>2018-05-31</th>\n",
              "      <td>343.354839</td>\n",
              "      <td>304.354839</td>\n",
              "      <td>474.419355</td>\n",
              "      <td>0.798816</td>\n",
              "      <td>0.158472</td>\n",
              "      <td>1.382371</td>\n",
              "    </tr>\n",
              "    <tr>\n",
              "      <th>2018-06-30</th>\n",
              "      <td>287.300000</td>\n",
              "      <td>248.000000</td>\n",
              "      <td>419.466667</td>\n",
              "      <td>0.814863</td>\n",
              "      <td>0.163991</td>\n",
              "      <td>1.466503</td>\n",
              "    </tr>\n",
              "    <tr>\n",
              "      <th>2018-07-31</th>\n",
              "      <td>173.548387</td>\n",
              "      <td>145.709677</td>\n",
              "      <td>295.903226</td>\n",
              "      <td>0.721978</td>\n",
              "      <td>0.155392</td>\n",
              "      <td>1.719221</td>\n",
              "    </tr>\n",
              "    <tr>\n",
              "      <th>2018-08-31</th>\n",
              "      <td>154.129032</td>\n",
              "      <td>128.419355</td>\n",
              "      <td>255.774194</td>\n",
              "      <td>0.724023</td>\n",
              "      <td>0.127209</td>\n",
              "      <td>1.659888</td>\n",
              "    </tr>\n",
              "    <tr>\n",
              "      <th>2018-09-30</th>\n",
              "      <td>247.500000</td>\n",
              "      <td>216.433333</td>\n",
              "      <td>380.066667</td>\n",
              "      <td>0.809108</td>\n",
              "      <td>0.148944</td>\n",
              "      <td>1.550267</td>\n",
              "    </tr>\n",
              "    <tr>\n",
              "      <th>2018-10-31</th>\n",
              "      <td>306.096774</td>\n",
              "      <td>278.580645</td>\n",
              "      <td>400.419355</td>\n",
              "      <td>0.837891</td>\n",
              "      <td>0.155899</td>\n",
              "      <td>1.311626</td>\n",
              "    </tr>\n",
              "    <tr>\n",
              "      <th>2018-11-30</th>\n",
              "      <td>329.933333</td>\n",
              "      <td>300.533333</td>\n",
              "      <td>438.466667</td>\n",
              "      <td>0.837453</td>\n",
              "      <td>0.147236</td>\n",
              "      <td>1.329166</td>\n",
              "    </tr>\n",
              "    <tr>\n",
              "      <th>2018-12-31</th>\n",
              "      <td>289.419355</td>\n",
              "      <td>260.354839</td>\n",
              "      <td>406.451613</td>\n",
              "      <td>0.817134</td>\n",
              "      <td>0.152152</td>\n",
              "      <td>1.422853</td>\n",
              "    </tr>\n",
              "    <tr>\n",
              "      <th>2019-01-31</th>\n",
              "      <td>263.580645</td>\n",
              "      <td>235.612903</td>\n",
              "      <td>376.354839</td>\n",
              "      <td>0.812266</td>\n",
              "      <td>0.149654</td>\n",
              "      <td>1.448776</td>\n",
              "    </tr>\n",
              "    <tr>\n",
              "      <th>2019-02-28</th>\n",
              "      <td>342.107143</td>\n",
              "      <td>309.392857</td>\n",
              "      <td>481.785714</td>\n",
              "      <td>0.833089</td>\n",
              "      <td>0.158637</td>\n",
              "      <td>1.428712</td>\n",
              "    </tr>\n",
              "    <tr>\n",
              "      <th>2019-03-31</th>\n",
              "      <td>315.419355</td>\n",
              "      <td>285.387097</td>\n",
              "      <td>429.032258</td>\n",
              "      <td>0.817422</td>\n",
              "      <td>0.132970</td>\n",
              "      <td>1.363457</td>\n",
              "    </tr>\n",
              "    <tr>\n",
              "      <th>2019-04-30</th>\n",
              "      <td>295.333333</td>\n",
              "      <td>268.100000</td>\n",
              "      <td>408.033333</td>\n",
              "      <td>0.824040</td>\n",
              "      <td>0.135505</td>\n",
              "      <td>1.392867</td>\n",
              "    </tr>\n",
              "    <tr>\n",
              "      <th>2019-05-31</th>\n",
              "      <td>225.193548</td>\n",
              "      <td>200.387097</td>\n",
              "      <td>331.483871</td>\n",
              "      <td>0.812380</td>\n",
              "      <td>0.154864</td>\n",
              "      <td>1.475262</td>\n",
              "    </tr>\n",
              "    <tr>\n",
              "      <th>2019-06-30</th>\n",
              "      <td>189.633333</td>\n",
              "      <td>170.400000</td>\n",
              "      <td>269.900000</td>\n",
              "      <td>0.827226</td>\n",
              "      <td>0.157605</td>\n",
              "      <td>1.422826</td>\n",
              "    </tr>\n",
              "    <tr>\n",
              "      <th>2019-07-31</th>\n",
              "      <td>134.419355</td>\n",
              "      <td>117.774194</td>\n",
              "      <td>212.354839</td>\n",
              "      <td>0.805096</td>\n",
              "      <td>0.150452</td>\n",
              "      <td>1.588661</td>\n",
              "    </tr>\n",
              "    <tr>\n",
              "      <th>2019-08-31</th>\n",
              "      <td>134.677419</td>\n",
              "      <td>112.645161</td>\n",
              "      <td>223.580645</td>\n",
              "      <td>0.808387</td>\n",
              "      <td>0.148307</td>\n",
              "      <td>1.652327</td>\n",
              "    </tr>\n",
              "    <tr>\n",
              "      <th>2019-09-30</th>\n",
              "      <td>239.000000</td>\n",
              "      <td>214.233333</td>\n",
              "      <td>345.300000</td>\n",
              "      <td>0.865624</td>\n",
              "      <td>0.174789</td>\n",
              "      <td>1.457646</td>\n",
              "    </tr>\n",
              "    <tr>\n",
              "      <th>2019-10-31</th>\n",
              "      <td>258.451613</td>\n",
              "      <td>234.451613</td>\n",
              "      <td>345.322581</td>\n",
              "      <td>0.860321</td>\n",
              "      <td>0.159836</td>\n",
              "      <td>1.335454</td>\n",
              "    </tr>\n",
              "    <tr>\n",
              "      <th>2019-11-30</th>\n",
              "      <td>265.066667</td>\n",
              "      <td>244.500000</td>\n",
              "      <td>342.066667</td>\n",
              "      <td>0.865337</td>\n",
              "      <td>0.164027</td>\n",
              "      <td>1.294682</td>\n",
              "    </tr>\n",
              "    <tr>\n",
              "      <th>2019-12-31</th>\n",
              "      <td>233.451613</td>\n",
              "      <td>216.419355</td>\n",
              "      <td>292.612903</td>\n",
              "      <td>0.867108</td>\n",
              "      <td>0.176287</td>\n",
              "      <td>1.257796</td>\n",
              "    </tr>\n",
              "    <tr>\n",
              "      <th>2020-01-31</th>\n",
              "      <td>296.354839</td>\n",
              "      <td>279.451613</td>\n",
              "      <td>362.290323</td>\n",
              "      <td>0.877079</td>\n",
              "      <td>0.138843</td>\n",
              "      <td>1.284732</td>\n",
              "    </tr>\n",
              "    <tr>\n",
              "      <th>2020-02-29</th>\n",
              "      <td>226.655172</td>\n",
              "      <td>206.862069</td>\n",
              "      <td>301.310345</td>\n",
              "      <td>0.857713</td>\n",
              "      <td>0.161194</td>\n",
              "      <td>1.330552</td>\n",
              "    </tr>\n",
              "    <tr>\n",
              "      <th>2020-03-31</th>\n",
              "      <td>201.750000</td>\n",
              "      <td>186.000000</td>\n",
              "      <td>257.500000</td>\n",
              "      <td>0.803269</td>\n",
              "      <td>0.177006</td>\n",
              "      <td>1.260310</td>\n",
              "    </tr>\n",
              "  </tbody>\n",
              "</table>\n",
              "</div>"
            ],
            "text/plain": [
              "                         Визиты  Посетители  ...    Отказы  Глубина просмотра\n",
              "Интервал дат визита                          ...                             \n",
              "2017-03-31           530.333333  468.708333  ...  0.134870           1.420962\n",
              "2017-04-30           495.833333  436.733333  ...  0.143677           1.457894\n",
              "2017-05-31           434.516129  388.161290  ...  0.165197           1.470824\n",
              "2017-06-30           355.000000  321.633333  ...  0.166214           1.610060\n",
              "2017-07-31           209.451613  184.580645  ...  0.158247           1.704932\n",
              "2017-08-31           190.258065  160.741935  ...  0.145575           1.595236\n",
              "2017-09-30           321.066667  282.100000  ...  0.147984           1.584445\n",
              "2017-10-31           305.096774  271.935484  ...  0.165850           1.427438\n",
              "2017-11-30           311.333333  272.566667  ...  0.151171           1.417022\n",
              "2017-12-31           460.161290  407.225806  ...  0.136865           1.538116\n",
              "2018-01-31           377.129032  329.064516  ...  0.142330           1.542695\n",
              "2018-02-28           423.250000  371.464286  ...  0.145799           1.429694\n",
              "2018-03-31           460.193548  407.870968  ...  0.135407           1.373057\n",
              "2018-04-30           449.333333  399.433333  ...  0.137430           1.366907\n",
              "2018-05-31           343.354839  304.354839  ...  0.158472           1.382371\n",
              "2018-06-30           287.300000  248.000000  ...  0.163991           1.466503\n",
              "2018-07-31           173.548387  145.709677  ...  0.155392           1.719221\n",
              "2018-08-31           154.129032  128.419355  ...  0.127209           1.659888\n",
              "2018-09-30           247.500000  216.433333  ...  0.148944           1.550267\n",
              "2018-10-31           306.096774  278.580645  ...  0.155899           1.311626\n",
              "2018-11-30           329.933333  300.533333  ...  0.147236           1.329166\n",
              "2018-12-31           289.419355  260.354839  ...  0.152152           1.422853\n",
              "2019-01-31           263.580645  235.612903  ...  0.149654           1.448776\n",
              "2019-02-28           342.107143  309.392857  ...  0.158637           1.428712\n",
              "2019-03-31           315.419355  285.387097  ...  0.132970           1.363457\n",
              "2019-04-30           295.333333  268.100000  ...  0.135505           1.392867\n",
              "2019-05-31           225.193548  200.387097  ...  0.154864           1.475262\n",
              "2019-06-30           189.633333  170.400000  ...  0.157605           1.422826\n",
              "2019-07-31           134.419355  117.774194  ...  0.150452           1.588661\n",
              "2019-08-31           134.677419  112.645161  ...  0.148307           1.652327\n",
              "2019-09-30           239.000000  214.233333  ...  0.174789           1.457646\n",
              "2019-10-31           258.451613  234.451613  ...  0.159836           1.335454\n",
              "2019-11-30           265.066667  244.500000  ...  0.164027           1.294682\n",
              "2019-12-31           233.451613  216.419355  ...  0.176287           1.257796\n",
              "2020-01-31           296.354839  279.451613  ...  0.138843           1.284732\n",
              "2020-02-29           226.655172  206.862069  ...  0.161194           1.330552\n",
              "2020-03-31           201.750000  186.000000  ...  0.177006           1.260310\n",
              "\n",
              "[37 rows x 6 columns]"
            ]
          },
          "metadata": {
            "tags": []
          },
          "execution_count": 11
        }
      ]
    },
    {
      "cell_type": "code",
      "metadata": {
        "colab_type": "code",
        "id": "KCNuoDLtRhpi",
        "outputId": "aa813c5c-1a55-4d30-d47e-56843f7b2b29",
        "colab": {
          "base_uri": "https://localhost:8080/",
          "height": 433
        }
      },
      "source": [
        "\n",
        "mf = df[['Визиты', 'Посетители', 'Просмотры']]\n",
        "pf = df[['Доля новых посетителей',\t'Отказы',\t'Глубина просмотра']]\n",
        "mf.plot(figsize=(8, 6), label = 'анализ поведения пользователей',style=['g', '#FF0000'])\n",
        "plt.title('Анализ поведения пользователей')\n",
        "plt.xlabel('Интервал дат')\n",
        "plt.ylabel('Средний показатель кол - ва раз')\n"
      ],
      "execution_count": 12,
      "outputs": [
        {
          "output_type": "execute_result",
          "data": {
            "text/plain": [
              "Text(0, 0.5, 'Средний показатель кол - ва раз')"
            ]
          },
          "metadata": {
            "tags": []
          },
          "execution_count": 12
        },
        {
          "output_type": "display_data",
          "data": {
            "image/png": "[encoded data removed]",
            "text/plain": [
              "<Figure size 576x432 with 1 Axes>"
            ]
          },
          "metadata": {
            "tags": [],
            "needs_background": "light"
          }
        }
      ]
    },
    {
      "cell_type": "code",
      "metadata": {
        "colab_type": "code",
        "id": "emRUZyIRwlWT",
        "outputId": "ceef074e-e70e-4772-c22d-8423bb1851b9",
        "colab": {
          "base_uri": "https://localhost:8080/",
          "height": 433
        }
      },
      "source": [
        "pf.plot(figsize=(8, 6), label = 'анализ поведения пользователей',style=['g', '#FF0000'])\n",
        "plt.title('Анализ поведения пользователей')\n",
        "plt.xlabel('Интервал дат')\n",
        "plt.ylabel('Средний показатель')"
      ],
      "execution_count": 13,
      "outputs": [
        {
          "output_type": "execute_result",
          "data": {
            "text/plain": [
              "Text(0, 0.5, 'Средний показатель')"
            ]
          },
          "metadata": {
            "tags": []
          },
          "execution_count": 13
        },
        {
          "output_type": "display_data",
          "data": {
            "image/png": "[encoded data removed]",
            "text/plain": [
              "<Figure size 576x432 with 1 Axes>"
            ]
          },
          "metadata": {
            "tags": [],
            "needs_background": "light"
          }
        }
      ]
    },
    {
      "cell_type": "markdown",
      "metadata": {
        "colab_type": "text",
        "id": "nJOYX_jtFq3C"
      },
      "source": [
        "### Задание 3"
      ]
    },
    {
      "cell_type": "markdown",
      "metadata": {
        "colab_type": "text",
        "id": "iPy2F5oFFq3E"
      },
      "source": [
        "В этом задании Вам предстоит выполнить роль аналитика данных в области образования.\n",
        "\n",
        "Заказчик (руководство вуза) предоставил обезличенные данные с баллами ЕГЭ студентов (`stud_spisok_ege.csv`) и сведения о баллах за контрольные работы (`stud_spisok_ball.csv`).\n",
        "\n",
        "Анализ этих данных позволит руководству вуза принимать обоснованные решения по повышению качества процесса обучения и выстраивать персональные образовательные маршруты (построить рекомендательную систему на основе искусственного интеллекта).\n",
        "\n",
        "По условию задания исходные файлы с данными модифицировать нельзя."
      ]
    },
    {
      "cell_type": "code",
      "metadata": {
        "colab_type": "code",
        "id": "YeFcNnoUFq3f",
        "outputId": "3b76c33d-3e4d-4cd0-ac1f-398c069d7363",
        "colab": {
          "base_uri": "https://localhost:8080/",
          "height": 204
        }
      },
      "source": [
        "import pandas as pd\n",
        "\n",
        "url = \"https://raw.githubusercontent.com/dm-fedorov/pandas_basic/master/data/data_stud/stud_spisok_ege.csv\"\n",
        "\n",
        "pf = pd.read_csv(url, sep=';')\n",
        "pf.head()"
      ],
      "execution_count": 103,
      "outputs": [
        {
          "output_type": "execute_result",
          "data": {
            "text/html": [
              "<div>\n",
              "<style scoped>\n",
              "    .dataframe tbody tr th:only-of-type {\n",
              "        vertical-align: middle;\n",
              "    }\n",
              "\n",
              "    .dataframe tbody tr th {\n",
              "        vertical-align: top;\n",
              "    }\n",
              "\n",
              "    .dataframe thead th {\n",
              "        text-align: right;\n",
              "    }\n",
              "</style>\n",
              "<table border=\"1\" class=\"dataframe\">\n",
              "  <thead>\n",
              "    <tr style=\"text-align: right;\">\n",
              "      <th></th>\n",
              "      <th>stud_kod</th>\n",
              "      <th>predmet_name</th>\n",
              "      <th>ball</th>\n",
              "      <th>year</th>\n",
              "      <th>svid_status</th>\n",
              "    </tr>\n",
              "  </thead>\n",
              "  <tbody>\n",
              "    <tr>\n",
              "      <th>0</th>\n",
              "      <td>50095</td>\n",
              "      <td>Русский язык</td>\n",
              "      <td>76</td>\n",
              "      <td>2013</td>\n",
              "      <td>Действительно</td>\n",
              "    </tr>\n",
              "    <tr>\n",
              "      <th>1</th>\n",
              "      <td>50095</td>\n",
              "      <td>Английский язык</td>\n",
              "      <td>94</td>\n",
              "      <td>2013</td>\n",
              "      <td>Действительно</td>\n",
              "    </tr>\n",
              "    <tr>\n",
              "      <th>2</th>\n",
              "      <td>50095</td>\n",
              "      <td>Математика</td>\n",
              "      <td>56</td>\n",
              "      <td>2013</td>\n",
              "      <td>Действительно</td>\n",
              "    </tr>\n",
              "    <tr>\n",
              "      <th>3</th>\n",
              "      <td>50095</td>\n",
              "      <td>Обществознание</td>\n",
              "      <td>70</td>\n",
              "      <td>2013</td>\n",
              "      <td>Действительно</td>\n",
              "    </tr>\n",
              "    <tr>\n",
              "      <th>4</th>\n",
              "      <td>50104</td>\n",
              "      <td>Русский язык</td>\n",
              "      <td>72</td>\n",
              "      <td>2013</td>\n",
              "      <td>Действительно</td>\n",
              "    </tr>\n",
              "  </tbody>\n",
              "</table>\n",
              "</div>"
            ],
            "text/plain": [
              "   stud_kod     predmet_name  ball  year    svid_status\n",
              "0     50095     Русский язык    76  2013  Действительно\n",
              "1     50095  Английский язык    94  2013  Действительно\n",
              "2     50095       Математика    56  2013  Действительно\n",
              "3     50095   Обществознание    70  2013  Действительно\n",
              "4     50104     Русский язык    72  2013  Действительно"
            ]
          },
          "metadata": {
            "tags": []
          },
          "execution_count": 103
        }
      ]
    },
    {
      "cell_type": "markdown",
      "metadata": {
        "colab_type": "text",
        "id": "DBhJN8ltFq5B"
      },
      "source": [
        "- `stud_kod` - идентификатор студента\n",
        "- `predmet_name` - имя предмета\n",
        "- `ball` - балл\n",
        "- `year` - год сдачи\n",
        "- `svid_status` - статус свидетельства о сдаче ЕГЭ"
      ]
    },
    {
      "cell_type": "code",
      "metadata": {
        "colab_type": "code",
        "id": "MBDgFy1fFq5F",
        "outputId": "748cca23-e987-47ae-b88e-886a12915200",
        "colab": {
          "base_uri": "https://localhost:8080/",
          "height": 204
        }
      },
      "source": [
        "import pandas as pd\n",
        "\n",
        "url = \"https://raw.githubusercontent.com/dm-fedorov/pandas_basic/master/data/data_stud/stud_spisok_ball.csv\"\n",
        "\n",
        "nf = pd.read_csv(url, sep=';')\n",
        "nf.head()"
      ],
      "execution_count": 104,
      "outputs": [
        {
          "output_type": "execute_result",
          "data": {
            "text/html": [
              "<div>\n",
              "<style scoped>\n",
              "    .dataframe tbody tr th:only-of-type {\n",
              "        vertical-align: middle;\n",
              "    }\n",
              "\n",
              "    .dataframe tbody tr th {\n",
              "        vertical-align: top;\n",
              "    }\n",
              "\n",
              "    .dataframe thead th {\n",
              "        text-align: right;\n",
              "    }\n",
              "</style>\n",
              "<table border=\"1\" class=\"dataframe\">\n",
              "  <thead>\n",
              "    <tr style=\"text-align: right;\">\n",
              "      <th></th>\n",
              "      <th>stud_kod</th>\n",
              "      <th>uch_plan_kod</th>\n",
              "      <th>predmet_name</th>\n",
              "      <th>ball</th>\n",
              "      <th>ts</th>\n",
              "      <th>cd_nomer</th>\n",
              "      <th>semestr</th>\n",
              "      <th>cd_type_name</th>\n",
              "      <th>uch_plan_punkt_kod</th>\n",
              "    </tr>\n",
              "  </thead>\n",
              "  <tbody>\n",
              "    <tr>\n",
              "      <th>0</th>\n",
              "      <td>8</td>\n",
              "      <td>1</td>\n",
              "      <td>История</td>\n",
              "      <td>25</td>\n",
              "      <td>25-дек-11</td>\n",
              "      <td>1</td>\n",
              "      <td>1</td>\n",
              "      <td>Эссе</td>\n",
              "      <td>255</td>\n",
              "    </tr>\n",
              "    <tr>\n",
              "      <th>1</th>\n",
              "      <td>8</td>\n",
              "      <td>1</td>\n",
              "      <td>История</td>\n",
              "      <td>30</td>\n",
              "      <td>25-дек-11</td>\n",
              "      <td>2</td>\n",
              "      <td>1</td>\n",
              "      <td>Презентация</td>\n",
              "      <td>255</td>\n",
              "    </tr>\n",
              "    <tr>\n",
              "      <th>2</th>\n",
              "      <td>8</td>\n",
              "      <td>1</td>\n",
              "      <td>История</td>\n",
              "      <td>45</td>\n",
              "      <td>NaN</td>\n",
              "      <td>3</td>\n",
              "      <td>1</td>\n",
              "      <td>Аналитическая работа</td>\n",
              "      <td>255</td>\n",
              "    </tr>\n",
              "    <tr>\n",
              "      <th>3</th>\n",
              "      <td>8</td>\n",
              "      <td>1</td>\n",
              "      <td>Философия</td>\n",
              "      <td>15</td>\n",
              "      <td>30-апр-15</td>\n",
              "      <td>2</td>\n",
              "      <td>1</td>\n",
              "      <td>Реферат</td>\n",
              "      <td>293</td>\n",
              "    </tr>\n",
              "    <tr>\n",
              "      <th>4</th>\n",
              "      <td>8</td>\n",
              "      <td>1</td>\n",
              "      <td>Философия</td>\n",
              "      <td>18</td>\n",
              "      <td>30-апр-15</td>\n",
              "      <td>1</td>\n",
              "      <td>1</td>\n",
              "      <td>Аналитическая работа</td>\n",
              "      <td>293</td>\n",
              "    </tr>\n",
              "  </tbody>\n",
              "</table>\n",
              "</div>"
            ],
            "text/plain": [
              "   stud_kod  uch_plan_kod  ...          cd_type_name uch_plan_punkt_kod\n",
              "0         8             1  ...                  Эссе                255\n",
              "1         8             1  ...           Презентация                255\n",
              "2         8             1  ...  Аналитическая работа                255\n",
              "3         8             1  ...               Реферат                293\n",
              "4         8             1  ...  Аналитическая работа                293\n",
              "\n",
              "[5 rows x 9 columns]"
            ]
          },
          "metadata": {
            "tags": []
          },
          "execution_count": 104
        }
      ]
    },
    {
      "cell_type": "markdown",
      "metadata": {
        "colab_type": "text",
        "id": "eWWYUzNvFq6Y"
      },
      "source": [
        "- `stud_kod` - идентификатор студента \n",
        "- `uch_plan_kod` - внутренний код учебного плана\n",
        "- `predmet_name` - имя дисциплины по учебному плану\n",
        "- `ball` - балл за контрольную работу\n",
        "- `ts` - время, когда оценка внесена в систему\n",
        "- `cd_nomer` - номер контрольной работы, если их несколько за семестр\n",
        "- `semestr` - семестр\n",
        "- `cd_type_name` - вид контрольной работы\n",
        "- `uch_plan_punkt_kod` - идентификатор учебного плана"
      ]
    },
    {
      "cell_type": "markdown",
      "metadata": {
        "colab_type": "text",
        "id": "OJab92SnFq6k"
      },
      "source": [
        "**Задача 3.1**: определите, всего сколько студентов представлено в наборе данных."
      ]
    },
    {
      "cell_type": "code",
      "metadata": {
        "colab_type": "code",
        "id": "jQ2eYfoDFq6o",
        "outputId": "9c56f079-4e98-4c82-e2e3-6ac752185e25",
        "colab": {
          "base_uri": "https://localhost:8080/",
          "height": 51
        }
      },
      "source": [
        "print('Колв-во абитуриентов, сдававших ЕГЭ:')\n",
        "pf['stud_kod'].nunique()\n"
      ],
      "execution_count": 105,
      "outputs": [
        {
          "output_type": "stream",
          "text": [
            "Колв-во абитуриентов, сдававших ЕГЭ:\n"
          ],
          "name": "stdout"
        },
        {
          "output_type": "execute_result",
          "data": {
            "text/plain": [
              "3001"
            ]
          },
          "metadata": {
            "tags": []
          },
          "execution_count": 105
        }
      ]
    },
    {
      "cell_type": "code",
      "metadata": {
        "colab_type": "code",
        "id": "IcFpdRoufnZq",
        "outputId": "cd431012-3427-462a-9ca1-c052da466b78",
        "colab": {
          "base_uri": "https://localhost:8080/",
          "height": 51
        }
      },
      "source": [
        "print('Колв-во студентов университета:')\n",
        "nf['stud_kod'].nunique()"
      ],
      "execution_count": 106,
      "outputs": [
        {
          "output_type": "stream",
          "text": [
            "Колв-во студентов университета:\n"
          ],
          "name": "stdout"
        },
        {
          "output_type": "execute_result",
          "data": {
            "text/plain": [
              "285"
            ]
          },
          "metadata": {
            "tags": []
          },
          "execution_count": 106
        }
      ]
    },
    {
      "cell_type": "code",
      "metadata": {
        "colab_type": "code",
        "id": "BhZOMOp4fKoJ",
        "outputId": "aaa9dd82-bae2-4555-824f-123e481dec4f",
        "colab": {
          "base_uri": "https://localhost:8080/",
          "height": 34
        }
      },
      "source": [
        "suma = pf['stud_kod'].nunique() + nf['stud_kod'].nunique()\n",
        "print('Всего в наборе данных представлено', suma, 'студентов')\n"
      ],
      "execution_count": 107,
      "outputs": [
        {
          "output_type": "stream",
          "text": [
            "Всего в наборе данных представлено 3286 студентов\n"
          ],
          "name": "stdout"
        }
      ]
    },
    {
      "cell_type": "markdown",
      "metadata": {
        "colab_type": "text",
        "id": "3dPN-6cYFq7G"
      },
      "source": [
        "**Задача 3.2**: определите по данным ЕГЭ те предметы, которые чаще всего сдают абитуренты в этом вузе. "
      ]
    },
    {
      "cell_type": "code",
      "metadata": {
        "colab_type": "code",
        "id": "UhPbXTPtiZK6",
        "outputId": "a8318b1b-2267-452e-e16a-cb8b5cf051e8",
        "colab": {
          "base_uri": "https://localhost:8080/",
          "height": 306
        }
      },
      "source": [
        "pf['predmet_name'].value_counts()"
      ],
      "execution_count": 108,
      "outputs": [
        {
          "output_type": "execute_result",
          "data": {
            "text/plain": [
              "Математика                  3049\n",
              "Русский язык                3045\n",
              "Обществознание              3033\n",
              "Сочинение                   1303\n",
              "Английский язык              973\n",
              "История                      348\n",
              "Физика                       170\n",
              "Информатика и ИКТ             83\n",
              "Биология                      61\n",
              "Литература                    60\n",
              "География                     39\n",
              "Химия                         29\n",
              "Немецкий язык                 28\n",
              "Французский язык              11\n",
              "Английский язык (устный)       6\n",
              "Немецкий язык (устный)         1\n",
              "Name: predmet_name, dtype: int64"
            ]
          },
          "metadata": {
            "tags": []
          },
          "execution_count": 108
        }
      ]
    },
    {
      "cell_type": "code",
      "metadata": {
        "colab_type": "code",
        "id": "00AXGVxtipLM",
        "outputId": "4be254ec-5a55-42db-d894-20f4867a9e12",
        "colab": {
          "base_uri": "https://localhost:8080/",
          "height": 136
        }
      },
      "source": [
        "kr = pf['predmet_name'].value_counts()\n",
        "print('Топ - 5 предметов ЕГЭ, которые чаще всего сдают абитуренты в этом вузе: ')\n",
        "kr.head()"
      ],
      "execution_count": 109,
      "outputs": [
        {
          "output_type": "stream",
          "text": [
            "Топ - 5 предметов ЕГЭ, которые чаще всего сдают абитуренты в этом вузе: \n"
          ],
          "name": "stdout"
        },
        {
          "output_type": "execute_result",
          "data": {
            "text/plain": [
              "Математика         3049\n",
              "Русский язык       3045\n",
              "Обществознание     3033\n",
              "Сочинение          1303\n",
              "Английский язык     973\n",
              "Name: predmet_name, dtype: int64"
            ]
          },
          "metadata": {
            "tags": []
          },
          "execution_count": 109
        }
      ]
    },
    {
      "cell_type": "markdown",
      "metadata": {
        "colab_type": "text",
        "id": "xSB2lFktFq8A"
      },
      "source": [
        "**Задача 3.3**: определите средние, минимальные и максимальные баллы ЕГЭ по отдельным предметам."
      ]
    },
    {
      "cell_type": "code",
      "metadata": {
        "colab_type": "code",
        "id": "kVgk4A4QsHV_",
        "outputId": "c7c54154-436c-42bf-fd4f-3325fd8460b4",
        "colab": {
          "base_uri": "https://localhost:8080/",
          "height": 165
        }
      },
      "source": [
        "lf = pf\n",
        "lf = lf.pivot_table(values=\"ball\", index=\"stud_kod\",\n",
        "                        columns=\"predmet_name\", aggfunc=\"max\",\n",
        "                        margins=True, margins_name = 'Max')\n",
        "lf.tail(1)\n",
        "\n"
      ],
      "execution_count": 110,
      "outputs": [
        {
          "output_type": "execute_result",
          "data": {
            "text/html": [
              "<div>\n",
              "<style scoped>\n",
              "    .dataframe tbody tr th:only-of-type {\n",
              "        vertical-align: middle;\n",
              "    }\n",
              "\n",
              "    .dataframe tbody tr th {\n",
              "        vertical-align: top;\n",
              "    }\n",
              "\n",
              "    .dataframe thead th {\n",
              "        text-align: right;\n",
              "    }\n",
              "</style>\n",
              "<table border=\"1\" class=\"dataframe\">\n",
              "  <thead>\n",
              "    <tr style=\"text-align: right;\">\n",
              "      <th>predmet_name</th>\n",
              "      <th>Английский язык</th>\n",
              "      <th>Английский язык (устный)</th>\n",
              "      <th>Биология</th>\n",
              "      <th>География</th>\n",
              "      <th>Информатика и ИКТ</th>\n",
              "      <th>История</th>\n",
              "      <th>Литература</th>\n",
              "      <th>Математика</th>\n",
              "      <th>Немецкий язык</th>\n",
              "      <th>Немецкий язык (устный)</th>\n",
              "      <th>Обществознание</th>\n",
              "      <th>Русский язык</th>\n",
              "      <th>Сочинение</th>\n",
              "      <th>Физика</th>\n",
              "      <th>Французский язык</th>\n",
              "      <th>Химия</th>\n",
              "      <th>Max</th>\n",
              "    </tr>\n",
              "    <tr>\n",
              "      <th>stud_kod</th>\n",
              "      <th></th>\n",
              "      <th></th>\n",
              "      <th></th>\n",
              "      <th></th>\n",
              "      <th></th>\n",
              "      <th></th>\n",
              "      <th></th>\n",
              "      <th></th>\n",
              "      <th></th>\n",
              "      <th></th>\n",
              "      <th></th>\n",
              "      <th></th>\n",
              "      <th></th>\n",
              "      <th></th>\n",
              "      <th></th>\n",
              "      <th></th>\n",
              "      <th></th>\n",
              "    </tr>\n",
              "  </thead>\n",
              "  <tbody>\n",
              "    <tr>\n",
              "      <th>Max</th>\n",
              "      <td>100.0</td>\n",
              "      <td>0.0</td>\n",
              "      <td>93.0</td>\n",
              "      <td>85.0</td>\n",
              "      <td>94.0</td>\n",
              "      <td>100.0</td>\n",
              "      <td>87.0</td>\n",
              "      <td>100.0</td>\n",
              "      <td>90.0</td>\n",
              "      <td>0.0</td>\n",
              "      <td>100.0</td>\n",
              "      <td>100.0</td>\n",
              "      <td>1.0</td>\n",
              "      <td>96.0</td>\n",
              "      <td>92.0</td>\n",
              "      <td>98.0</td>\n",
              "      <td>100</td>\n",
              "    </tr>\n",
              "  </tbody>\n",
              "</table>\n",
              "</div>"
            ],
            "text/plain": [
              "predmet_name  Английский язык  Английский язык (устный)  ...  Химия  Max\n",
              "stud_kod                                                 ...            \n",
              "Max                     100.0                       0.0  ...   98.0  100\n",
              "\n",
              "[1 rows x 17 columns]"
            ]
          },
          "metadata": {
            "tags": []
          },
          "execution_count": 110
        }
      ]
    },
    {
      "cell_type": "markdown",
      "metadata": {
        "colab_type": "text",
        "id": "rWCm2-o_7yuu"
      },
      "source": [
        "Найдём минимальные значения ЕГЭ, исключая нулевые значения."
      ]
    },
    {
      "cell_type": "code",
      "metadata": {
        "colab_type": "code",
        "id": "hPj7SN-ztcfP",
        "outputId": "6e4d7c2f-32cc-4035-85ba-ca45d222f3b5",
        "colab": {
          "base_uri": "https://localhost:8080/",
          "height": 148
        }
      },
      "source": [
        "import numpy as np\n",
        "lf = pf\n",
        "lf = lf.replace(0, np.NaN)\n",
        "lf = lf.pivot_table(values=\"ball\", index=\"stud_kod\",\n",
        "                        columns=\"predmet_name\", aggfunc=\"min\",\n",
        "                        margins=True, margins_name = 'Min')\n",
        "lf.tail(1)\n"
      ],
      "execution_count": 111,
      "outputs": [
        {
          "output_type": "execute_result",
          "data": {
            "text/html": [
              "<div>\n",
              "<style scoped>\n",
              "    .dataframe tbody tr th:only-of-type {\n",
              "        vertical-align: middle;\n",
              "    }\n",
              "\n",
              "    .dataframe tbody tr th {\n",
              "        vertical-align: top;\n",
              "    }\n",
              "\n",
              "    .dataframe thead th {\n",
              "        text-align: right;\n",
              "    }\n",
              "</style>\n",
              "<table border=\"1\" class=\"dataframe\">\n",
              "  <thead>\n",
              "    <tr style=\"text-align: right;\">\n",
              "      <th>predmet_name</th>\n",
              "      <th>Английский язык</th>\n",
              "      <th>Биология</th>\n",
              "      <th>География</th>\n",
              "      <th>Информатика и ИКТ</th>\n",
              "      <th>История</th>\n",
              "      <th>Литература</th>\n",
              "      <th>Математика</th>\n",
              "      <th>Немецкий язык</th>\n",
              "      <th>Обществознание</th>\n",
              "      <th>Русский язык</th>\n",
              "      <th>Сочинение</th>\n",
              "      <th>Физика</th>\n",
              "      <th>Французский язык</th>\n",
              "      <th>Химия</th>\n",
              "      <th>Min</th>\n",
              "    </tr>\n",
              "    <tr>\n",
              "      <th>stud_kod</th>\n",
              "      <th></th>\n",
              "      <th></th>\n",
              "      <th></th>\n",
              "      <th></th>\n",
              "      <th></th>\n",
              "      <th></th>\n",
              "      <th></th>\n",
              "      <th></th>\n",
              "      <th></th>\n",
              "      <th></th>\n",
              "      <th></th>\n",
              "      <th></th>\n",
              "      <th></th>\n",
              "      <th></th>\n",
              "      <th></th>\n",
              "    </tr>\n",
              "  </thead>\n",
              "  <tbody>\n",
              "    <tr>\n",
              "      <th>Min</th>\n",
              "      <td>22.0</td>\n",
              "      <td>36.0</td>\n",
              "      <td>37.0</td>\n",
              "      <td>35.0</td>\n",
              "      <td>32.0</td>\n",
              "      <td>35.0</td>\n",
              "      <td>20.0</td>\n",
              "      <td>23.0</td>\n",
              "      <td>40.0</td>\n",
              "      <td>37.0</td>\n",
              "      <td>1.0</td>\n",
              "      <td>27.0</td>\n",
              "      <td>44.0</td>\n",
              "      <td>36.0</td>\n",
              "      <td>1.0</td>\n",
              "    </tr>\n",
              "  </tbody>\n",
              "</table>\n",
              "</div>"
            ],
            "text/plain": [
              "predmet_name  Английский язык  Биология  ...  Химия  Min\n",
              "stud_kod                                 ...            \n",
              "Min                      22.0      36.0  ...   36.0  1.0\n",
              "\n",
              "[1 rows x 15 columns]"
            ]
          },
          "metadata": {
            "tags": []
          },
          "execution_count": 111
        }
      ]
    },
    {
      "cell_type": "code",
      "metadata": {
        "colab_type": "code",
        "id": "XLhHyoq-uwAz",
        "outputId": "540196cc-7ffe-4417-be22-f9f9752dae1a",
        "colab": {
          "base_uri": "https://localhost:8080/",
          "height": 148
        }
      },
      "source": [
        "lf = pf\n",
        "lf = lf.replace(0, np.NaN)\n",
        "lf = lf.pivot_table(values=\"ball\", index=\"stud_kod\",\n",
        "                        columns=\"predmet_name\", aggfunc=\"mean\",\n",
        "                        margins=True, margins_name = 'Mean')\n",
        "lf.tail(1)"
      ],
      "execution_count": 112,
      "outputs": [
        {
          "output_type": "execute_result",
          "data": {
            "text/html": [
              "<div>\n",
              "<style scoped>\n",
              "    .dataframe tbody tr th:only-of-type {\n",
              "        vertical-align: middle;\n",
              "    }\n",
              "\n",
              "    .dataframe tbody tr th {\n",
              "        vertical-align: top;\n",
              "    }\n",
              "\n",
              "    .dataframe thead th {\n",
              "        text-align: right;\n",
              "    }\n",
              "</style>\n",
              "<table border=\"1\" class=\"dataframe\">\n",
              "  <thead>\n",
              "    <tr style=\"text-align: right;\">\n",
              "      <th>predmet_name</th>\n",
              "      <th>Английский язык</th>\n",
              "      <th>Биология</th>\n",
              "      <th>География</th>\n",
              "      <th>Информатика и ИКТ</th>\n",
              "      <th>История</th>\n",
              "      <th>Литература</th>\n",
              "      <th>Математика</th>\n",
              "      <th>Немецкий язык</th>\n",
              "      <th>Обществознание</th>\n",
              "      <th>Русский язык</th>\n",
              "      <th>Сочинение</th>\n",
              "      <th>Физика</th>\n",
              "      <th>Французский язык</th>\n",
              "      <th>Химия</th>\n",
              "      <th>Mean</th>\n",
              "    </tr>\n",
              "    <tr>\n",
              "      <th>stud_kod</th>\n",
              "      <th></th>\n",
              "      <th></th>\n",
              "      <th></th>\n",
              "      <th></th>\n",
              "      <th></th>\n",
              "      <th></th>\n",
              "      <th></th>\n",
              "      <th></th>\n",
              "      <th></th>\n",
              "      <th></th>\n",
              "      <th></th>\n",
              "      <th></th>\n",
              "      <th></th>\n",
              "      <th></th>\n",
              "      <th></th>\n",
              "    </tr>\n",
              "  </thead>\n",
              "  <tbody>\n",
              "    <tr>\n",
              "      <th>Mean</th>\n",
              "      <td>70.383661</td>\n",
              "      <td>58.431034</td>\n",
              "      <td>64.333333</td>\n",
              "      <td>65.64557</td>\n",
              "      <td>62.834337</td>\n",
              "      <td>64.355932</td>\n",
              "      <td>64.516331</td>\n",
              "      <td>66.285714</td>\n",
              "      <td>71.524439</td>\n",
              "      <td>79.186987</td>\n",
              "      <td>1.0</td>\n",
              "      <td>56.447205</td>\n",
              "      <td>71.636364</td>\n",
              "      <td>61.346154</td>\n",
              "      <td>63.431884</td>\n",
              "    </tr>\n",
              "  </tbody>\n",
              "</table>\n",
              "</div>"
            ],
            "text/plain": [
              "predmet_name  Английский язык   Биология  ...      Химия       Mean\n",
              "stud_kod                                  ...                      \n",
              "Mean                70.383661  58.431034  ...  61.346154  63.431884\n",
              "\n",
              "[1 rows x 15 columns]"
            ]
          },
          "metadata": {
            "tags": []
          },
          "execution_count": 112
        }
      ]
    },
    {
      "cell_type": "markdown",
      "metadata": {
        "colab_type": "text",
        "id": "DIsvQnZkFq-D"
      },
      "source": [
        "**Задача 3.4**: определите годы с максимальными и минимальными показателями ЕГЭ."
      ]
    },
    {
      "cell_type": "markdown",
      "metadata": {
        "colab_type": "text",
        "id": "BdJ5gVVY4Gbm"
      },
      "source": [
        "Вывели максимальное и минимальное для каждого года\n",
        "(?) как вывести только один год с мин\\макс за всё время"
      ]
    },
    {
      "cell_type": "code",
      "metadata": {
        "colab_type": "code",
        "id": "VWqhbH3tP3nH",
        "outputId": "f856d431-0817-4271-ab45-c6272cf763d6",
        "colab": {
          "base_uri": "https://localhost:8080/",
          "height": 51
        }
      },
      "source": [
        "mean_ball = pf.groupby(\"year\")[\"ball\"].mean()\n",
        "min_ball= mean_ball.min()\n",
        "max_ball= mean_ball.max()\n",
        "\n",
        "dict1 = dict(zip(mean_ball.values,mean_ball.index))\n",
        "\n",
        "print(\"Наименьший средний показатель, равный\", round(min_ball), 'баллов был зафиксирован в', dict1[min_ball], 'году.' )\n",
        "\n",
        "print(\"Наибольший средний показатель, равный\", round(max_ball), 'баллов был зафиксирован в', dict1[max_ball], 'году.' )\n",
        "\n"
      ],
      "execution_count": 113,
      "outputs": [
        {
          "output_type": "stream",
          "text": [
            "Наименьший средний показатель, равный 31 баллов был зафиксирован в 2009 году.\n",
            "Наибольший средний показатель, равный 71 баллов был зафиксирован в 2013 году.\n"
          ],
          "name": "stdout"
        }
      ]
    },
    {
      "cell_type": "markdown",
      "metadata": {
        "colab_type": "text",
        "id": "A1PShMJ2Fq-Z"
      },
      "source": [
        "**Задача 3.5**: определите наиболее часто встречающийся вид контрольной работы в вузе."
      ]
    },
    {
      "cell_type": "code",
      "metadata": {
        "colab_type": "code",
        "id": "jQl7ZryR3t3r",
        "outputId": "8607c5bb-dd43-4207-abe0-efdd6caf77b4",
        "colab": {
          "base_uri": "https://localhost:8080/",
          "height": 136
        }
      },
      "source": [
        "\n",
        "km = nf['cd_type_name'].value_counts()\n",
        "print('Топ - 5 наиболее часто встречающихся видов кр в вузе: ')\n",
        "km.head()"
      ],
      "execution_count": 114,
      "outputs": [
        {
          "output_type": "stream",
          "text": [
            "Топ - 5 наиболее часто встречающихся видов кр в вузе: \n"
          ],
          "name": "stdout"
        },
        {
          "output_type": "execute_result",
          "data": {
            "text/plain": [
              "Контрольная работа      20104\n",
              "Текущий контроль        10105\n",
              "Экзамен                  8848\n",
              "Тест                     7791\n",
              "Аналитическая работа     3061\n",
              "Name: cd_type_name, dtype: int64"
            ]
          },
          "metadata": {
            "tags": []
          },
          "execution_count": 114
        }
      ]
    },
    {
      "cell_type": "markdown",
      "metadata": {
        "colab_type": "text",
        "id": "SCn7ZK7BFq-q"
      },
      "source": [
        "**Задача 3.6**: определите дисциплину(ы), вызвавшую наибольшие сложности у студентов. \n",
        "\n",
        "Это позволит усилить подготовку по данным дисциплинам через внедрение факультативных занятий. "
      ]
    },
    {
      "cell_type": "markdown",
      "metadata": {
        "colab_type": "text",
        "id": "VFHGqw_8IGzq"
      },
      "source": [
        "Создадим новый датафрэйм и поместим туда название дисциплины и балл студента. Уберём пустые значения"
      ]
    },
    {
      "cell_type": "code",
      "metadata": {
        "colab_type": "code",
        "id": "0hGSxTnM8axx",
        "outputId": "65d02d59-c3e6-4538-bbfa-a0f99198cdc1",
        "colab": {
          "base_uri": "https://localhost:8080/",
          "height": 419
        }
      },
      "source": [
        "import numpy as np\n",
        "\n",
        "bf6 = (nf.dropna()).loc[:,[\"predmet_name\", \"ball\"]].copy()\n",
        "bf6[\"ball\"] = bf6[\"ball\"].apply(np.vectorize(lambda a: float(a.replace(\",\", \".\"))))\n",
        "bf6"
      ],
      "execution_count": 115,
      "outputs": [
        {
          "output_type": "execute_result",
          "data": {
            "text/html": [
              "<div>\n",
              "<style scoped>\n",
              "    .dataframe tbody tr th:only-of-type {\n",
              "        vertical-align: middle;\n",
              "    }\n",
              "\n",
              "    .dataframe tbody tr th {\n",
              "        vertical-align: top;\n",
              "    }\n",
              "\n",
              "    .dataframe thead th {\n",
              "        text-align: right;\n",
              "    }\n",
              "</style>\n",
              "<table border=\"1\" class=\"dataframe\">\n",
              "  <thead>\n",
              "    <tr style=\"text-align: right;\">\n",
              "      <th></th>\n",
              "      <th>predmet_name</th>\n",
              "      <th>ball</th>\n",
              "    </tr>\n",
              "  </thead>\n",
              "  <tbody>\n",
              "    <tr>\n",
              "      <th>0</th>\n",
              "      <td>История</td>\n",
              "      <td>25.0</td>\n",
              "    </tr>\n",
              "    <tr>\n",
              "      <th>1</th>\n",
              "      <td>История</td>\n",
              "      <td>30.0</td>\n",
              "    </tr>\n",
              "    <tr>\n",
              "      <th>3</th>\n",
              "      <td>Философия</td>\n",
              "      <td>15.0</td>\n",
              "    </tr>\n",
              "    <tr>\n",
              "      <th>4</th>\n",
              "      <td>Философия</td>\n",
              "      <td>18.0</td>\n",
              "    </tr>\n",
              "    <tr>\n",
              "      <th>5</th>\n",
              "      <td>Философия</td>\n",
              "      <td>21.6</td>\n",
              "    </tr>\n",
              "    <tr>\n",
              "      <th>...</th>\n",
              "      <td>...</td>\n",
              "      <td>...</td>\n",
              "    </tr>\n",
              "    <tr>\n",
              "      <th>65529</th>\n",
              "      <td>Бухгалтерский учет</td>\n",
              "      <td>16.0</td>\n",
              "    </tr>\n",
              "    <tr>\n",
              "      <th>65530</th>\n",
              "      <td>Бухгалтерский учет</td>\n",
              "      <td>22.0</td>\n",
              "    </tr>\n",
              "    <tr>\n",
              "      <th>65531</th>\n",
              "      <td>Менеджмент</td>\n",
              "      <td>7.0</td>\n",
              "    </tr>\n",
              "    <tr>\n",
              "      <th>65532</th>\n",
              "      <td>Менеджмент</td>\n",
              "      <td>12.0</td>\n",
              "    </tr>\n",
              "    <tr>\n",
              "      <th>65533</th>\n",
              "      <td>Менеджмент</td>\n",
              "      <td>9.0</td>\n",
              "    </tr>\n",
              "  </tbody>\n",
              "</table>\n",
              "<p>63089 rows × 2 columns</p>\n",
              "</div>"
            ],
            "text/plain": [
              "             predmet_name  ball\n",
              "0                 История  25.0\n",
              "1                 История  30.0\n",
              "3               Философия  15.0\n",
              "4               Философия  18.0\n",
              "5               Философия  21.6\n",
              "...                   ...   ...\n",
              "65529  Бухгалтерский учет  16.0\n",
              "65530  Бухгалтерский учет  22.0\n",
              "65531          Менеджмент   7.0\n",
              "65532          Менеджмент  12.0\n",
              "65533          Менеджмент   9.0\n",
              "\n",
              "[63089 rows x 2 columns]"
            ]
          },
          "metadata": {
            "tags": []
          },
          "execution_count": 115
        }
      ]
    },
    {
      "cell_type": "code",
      "metadata": {
        "colab_type": "code",
        "id": "1pXAz6HoHBh7",
        "outputId": "91307a2b-92ed-4172-9cd3-4f28d5026936",
        "colab": {
          "base_uri": "https://localhost:8080/",
          "height": 238
        }
      },
      "source": [
        "ball_mean = bf6.groupby(\"predmet_name\")[\"ball\"].mean()\n",
        "print('Топ - 10 дисциплин, вызвавших наибольшие сложности у студентов:')\n",
        "ball_mean.sort_values(ascending=True).head(10)\n"
      ],
      "execution_count": 116,
      "outputs": [
        {
          "output_type": "stream",
          "text": [
            "Топ - 10 дисциплин, вызвавших наибольшие сложности у студентов:\n"
          ],
          "name": "stdout"
        },
        {
          "output_type": "execute_result",
          "data": {
            "text/plain": [
              "predmet_name\n",
              "Иностранный язык профессиональный                            9.126786\n",
              "Демография и статистика населения                           11.822222\n",
              "Экономическая теория                                        12.004232\n",
              "Линейная алгебра                                            12.201326\n",
              "Учетно-аналитическое обеспечение управления организацией    12.740000\n",
              "Макроэкономическое планирование и прогнозирование           12.785714\n",
              "Государственное регулирование экономики                     12.925000\n",
              "Региональная политика государства                           13.333333\n",
              "Инновационная политика государства                          13.333333\n",
              "Деньги, кредит, банки                                       13.716535\n",
              "Name: ball, dtype: float64"
            ]
          },
          "metadata": {
            "tags": []
          },
          "execution_count": 116
        }
      ]
    },
    {
      "cell_type": "markdown",
      "metadata": {
        "colab_type": "text",
        "id": "iYUSZjRCFq-6"
      },
      "source": [
        "**Задача 3.7**: определите отстающих студентов (претендентов на отчисление). "
      ]
    },
    {
      "cell_type": "markdown",
      "metadata": {
        "colab_type": "text",
        "id": "O5fW6DyF8ztJ"
      },
      "source": [
        "Создадим новый датафрэйм и поместим туда название дисциплины и балл студента. Уберём пустые значения, переведём переменные ['ball'] в формат float"
      ]
    },
    {
      "cell_type": "code",
      "metadata": {
        "colab_type": "code",
        "id": "vYyMPpnCFq-9",
        "outputId": "a8d38566-d512-4aca-967a-c8e48c6547c4",
        "colab": {
          "base_uri": "https://localhost:8080/",
          "height": 419
        }
      },
      "source": [
        "bf7 = (nf.dropna()).loc[:,[\"stud_kod\", \"ball\"]].copy()\n",
        "bf7[\"ball\"] = bf7[\"ball\"].apply(np.vectorize(lambda a: float(a.replace(\",\", \".\"))))\n",
        "bf7"
      ],
      "execution_count": 117,
      "outputs": [
        {
          "output_type": "execute_result",
          "data": {
            "text/html": [
              "<div>\n",
              "<style scoped>\n",
              "    .dataframe tbody tr th:only-of-type {\n",
              "        vertical-align: middle;\n",
              "    }\n",
              "\n",
              "    .dataframe tbody tr th {\n",
              "        vertical-align: top;\n",
              "    }\n",
              "\n",
              "    .dataframe thead th {\n",
              "        text-align: right;\n",
              "    }\n",
              "</style>\n",
              "<table border=\"1\" class=\"dataframe\">\n",
              "  <thead>\n",
              "    <tr style=\"text-align: right;\">\n",
              "      <th></th>\n",
              "      <th>stud_kod</th>\n",
              "      <th>ball</th>\n",
              "    </tr>\n",
              "  </thead>\n",
              "  <tbody>\n",
              "    <tr>\n",
              "      <th>0</th>\n",
              "      <td>8</td>\n",
              "      <td>25.0</td>\n",
              "    </tr>\n",
              "    <tr>\n",
              "      <th>1</th>\n",
              "      <td>8</td>\n",
              "      <td>30.0</td>\n",
              "    </tr>\n",
              "    <tr>\n",
              "      <th>3</th>\n",
              "      <td>8</td>\n",
              "      <td>15.0</td>\n",
              "    </tr>\n",
              "    <tr>\n",
              "      <th>4</th>\n",
              "      <td>8</td>\n",
              "      <td>18.0</td>\n",
              "    </tr>\n",
              "    <tr>\n",
              "      <th>5</th>\n",
              "      <td>8</td>\n",
              "      <td>21.6</td>\n",
              "    </tr>\n",
              "    <tr>\n",
              "      <th>...</th>\n",
              "      <td>...</td>\n",
              "      <td>...</td>\n",
              "    </tr>\n",
              "    <tr>\n",
              "      <th>65529</th>\n",
              "      <td>2682</td>\n",
              "      <td>16.0</td>\n",
              "    </tr>\n",
              "    <tr>\n",
              "      <th>65530</th>\n",
              "      <td>2682</td>\n",
              "      <td>22.0</td>\n",
              "    </tr>\n",
              "    <tr>\n",
              "      <th>65531</th>\n",
              "      <td>2682</td>\n",
              "      <td>7.0</td>\n",
              "    </tr>\n",
              "    <tr>\n",
              "      <th>65532</th>\n",
              "      <td>2682</td>\n",
              "      <td>12.0</td>\n",
              "    </tr>\n",
              "    <tr>\n",
              "      <th>65533</th>\n",
              "      <td>2682</td>\n",
              "      <td>9.0</td>\n",
              "    </tr>\n",
              "  </tbody>\n",
              "</table>\n",
              "<p>63089 rows × 2 columns</p>\n",
              "</div>"
            ],
            "text/plain": [
              "       stud_kod  ball\n",
              "0             8  25.0\n",
              "1             8  30.0\n",
              "3             8  15.0\n",
              "4             8  18.0\n",
              "5             8  21.6\n",
              "...         ...   ...\n",
              "65529      2682  16.0\n",
              "65530      2682  22.0\n",
              "65531      2682   7.0\n",
              "65532      2682  12.0\n",
              "65533      2682   9.0\n",
              "\n",
              "[63089 rows x 2 columns]"
            ]
          },
          "metadata": {
            "tags": []
          },
          "execution_count": 117
        }
      ]
    },
    {
      "cell_type": "code",
      "metadata": {
        "colab_type": "code",
        "id": "wU1phZrl87jl",
        "outputId": "24d899d7-1c29-4602-caa0-c756f34db71e",
        "colab": {
          "base_uri": "https://localhost:8080/",
          "height": 238
        }
      },
      "source": [
        "ball_mean_1 = bf7.groupby(\"stud_kod\")[\"ball\"].mean()\n",
        "#ball_mean_1\n",
        "print('10 наиболее отстающих студентов:')\n",
        "ball_mean_1.sort_values(ascending=True).head(10)"
      ],
      "execution_count": 118,
      "outputs": [
        {
          "output_type": "stream",
          "text": [
            "10 наиболее отстающих студентов:\n"
          ],
          "name": "stdout"
        },
        {
          "output_type": "execute_result",
          "data": {
            "text/plain": [
              "stud_kod\n",
              "1335    12.786595\n",
              "776     14.235374\n",
              "2653    14.317195\n",
              "1704    14.635017\n",
              "1758    14.774286\n",
              "1610    14.966336\n",
              "218     15.205495\n",
              "715     15.252803\n",
              "1662    15.330256\n",
              "1683    15.340793\n",
              "Name: ball, dtype: float64"
            ]
          },
          "metadata": {
            "tags": []
          },
          "execution_count": 118
        }
      ]
    },
    {
      "cell_type": "markdown",
      "metadata": {
        "colab_type": "text",
        "id": "5Kd-PQAwFq_P"
      },
      "source": [
        "**Задача 3.8**: определите семестр и год, наиболее сложные для отдельных (выбранных) студентов. "
      ]
    },
    {
      "cell_type": "markdown",
      "metadata": {
        "id": "P52DN_frzH_O",
        "colab_type": "text"
      },
      "source": [
        "Выберем 10 случайных студентов (индекс 10 - 20). Удалим пустые значения."
      ]
    },
    {
      "cell_type": "code",
      "metadata": {
        "colab_type": "code",
        "id": "tO28ZrGMFq_S",
        "outputId": "acb5c562-a8bd-49cc-819b-8125f311cb9c",
        "colab": {
          "base_uri": "https://localhost:8080/",
          "height": 419
        }
      },
      "source": [
        "kod = (nf[\"stud_kod\"].unique())[10:20]\n",
        "bf8 = (nf.dropna()).loc[nf[\"stud_kod\"].isin(kod), [\"stud_kod\",\"ball\", \"ts\", \"semestr\"]].copy()\n",
        "bf8 = bf8.dropna()\n",
        "bf8['ball'] = bf8['ball'].str.replace(\",\", \".\",)\n",
        "bf8['ball']= pd.to_numeric(bf8['ball'])\n",
        "bf8\n",
        "\n"
      ],
      "execution_count": 119,
      "outputs": [
        {
          "output_type": "execute_result",
          "data": {
            "text/html": [
              "<div>\n",
              "<style scoped>\n",
              "    .dataframe tbody tr th:only-of-type {\n",
              "        vertical-align: middle;\n",
              "    }\n",
              "\n",
              "    .dataframe tbody tr th {\n",
              "        vertical-align: top;\n",
              "    }\n",
              "\n",
              "    .dataframe thead th {\n",
              "        text-align: right;\n",
              "    }\n",
              "</style>\n",
              "<table border=\"1\" class=\"dataframe\">\n",
              "  <thead>\n",
              "    <tr style=\"text-align: right;\">\n",
              "      <th></th>\n",
              "      <th>stud_kod</th>\n",
              "      <th>ball</th>\n",
              "      <th>ts</th>\n",
              "      <th>semestr</th>\n",
              "    </tr>\n",
              "  </thead>\n",
              "  <tbody>\n",
              "    <tr>\n",
              "      <th>2334</th>\n",
              "      <td>100</td>\n",
              "      <td>23.0</td>\n",
              "      <td>19-нояб-11</td>\n",
              "      <td>1</td>\n",
              "    </tr>\n",
              "    <tr>\n",
              "      <th>2335</th>\n",
              "      <td>100</td>\n",
              "      <td>24.0</td>\n",
              "      <td>19-нояб-11</td>\n",
              "      <td>1</td>\n",
              "    </tr>\n",
              "    <tr>\n",
              "      <th>2336</th>\n",
              "      <td>100</td>\n",
              "      <td>45.0</td>\n",
              "      <td>25-дек-11</td>\n",
              "      <td>1</td>\n",
              "    </tr>\n",
              "    <tr>\n",
              "      <th>2337</th>\n",
              "      <td>100</td>\n",
              "      <td>16.8</td>\n",
              "      <td>30-апр-15</td>\n",
              "      <td>1</td>\n",
              "    </tr>\n",
              "    <tr>\n",
              "      <th>2338</th>\n",
              "      <td>100</td>\n",
              "      <td>15.0</td>\n",
              "      <td>30-апр-15</td>\n",
              "      <td>1</td>\n",
              "    </tr>\n",
              "    <tr>\n",
              "      <th>...</th>\n",
              "      <td>...</td>\n",
              "      <td>...</td>\n",
              "      <td>...</td>\n",
              "      <td>...</td>\n",
              "    </tr>\n",
              "    <tr>\n",
              "      <th>4687</th>\n",
              "      <td>165</td>\n",
              "      <td>60.0</td>\n",
              "      <td>08-апр-15</td>\n",
              "      <td>8</td>\n",
              "    </tr>\n",
              "    <tr>\n",
              "      <th>4688</th>\n",
              "      <td>165</td>\n",
              "      <td>29.0</td>\n",
              "      <td>13-март-15</td>\n",
              "      <td>8</td>\n",
              "    </tr>\n",
              "    <tr>\n",
              "      <th>4689</th>\n",
              "      <td>165</td>\n",
              "      <td>29.0</td>\n",
              "      <td>27-март-15</td>\n",
              "      <td>8</td>\n",
              "    </tr>\n",
              "    <tr>\n",
              "      <th>4690</th>\n",
              "      <td>165</td>\n",
              "      <td>29.0</td>\n",
              "      <td>03-апр-15</td>\n",
              "      <td>8</td>\n",
              "    </tr>\n",
              "    <tr>\n",
              "      <th>4691</th>\n",
              "      <td>165</td>\n",
              "      <td>29.2</td>\n",
              "      <td>18-май-15</td>\n",
              "      <td>2</td>\n",
              "    </tr>\n",
              "  </tbody>\n",
              "</table>\n",
              "<p>2258 rows × 4 columns</p>\n",
              "</div>"
            ],
            "text/plain": [
              "      stud_kod  ball          ts  semestr\n",
              "2334       100  23.0  19-нояб-11        1\n",
              "2335       100  24.0  19-нояб-11        1\n",
              "2336       100  45.0   25-дек-11        1\n",
              "2337       100  16.8   30-апр-15        1\n",
              "2338       100  15.0   30-апр-15        1\n",
              "...        ...   ...         ...      ...\n",
              "4687       165  60.0   08-апр-15        8\n",
              "4688       165  29.0  13-март-15        8\n",
              "4689       165  29.0  27-март-15        8\n",
              "4690       165  29.0   03-апр-15        8\n",
              "4691       165  29.2   18-май-15        2\n",
              "\n",
              "[2258 rows x 4 columns]"
            ]
          },
          "metadata": {
            "tags": []
          },
          "execution_count": 119
        }
      ]
    },
    {
      "cell_type": "markdown",
      "metadata": {
        "colab_type": "text",
        "id": "qMuDJRUr-hMp"
      },
      "source": [
        "Поскольку формат столбца ['ts'] невозможно перевести в dataframe, для определения года создадим новую переменную, в которой будет содержаться год и семестр - ['data']."
      ]
    },
    {
      "cell_type": "code",
      "metadata": {
        "colab_type": "code",
        "id": "gN0thBBn-KE0",
        "outputId": "7f4b28d5-61de-4d1e-b810-2b3970a51a7f",
        "colab": {
          "base_uri": "https://localhost:8080/",
          "height": 241
        }
      },
      "source": [
        "import numpy as np\n",
        "kod = (nf[\"stud_kod\"].unique())[10:20]\n",
        "bf8 = (nf.dropna()).loc[nf[\"stud_kod\"].isin(kod), [\"stud_kod\",\"ball\", \"ts\", \"semestr\"]].copy()\n",
        "bf8 = bf8.dropna()\n",
        "bf8[\"ts\"] = bf8[\"ts\"].apply(np.vectorize(lambda a: a.split(\"-\")[2]))\n",
        "bf8[\"data\"] = bf8[\"ts\"].apply(str) + \":\" + bf8[\"semestr\"].apply(str)\n",
        "\n",
        "bf8[\"ball\"] = bf8[\"ball\"].apply(np.vectorize(lambda a: float(a.replace(\",\", \".\"))))\n",
        "\n",
        "for i in kod:\n",
        "    mn = (bf8.loc[bf8[\"stud_kod\"] == i]).groupby('data')[\"stud_kod\",\"ball\"].mean()\n",
        "    mn = mn.loc[mn[\"ball\"] == mn[\"ball\"].min(), [\"ball\"]]\n",
        "    data = mn.index[0].split(\":\")\n",
        "    print('Студент', i, 'заработал самый низкий средний балл', round(mn.values[0][0],2), 'в', data[1], 'семестре обучения в 20', data[0], 'году')"
      ],
      "execution_count": 120,
      "outputs": [
        {
          "output_type": "stream",
          "text": [
            "Студент 100 заработал самый низкий средний балл 14.57 в 2 семестре обучения в 20 15 году\n",
            "Студент 103 заработал самый низкий средний балл 15.6 в 7 семестре обучения в 20 15 году\n",
            "Студент 104 заработал самый низкий средний балл 10.7 в 4 семестре обучения в 20 13 году\n",
            "Студент 119 заработал самый низкий средний балл 15.34 в 2 семестре обучения в 20 15 году\n",
            "Студент 140 заработал самый низкий средний балл 12.12 в 2 семестре обучения в 20 13 году\n",
            "Студент 142 заработал самый низкий средний балл 15.12 в 2 семестре обучения в 20 15 году\n",
            "Студент 144 заработал самый низкий средний балл 13.44 в 2 семестре обучения в 20 15 году\n",
            "Студент 154 заработал самый низкий средний балл 14.45 в 2 семестре обучения в 20 15 году\n",
            "Студент 164 заработал самый низкий средний балл 16.33 в 2 семестре обучения в 20 15 году\n",
            "Студент 165 заработал самый низкий средний балл 13.52 в 2 семестре обучения в 20 15 году\n"
          ],
          "name": "stdout"
        },
        {
          "output_type": "stream",
          "text": [
            "/usr/local/lib/python3.6/dist-packages/ipykernel_launcher.py:11: FutureWarning: Indexing with multiple keys (implicitly converted to a tuple of keys) will be deprecated, use a list instead.\n",
            "  # This is added back by InteractiveShellApp.init_path()\n"
          ],
          "name": "stderr"
        }
      ]
    },
    {
      "cell_type": "markdown",
      "metadata": {
        "colab_type": "text",
        "id": "AJY2R3pIFq_n"
      },
      "source": [
        "**Задача 3.9**: определите, можно ли провести анализ интересов отдельных (выбранных) студентов, исходя из баллов по контрольным работам. \n",
        "\n",
        "Эта информация позволит в будущем рекомендовать студентам подходящие магистерские программы."
      ]
    },
    {
      "cell_type": "code",
      "metadata": {
        "colab_type": "code",
        "id": "OhB3U-hZFq_u",
        "outputId": "573836a1-a6e6-4c80-c5e3-8284e23b7235",
        "colab": {
          "base_uri": "https://localhost:8080/",
          "height": 340
        }
      },
      "source": [
        "bf9 = nf[(nf.stud_kod == 8)&(nf.cd_type_name == 'Контрольная работа')]\n",
        "bf9['ball'] = bf9['ball'].str.replace(\",\", \".\",)\n",
        "bf9['ball']= pd.to_numeric(bf9['ball'])\n",
        "\n",
        "\n",
        "d = bf9.groupby([\"predmet_name\"])[\"ball\"].mean().sort_values(ascending=False).head()\n",
        "print('Топ - 5 наиболее интересных предметов для студента:', d)"
      ],
      "execution_count": 121,
      "outputs": [
        {
          "output_type": "stream",
          "text": [
            "Топ - 5 наиболее интересных предметов для студента: predmet_name\n",
            "Безопасность жизнедеятельности                     40.0\n",
            "Правовое обеспечение хозяйственной деятельности    38.0\n",
            "Право                                              36.0\n",
            "Теория рисков                                      33.0\n",
            "Оценка стоимости бизнеса                           28.5\n",
            "Name: ball, dtype: float64\n"
          ],
          "name": "stdout"
        },
        {
          "output_type": "stream",
          "text": [
            "/usr/local/lib/python3.6/dist-packages/ipykernel_launcher.py:2: SettingWithCopyWarning: \n",
            "A value is trying to be set on a copy of a slice from a DataFrame.\n",
            "Try using .loc[row_indexer,col_indexer] = value instead\n",
            "\n",
            "See the caveats in the documentation: https://pandas.pydata.org/pandas-docs/stable/user_guide/indexing.html#returning-a-view-versus-a-copy\n",
            "  \n",
            "/usr/local/lib/python3.6/dist-packages/ipykernel_launcher.py:3: SettingWithCopyWarning: \n",
            "A value is trying to be set on a copy of a slice from a DataFrame.\n",
            "Try using .loc[row_indexer,col_indexer] = value instead\n",
            "\n",
            "See the caveats in the documentation: https://pandas.pydata.org/pandas-docs/stable/user_guide/indexing.html#returning-a-view-versus-a-copy\n",
            "  This is separate from the ipykernel package so we can avoid doing imports until\n"
          ],
          "name": "stderr"
        }
      ]
    },
    {
      "cell_type": "code",
      "metadata": {
        "id": "DuJ0Etk82qSL",
        "colab_type": "code",
        "colab": {}
      },
      "source": [
        ""
      ],
      "execution_count": 0,
      "outputs": []
    },
    {
      "cell_type": "markdown",
      "metadata": {
        "colab_type": "text",
        "id": "JWN3N2QtFrB3"
      },
      "source": [
        "**Задача 3.10**: Предложите решение, каким образом по представленным данным отследить динамику успеваемости отдельных (выбранных) студентов?"
      ]
    },
    {
      "cell_type": "markdown",
      "metadata": {
        "colab_type": "text",
        "id": "tNmnC5Gh_WMG"
      },
      "source": [
        "Предлагаю вывести средний балл студента для каждого семестра. Наглядно видно, в каком сесмечтре студент учился старательнее."
      ]
    },
    {
      "cell_type": "code",
      "metadata": {
        "colab_type": "code",
        "id": "-wRZWLY2FrB5",
        "outputId": "b95ed462-0c24-4bd9-b4d2-c58d148b97fc",
        "colab": {
          "base_uri": "https://localhost:8080/",
          "height": 297
        }
      },
      "source": [
        "import matplotlib.pyplot as plt\n",
        "\n",
        "kod = (nf[\"stud_kod\"].unique())[1:3]\n",
        "bf10 = (nf.dropna()).loc[nf[\"stud_kod\"].isin(kod), [\"stud_kod\",\"ball\", \"semestr\"]].copy()\n",
        "bf10 = bf10.dropna()\n",
        "bf10['ball'] = bf10['ball'].str.replace(\",\", \".\",)\n",
        "bf10['ball']= pd.to_numeric(bf10['ball'])\n",
        "\n",
        "\n",
        "fig, ax = plt.subplots(2)\n",
        "i = 0\n",
        "\n",
        "for m in kod:\n",
        "    k = bf10.loc[bf10[\"stud_kod\"] == m].groupby(\"semestr\")[\"ball\"].mean()\n",
        "    ax[i].plot(k.index, k.values, color=\"red\")\n",
        "    ax[i].set_title(\"Студент  \" + str(m))\n",
        "    ax[i].set_xlabel(\"Семестр\")\n",
        "    ax[i].set_ylabel(\"Средний балл\")\n",
        "    i+=1\n",
        "plt.tight_layout()\n",
        "plt.show()\n"
      ],
      "execution_count": 122,
      "outputs": [
        {
          "output_type": "display_data",
          "data": {
            "image/png": "[encoded data removed]",
            "text/plain": [
              "<Figure size 432x288 with 2 Axes>"
            ]
          },
          "metadata": {
            "tags": [],
            "needs_background": "light"
          }
        }
      ]
    },
    {
      "cell_type": "markdown",
      "metadata": {
        "colab_type": "text",
        "id": "WdekHGLlFrCI"
      },
      "source": [
        "### Формальные требования:\n",
        "- представлены в формулировках заданий \n",
        "- нарушение сроков - -3 балла\n",
        "- за работу выставляется от 0 до 35 баллов\n",
        "- за решение *задания 1* - **5 баллов**, *задания 2* - **10 баллов**, *задания 3* - **20 баллов**."
      ]
    },
    {
      "cell_type": "code",
      "metadata": {
        "colab_type": "code",
        "id": "zyioErgLFrCK",
        "colab": {}
      },
      "source": [
        ""
      ],
      "execution_count": 0,
      "outputs": []
    }
  ]
}