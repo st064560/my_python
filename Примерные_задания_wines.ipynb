{
  "nbformat": 4,
  "nbformat_minor": 0,
  "metadata": {
    "colab": {
      "name": "Примерные_задания.ipynb",
      "provenance": [],
      "collapsed_sections": [],
      "include_colab_link": true
    },
    "kernelspec": {
      "name": "python3",
      "display_name": "Python 3"
    }
  },
  "cells": [
    {
      "cell_type": "markdown",
      "metadata": {
        "id": "view-in-github",
        "colab_type": "text"
      },
      "source": [
        "<a href=\"https://colab.research.google.com/github/st064560/my_python/blob/master/%D0%9F%D1%80%D0%B8%D0%BC%D0%B5%D1%80%D0%BD%D1%8B%D0%B5_%D0%B7%D0%B0%D0%B4%D0%B0%D0%BD%D0%B8%D1%8F_wines.ipynb\" target=\"_parent\"><img src=\"https://colab.research.google.com/assets/colab-badge.svg\" alt=\"Open In Colab\"/></a>"
      ]
    },
    {
      "cell_type": "markdown",
      "metadata": {
        "id": "TVD7Ax0EiSis",
        "colab_type": "text"
      },
      "source": [
        "### Задание по базе wine\n",
        "\n",
        "* Загрузите [данные](https://raw.githubusercontent.com/dm-fedorov/pandas_basic/master/data/wine.csv).\n",
        "* Посчитайте размерность данных.\n",
        "* Посчитайте количество пропущенных значений в каждой переменной.\n",
        "* Выведите тип данных каждой переменной. Переконвертируйте при необходимости.\n",
        "* Вина какой области (province) получают наилучшие рейтинги?\n",
        "* Добавьте столбец со стоимостью в рублях (курс валюты загрузите через API).\n",
        "* Добавьте столбец, содержащий количество слов в описании вина.\n",
        "* Выполните нормализацию текста для описания и определите статистику встречаемости слов.\n",
        "* На основе словаря color создайте переменную, в которой закодирован цвет вина."
      ]
    },
    {
      "cell_type": "code",
      "metadata": {
        "id": "UQNdOMV5itI9",
        "colab_type": "code",
        "colab": {}
      },
      "source": [
        "color = {\n",
        "    \"Chardonnay\": \"white\",\n",
        "    \"Pinot Noir\": \"red\",\n",
        "    \"Cabernet Sauvignon\": \"red\",\n",
        "    \"Red Blend\": \"red\",\n",
        "    \"Bordeaux-style Red Blend\": \"red\",\n",
        "    \"Sauvignon Blanc\": \"white\",\n",
        "    \"Syrah\": \"red\",\n",
        "    \"Riesling\": \"white\",\n",
        "    \"Merlot\": \"red\",\n",
        "    \"Zinfandel\": \"red\",\n",
        "    \"Sangiovese\": \"red\",\n",
        "    \"Malbec\": \"red\",\n",
        "    \"White Blend\": \"white\",\n",
        "    \"Rosé\": \"other\",\n",
        "    \"Tempranillo\": \"red\",\n",
        "    \"Nebbiolo\": \"red\",\n",
        "    \"Portuguese Red\": \"red\",\n",
        "    \"Sparkling Blend\": \"other\",\n",
        "    \"Shiraz\": \"red\",\n",
        "    \"Corvina, Rondinella, Molinara\": \"red\",\n",
        "    \"Rhône-style Red Blend\": \"red\",\n",
        "    \"Barbera\": \"red\",\n",
        "    \"Pinot Gris\": \"white\",\n",
        "    \"Viognier\": \"white\",\n",
        "    \"Bordeaux-style White Blend\": \"white\",\n",
        "    \"Champagne Blend\": \"other\",\n",
        "    \"Port\": \"red\",\n",
        "    \"Grüner Veltliner\": \"white\",\n",
        "    \"Gewürztraminer\": \"white\",\n",
        "    \"Portuguese White\": \"white\",\n",
        "    \"Petite Sirah\": \"red\",\n",
        "    \"Carmenère\": \"red\"\n",
        "}\n"
      ],
      "execution_count": null,
      "outputs": []
    },
    {
      "cell_type": "markdown",
      "metadata": {
        "id": "j2ud81mqPPVH",
        "colab_type": "text"
      },
      "source": [
        "* Удалите наблюдения для которых цвет (color) не указан.\n",
        "* Визуализируйте распределения числовых переменных.\n",
        "* Для каждой страны рассчитайте долю каждого вида вина. В какой стране доля белого вина наибольшая, а в какой красного?\n",
        "* Сохраните итоговый документ в формате Excel.\n",
        "\n",
        "* Загрузите [данные](https://raw.githubusercontent.com/dm-fedorov/pandas_basic/master/data/orders_wine.csv).\n",
        "* По данным о заказах определите покупателей с наибольшим чеком по белому и красному винам.  \n",
        "* Определите год с наибольшим чеком для белого и красного вина.\n",
        "* Объединение таблиц по столбцу."
      ]
    },
    {
      "cell_type": "code",
      "metadata": {
        "id": "oVsfHWsDcqDn",
        "colab_type": "code",
        "colab": {
          "base_uri": "https://localhost:8080/",
          "height": 204
        },
        "outputId": "7174cf1c-b4c8-4a86-801b-15681bb9dbad"
      },
      "source": [
        "# импортируем библиотеки numpy и pandas\n",
        "import numpy as np\n",
        "import pandas as pd\n",
        "\n",
        "# импортируем библиотеку datetime для работы с датами\n",
        "import datetime\n",
        "from datetime import datetime, date\n",
        "\n",
        "# импортируем библиотеку matplotlib для построения графиков\n",
        "import matplotlib.pyplot as plt\n",
        "%matplotlib inline\n",
        "\n",
        "wines = pd.read_csv ('https://raw.githubusercontent.com/dm-fedorov/pandas_basic/master/data/wine.csv')\n",
        "wines.isna().sum()"
      ],
      "execution_count": null,
      "outputs": [
        {
          "output_type": "execute_result",
          "data": {
            "text/plain": [
              "country            0\n",
              "description        0\n",
              "designation     6001\n",
              "points             0\n",
              "price           1802\n",
              "province           0\n",
              "region_1        3457\n",
              "region_2       11942\n",
              "variety            0\n",
              "winery             0\n",
              "dtype: int64"
            ]
          },
          "metadata": {
            "tags": []
          },
          "execution_count": 3
        }
      ]
    },
    {
      "cell_type": "code",
      "metadata": {
        "id": "kkufzQ6DPqCI",
        "colab_type": "code",
        "colab": {
          "base_uri": "https://localhost:8080/",
          "height": 34
        },
        "outputId": "341b9bc5-65c4-4278-a816-b4d70e586c57"
      },
      "source": [
        "wines.shape"
      ],
      "execution_count": null,
      "outputs": [
        {
          "output_type": "execute_result",
          "data": {
            "text/plain": [
              "(20000, 10)"
            ]
          },
          "metadata": {
            "tags": []
          },
          "execution_count": 6
        }
      ]
    },
    {
      "cell_type": "code",
      "metadata": {
        "id": "lbIvYvHePwT-",
        "colab_type": "code",
        "colab": {
          "base_uri": "https://localhost:8080/",
          "height": 306
        },
        "outputId": "088c4a9c-e035-4107-bc4f-3294ab890629"
      },
      "source": [
        "wines.info()"
      ],
      "execution_count": null,
      "outputs": [
        {
          "output_type": "stream",
          "text": [
            "<class 'pandas.core.frame.DataFrame'>\n",
            "Int64Index: 20000 entries, 0 to 19999\n",
            "Data columns (total 10 columns):\n",
            " #   Column       Non-Null Count  Dtype \n",
            "---  ------       --------------  ----- \n",
            " 0   country      20000 non-null  object\n",
            " 1   description  20000 non-null  object\n",
            " 2   designation  13999 non-null  object\n",
            " 3   points       20000 non-null  int64 \n",
            " 4   price        18198 non-null  object\n",
            " 5   province     20000 non-null  object\n",
            " 6   region_1     16543 non-null  object\n",
            " 7   region_2     8058 non-null   object\n",
            " 8   variety      20000 non-null  object\n",
            " 9   winery       20000 non-null  object\n",
            "dtypes: int64(1), object(9)\n",
            "memory usage: 1.7+ MB\n"
          ],
          "name": "stdout"
        }
      ]
    },
    {
      "cell_type": "code",
      "metadata": {
        "id": "GNvPTB-kP4nO",
        "colab_type": "code",
        "colab": {
          "base_uri": "https://localhost:8080/",
          "height": 272
        },
        "outputId": "8af217ab-7da9-4960-d2ec-2d6a9d03877c"
      },
      "source": [
        "wines.head()"
      ],
      "execution_count": null,
      "outputs": [
        {
          "output_type": "execute_result",
          "data": {
            "text/html": [
              "<div>\n",
              "<style scoped>\n",
              "    .dataframe tbody tr th:only-of-type {\n",
              "        vertical-align: middle;\n",
              "    }\n",
              "\n",
              "    .dataframe tbody tr th {\n",
              "        vertical-align: top;\n",
              "    }\n",
              "\n",
              "    .dataframe thead th {\n",
              "        text-align: right;\n",
              "    }\n",
              "</style>\n",
              "<table border=\"1\" class=\"dataframe\">\n",
              "  <thead>\n",
              "    <tr style=\"text-align: right;\">\n",
              "      <th></th>\n",
              "      <th>country</th>\n",
              "      <th>description</th>\n",
              "      <th>designation</th>\n",
              "      <th>points</th>\n",
              "      <th>price</th>\n",
              "      <th>province</th>\n",
              "      <th>region_1</th>\n",
              "      <th>region_2</th>\n",
              "      <th>variety</th>\n",
              "      <th>winery</th>\n",
              "    </tr>\n",
              "  </thead>\n",
              "  <tbody>\n",
              "    <tr>\n",
              "      <th>0</th>\n",
              "      <td>US</td>\n",
              "      <td>With a delicate, silky mouthfeel and bright ac...</td>\n",
              "      <td>NaN</td>\n",
              "      <td>86</td>\n",
              "      <td>€ 23,0</td>\n",
              "      <td>California</td>\n",
              "      <td>Central Coast</td>\n",
              "      <td>Central Coast</td>\n",
              "      <td>Pinot Noir</td>\n",
              "      <td>MacMurray Ranch</td>\n",
              "    </tr>\n",
              "    <tr>\n",
              "      <th>1</th>\n",
              "      <td>Italy</td>\n",
              "      <td>D'Alceo is a drop dead gorgeous wine that ooze...</td>\n",
              "      <td>D'Alceo</td>\n",
              "      <td>96</td>\n",
              "      <td>€ 275,0</td>\n",
              "      <td>Tuscany</td>\n",
              "      <td>Toscana</td>\n",
              "      <td>NaN</td>\n",
              "      <td>Red Blend</td>\n",
              "      <td>Castello dei Rampolla</td>\n",
              "    </tr>\n",
              "    <tr>\n",
              "      <th>2</th>\n",
              "      <td>France</td>\n",
              "      <td>The great dominance of Cabernet Sauvignon in t...</td>\n",
              "      <td>NaN</td>\n",
              "      <td>91</td>\n",
              "      <td>€ 40,0</td>\n",
              "      <td>Bordeaux</td>\n",
              "      <td>Haut-Médoc</td>\n",
              "      <td>NaN</td>\n",
              "      <td>Bordeaux-style Red Blend</td>\n",
              "      <td>Château Bernadotte</td>\n",
              "    </tr>\n",
              "    <tr>\n",
              "      <th>3</th>\n",
              "      <td>Italy</td>\n",
              "      <td>The modest cherry, dark berry and black tea no...</td>\n",
              "      <td>NaN</td>\n",
              "      <td>81</td>\n",
              "      <td>€ 15,0</td>\n",
              "      <td>Tuscany</td>\n",
              "      <td>Chianti Classico</td>\n",
              "      <td>NaN</td>\n",
              "      <td>Sangiovese</td>\n",
              "      <td>Valiano</td>\n",
              "    </tr>\n",
              "    <tr>\n",
              "      <th>4</th>\n",
              "      <td>US</td>\n",
              "      <td>Exceedingly light in color, scent and flavor, ...</td>\n",
              "      <td>NaN</td>\n",
              "      <td>83</td>\n",
              "      <td>€ 25,0</td>\n",
              "      <td>Oregon</td>\n",
              "      <td>Rogue Valley</td>\n",
              "      <td>Southern Oregon</td>\n",
              "      <td>Pinot Noir</td>\n",
              "      <td>Deer Creek</td>\n",
              "    </tr>\n",
              "  </tbody>\n",
              "</table>\n",
              "</div>"
            ],
            "text/plain": [
              "  country  ...                 winery\n",
              "0      US  ...        MacMurray Ranch\n",
              "1   Italy  ...  Castello dei Rampolla\n",
              "2  France  ...     Château Bernadotte\n",
              "3   Italy  ...                Valiano\n",
              "4      US  ...             Deer Creek\n",
              "\n",
              "[5 rows x 10 columns]"
            ]
          },
          "metadata": {
            "tags": []
          },
          "execution_count": 9
        }
      ]
    },
    {
      "cell_type": "code",
      "metadata": {
        "id": "k-h7PzRPcyV7",
        "colab_type": "code",
        "colab": {
          "base_uri": "https://localhost:8080/",
          "height": 204
        },
        "outputId": "92ab9a53-3340-4ac9-bd6f-c5f9181c1cc2"
      },
      "source": [
        "wines.isnull().sum(axis = 0)"
      ],
      "execution_count": null,
      "outputs": [
        {
          "output_type": "execute_result",
          "data": {
            "text/plain": [
              "country            0\n",
              "description        0\n",
              "designation     6001\n",
              "points             0\n",
              "price           1802\n",
              "province           0\n",
              "region_1        3457\n",
              "region_2       11942\n",
              "variety            0\n",
              "winery             0\n",
              "dtype: int64"
            ]
          },
          "metadata": {
            "tags": []
          },
          "execution_count": 4
        }
      ]
    },
    {
      "cell_type": "code",
      "metadata": {
        "id": "SxjDRc-RMPNr",
        "colab_type": "code",
        "colab": {
          "base_uri": "https://localhost:8080/",
          "height": 308
        },
        "outputId": "a8d5d7ba-089e-4b49-a9b2-a2d78aa23c8a"
      },
      "source": [
        "wines.info()"
      ],
      "execution_count": null,
      "outputs": [
        {
          "output_type": "stream",
          "text": [
            "<class 'pandas.core.frame.DataFrame'>\n",
            "Int64Index: 20000 entries, 0 to 19999\n",
            "Data columns (total 10 columns):\n",
            " #   Column       Non-Null Count  Dtype \n",
            "---  ------       --------------  ----- \n",
            " 0   country      20000 non-null  object\n",
            " 1   description  20000 non-null  object\n",
            " 2   designation  13999 non-null  object\n",
            " 3   points       20000 non-null  int64 \n",
            " 4   price        18198 non-null  object\n",
            " 5   province     20000 non-null  object\n",
            " 6   region_1     16543 non-null  object\n",
            " 7   region_2     8058 non-null   object\n",
            " 8   variety      20000 non-null  object\n",
            " 9   winery       20000 non-null  object\n",
            "dtypes: int64(1), object(9)\n",
            "memory usage: 1.7+ MB\n"
          ],
          "name": "stdout"
        }
      ]
    },
    {
      "cell_type": "code",
      "metadata": {
        "id": "VwfT3dXXedDY",
        "colab_type": "code",
        "colab": {
          "base_uri": "https://localhost:8080/",
          "height": 87
        },
        "outputId": "adcd7426-5841-4611-c886-195ad8563930"
      },
      "source": [
        "wines[wines.points == wines.points.max()].province"
      ],
      "execution_count": null,
      "outputs": [
        {
          "output_type": "execute_result",
          "data": {
            "text/plain": [
              "323       Champagne\n",
              "5955        Tuscany\n",
              "17967    California\n",
              "Name: province, dtype: object"
            ]
          },
          "metadata": {
            "tags": []
          },
          "execution_count": 9
        }
      ]
    },
    {
      "cell_type": "code",
      "metadata": {
        "id": "IDYm3zMcec4i",
        "colab_type": "code",
        "colab": {
          "base_uri": "https://localhost:8080/",
          "height": 408
        },
        "outputId": "09cd663d-5548-4b8a-c7ba-f836718fa7ab"
      },
      "source": [
        "\n",
        "wines= wines.groupby('points')['province'].max().sort_values()\n",
        "wines"
      ],
      "execution_count": null,
      "outputs": [
        {
          "output_type": "execute_result",
          "data": {
            "text/plain": [
              "points\n",
              "99              Piedmont\n",
              "100              Tuscany\n",
              "98              Victoria\n",
              "97            Washington\n",
              "96            Washington\n",
              "95            Washington\n",
              "80            Washington\n",
              "92     Western Australia\n",
              "93     Western Australia\n",
              "94     Western Australia\n",
              "87          Western Cape\n",
              "85          Western Cape\n",
              "91          Western Cape\n",
              "84          Western Cape\n",
              "81          Western Cape\n",
              "86          Western Cape\n",
              "89           Württemberg\n",
              "90           Württemberg\n",
              "82                 Zitsa\n",
              "83             Štajerska\n",
              "88                  Župa\n",
              "Name: province, dtype: object"
            ]
          },
          "metadata": {
            "tags": []
          },
          "execution_count": 10
        }
      ]
    },
    {
      "cell_type": "code",
      "metadata": {
        "id": "jh8u2zPSebLd",
        "colab_type": "code",
        "colab": {
          "base_uri": "https://localhost:8080/",
          "height": 725
        },
        "outputId": "cfadf3ac-4f8b-47d7-a021-4ab8593ef620"
      },
      "source": [
        "import pandas as pd\n",
        "wines = pd.read_csv('https://raw.githubusercontent.com/dm-fedorov/pandas_basic/master/data/wine.csv')\n",
        "\n",
        "import requests\n",
        "response = requests.get('https://www.cbr-xml-daily.ru/daily_json.js')\n",
        "currencies = response.json()\n",
        "currencies['Valute']['EUR']['Value']\n",
        "\n",
        "wines = wines.dropna()\n",
        "\n",
        "wines.price = wines.price.str.replace(',', '.')\n",
        "wines.price = wines.price.str.split(' ')\n",
        "wines['cur'] = wines.price.apply(lambda x: x.pop(0))\n",
        "wines['price'] = wines.price.apply(lambda x: x[0])\n",
        "wines.price = pd.to_numeric(wines.price)\n",
        "wines['Rub'] = wines.price.apply(lambda x: x * currencies['Valute']['EUR']['Value'])\n",
        "\n",
        "wines['description_len'] = wines.description.apply(lambda x: len(x.split(' ')))\n",
        "wines"
      ],
      "execution_count": null,
      "outputs": [
        {
          "output_type": "execute_result",
          "data": {
            "text/html": [
              "<div>\n",
              "<style scoped>\n",
              "    .dataframe tbody tr th:only-of-type {\n",
              "        vertical-align: middle;\n",
              "    }\n",
              "\n",
              "    .dataframe tbody tr th {\n",
              "        vertical-align: top;\n",
              "    }\n",
              "\n",
              "    .dataframe thead th {\n",
              "        text-align: right;\n",
              "    }\n",
              "</style>\n",
              "<table border=\"1\" class=\"dataframe\">\n",
              "  <thead>\n",
              "    <tr style=\"text-align: right;\">\n",
              "      <th></th>\n",
              "      <th>country</th>\n",
              "      <th>description</th>\n",
              "      <th>designation</th>\n",
              "      <th>points</th>\n",
              "      <th>price</th>\n",
              "      <th>province</th>\n",
              "      <th>region_1</th>\n",
              "      <th>region_2</th>\n",
              "      <th>variety</th>\n",
              "      <th>winery</th>\n",
              "      <th>cur</th>\n",
              "      <th>Rub</th>\n",
              "      <th>description_len</th>\n",
              "    </tr>\n",
              "  </thead>\n",
              "  <tbody>\n",
              "    <tr>\n",
              "      <th>6</th>\n",
              "      <td>US</td>\n",
              "      <td>Tastes excessively sharp throughout, with a cu...</td>\n",
              "      <td>Distraction</td>\n",
              "      <td>84</td>\n",
              "      <td>40.0</td>\n",
              "      <td>California</td>\n",
              "      <td>Paso Robles</td>\n",
              "      <td>Central Coast</td>\n",
              "      <td>Bordeaux-style Red Blend</td>\n",
              "      <td>Pear Valley</td>\n",
              "      <td>€</td>\n",
              "      <td>3180.7240</td>\n",
              "      <td>22</td>\n",
              "    </tr>\n",
              "    <tr>\n",
              "      <th>7</th>\n",
              "      <td>US</td>\n",
              "      <td>Addictive aromas of hot blackberry pie laced w...</td>\n",
              "      <td>White Hawk Vineyard</td>\n",
              "      <td>93</td>\n",
              "      <td>40.0</td>\n",
              "      <td>California</td>\n",
              "      <td>Santa Barbara County</td>\n",
              "      <td>Central Coast</td>\n",
              "      <td>Syrah</td>\n",
              "      <td>Mulvane Wine Co.</td>\n",
              "      <td>€</td>\n",
              "      <td>3180.7240</td>\n",
              "      <td>54</td>\n",
              "    </tr>\n",
              "    <tr>\n",
              "      <th>8</th>\n",
              "      <td>US</td>\n",
              "      <td>Marc Piro broke away from his day job at Au Bo...</td>\n",
              "      <td>Presqu'ile Vineyard</td>\n",
              "      <td>93</td>\n",
              "      <td>44.0</td>\n",
              "      <td>California</td>\n",
              "      <td>Santa Maria Valley</td>\n",
              "      <td>Central Coast</td>\n",
              "      <td>Pinot Noir</td>\n",
              "      <td>Piro</td>\n",
              "      <td>€</td>\n",
              "      <td>3498.7964</td>\n",
              "      <td>49</td>\n",
              "    </tr>\n",
              "    <tr>\n",
              "      <th>9</th>\n",
              "      <td>US</td>\n",
              "      <td>A soft, round Merlot made from what tastes lik...</td>\n",
              "      <td>Larry Venturi Vineyards</td>\n",
              "      <td>85</td>\n",
              "      <td>35.0</td>\n",
              "      <td>California</td>\n",
              "      <td>Mendocino</td>\n",
              "      <td>Mendocino/Lake Counties</td>\n",
              "      <td>Merlot</td>\n",
              "      <td>Simaine Cellars</td>\n",
              "      <td>€</td>\n",
              "      <td>2783.1335</td>\n",
              "      <td>22</td>\n",
              "    </tr>\n",
              "    <tr>\n",
              "      <th>10</th>\n",
              "      <td>US</td>\n",
              "      <td>This is quite a hefty young Chard. It takes th...</td>\n",
              "      <td>Vintner Select Cuvée</td>\n",
              "      <td>89</td>\n",
              "      <td>47.0</td>\n",
              "      <td>California</td>\n",
              "      <td>Sonoma County</td>\n",
              "      <td>Sonoma</td>\n",
              "      <td>Chardonnay</td>\n",
              "      <td>Pride Mountain</td>\n",
              "      <td>€</td>\n",
              "      <td>3737.3507</td>\n",
              "      <td>51</td>\n",
              "    </tr>\n",
              "    <tr>\n",
              "      <th>...</th>\n",
              "      <td>...</td>\n",
              "      <td>...</td>\n",
              "      <td>...</td>\n",
              "      <td>...</td>\n",
              "      <td>...</td>\n",
              "      <td>...</td>\n",
              "      <td>...</td>\n",
              "      <td>...</td>\n",
              "      <td>...</td>\n",
              "      <td>...</td>\n",
              "      <td>...</td>\n",
              "      <td>...</td>\n",
              "      <td>...</td>\n",
              "    </tr>\n",
              "    <tr>\n",
              "      <th>19978</th>\n",
              "      <td>US</td>\n",
              "      <td>This shows a ripe and earthy flavor component,...</td>\n",
              "      <td>Gianoli Vineyard</td>\n",
              "      <td>88</td>\n",
              "      <td>48.0</td>\n",
              "      <td>California</td>\n",
              "      <td>Mendocino Ridge</td>\n",
              "      <td>Mendocino/Lake Counties</td>\n",
              "      <td>Pinot Noir</td>\n",
              "      <td>Witching Stick</td>\n",
              "      <td>€</td>\n",
              "      <td>3816.8688</td>\n",
              "      <td>44</td>\n",
              "    </tr>\n",
              "    <tr>\n",
              "      <th>19979</th>\n",
              "      <td>US</td>\n",
              "      <td>Made in a lighter style, this Paso blend has c...</td>\n",
              "      <td>Quadraphonic D'Anbino Vineyard</td>\n",
              "      <td>85</td>\n",
              "      <td>28.0</td>\n",
              "      <td>California</td>\n",
              "      <td>Paso Robles</td>\n",
              "      <td>Central Coast</td>\n",
              "      <td>Red Blend</td>\n",
              "      <td>D'Anbino</td>\n",
              "      <td>€</td>\n",
              "      <td>2226.5068</td>\n",
              "      <td>34</td>\n",
              "    </tr>\n",
              "    <tr>\n",
              "      <th>19988</th>\n",
              "      <td>US</td>\n",
              "      <td>Sweet cedar aromas kick off this attention-gra...</td>\n",
              "      <td>Flood Family Vineyards</td>\n",
              "      <td>91</td>\n",
              "      <td>20.0</td>\n",
              "      <td>California</td>\n",
              "      <td>Santa Barbara County</td>\n",
              "      <td>Central Coast</td>\n",
              "      <td>Merlot</td>\n",
              "      <td>Rancho Sisquoc</td>\n",
              "      <td>€</td>\n",
              "      <td>1590.3620</td>\n",
              "      <td>52</td>\n",
              "    </tr>\n",
              "    <tr>\n",
              "      <th>19994</th>\n",
              "      <td>US</td>\n",
              "      <td>A little too strong in feline spray character,...</td>\n",
              "      <td>Grand Reserve</td>\n",
              "      <td>84</td>\n",
              "      <td>20.0</td>\n",
              "      <td>California</td>\n",
              "      <td>Mendocino County</td>\n",
              "      <td>Mendocino/Lake Counties</td>\n",
              "      <td>Sauvignon Blanc</td>\n",
              "      <td>Kendall-Jackson</td>\n",
              "      <td>€</td>\n",
              "      <td>1590.3620</td>\n",
              "      <td>19</td>\n",
              "    </tr>\n",
              "    <tr>\n",
              "      <th>19996</th>\n",
              "      <td>US</td>\n",
              "      <td>The vineyard is on the Napa side of Carneros. ...</td>\n",
              "      <td>Estate Vineyard</td>\n",
              "      <td>89</td>\n",
              "      <td>50.0</td>\n",
              "      <td>California</td>\n",
              "      <td>Carneros</td>\n",
              "      <td>Napa-Sonoma</td>\n",
              "      <td>Pinot Noir</td>\n",
              "      <td>Bouchaine</td>\n",
              "      <td>€</td>\n",
              "      <td>3975.9050</td>\n",
              "      <td>51</td>\n",
              "    </tr>\n",
              "  </tbody>\n",
              "</table>\n",
              "<p>5154 rows × 13 columns</p>\n",
              "</div>"
            ],
            "text/plain": [
              "      country  ... description_len\n",
              "6          US  ...              22\n",
              "7          US  ...              54\n",
              "8          US  ...              49\n",
              "9          US  ...              22\n",
              "10         US  ...              51\n",
              "...       ...  ...             ...\n",
              "19978      US  ...              44\n",
              "19979      US  ...              34\n",
              "19988      US  ...              52\n",
              "19994      US  ...              19\n",
              "19996      US  ...              51\n",
              "\n",
              "[5154 rows x 13 columns]"
            ]
          },
          "metadata": {
            "tags": []
          },
          "execution_count": 12
        }
      ]
    },
    {
      "cell_type": "code",
      "metadata": {
        "id": "7pqX9kywh9YT",
        "colab_type": "code",
        "colab": {
          "base_uri": "https://localhost:8080/",
          "height": 34
        },
        "outputId": "117f20f9-a83a-4de0-f36b-45c7ba703593"
      },
      "source": [
        "import numpy as np\n",
        "def colors(x):\n",
        "    if x in color:\n",
        "        return color[x]\n",
        "    return np.nan\n",
        "wines['color'] = wines.variety.apply(colors)\n",
        "wines['color'].unique()"
      ],
      "execution_count": null,
      "outputs": [
        {
          "output_type": "execute_result",
          "data": {
            "text/plain": [
              "array(['red', 'white', 'other', nan], dtype=object)"
            ]
          },
          "metadata": {
            "tags": []
          },
          "execution_count": 13
        }
      ]
    }
  ]
}