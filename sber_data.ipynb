{
  "nbformat": 4,
  "nbformat_minor": 0,
  "metadata": {
    "colab": {
      "name": "Untitled9.ipynb",
      "provenance": [],
      "authorship_tag": "ABX9TyNSisZxpT/ZVy2RwOtxWDZA",
      "include_colab_link": true
    },
    "kernelspec": {
      "name": "python3",
      "display_name": "Python 3"
    }
  },
  "cells": [
    {
      "cell_type": "markdown",
      "metadata": {
        "id": "view-in-github",
        "colab_type": "text"
      },
      "source": [
        "<a href=\"https://colab.research.google.com/github/st064560/my_python/blob/master/sber_data.ipynb\" target=\"_parent\"><img src=\"https://colab.research.google.com/assets/colab-badge.svg\" alt=\"Open In Colab\"/></a>"
      ]
    },
    {
      "cell_type": "code",
      "metadata": {
        "id": "CAKMpFt_9MEk",
        "colab_type": "code",
        "colab": {
          "base_uri": "https://localhost:8080/",
          "height": 230
        },
        "outputId": "f034fa3e-5059-404d-c899-ad0fa4e492be"
      },
      "source": [
        "import csv\n",
        "\n",
        "dict_stat = dict()\n",
        "\n",
        "with open('sber_data.stat', 'r') as file:\n",
        "    stat = csv.reader(file)\n",
        "    for line in stat:\n",
        "        if line[0] == 'name':\n",
        "          continue\n",
        "        else:\n",
        "            if line[0] == 'Средние траты в ресторане' and line[1] == \"Кировская область\" and line[2].split('-') [0] == '2017':\n",
        "              dict_stat[int(line[2].split('-') [1])] = int(line[3])\n",
        "dict_stat\n"
      ],
      "execution_count": 3,
      "outputs": [
        {
          "output_type": "execute_result",
          "data": {
            "text/plain": [
              "{1: 934,\n",
              " 2: 904,\n",
              " 3: 924,\n",
              " 4: 926,\n",
              " 5: 908,\n",
              " 6: 929,\n",
              " 7: 970,\n",
              " 8: 970,\n",
              " 9: 959,\n",
              " 10: 944,\n",
              " 11: 946,\n",
              " 12: 1007}"
            ]
          },
          "metadata": {
            "tags": []
          },
          "execution_count": 3
        }
      ]
    },
    {
      "cell_type": "code",
      "metadata": {
        "id": "EHg7EG1E_8dk",
        "colab_type": "code",
        "colab": {
          "base_uri": "https://localhost:8080/",
          "height": 294
        },
        "outputId": "204e63ad-44ce-4da9-d2d3-6225874a7fa1"
      },
      "source": [
        "import numpy as np\n",
        "\n",
        "import matplotlib.pyplot as plt\n",
        "%matplotlib inline\n",
        "\n",
        "x_coords = list(dict_stat.keys())\n",
        "y_coords = list(dict_stat.values())\n",
        "\n",
        "# Построить график.\n",
        "plt.plot(x_coords, y_coords)\n",
        "\n",
        "# Добавить заголовок.\n",
        "plt.title('Средние траты в ресторане в Кировской области в 2017 году.')\n",
        "\n",
        "# Добавить на оси описательные метки.\n",
        "plt.xlabel('Месяцы')\n",
        "plt.ylabel('Рублей')\n",
        "\n",
        "# Показать график.\n",
        "plt.show()"
      ],
      "execution_count": 7,
      "outputs": [
        {
          "output_type": "display_data",
          "data": {
            "image/png": "[encoded data removed]",
            "text/plain": [
              "<Figure size 432x288 with 1 Axes>"
            ]
          },
          "metadata": {
            "tags": []
          }
        }
      ]
    }
  ]
}