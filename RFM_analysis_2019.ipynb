{
  "nbformat": 4,
  "nbformat_minor": 0,
  "metadata": {
    "colab": {
      "name": "RFM.ipynb",
      "provenance": [],
      "collapsed_sections": [],
      "authorship_tag": "ABX9TyN+d94JsbYiammQn55So2rP",
      "include_colab_link": true
    },
    "kernelspec": {
      "name": "python3",
      "display_name": "Python 3"
    }
  },
  "cells": [
    {
      "cell_type": "markdown",
      "metadata": {
        "id": "view-in-github",
        "colab_type": "text"
      },
      "source": [
        "<a href=\"https://colab.research.google.com/github/st064560/my_python/blob/master/RFM_analysis_2019.ipynb\" target=\"_parent\"><img src=\"https://colab.research.google.com/assets/colab-badge.svg\" alt=\"Open In Colab\"/></a>"
      ]
    },
    {
      "cell_type": "code",
      "metadata": {
        "id": "SKESeeDiYG-R",
        "colab_type": "code",
        "colab": {}
      },
      "source": [
        "# импортируем библиотеки numpy и pandas\n",
        "import numpy as np\n",
        "import pandas as pd\n",
        "\n",
        "# импортируем библиотеку datetime для работы с датами\n",
        "import datetime\n",
        "from datetime import datetime, date\n",
        "\n",
        "# импортируем библиотеку matplotlib для построения графиков\n",
        "import matplotlib.pyplot as plt\n",
        "%matplotlib inline"
      ],
      "execution_count": 1,
      "outputs": []
    },
    {
      "cell_type": "markdown",
      "metadata": {
        "id": "lFwcKugpD9ns",
        "colab_type": "text"
      },
      "source": [
        "RFM-анализ — метод анализа, позволяющий сегментировать клиентов по частоте и сумме покупок и выявлять тех клиентов, которые приносят больше денег.\n",
        "\n",
        "\n",
        "*   **Recency** — давность (как давно ваши клиенты что-то у вас покупали);\n",
        "*   **Frequency** — частота (как часто они у вас покупают);\n",
        "\n",
        "\n",
        "*   **Monetary** — деньги (общая сумма покупок).\n",
        "\n",
        "\n"
      ]
    },
    {
      "cell_type": "markdown",
      "metadata": {
        "id": "ursexptgEf7X",
        "colab_type": "text"
      },
      "source": [
        "По этим признакам можно разделить всех ваших клиентов на группы, понять, кто из клиентов покупает у вас часто и много, кто — часто, но мало, а кто вообще давно ничего не покупал."
      ]
    },
    {
      "cell_type": "code",
      "metadata": {
        "id": "VmNhOplFYLJx",
        "colab_type": "code",
        "colab": {}
      },
      "source": [
        "#представим данные в виду датафрэйма\n",
        "df = pd.read_excel('orders_2019 only.xlsx')\n",
        "#df.head(5)"
      ],
      "execution_count": 2,
      "outputs": []
    },
    {
      "cell_type": "code",
      "metadata": {
        "id": "nEHtj0xRY-gr",
        "colab_type": "code",
        "colab": {}
      },
      "source": [
        "data = df[['Номер Заказа', 'дата заказа', 'Статус заказа', 'email', 'ЦЕНА ДО СКИДКИ SUM, RUR']]\n",
        "#data.head(2)"
      ],
      "execution_count": 5,
      "outputs": []
    },
    {
      "cell_type": "code",
      "metadata": {
        "id": "AKRiJq6bakEo",
        "colab_type": "code",
        "colab": {
          "base_uri": "https://localhost:8080/",
          "height": 123
        },
        "outputId": "6ece524d-ea37-44f8-f12b-288dd7af5b22"
      },
      "source": [
        "data['ID'] = data['email'].astype('category').cat.codes \n"
      ],
      "execution_count": 6,
      "outputs": [
        {
          "output_type": "stream",
          "text": [
            "/usr/local/lib/python3.6/dist-packages/ipykernel_launcher.py:1: SettingWithCopyWarning: \n",
            "A value is trying to be set on a copy of a slice from a DataFrame.\n",
            "Try using .loc[row_indexer,col_indexer] = value instead\n",
            "\n",
            "See the caveats in the documentation: https://pandas.pydata.org/pandas-docs/stable/user_guide/indexing.html#returning-a-view-versus-a-copy\n",
            "  \"\"\"Entry point for launching an IPython kernel.\n"
          ],
          "name": "stderr"
        }
      ]
    },
    {
      "cell_type": "code",
      "metadata": {
        "id": "YUXMu0vabNqL",
        "colab_type": "code",
        "colab": {}
      },
      "source": [
        "\n",
        "data = data.rename(columns={\"Номер Заказа\": \"order\", \"дата заказа\": \"order_date\",  \"Статус заказа\": \"status\",  \"ЦЕНА ДО СКИДКИ SUM, RUR\": \"price\"})"
      ],
      "execution_count": 7,
      "outputs": []
    },
    {
      "cell_type": "code",
      "metadata": {
        "id": "wRNfm37Jam_W",
        "colab_type": "code",
        "colab": {
          "base_uri": "https://localhost:8080/",
          "height": 137
        },
        "outputId": "54a0c882-8394-40b2-eef7-369ae3997f25"
      },
      "source": [
        "data.head(3)"
      ],
      "execution_count": 8,
      "outputs": [
        {
          "output_type": "execute_result",
          "data": {
            "text/html": [
              "<div>\n",
              "<style scoped>\n",
              "    .dataframe tbody tr th:only-of-type {\n",
              "        vertical-align: middle;\n",
              "    }\n",
              "\n",
              "    .dataframe tbody tr th {\n",
              "        vertical-align: top;\n",
              "    }\n",
              "\n",
              "    .dataframe thead th {\n",
              "        text-align: right;\n",
              "    }\n",
              "</style>\n",
              "<table border=\"1\" class=\"dataframe\">\n",
              "  <thead>\n",
              "    <tr style=\"text-align: right;\">\n",
              "      <th></th>\n",
              "      <th>order</th>\n",
              "      <th>order_date</th>\n",
              "      <th>status</th>\n",
              "      <th>email</th>\n",
              "      <th>price</th>\n",
              "      <th>ID</th>\n",
              "    </tr>\n",
              "  </thead>\n",
              "  <tbody>\n",
              "    <tr>\n",
              "      <th>0</th>\n",
              "      <td>131855779</td>\n",
              "      <td>2019-01-01</td>\n",
              "      <td>complete</td>\n",
              "      <td>alekseev.gm@yandex.ru</td>\n",
              "      <td>1348.330</td>\n",
              "      <td>5811</td>\n",
              "    </tr>\n",
              "    <tr>\n",
              "      <th>1</th>\n",
              "      <td>131855782</td>\n",
              "      <td>2019-01-01</td>\n",
              "      <td>complete</td>\n",
              "      <td>5reasons@mail.ru</td>\n",
              "      <td>3862.889</td>\n",
              "      <td>903</td>\n",
              "    </tr>\n",
              "    <tr>\n",
              "      <th>2</th>\n",
              "      <td>131855786</td>\n",
              "      <td>2019-01-01</td>\n",
              "      <td>canceled</td>\n",
              "      <td>sveta.petrenko36@mail.ru</td>\n",
              "      <td>6616.670</td>\n",
              "      <td>37821</td>\n",
              "    </tr>\n",
              "  </tbody>\n",
              "</table>\n",
              "</div>"
            ],
            "text/plain": [
              "       order order_date    status                     email     price     ID\n",
              "0  131855779 2019-01-01  complete     alekseev.gm@yandex.ru  1348.330   5811\n",
              "1  131855782 2019-01-01  complete          5reasons@mail.ru  3862.889    903\n",
              "2  131855786 2019-01-01  canceled  sveta.petrenko36@mail.ru  6616.670  37821"
            ]
          },
          "metadata": {
            "tags": []
          },
          "execution_count": 8
        }
      ]
    },
    {
      "cell_type": "code",
      "metadata": {
        "id": "CPI61c8TbDPo",
        "colab_type": "code",
        "colab": {}
      },
      "source": [
        "data = data[(data.status == 'complete')]"
      ],
      "execution_count": 9,
      "outputs": []
    },
    {
      "cell_type": "code",
      "metadata": {
        "id": "_dIHSKK9bvZW",
        "colab_type": "code",
        "colab": {}
      },
      "source": [
        "#data.head(5)"
      ],
      "execution_count": 10,
      "outputs": []
    },
    {
      "cell_type": "code",
      "metadata": {
        "id": "BhSbbgtscZN_",
        "colab_type": "code",
        "colab": {
          "base_uri": "https://localhost:8080/",
          "height": 34
        },
        "outputId": "c9ee9e10-2c33-4c16-ddeb-89267185775c"
      },
      "source": [
        "print(data['order_date'].min(), data['order_date'].max())"
      ],
      "execution_count": 11,
      "outputs": [
        {
          "output_type": "stream",
          "text": [
            "2019-01-01 00:00:00 2019-12-31 00:00:00\n"
          ],
          "name": "stdout"
        }
      ]
    },
    {
      "cell_type": "code",
      "metadata": {
        "id": "yDtNmQF2c2oE",
        "colab_type": "code",
        "colab": {
          "base_uri": "https://localhost:8080/",
          "height": 137
        },
        "outputId": "955f3020-8465-48d4-994d-b07431e7510d"
      },
      "source": [
        "import datetime as dt\n",
        "sd = dt.datetime(2020,1,1)\n",
        "data['hist']=sd - data['order_date']\n",
        "data['hist'].astype('timedelta64[D]')\n",
        "data['hist']=data['hist'] / np.timedelta64(1, 'D')\n",
        "data.head(3)"
      ],
      "execution_count": 13,
      "outputs": [
        {
          "output_type": "execute_result",
          "data": {
            "text/html": [
              "<div>\n",
              "<style scoped>\n",
              "    .dataframe tbody tr th:only-of-type {\n",
              "        vertical-align: middle;\n",
              "    }\n",
              "\n",
              "    .dataframe tbody tr th {\n",
              "        vertical-align: top;\n",
              "    }\n",
              "\n",
              "    .dataframe thead th {\n",
              "        text-align: right;\n",
              "    }\n",
              "</style>\n",
              "<table border=\"1\" class=\"dataframe\">\n",
              "  <thead>\n",
              "    <tr style=\"text-align: right;\">\n",
              "      <th></th>\n",
              "      <th>order</th>\n",
              "      <th>order_date</th>\n",
              "      <th>status</th>\n",
              "      <th>email</th>\n",
              "      <th>price</th>\n",
              "      <th>ID</th>\n",
              "      <th>hist</th>\n",
              "    </tr>\n",
              "  </thead>\n",
              "  <tbody>\n",
              "    <tr>\n",
              "      <th>0</th>\n",
              "      <td>131855779</td>\n",
              "      <td>2019-01-01</td>\n",
              "      <td>complete</td>\n",
              "      <td>alekseev.gm@yandex.ru</td>\n",
              "      <td>1348.330</td>\n",
              "      <td>5811</td>\n",
              "      <td>365.0</td>\n",
              "    </tr>\n",
              "    <tr>\n",
              "      <th>1</th>\n",
              "      <td>131855782</td>\n",
              "      <td>2019-01-01</td>\n",
              "      <td>complete</td>\n",
              "      <td>5reasons@mail.ru</td>\n",
              "      <td>3862.889</td>\n",
              "      <td>903</td>\n",
              "      <td>365.0</td>\n",
              "    </tr>\n",
              "    <tr>\n",
              "      <th>3</th>\n",
              "      <td>131855787</td>\n",
              "      <td>2019-01-01</td>\n",
              "      <td>complete</td>\n",
              "      <td>vialex0804@yandex.ru</td>\n",
              "      <td>9621.660</td>\n",
              "      <td>41468</td>\n",
              "      <td>365.0</td>\n",
              "    </tr>\n",
              "  </tbody>\n",
              "</table>\n",
              "</div>"
            ],
            "text/plain": [
              "       order order_date    status  ...     price     ID   hist\n",
              "0  131855779 2019-01-01  complete  ...  1348.330   5811  365.0\n",
              "1  131855782 2019-01-01  complete  ...  3862.889    903  365.0\n",
              "3  131855787 2019-01-01  complete  ...  9621.660  41468  365.0\n",
              "\n",
              "[3 rows x 7 columns]"
            ]
          },
          "metadata": {
            "tags": []
          },
          "execution_count": 13
        }
      ]
    },
    {
      "cell_type": "code",
      "metadata": {
        "id": "avUryuOcA14O",
        "colab_type": "code",
        "colab": {}
      },
      "source": [
        "data.to_excel('id founder.xlsx')"
      ],
      "execution_count": 90,
      "outputs": []
    },
    {
      "cell_type": "code",
      "metadata": {
        "id": "CkzT6yD4_4GS",
        "colab_type": "code",
        "colab": {
          "base_uri": "https://localhost:8080/",
          "height": 34
        },
        "outputId": "9ede97e0-1618-4778-b2d4-148c989f29b8"
      },
      "source": [
        "print('Дата фрэйм содержит информацию о ', data.email.nunique(), 'пользователях')"
      ],
      "execution_count": 14,
      "outputs": [
        {
          "output_type": "stream",
          "text": [
            "Дата фрэйм содержит информацию о  41084 пользователях\n"
          ],
          "name": "stdout"
        }
      ]
    },
    {
      "cell_type": "code",
      "metadata": {
        "id": "IEfW4ejbfRN8",
        "colab_type": "code",
        "colab": {}
      },
      "source": [
        "rfmTable = data.groupby('ID').agg({'hist': lambda x:x.min(), # Recency\n",
        "                                        'ID': lambda x: len(x),               # Frequency\n",
        "                                        'price': lambda x: x.sum()})          # Monetary Value\n",
        "\n",
        "rfmTable.rename(columns={'hist': 'recency', \n",
        "                         'ID': 'frequency', \n",
        "                         'price': 'monetary_value'}, inplace=True)"
      ],
      "execution_count": 15,
      "outputs": []
    },
    {
      "cell_type": "markdown",
      "metadata": {
        "id": "SAlxLYWlIZJR",
        "colab_type": "text"
      },
      "source": [
        "На основе данных создадим столбцы RFM для каждого, кто соверашал покупку в 2019 году"
      ]
    },
    {
      "cell_type": "code",
      "metadata": {
        "id": "nxiM-haCfnoJ",
        "colab_type": "code",
        "colab": {
          "base_uri": "https://localhost:8080/",
          "height": 257
        },
        "outputId": "64eb3be0-5dea-465c-805d-da9efd0a59d4"
      },
      "source": [
        "rfmTable.head(6)"
      ],
      "execution_count": 16,
      "outputs": [
        {
          "output_type": "execute_result",
          "data": {
            "text/html": [
              "<div>\n",
              "<style scoped>\n",
              "    .dataframe tbody tr th:only-of-type {\n",
              "        vertical-align: middle;\n",
              "    }\n",
              "\n",
              "    .dataframe tbody tr th {\n",
              "        vertical-align: top;\n",
              "    }\n",
              "\n",
              "    .dataframe thead th {\n",
              "        text-align: right;\n",
              "    }\n",
              "</style>\n",
              "<table border=\"1\" class=\"dataframe\">\n",
              "  <thead>\n",
              "    <tr style=\"text-align: right;\">\n",
              "      <th></th>\n",
              "      <th>recency</th>\n",
              "      <th>frequency</th>\n",
              "      <th>monetary_value</th>\n",
              "    </tr>\n",
              "    <tr>\n",
              "      <th>ID</th>\n",
              "      <th></th>\n",
              "      <th></th>\n",
              "      <th></th>\n",
              "    </tr>\n",
              "  </thead>\n",
              "  <tbody>\n",
              "    <tr>\n",
              "      <th>0</th>\n",
              "      <td>279.0</td>\n",
              "      <td>1</td>\n",
              "      <td>3234.9045</td>\n",
              "    </tr>\n",
              "    <tr>\n",
              "      <th>1</th>\n",
              "      <td>62.0</td>\n",
              "      <td>1</td>\n",
              "      <td>415.8000</td>\n",
              "    </tr>\n",
              "    <tr>\n",
              "      <th>2</th>\n",
              "      <td>344.0</td>\n",
              "      <td>1</td>\n",
              "      <td>956.6700</td>\n",
              "    </tr>\n",
              "    <tr>\n",
              "      <th>3</th>\n",
              "      <td>251.0</td>\n",
              "      <td>1</td>\n",
              "      <td>3950.4250</td>\n",
              "    </tr>\n",
              "    <tr>\n",
              "      <th>4</th>\n",
              "      <td>27.0</td>\n",
              "      <td>1</td>\n",
              "      <td>2525.8300</td>\n",
              "    </tr>\n",
              "    <tr>\n",
              "      <th>5</th>\n",
              "      <td>11.0</td>\n",
              "      <td>4</td>\n",
              "      <td>18561.5055</td>\n",
              "    </tr>\n",
              "  </tbody>\n",
              "</table>\n",
              "</div>"
            ],
            "text/plain": [
              "    recency  frequency  monetary_value\n",
              "ID                                    \n",
              "0     279.0          1       3234.9045\n",
              "1      62.0          1        415.8000\n",
              "2     344.0          1        956.6700\n",
              "3     251.0          1       3950.4250\n",
              "4      27.0          1       2525.8300\n",
              "5      11.0          4      18561.5055"
            ]
          },
          "metadata": {
            "tags": []
          },
          "execution_count": 16
        }
      ]
    },
    {
      "cell_type": "code",
      "metadata": {
        "id": "2-sqKkGyf59Q",
        "colab_type": "code",
        "colab": {
          "base_uri": "https://localhost:8080/",
          "height": 87
        },
        "outputId": "9a38ad49-b430-4f34-b971-8fd2d0ed40af"
      },
      "source": [
        "quartiles = rfmTable.quantile(q=[0.25,0.50,0.75])\n",
        "print(quartiles, type(quartiles))"
      ],
      "execution_count": 17,
      "outputs": [
        {
          "output_type": "stream",
          "text": [
            "      recency  frequency  monetary_value\n",
            "0.25     40.0        1.0      2229.16000\n",
            "0.50    113.0        1.0      3592.29500\n",
            "0.75    221.0        2.0      6515.40475 <class 'pandas.core.frame.DataFrame'>\n"
          ],
          "name": "stdout"
        }
      ]
    },
    {
      "cell_type": "code",
      "metadata": {
        "id": "PFEtA_8CIslm",
        "colab_type": "code",
        "colab": {}
      },
      "source": [
        "Для того чтобы оценить получившиеся значения разделим данные на 4 квартиля (адаптированные для каждой категории)"
      ],
      "execution_count": null,
      "outputs": []
    },
    {
      "cell_type": "code",
      "metadata": {
        "id": "QcrxcDgegZuN",
        "colab_type": "code",
        "colab": {
          "base_uri": "https://localhost:8080/",
          "height": 70
        },
        "outputId": "0623171c-8e85-4edc-a391-79af98d8d80f"
      },
      "source": [
        "quartiles=quartiles.to_dict()\n",
        "quartiles"
      ],
      "execution_count": 18,
      "outputs": [
        {
          "output_type": "execute_result",
          "data": {
            "text/plain": [
              "{'frequency': {0.25: 1.0, 0.5: 1.0, 0.75: 2.0},\n",
              " 'monetary_value': {0.25: 2229.16, 0.5: 3592.295, 0.75: 6515.40475},\n",
              " 'recency': {0.25: 40.0, 0.5: 113.0, 0.75: 221.0}}"
            ]
          },
          "metadata": {
            "tags": []
          },
          "execution_count": 18
        }
      ]
    },
    {
      "cell_type": "code",
      "metadata": {
        "id": "WCGCwgE8gj2R",
        "colab_type": "code",
        "colab": {}
      },
      "source": [
        "## for Recency \n",
        "\n",
        "def RClass(x,p,d):\n",
        "    if x <= d[p][0.25]:\n",
        "        return 1\n",
        "    elif x <= d[p][0.50]:\n",
        "        return 2\n",
        "    elif x <= d[p][0.75]: \n",
        "        return 3\n",
        "    else:\n",
        "        return 4"
      ],
      "execution_count": 19,
      "outputs": []
    },
    {
      "cell_type": "code",
      "metadata": {
        "id": "xZSZZt3vglHa",
        "colab_type": "code",
        "colab": {}
      },
      "source": [
        "## for Frequency and Monetary value \n",
        "\n",
        "def FMClass(x,p,d):\n",
        "    if x <= d[p][0.25]:\n",
        "        return 4\n",
        "    elif x <= d[p][0.50]:\n",
        "        return 3\n",
        "    elif x <= d[p][0.75]: \n",
        "        return 2\n",
        "    else:\n",
        "        return 1  "
      ],
      "execution_count": 20,
      "outputs": []
    },
    {
      "cell_type": "markdown",
      "metadata": {
        "id": "Lw5O92A6mP9F",
        "colab_type": "text"
      },
      "source": [
        "На основе значений картилей мы выстраим дальнейшую оценку пользователя. Шкала - по убывающей (оценка 1 - лучшая)"
      ]
    },
    {
      "cell_type": "code",
      "metadata": {
        "id": "i2iGDpdrgn-I",
        "colab_type": "code",
        "colab": {}
      },
      "source": [
        "rfmSeg = rfmTable\n",
        "rfmSeg['R_Quartile'] = rfmSeg['recency'].apply(RClass, args=('recency',quartiles,))\n",
        "rfmSeg['F_Quartile'] = rfmSeg['frequency'].apply(FMClass, args=('frequency',quartiles,))\n",
        "rfmSeg['M_Quartile'] = rfmSeg['monetary_value'].apply(FMClass, args=('monetary_value',quartiles,))"
      ],
      "execution_count": 21,
      "outputs": []
    },
    {
      "cell_type": "code",
      "metadata": {
        "id": "fmeOc6DagtAA",
        "colab_type": "code",
        "colab": {}
      },
      "source": [
        "rfmSeg['RFMClass'] = rfmSeg.R_Quartile.map(str) \\\n",
        "                            + rfmSeg.F_Quartile.map(str) \\\n",
        "                            + rfmSeg.M_Quartile.map(str)"
      ],
      "execution_count": 22,
      "outputs": []
    },
    {
      "cell_type": "code",
      "metadata": {
        "id": "sDUKQIvThG8m",
        "colab_type": "code",
        "colab": {
          "base_uri": "https://localhost:8080/",
          "height": 377
        },
        "outputId": "6c0fefea-d2e6-4fde-ec11-8e6aceeae132"
      },
      "source": [
        "rfmSeg.head(10)"
      ],
      "execution_count": 25,
      "outputs": [
        {
          "output_type": "execute_result",
          "data": {
            "text/html": [
              "<div>\n",
              "<style scoped>\n",
              "    .dataframe tbody tr th:only-of-type {\n",
              "        vertical-align: middle;\n",
              "    }\n",
              "\n",
              "    .dataframe tbody tr th {\n",
              "        vertical-align: top;\n",
              "    }\n",
              "\n",
              "    .dataframe thead th {\n",
              "        text-align: right;\n",
              "    }\n",
              "</style>\n",
              "<table border=\"1\" class=\"dataframe\">\n",
              "  <thead>\n",
              "    <tr style=\"text-align: right;\">\n",
              "      <th></th>\n",
              "      <th>recency</th>\n",
              "      <th>frequency</th>\n",
              "      <th>monetary_value</th>\n",
              "      <th>R_Quartile</th>\n",
              "      <th>F_Quartile</th>\n",
              "      <th>M_Quartile</th>\n",
              "      <th>RFMClass</th>\n",
              "    </tr>\n",
              "    <tr>\n",
              "      <th>ID</th>\n",
              "      <th></th>\n",
              "      <th></th>\n",
              "      <th></th>\n",
              "      <th></th>\n",
              "      <th></th>\n",
              "      <th></th>\n",
              "      <th></th>\n",
              "    </tr>\n",
              "  </thead>\n",
              "  <tbody>\n",
              "    <tr>\n",
              "      <th>0</th>\n",
              "      <td>279.0</td>\n",
              "      <td>1</td>\n",
              "      <td>3234.9045</td>\n",
              "      <td>4</td>\n",
              "      <td>4</td>\n",
              "      <td>3</td>\n",
              "      <td>443</td>\n",
              "    </tr>\n",
              "    <tr>\n",
              "      <th>1</th>\n",
              "      <td>62.0</td>\n",
              "      <td>1</td>\n",
              "      <td>415.8000</td>\n",
              "      <td>2</td>\n",
              "      <td>4</td>\n",
              "      <td>4</td>\n",
              "      <td>244</td>\n",
              "    </tr>\n",
              "    <tr>\n",
              "      <th>2</th>\n",
              "      <td>344.0</td>\n",
              "      <td>1</td>\n",
              "      <td>956.6700</td>\n",
              "      <td>4</td>\n",
              "      <td>4</td>\n",
              "      <td>4</td>\n",
              "      <td>444</td>\n",
              "    </tr>\n",
              "    <tr>\n",
              "      <th>3</th>\n",
              "      <td>251.0</td>\n",
              "      <td>1</td>\n",
              "      <td>3950.4250</td>\n",
              "      <td>4</td>\n",
              "      <td>4</td>\n",
              "      <td>2</td>\n",
              "      <td>442</td>\n",
              "    </tr>\n",
              "    <tr>\n",
              "      <th>4</th>\n",
              "      <td>27.0</td>\n",
              "      <td>1</td>\n",
              "      <td>2525.8300</td>\n",
              "      <td>1</td>\n",
              "      <td>4</td>\n",
              "      <td>3</td>\n",
              "      <td>143</td>\n",
              "    </tr>\n",
              "    <tr>\n",
              "      <th>5</th>\n",
              "      <td>11.0</td>\n",
              "      <td>4</td>\n",
              "      <td>18561.5055</td>\n",
              "      <td>1</td>\n",
              "      <td>1</td>\n",
              "      <td>1</td>\n",
              "      <td>111</td>\n",
              "    </tr>\n",
              "    <tr>\n",
              "      <th>6</th>\n",
              "      <td>117.0</td>\n",
              "      <td>2</td>\n",
              "      <td>6216.6700</td>\n",
              "      <td>3</td>\n",
              "      <td>2</td>\n",
              "      <td>2</td>\n",
              "      <td>322</td>\n",
              "    </tr>\n",
              "    <tr>\n",
              "      <th>7</th>\n",
              "      <td>118.0</td>\n",
              "      <td>2</td>\n",
              "      <td>6670.3890</td>\n",
              "      <td>3</td>\n",
              "      <td>2</td>\n",
              "      <td>1</td>\n",
              "      <td>321</td>\n",
              "    </tr>\n",
              "    <tr>\n",
              "      <th>8</th>\n",
              "      <td>120.0</td>\n",
              "      <td>1</td>\n",
              "      <td>2593.5681</td>\n",
              "      <td>3</td>\n",
              "      <td>4</td>\n",
              "      <td>3</td>\n",
              "      <td>343</td>\n",
              "    </tr>\n",
              "    <tr>\n",
              "      <th>9</th>\n",
              "      <td>296.0</td>\n",
              "      <td>1</td>\n",
              "      <td>3789.1700</td>\n",
              "      <td>4</td>\n",
              "      <td>4</td>\n",
              "      <td>2</td>\n",
              "      <td>442</td>\n",
              "    </tr>\n",
              "  </tbody>\n",
              "</table>\n",
              "</div>"
            ],
            "text/plain": [
              "    recency  frequency  monetary_value  ...  F_Quartile  M_Quartile  RFMClass\n",
              "ID                                      ...                                  \n",
              "0     279.0          1       3234.9045  ...           4           3       443\n",
              "1      62.0          1        415.8000  ...           4           4       244\n",
              "2     344.0          1        956.6700  ...           4           4       444\n",
              "3     251.0          1       3950.4250  ...           4           2       442\n",
              "4      27.0          1       2525.8300  ...           4           3       143\n",
              "5      11.0          4      18561.5055  ...           1           1       111\n",
              "6     117.0          2       6216.6700  ...           2           2       322\n",
              "7     118.0          2       6670.3890  ...           2           1       321\n",
              "8     120.0          1       2593.5681  ...           4           3       343\n",
              "9     296.0          1       3789.1700  ...           4           2       442\n",
              "\n",
              "[10 rows x 7 columns]"
            ]
          },
          "metadata": {
            "tags": []
          },
          "execution_count": 25
        }
      ]
    },
    {
      "cell_type": "code",
      "metadata": {
        "id": "wtrLxK8ZhLU1",
        "colab_type": "code",
        "colab": {}
      },
      "source": [
        "rfmSeg.to_excel('rfmSeg_table_2019.xlsx')"
      ],
      "execution_count": 31,
      "outputs": []
    },
    {
      "cell_type": "code",
      "metadata": {
        "id": "t2mqS4fUhbT5",
        "colab_type": "code",
        "colab": {
          "base_uri": "https://localhost:8080/",
          "height": 436
        },
        "outputId": "4b133906-1cf4-455b-81d8-cc040a1e0fc5"
      },
      "source": [
        "rfmSeg.sort_values(by=['RFMClass', 'monetary_value'], ascending=[True, False])"
      ],
      "execution_count": 24,
      "outputs": [
        {
          "output_type": "execute_result",
          "data": {
            "text/html": [
              "<div>\n",
              "<style scoped>\n",
              "    .dataframe tbody tr th:only-of-type {\n",
              "        vertical-align: middle;\n",
              "    }\n",
              "\n",
              "    .dataframe tbody tr th {\n",
              "        vertical-align: top;\n",
              "    }\n",
              "\n",
              "    .dataframe thead th {\n",
              "        text-align: right;\n",
              "    }\n",
              "</style>\n",
              "<table border=\"1\" class=\"dataframe\">\n",
              "  <thead>\n",
              "    <tr style=\"text-align: right;\">\n",
              "      <th></th>\n",
              "      <th>recency</th>\n",
              "      <th>frequency</th>\n",
              "      <th>monetary_value</th>\n",
              "      <th>R_Quartile</th>\n",
              "      <th>F_Quartile</th>\n",
              "      <th>M_Quartile</th>\n",
              "      <th>RFMClass</th>\n",
              "    </tr>\n",
              "    <tr>\n",
              "      <th>ID</th>\n",
              "      <th></th>\n",
              "      <th></th>\n",
              "      <th></th>\n",
              "      <th></th>\n",
              "      <th></th>\n",
              "      <th></th>\n",
              "      <th></th>\n",
              "    </tr>\n",
              "  </thead>\n",
              "  <tbody>\n",
              "    <tr>\n",
              "      <th>4471</th>\n",
              "      <td>13.0</td>\n",
              "      <td>9</td>\n",
              "      <td>102248.8700</td>\n",
              "      <td>1</td>\n",
              "      <td>1</td>\n",
              "      <td>1</td>\n",
              "      <td>111</td>\n",
              "    </tr>\n",
              "    <tr>\n",
              "      <th>11373</th>\n",
              "      <td>2.0</td>\n",
              "      <td>8</td>\n",
              "      <td>99268.9050</td>\n",
              "      <td>1</td>\n",
              "      <td>1</td>\n",
              "      <td>1</td>\n",
              "      <td>111</td>\n",
              "    </tr>\n",
              "    <tr>\n",
              "      <th>20809</th>\n",
              "      <td>14.0</td>\n",
              "      <td>20</td>\n",
              "      <td>96871.8750</td>\n",
              "      <td>1</td>\n",
              "      <td>1</td>\n",
              "      <td>1</td>\n",
              "      <td>111</td>\n",
              "    </tr>\n",
              "    <tr>\n",
              "      <th>31211</th>\n",
              "      <td>40.0</td>\n",
              "      <td>9</td>\n",
              "      <td>82375.1007</td>\n",
              "      <td>1</td>\n",
              "      <td>1</td>\n",
              "      <td>1</td>\n",
              "      <td>111</td>\n",
              "    </tr>\n",
              "    <tr>\n",
              "      <th>35366</th>\n",
              "      <td>29.0</td>\n",
              "      <td>8</td>\n",
              "      <td>76715.0300</td>\n",
              "      <td>1</td>\n",
              "      <td>1</td>\n",
              "      <td>1</td>\n",
              "      <td>111</td>\n",
              "    </tr>\n",
              "    <tr>\n",
              "      <th>...</th>\n",
              "      <td>...</td>\n",
              "      <td>...</td>\n",
              "      <td>...</td>\n",
              "      <td>...</td>\n",
              "      <td>...</td>\n",
              "      <td>...</td>\n",
              "      <td>...</td>\n",
              "    </tr>\n",
              "    <tr>\n",
              "      <th>42381</th>\n",
              "      <td>319.0</td>\n",
              "      <td>1</td>\n",
              "      <td>0.0000</td>\n",
              "      <td>4</td>\n",
              "      <td>4</td>\n",
              "      <td>4</td>\n",
              "      <td>444</td>\n",
              "    </tr>\n",
              "    <tr>\n",
              "      <th>42612</th>\n",
              "      <td>283.0</td>\n",
              "      <td>1</td>\n",
              "      <td>0.0000</td>\n",
              "      <td>4</td>\n",
              "      <td>4</td>\n",
              "      <td>4</td>\n",
              "      <td>444</td>\n",
              "    </tr>\n",
              "    <tr>\n",
              "      <th>43436</th>\n",
              "      <td>308.0</td>\n",
              "      <td>1</td>\n",
              "      <td>0.0000</td>\n",
              "      <td>4</td>\n",
              "      <td>4</td>\n",
              "      <td>4</td>\n",
              "      <td>444</td>\n",
              "    </tr>\n",
              "    <tr>\n",
              "      <th>43727</th>\n",
              "      <td>319.0</td>\n",
              "      <td>1</td>\n",
              "      <td>0.0000</td>\n",
              "      <td>4</td>\n",
              "      <td>4</td>\n",
              "      <td>4</td>\n",
              "      <td>444</td>\n",
              "    </tr>\n",
              "    <tr>\n",
              "      <th>43881</th>\n",
              "      <td>317.0</td>\n",
              "      <td>1</td>\n",
              "      <td>0.0000</td>\n",
              "      <td>4</td>\n",
              "      <td>4</td>\n",
              "      <td>4</td>\n",
              "      <td>444</td>\n",
              "    </tr>\n",
              "  </tbody>\n",
              "</table>\n",
              "<p>41084 rows × 7 columns</p>\n",
              "</div>"
            ],
            "text/plain": [
              "       recency  frequency  monetary_value  ...  F_Quartile  M_Quartile  RFMClass\n",
              "ID                                         ...                                  \n",
              "4471      13.0          9     102248.8700  ...           1           1       111\n",
              "11373      2.0          8      99268.9050  ...           1           1       111\n",
              "20809     14.0         20      96871.8750  ...           1           1       111\n",
              "31211     40.0          9      82375.1007  ...           1           1       111\n",
              "35366     29.0          8      76715.0300  ...           1           1       111\n",
              "...        ...        ...             ...  ...         ...         ...       ...\n",
              "42381    319.0          1          0.0000  ...           4           4       444\n",
              "42612    283.0          1          0.0000  ...           4           4       444\n",
              "43436    308.0          1          0.0000  ...           4           4       444\n",
              "43727    319.0          1          0.0000  ...           4           4       444\n",
              "43881    317.0          1          0.0000  ...           4           4       444\n",
              "\n",
              "[41084 rows x 7 columns]"
            ]
          },
          "metadata": {
            "tags": []
          },
          "execution_count": 24
        }
      ]
    },
    {
      "cell_type": "code",
      "metadata": {
        "id": "OswzDdrihdTx",
        "colab_type": "code",
        "colab": {}
      },
      "source": [
        "kp = rfmSeg.sort_values(by=['RFMClass', 'monetary_value'], ascending=[True, False])\n",
        "kp.to_excel('rfmSeg.sort_2019.xlsx')"
      ],
      "execution_count": 33,
      "outputs": []
    },
    {
      "cell_type": "code",
      "metadata": {
        "id": "JGoAt1LzKDMb",
        "colab_type": "code",
        "colab": {}
      },
      "source": [
        "Видим, что у нас таким образом получилось достаточно много сегментов (которые, в принципе, тоже можно использовать)\n",
        "Для того чтобы сократить кол-во сегментов сложим значения квартилей"
      ],
      "execution_count": null,
      "outputs": []
    },
    {
      "cell_type": "code",
      "metadata": {
        "id": "KyLcH0Lxhttq",
        "colab_type": "code",
        "colab": {
          "base_uri": "https://localhost:8080/",
          "height": 905
        },
        "outputId": "dec8db97-4566-44f5-ed37-515712d7c3cd"
      },
      "source": [
        "rfmSeg.groupby('RFMClass').agg('monetary_value').mean()"
      ],
      "execution_count": 26,
      "outputs": [
        {
          "output_type": "execute_result",
          "data": {
            "text/plain": [
              "RFMClass\n",
              "111    18674.342665\n",
              "112     5278.615278\n",
              "113     3047.031214\n",
              "114     1562.625875\n",
              "121     9651.585155\n",
              "122     5166.679816\n",
              "123     3054.029900\n",
              "124     1719.012911\n",
              "141     8712.832111\n",
              "142     4618.924877\n",
              "143     2804.190810\n",
              "144     1541.246329\n",
              "211    16468.054627\n",
              "212     5297.298510\n",
              "213     2931.898124\n",
              "214     1278.620271\n",
              "221    10109.960394\n",
              "222     5166.213745\n",
              "223     2968.890815\n",
              "224     1407.534586\n",
              "241     8108.205464\n",
              "242     4638.650340\n",
              "243     2916.794682\n",
              "244     1261.751238\n",
              "311    14837.474489\n",
              "312     5340.267071\n",
              "313     3108.731750\n",
              "314     1236.608743\n",
              "321     9612.123423\n",
              "322     5203.232463\n",
              "323     2974.697720\n",
              "324     1353.871293\n",
              "341     8269.629648\n",
              "342     4552.575375\n",
              "343     2945.776816\n",
              "344     1366.122314\n",
              "411    14087.559363\n",
              "412     5077.635105\n",
              "413     2722.697100\n",
              "414     1150.438500\n",
              "421     9562.072889\n",
              "422     5227.784045\n",
              "423     2939.507952\n",
              "424     1119.515491\n",
              "441     8604.860254\n",
              "442     4562.677367\n",
              "443     3013.362607\n",
              "444     1196.817338\n",
              "Name: monetary_value, dtype: float64"
            ]
          },
          "metadata": {
            "tags": []
          },
          "execution_count": 26
        }
      ]
    },
    {
      "cell_type": "code",
      "metadata": {
        "id": "Xq6BjHVkiFfJ",
        "colab_type": "code",
        "colab": {
          "base_uri": "https://localhost:8080/",
          "height": 443
        },
        "outputId": "80b9dc17-2d2f-44a2-fc54-f0f205806f91"
      },
      "source": [
        "rfmSeg['Total Score'] = rfmSeg['R_Quartile'] + rfmSeg['F_Quartile'] +rfmSeg['M_Quartile']\n",
        "print(rfmSeg.head(), rfmSeg.info())"
      ],
      "execution_count": 28,
      "outputs": [
        {
          "output_type": "stream",
          "text": [
            "<class 'pandas.core.frame.DataFrame'>\n",
            "Int64Index: 41084 entries, 0 to 44269\n",
            "Data columns (total 8 columns):\n",
            " #   Column          Non-Null Count  Dtype  \n",
            "---  ------          --------------  -----  \n",
            " 0   recency         41084 non-null  float64\n",
            " 1   frequency       41084 non-null  int32  \n",
            " 2   monetary_value  41084 non-null  float64\n",
            " 3   R_Quartile      41084 non-null  int64  \n",
            " 4   F_Quartile      41084 non-null  int64  \n",
            " 5   M_Quartile      41084 non-null  int64  \n",
            " 6   RFMClass        41084 non-null  object \n",
            " 7   Total Score     41084 non-null  int64  \n",
            "dtypes: float64(2), int32(1), int64(4), object(1)\n",
            "memory usage: 2.7+ MB\n",
            "    recency  frequency  monetary_value  ...  M_Quartile  RFMClass  Total Score\n",
            "ID                                      ...                                   \n",
            "0     279.0          1       3234.9045  ...           3       443           11\n",
            "1      62.0          1        415.8000  ...           4       244           10\n",
            "2     344.0          1        956.6700  ...           4       444           12\n",
            "3     251.0          1       3950.4250  ...           2       442           10\n",
            "4      27.0          1       2525.8300  ...           3       143            8\n",
            "\n",
            "[5 rows x 8 columns] None\n"
          ],
          "name": "stdout"
        }
      ]
    },
    {
      "cell_type": "code",
      "metadata": {
        "id": "dZMdkWCSiNMB",
        "colab_type": "code",
        "colab": {
          "base_uri": "https://localhost:8080/",
          "height": 230
        },
        "outputId": "7a0b4bf0-9289-4d2c-e792-30ae7c427df9"
      },
      "source": [
        "rfmSeg.groupby('Total Score').agg('monetary_value').mean()"
      ],
      "execution_count": 29,
      "outputs": [
        {
          "output_type": "execute_result",
          "data": {
            "text/plain": [
              "Total Score\n",
              "3     18674.342665\n",
              "4     13590.804896\n",
              "5      9943.643958\n",
              "6      7832.103247\n",
              "7      5740.587734\n",
              "8      4008.896012\n",
              "9      3437.430894\n",
              "10     2998.754237\n",
              "11     2217.231903\n",
              "12     1196.817338\n",
              "Name: monetary_value, dtype: float64"
            ]
          },
          "metadata": {
            "tags": []
          },
          "execution_count": 29
        }
      ]
    },
    {
      "cell_type": "code",
      "metadata": {
        "id": "vgBKGwEViS9K",
        "colab_type": "code",
        "colab": {
          "base_uri": "https://localhost:8080/",
          "height": 300
        },
        "outputId": "b89683a0-5db0-4602-887f-b6811d143c47"
      },
      "source": [
        "rfmSeg.groupby('Total Score').agg('monetary_value').mean().plot(kind='bar', colormap='Blues_r')"
      ],
      "execution_count": 30,
      "outputs": [
        {
          "output_type": "execute_result",
          "data": {
            "text/plain": [
              "<matplotlib.axes._subplots.AxesSubplot at 0x7fe0a384b5c0>"
            ]
          },
          "metadata": {
            "tags": []
          },
          "execution_count": 30
        },
        {
          "output_type": "display_data",
          "data": {
            "image/png": "[encoded data removed]",
            "text/plain": [
              "<Figure size 432x288 with 1 Axes>"
            ]
          },
          "metadata": {
            "tags": [],
            "needs_background": "light"
          }
        }
      ]
    },
    {
      "cell_type": "code",
      "metadata": {
        "id": "uJ5U7OoiiYhn",
        "colab_type": "code",
        "colab": {
          "base_uri": "https://localhost:8080/",
          "height": 300
        },
        "outputId": "6045f358-f33a-40bc-cb5c-19c3b4c1e371"
      },
      "source": [
        "rfmSeg.groupby('Total Score').agg('frequency').mean().plot(kind='bar', colormap='Blues_r')"
      ],
      "execution_count": 31,
      "outputs": [
        {
          "output_type": "execute_result",
          "data": {
            "text/plain": [
              "<matplotlib.axes._subplots.AxesSubplot at 0x7fe0a39d19e8>"
            ]
          },
          "metadata": {
            "tags": []
          },
          "execution_count": 31
        },
        {
          "output_type": "display_data",
          "data": {
            "image/png": "[encoded data removed]",
            "text/plain": [
              "<Figure size 432x288 with 1 Axes>"
            ]
          },
          "metadata": {
            "tags": [],
            "needs_background": "light"
          }
        }
      ]
    },
    {
      "cell_type": "code",
      "metadata": {
        "id": "zRzR2W8nidAP",
        "colab_type": "code",
        "colab": {
          "base_uri": "https://localhost:8080/",
          "height": 300
        },
        "outputId": "7fb061c1-2fc9-49d9-bb75-724e3a9f0eee"
      },
      "source": [
        "rfmSeg.groupby('Total Score').agg('recency').mean().plot(kind='bar', colormap='Blues_r')"
      ],
      "execution_count": 32,
      "outputs": [
        {
          "output_type": "execute_result",
          "data": {
            "text/plain": [
              "<matplotlib.axes._subplots.AxesSubplot at 0x7fe0a38c80b8>"
            ]
          },
          "metadata": {
            "tags": []
          },
          "execution_count": 32
        },
        {
          "output_type": "display_data",
          "data": {
            "image/png": "[encoded data removed]",
            "text/plain": [
              "<Figure size 432x288 with 1 Axes>"
            ]
          },
          "metadata": {
            "tags": [],
            "needs_background": "light"
          }
        }
      ]
    },
    {
      "cell_type": "markdown",
      "metadata": {
        "id": "AO8oJ3qejWH5",
        "colab_type": "text"
      },
      "source": [
        "NEW **ANALYSIS**"
      ]
    },
    {
      "cell_type": "code",
      "metadata": {
        "id": "qtOennsBjUOe",
        "colab_type": "code",
        "colab": {}
      },
      "source": [
        "import pandas as pd\n",
        "from datetime import timedelta\n",
        "import matplotlib.pyplot as plt\n"
      ],
      "execution_count": 33,
      "outputs": []
    },
    {
      "cell_type": "code",
      "metadata": {
        "id": "I_luwPafjiWS",
        "colab_type": "code",
        "colab": {
          "base_uri": "https://localhost:8080/",
          "height": 107
        },
        "outputId": "c4fff2d0-730a-4f41-855c-2b2c57c585b7"
      },
      "source": [
        "!pip install squarify"
      ],
      "execution_count": 43,
      "outputs": [
        {
          "output_type": "stream",
          "text": [
            "Collecting squarify\n",
            "  Downloading https://files.pythonhosted.org/packages/0b/2b/2e77c35326efec19819cd1d729540d4d235e6c2a3f37658288a363a67da5/squarify-0.4.3-py3-none-any.whl\n",
            "Installing collected packages: squarify\n",
            "Successfully installed squarify-0.4.3\n"
          ],
          "name": "stdout"
        }
      ]
    },
    {
      "cell_type": "code",
      "metadata": {
        "id": "E5rD1kKOkU1T",
        "colab_type": "code",
        "colab": {
          "base_uri": "https://localhost:8080/",
          "height": 227
        },
        "outputId": "0260319d-bd3f-4202-df76-5592910d0da4"
      },
      "source": [
        "rfmTable.head()"
      ],
      "execution_count": 34,
      "outputs": [
        {
          "output_type": "execute_result",
          "data": {
            "text/html": [
              "<div>\n",
              "<style scoped>\n",
              "    .dataframe tbody tr th:only-of-type {\n",
              "        vertical-align: middle;\n",
              "    }\n",
              "\n",
              "    .dataframe tbody tr th {\n",
              "        vertical-align: top;\n",
              "    }\n",
              "\n",
              "    .dataframe thead th {\n",
              "        text-align: right;\n",
              "    }\n",
              "</style>\n",
              "<table border=\"1\" class=\"dataframe\">\n",
              "  <thead>\n",
              "    <tr style=\"text-align: right;\">\n",
              "      <th></th>\n",
              "      <th>recency</th>\n",
              "      <th>frequency</th>\n",
              "      <th>monetary_value</th>\n",
              "      <th>R_Quartile</th>\n",
              "      <th>F_Quartile</th>\n",
              "      <th>M_Quartile</th>\n",
              "      <th>RFMClass</th>\n",
              "      <th>Total Score</th>\n",
              "    </tr>\n",
              "    <tr>\n",
              "      <th>ID</th>\n",
              "      <th></th>\n",
              "      <th></th>\n",
              "      <th></th>\n",
              "      <th></th>\n",
              "      <th></th>\n",
              "      <th></th>\n",
              "      <th></th>\n",
              "      <th></th>\n",
              "    </tr>\n",
              "  </thead>\n",
              "  <tbody>\n",
              "    <tr>\n",
              "      <th>0</th>\n",
              "      <td>279.0</td>\n",
              "      <td>1</td>\n",
              "      <td>3234.9045</td>\n",
              "      <td>4</td>\n",
              "      <td>4</td>\n",
              "      <td>3</td>\n",
              "      <td>443</td>\n",
              "      <td>11</td>\n",
              "    </tr>\n",
              "    <tr>\n",
              "      <th>1</th>\n",
              "      <td>62.0</td>\n",
              "      <td>1</td>\n",
              "      <td>415.8000</td>\n",
              "      <td>2</td>\n",
              "      <td>4</td>\n",
              "      <td>4</td>\n",
              "      <td>244</td>\n",
              "      <td>10</td>\n",
              "    </tr>\n",
              "    <tr>\n",
              "      <th>2</th>\n",
              "      <td>344.0</td>\n",
              "      <td>1</td>\n",
              "      <td>956.6700</td>\n",
              "      <td>4</td>\n",
              "      <td>4</td>\n",
              "      <td>4</td>\n",
              "      <td>444</td>\n",
              "      <td>12</td>\n",
              "    </tr>\n",
              "    <tr>\n",
              "      <th>3</th>\n",
              "      <td>251.0</td>\n",
              "      <td>1</td>\n",
              "      <td>3950.4250</td>\n",
              "      <td>4</td>\n",
              "      <td>4</td>\n",
              "      <td>2</td>\n",
              "      <td>442</td>\n",
              "      <td>10</td>\n",
              "    </tr>\n",
              "    <tr>\n",
              "      <th>4</th>\n",
              "      <td>27.0</td>\n",
              "      <td>1</td>\n",
              "      <td>2525.8300</td>\n",
              "      <td>1</td>\n",
              "      <td>4</td>\n",
              "      <td>3</td>\n",
              "      <td>143</td>\n",
              "      <td>8</td>\n",
              "    </tr>\n",
              "  </tbody>\n",
              "</table>\n",
              "</div>"
            ],
            "text/plain": [
              "    recency  frequency  monetary_value  ...  M_Quartile  RFMClass  Total Score\n",
              "ID                                      ...                                   \n",
              "0     279.0          1       3234.9045  ...           3       443           11\n",
              "1      62.0          1        415.8000  ...           4       244           10\n",
              "2     344.0          1        956.6700  ...           4       444           12\n",
              "3     251.0          1       3950.4250  ...           2       442           10\n",
              "4      27.0          1       2525.8300  ...           3       143            8\n",
              "\n",
              "[5 rows x 8 columns]"
            ]
          },
          "metadata": {
            "tags": []
          },
          "execution_count": 34
        }
      ]
    },
    {
      "cell_type": "code",
      "metadata": {
        "id": "dQqFWxgUktCt",
        "colab_type": "code",
        "colab": {
          "base_uri": "https://localhost:8080/",
          "height": 72
        },
        "outputId": "0c5912ce-7ce0-4f45-c534-d4dc38408a38"
      },
      "source": [
        "import seaborn as sns"
      ],
      "execution_count": 35,
      "outputs": [
        {
          "output_type": "stream",
          "text": [
            "/usr/local/lib/python3.6/dist-packages/statsmodels/tools/_testing.py:19: FutureWarning: pandas.util.testing is deprecated. Use the functions in the public API at pandas.testing instead.\n",
            "  import pandas.util.testing as tm\n"
          ],
          "name": "stderr"
        }
      ]
    },
    {
      "cell_type": "code",
      "metadata": {
        "id": "W9IJ61EDjrn8",
        "colab_type": "code",
        "colab": {
          "base_uri": "https://localhost:8080/",
          "height": 716
        },
        "outputId": "aee09d24-8c32-4d1b-fb78-3d668e5ec87d"
      },
      "source": [
        "plt.figure(figsize=(14,12))\n",
        "# Plot distribution of R\n",
        "plt.subplot(3, 1, 1); sns.distplot(rfmTable['recency'])\n",
        "# Plot distribution of F\n",
        "plt.subplot(3, 1, 2); sns.distplot(rfmTable['frequency'])\n",
        "# Plot distribution of M\n",
        "plt.subplot(3, 1, 3); sns.distplot(rfmTable['monetary_value'])\n",
        "# Show the plot\n",
        "plt.savefig('distrib_graph.png')\n",
        "plt.show()"
      ],
      "execution_count": 36,
      "outputs": [
        {
          "output_type": "display_data",
          "data": {
            "image/png": "[encoded data removed]",
            "text/plain": [
              "<Figure size 1008x864 with 3 Axes>"
            ]
          },
          "metadata": {
            "tags": [],
            "needs_background": "light"
          }
        }
      ]
    },
    {
      "cell_type": "code",
      "metadata": {
        "id": "8EKfivJZnJ4B",
        "colab_type": "code",
        "colab": {
          "base_uri": "https://localhost:8080/",
          "height": 527
        },
        "outputId": "11bf9738-7881-4dbd-c7c0-11266cbf62b8"
      },
      "source": [
        "# Define rfm_level function\n",
        "def rfm_level(df):\n",
        "    if df['Total Score'] >= 9:\n",
        "        return 'Require Activation'\n",
        "    elif ((df['Total Score'] >= 8) and (df['Total Score'] < 9)):\n",
        "        return 'Needs Attention'\n",
        "    elif ((df['Total Score'] >= 7) and (df['Total Score'] < 8)):\n",
        "        return 'Promising'\n",
        "    elif ((df['Total Score'] >= 6) and (df['Total Score'] < 7)):\n",
        "        return 'Potential'\n",
        "    elif ((df['Total Score'] >= 5) and (df['Total Score'] < 6)):\n",
        "        return 'Loyal'\n",
        "    elif ((df['Total Score'] >= 4) and (df['Total Score'] < 5)):\n",
        "        return 'Champions'\n",
        "    else:\n",
        "        return 'Can\\'t Loose Them'\n",
        "# Create a new variable RFM_Level\n",
        "rfmSeg['RFM_Level'] = rfmSeg.apply(rfm_level, axis=1)\n",
        "# Print the header with top 5 rows to the console\n",
        "rfmSeg.head(15)\n"
      ],
      "execution_count": 39,
      "outputs": [
        {
          "output_type": "execute_result",
          "data": {
            "text/html": [
              "<div>\n",
              "<style scoped>\n",
              "    .dataframe tbody tr th:only-of-type {\n",
              "        vertical-align: middle;\n",
              "    }\n",
              "\n",
              "    .dataframe tbody tr th {\n",
              "        vertical-align: top;\n",
              "    }\n",
              "\n",
              "    .dataframe thead th {\n",
              "        text-align: right;\n",
              "    }\n",
              "</style>\n",
              "<table border=\"1\" class=\"dataframe\">\n",
              "  <thead>\n",
              "    <tr style=\"text-align: right;\">\n",
              "      <th></th>\n",
              "      <th>recency</th>\n",
              "      <th>frequency</th>\n",
              "      <th>monetary_value</th>\n",
              "      <th>R_Quartile</th>\n",
              "      <th>F_Quartile</th>\n",
              "      <th>M_Quartile</th>\n",
              "      <th>RFMClass</th>\n",
              "      <th>Total Score</th>\n",
              "      <th>RFM_Level</th>\n",
              "    </tr>\n",
              "    <tr>\n",
              "      <th>ID</th>\n",
              "      <th></th>\n",
              "      <th></th>\n",
              "      <th></th>\n",
              "      <th></th>\n",
              "      <th></th>\n",
              "      <th></th>\n",
              "      <th></th>\n",
              "      <th></th>\n",
              "      <th></th>\n",
              "    </tr>\n",
              "  </thead>\n",
              "  <tbody>\n",
              "    <tr>\n",
              "      <th>0</th>\n",
              "      <td>279.0</td>\n",
              "      <td>1</td>\n",
              "      <td>3234.9045</td>\n",
              "      <td>4</td>\n",
              "      <td>4</td>\n",
              "      <td>3</td>\n",
              "      <td>443</td>\n",
              "      <td>11</td>\n",
              "      <td>Require Activation</td>\n",
              "    </tr>\n",
              "    <tr>\n",
              "      <th>1</th>\n",
              "      <td>62.0</td>\n",
              "      <td>1</td>\n",
              "      <td>415.8000</td>\n",
              "      <td>2</td>\n",
              "      <td>4</td>\n",
              "      <td>4</td>\n",
              "      <td>244</td>\n",
              "      <td>10</td>\n",
              "      <td>Require Activation</td>\n",
              "    </tr>\n",
              "    <tr>\n",
              "      <th>2</th>\n",
              "      <td>344.0</td>\n",
              "      <td>1</td>\n",
              "      <td>956.6700</td>\n",
              "      <td>4</td>\n",
              "      <td>4</td>\n",
              "      <td>4</td>\n",
              "      <td>444</td>\n",
              "      <td>12</td>\n",
              "      <td>Require Activation</td>\n",
              "    </tr>\n",
              "    <tr>\n",
              "      <th>3</th>\n",
              "      <td>251.0</td>\n",
              "      <td>1</td>\n",
              "      <td>3950.4250</td>\n",
              "      <td>4</td>\n",
              "      <td>4</td>\n",
              "      <td>2</td>\n",
              "      <td>442</td>\n",
              "      <td>10</td>\n",
              "      <td>Require Activation</td>\n",
              "    </tr>\n",
              "    <tr>\n",
              "      <th>4</th>\n",
              "      <td>27.0</td>\n",
              "      <td>1</td>\n",
              "      <td>2525.8300</td>\n",
              "      <td>1</td>\n",
              "      <td>4</td>\n",
              "      <td>3</td>\n",
              "      <td>143</td>\n",
              "      <td>8</td>\n",
              "      <td>Needs Attention</td>\n",
              "    </tr>\n",
              "    <tr>\n",
              "      <th>5</th>\n",
              "      <td>11.0</td>\n",
              "      <td>4</td>\n",
              "      <td>18561.5055</td>\n",
              "      <td>1</td>\n",
              "      <td>1</td>\n",
              "      <td>1</td>\n",
              "      <td>111</td>\n",
              "      <td>3</td>\n",
              "      <td>Can't Loose Them</td>\n",
              "    </tr>\n",
              "    <tr>\n",
              "      <th>6</th>\n",
              "      <td>117.0</td>\n",
              "      <td>2</td>\n",
              "      <td>6216.6700</td>\n",
              "      <td>3</td>\n",
              "      <td>2</td>\n",
              "      <td>2</td>\n",
              "      <td>322</td>\n",
              "      <td>7</td>\n",
              "      <td>Promising</td>\n",
              "    </tr>\n",
              "    <tr>\n",
              "      <th>7</th>\n",
              "      <td>118.0</td>\n",
              "      <td>2</td>\n",
              "      <td>6670.3890</td>\n",
              "      <td>3</td>\n",
              "      <td>2</td>\n",
              "      <td>1</td>\n",
              "      <td>321</td>\n",
              "      <td>6</td>\n",
              "      <td>Potential</td>\n",
              "    </tr>\n",
              "    <tr>\n",
              "      <th>8</th>\n",
              "      <td>120.0</td>\n",
              "      <td>1</td>\n",
              "      <td>2593.5681</td>\n",
              "      <td>3</td>\n",
              "      <td>4</td>\n",
              "      <td>3</td>\n",
              "      <td>343</td>\n",
              "      <td>10</td>\n",
              "      <td>Require Activation</td>\n",
              "    </tr>\n",
              "    <tr>\n",
              "      <th>9</th>\n",
              "      <td>296.0</td>\n",
              "      <td>1</td>\n",
              "      <td>3789.1700</td>\n",
              "      <td>4</td>\n",
              "      <td>4</td>\n",
              "      <td>2</td>\n",
              "      <td>442</td>\n",
              "      <td>10</td>\n",
              "      <td>Require Activation</td>\n",
              "    </tr>\n",
              "    <tr>\n",
              "      <th>10</th>\n",
              "      <td>55.0</td>\n",
              "      <td>1</td>\n",
              "      <td>4771.6700</td>\n",
              "      <td>2</td>\n",
              "      <td>4</td>\n",
              "      <td>2</td>\n",
              "      <td>242</td>\n",
              "      <td>8</td>\n",
              "      <td>Needs Attention</td>\n",
              "    </tr>\n",
              "    <tr>\n",
              "      <th>11</th>\n",
              "      <td>40.0</td>\n",
              "      <td>2</td>\n",
              "      <td>4479.6680</td>\n",
              "      <td>1</td>\n",
              "      <td>2</td>\n",
              "      <td>2</td>\n",
              "      <td>122</td>\n",
              "      <td>5</td>\n",
              "      <td>Loyal</td>\n",
              "    </tr>\n",
              "    <tr>\n",
              "      <th>12</th>\n",
              "      <td>194.0</td>\n",
              "      <td>2</td>\n",
              "      <td>4646.6700</td>\n",
              "      <td>3</td>\n",
              "      <td>2</td>\n",
              "      <td>2</td>\n",
              "      <td>322</td>\n",
              "      <td>7</td>\n",
              "      <td>Promising</td>\n",
              "    </tr>\n",
              "    <tr>\n",
              "      <th>13</th>\n",
              "      <td>72.0</td>\n",
              "      <td>4</td>\n",
              "      <td>17925.6157</td>\n",
              "      <td>2</td>\n",
              "      <td>1</td>\n",
              "      <td>1</td>\n",
              "      <td>211</td>\n",
              "      <td>4</td>\n",
              "      <td>Champions</td>\n",
              "    </tr>\n",
              "    <tr>\n",
              "      <th>16</th>\n",
              "      <td>25.0</td>\n",
              "      <td>3</td>\n",
              "      <td>16362.5000</td>\n",
              "      <td>1</td>\n",
              "      <td>1</td>\n",
              "      <td>1</td>\n",
              "      <td>111</td>\n",
              "      <td>3</td>\n",
              "      <td>Can't Loose Them</td>\n",
              "    </tr>\n",
              "  </tbody>\n",
              "</table>\n",
              "</div>"
            ],
            "text/plain": [
              "    recency  frequency  ...  Total Score           RFM_Level\n",
              "ID                      ...                                 \n",
              "0     279.0          1  ...           11  Require Activation\n",
              "1      62.0          1  ...           10  Require Activation\n",
              "2     344.0          1  ...           12  Require Activation\n",
              "3     251.0          1  ...           10  Require Activation\n",
              "4      27.0          1  ...            8     Needs Attention\n",
              "5      11.0          4  ...            3    Can't Loose Them\n",
              "6     117.0          2  ...            7           Promising\n",
              "7     118.0          2  ...            6           Potential\n",
              "8     120.0          1  ...           10  Require Activation\n",
              "9     296.0          1  ...           10  Require Activation\n",
              "10     55.0          1  ...            8     Needs Attention\n",
              "11     40.0          2  ...            5               Loyal\n",
              "12    194.0          2  ...            7           Promising\n",
              "13     72.0          4  ...            4           Champions\n",
              "16     25.0          3  ...            3    Can't Loose Them\n",
              "\n",
              "[15 rows x 9 columns]"
            ]
          },
          "metadata": {
            "tags": []
          },
          "execution_count": 39
        }
      ]
    },
    {
      "cell_type": "code",
      "metadata": {
        "id": "Wc8xym8PnwvH",
        "colab_type": "code",
        "colab": {
          "base_uri": "https://localhost:8080/",
          "height": 194
        },
        "outputId": "d4a543ac-829e-43a6-d9d1-00b80298db63"
      },
      "source": [
        "# Calculate average values for each RFM_Level, and return a size of each segment \n",
        "rfm_level_agg = rfmSeg.groupby('RFM_Level').agg({\n",
        "    'recency': 'mean',\n",
        "    'frequency': 'mean',\n",
        "    'monetary_value': ['mean', 'count']\n",
        "}).round(1)\n",
        "# Print the aggregated dataset\n",
        "print(rfm_level_agg)"
      ],
      "execution_count": 40,
      "outputs": [
        {
          "output_type": "stream",
          "text": [
            "                   recency frequency monetary_value       \n",
            "                      mean      mean           mean  count\n",
            "RFM_Level                                                 \n",
            "Can't Loose Them      24.6       4.7        18674.3   1956\n",
            "Champions             48.3       3.4        13590.8   2760\n",
            "Loyal                 80.7       2.6         9943.6   2633\n",
            "Needs Attention       73.6       1.1         4008.9   4832\n",
            "Potential            100.4       1.9         7832.1   2607\n",
            "Promising             95.6       1.4         5740.6   3779\n",
            "Require Activation   187.1       1.0         2735.4  22517\n"
          ],
          "name": "stdout"
        }
      ]
    },
    {
      "cell_type": "code",
      "metadata": {
        "id": "xO_zP_xjMFP3",
        "colab_type": "code",
        "colab": {}
      },
      "source": [
        "rfm_level_agg.to_excel('rfm_table.xlsx')"
      ],
      "execution_count": 45,
      "outputs": []
    },
    {
      "cell_type": "code",
      "metadata": {
        "id": "1FSiGHYHMOZm",
        "colab_type": "code",
        "colab": {
          "base_uri": "https://localhost:8080/",
          "height": 380
        },
        "outputId": "103e7ff7-8c15-489a-dd3d-d4c2b4d416f7"
      },
      "source": [
        "rfm_level_agg.plot.bar()"
      ],
      "execution_count": 50,
      "outputs": [
        {
          "output_type": "execute_result",
          "data": {
            "text/plain": [
              "<matplotlib.axes._subplots.AxesSubplot at 0x7fe0acbd0908>"
            ]
          },
          "metadata": {
            "tags": []
          },
          "execution_count": 50
        },
        {
          "output_type": "display_data",
          "data": {
            "image/png": "[encoded data removed]",
            "text/plain": [
              "<Figure size 432x288 with 1 Axes>"
            ]
          },
          "metadata": {
            "tags": [],
            "needs_background": "light"
          }
        }
      ]
    }
  ]
}