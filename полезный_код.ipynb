{
  "nbformat": 4,
  "nbformat_minor": 0,
  "metadata": {
    "colab": {
      "name": "полезный_код.ipynb",
      "provenance": [],
      "collapsed_sections": [],
      "include_colab_link": true
    },
    "kernelspec": {
      "name": "python3",
      "display_name": "Python 3"
    }
  },
  "cells": [
    {
      "cell_type": "markdown",
      "metadata": {
        "id": "view-in-github",
        "colab_type": "text"
      },
      "source": [
        "<a href=\"https://colab.research.google.com/github/st064560/my_python/blob/master/%D0%BF%D0%BE%D0%BB%D0%B5%D0%B7%D0%BD%D1%8B%D0%B9_%D0%BA%D0%BE%D0%B4.ipynb\" target=\"_parent\"><img src=\"https://colab.research.google.com/assets/colab-badge.svg\" alt=\"Open In Colab\"/></a>"
      ]
    },
    {
      "cell_type": "code",
      "metadata": {
        "id": "V0vK-xEqMSoj",
        "colab_type": "code",
        "colab": {}
      },
      "source": [
        "# импортируем библиотеки numpy и pandas\n",
        "import numpy as np\n",
        "import pandas as pd\n",
        "\n",
        "# импортируем библиотеку datetime для работы с датами\n",
        "import datetime\n",
        "from datetime import datetime, date\n",
        "\n",
        "# импортируем библиотеку matplotlib для построения графиков\n",
        "import matplotlib.pyplot as plt\n",
        "%matplotlib inline"
      ],
      "execution_count": null,
      "outputs": []
    },
    {
      "cell_type": "code",
      "metadata": {
        "id": "wMjWT9YRM5QF",
        "colab_type": "code",
        "colab": {}
      },
      "source": [
        "url = 'https://raw.githubusercontent.com/dm-fedorov/pandas_basic/master/%D0%BF%D0%BE%D0%B4%D1%80%D0%BE%D0%B1%D0%BD%D0%B5%D0%B5%20%D0%B8%D0%B7%D1%83%D1%87%D0%B0%D0%B5%D0%BC%20pandas/Data/orders.csv'"
      ],
      "execution_count": null,
      "outputs": []
    },
    {
      "cell_type": "code",
      "metadata": {
        "id": "bHhoBZQOM8dL",
        "colab_type": "code",
        "colab": {
          "base_uri": "https://localhost:8080/",
          "height": 419
        },
        "outputId": "8a5e7c79-548b-47ae-9457-af2aef1c6ffe"
      },
      "source": [
        "import pandas as pd\n",
        "df = pd.read_csv(url)\n",
        "df"
      ],
      "execution_count": null,
      "outputs": [
        {
          "output_type": "execute_result",
          "data": {
            "text/html": [
              "<div>\n",
              "<style scoped>\n",
              "    .dataframe tbody tr th:only-of-type {\n",
              "        vertical-align: middle;\n",
              "    }\n",
              "\n",
              "    .dataframe tbody tr th {\n",
              "        vertical-align: top;\n",
              "    }\n",
              "\n",
              "    .dataframe thead th {\n",
              "        text-align: right;\n",
              "    }\n",
              "</style>\n",
              "<table border=\"1\" class=\"dataframe\">\n",
              "  <thead>\n",
              "    <tr style=\"text-align: right;\">\n",
              "      <th></th>\n",
              "      <th>id</th>\n",
              "      <th>order_date</th>\n",
              "      <th>ship_mode</th>\n",
              "      <th>customer_id</th>\n",
              "      <th>sales</th>\n",
              "    </tr>\n",
              "  </thead>\n",
              "  <tbody>\n",
              "    <tr>\n",
              "      <th>0</th>\n",
              "      <td>100006</td>\n",
              "      <td>2014-09-07</td>\n",
              "      <td>Standard</td>\n",
              "      <td>DK-13375</td>\n",
              "      <td>377.970</td>\n",
              "    </tr>\n",
              "    <tr>\n",
              "      <th>1</th>\n",
              "      <td>100090</td>\n",
              "      <td>2014-07-08</td>\n",
              "      <td>Standard</td>\n",
              "      <td>EB-13705</td>\n",
              "      <td>699.192</td>\n",
              "    </tr>\n",
              "    <tr>\n",
              "      <th>2</th>\n",
              "      <td>100293</td>\n",
              "      <td>2014-03-14</td>\n",
              "      <td>Standard</td>\n",
              "      <td>NF-18475</td>\n",
              "      <td>91.056</td>\n",
              "    </tr>\n",
              "    <tr>\n",
              "      <th>3</th>\n",
              "      <td>100328</td>\n",
              "      <td>2014-01-28</td>\n",
              "      <td>Standard</td>\n",
              "      <td>JC-15340</td>\n",
              "      <td>3.928</td>\n",
              "    </tr>\n",
              "    <tr>\n",
              "      <th>4</th>\n",
              "      <td>100363</td>\n",
              "      <td>2014-04-08</td>\n",
              "      <td>Standard</td>\n",
              "      <td>JM-15655</td>\n",
              "      <td>21.376</td>\n",
              "    </tr>\n",
              "    <tr>\n",
              "      <th>...</th>\n",
              "      <td>...</td>\n",
              "      <td>...</td>\n",
              "      <td>...</td>\n",
              "      <td>...</td>\n",
              "      <td>...</td>\n",
              "    </tr>\n",
              "    <tr>\n",
              "      <th>5004</th>\n",
              "      <td>168802</td>\n",
              "      <td>2017-11-03</td>\n",
              "      <td>Standard</td>\n",
              "      <td>JO-15145</td>\n",
              "      <td>18.368</td>\n",
              "    </tr>\n",
              "    <tr>\n",
              "      <th>5005</th>\n",
              "      <td>169320</td>\n",
              "      <td>2017-07-23</td>\n",
              "      <td>Second</td>\n",
              "      <td>LH-16900</td>\n",
              "      <td>171.430</td>\n",
              "    </tr>\n",
              "    <tr>\n",
              "      <th>5006</th>\n",
              "      <td>169488</td>\n",
              "      <td>2017-09-07</td>\n",
              "      <td>First</td>\n",
              "      <td>AA-10375</td>\n",
              "      <td>56.860</td>\n",
              "    </tr>\n",
              "    <tr>\n",
              "      <th>5007</th>\n",
              "      <td>169502</td>\n",
              "      <td>2017-08-28</td>\n",
              "      <td>Standard</td>\n",
              "      <td>MG-17650</td>\n",
              "      <td>113.410</td>\n",
              "    </tr>\n",
              "    <tr>\n",
              "      <th>5008</th>\n",
              "      <td>169551</td>\n",
              "      <td>2017-07-07</td>\n",
              "      <td>First</td>\n",
              "      <td>RL-19615</td>\n",
              "      <td>1344.838</td>\n",
              "    </tr>\n",
              "  </tbody>\n",
              "</table>\n",
              "<p>5009 rows × 5 columns</p>\n",
              "</div>"
            ],
            "text/plain": [
              "          id  order_date ship_mode customer_id     sales\n",
              "0     100006  2014-09-07  Standard    DK-13375   377.970\n",
              "1     100090  2014-07-08  Standard    EB-13705   699.192\n",
              "2     100293  2014-03-14  Standard    NF-18475    91.056\n",
              "3     100328  2014-01-28  Standard    JC-15340     3.928\n",
              "4     100363  2014-04-08  Standard    JM-15655    21.376\n",
              "...      ...         ...       ...         ...       ...\n",
              "5004  168802  2017-11-03  Standard    JO-15145    18.368\n",
              "5005  169320  2017-07-23    Second    LH-16900   171.430\n",
              "5006  169488  2017-09-07     First    AA-10375    56.860\n",
              "5007  169502  2017-08-28  Standard    MG-17650   113.410\n",
              "5008  169551  2017-07-07     First    RL-19615  1344.838\n",
              "\n",
              "[5009 rows x 5 columns]"
            ]
          },
          "metadata": {
            "tags": []
          },
          "execution_count": 43
        }
      ]
    },
    {
      "cell_type": "markdown",
      "metadata": {
        "id": "tLQaVJRxNNrL",
        "colab_type": "text"
      },
      "source": [
        "Переводим столбец в формат даты"
      ]
    },
    {
      "cell_type": "code",
      "metadata": {
        "id": "8wNz_eoWNMh1",
        "colab_type": "code",
        "colab": {
          "base_uri": "https://localhost:8080/",
          "height": 419
        },
        "outputId": "9ffa2117-7a5e-4611-b412-4045f8ae8493"
      },
      "source": [
        "df = pd.read_csv(url, parse_dates=['order_date'])\n",
        "df"
      ],
      "execution_count": null,
      "outputs": [
        {
          "output_type": "execute_result",
          "data": {
            "text/html": [
              "<div>\n",
              "<style scoped>\n",
              "    .dataframe tbody tr th:only-of-type {\n",
              "        vertical-align: middle;\n",
              "    }\n",
              "\n",
              "    .dataframe tbody tr th {\n",
              "        vertical-align: top;\n",
              "    }\n",
              "\n",
              "    .dataframe thead th {\n",
              "        text-align: right;\n",
              "    }\n",
              "</style>\n",
              "<table border=\"1\" class=\"dataframe\">\n",
              "  <thead>\n",
              "    <tr style=\"text-align: right;\">\n",
              "      <th></th>\n",
              "      <th>id</th>\n",
              "      <th>order_date</th>\n",
              "      <th>ship_mode</th>\n",
              "      <th>customer_id</th>\n",
              "      <th>sales</th>\n",
              "    </tr>\n",
              "  </thead>\n",
              "  <tbody>\n",
              "    <tr>\n",
              "      <th>0</th>\n",
              "      <td>100006</td>\n",
              "      <td>2014-09-07</td>\n",
              "      <td>Standard</td>\n",
              "      <td>DK-13375</td>\n",
              "      <td>377.970</td>\n",
              "    </tr>\n",
              "    <tr>\n",
              "      <th>1</th>\n",
              "      <td>100090</td>\n",
              "      <td>2014-07-08</td>\n",
              "      <td>Standard</td>\n",
              "      <td>EB-13705</td>\n",
              "      <td>699.192</td>\n",
              "    </tr>\n",
              "    <tr>\n",
              "      <th>2</th>\n",
              "      <td>100293</td>\n",
              "      <td>2014-03-14</td>\n",
              "      <td>Standard</td>\n",
              "      <td>NF-18475</td>\n",
              "      <td>91.056</td>\n",
              "    </tr>\n",
              "    <tr>\n",
              "      <th>3</th>\n",
              "      <td>100328</td>\n",
              "      <td>2014-01-28</td>\n",
              "      <td>Standard</td>\n",
              "      <td>JC-15340</td>\n",
              "      <td>3.928</td>\n",
              "    </tr>\n",
              "    <tr>\n",
              "      <th>4</th>\n",
              "      <td>100363</td>\n",
              "      <td>2014-04-08</td>\n",
              "      <td>Standard</td>\n",
              "      <td>JM-15655</td>\n",
              "      <td>21.376</td>\n",
              "    </tr>\n",
              "    <tr>\n",
              "      <th>...</th>\n",
              "      <td>...</td>\n",
              "      <td>...</td>\n",
              "      <td>...</td>\n",
              "      <td>...</td>\n",
              "      <td>...</td>\n",
              "    </tr>\n",
              "    <tr>\n",
              "      <th>5004</th>\n",
              "      <td>168802</td>\n",
              "      <td>2017-11-03</td>\n",
              "      <td>Standard</td>\n",
              "      <td>JO-15145</td>\n",
              "      <td>18.368</td>\n",
              "    </tr>\n",
              "    <tr>\n",
              "      <th>5005</th>\n",
              "      <td>169320</td>\n",
              "      <td>2017-07-23</td>\n",
              "      <td>Second</td>\n",
              "      <td>LH-16900</td>\n",
              "      <td>171.430</td>\n",
              "    </tr>\n",
              "    <tr>\n",
              "      <th>5006</th>\n",
              "      <td>169488</td>\n",
              "      <td>2017-09-07</td>\n",
              "      <td>First</td>\n",
              "      <td>AA-10375</td>\n",
              "      <td>56.860</td>\n",
              "    </tr>\n",
              "    <tr>\n",
              "      <th>5007</th>\n",
              "      <td>169502</td>\n",
              "      <td>2017-08-28</td>\n",
              "      <td>Standard</td>\n",
              "      <td>MG-17650</td>\n",
              "      <td>113.410</td>\n",
              "    </tr>\n",
              "    <tr>\n",
              "      <th>5008</th>\n",
              "      <td>169551</td>\n",
              "      <td>2017-07-07</td>\n",
              "      <td>First</td>\n",
              "      <td>RL-19615</td>\n",
              "      <td>1344.838</td>\n",
              "    </tr>\n",
              "  </tbody>\n",
              "</table>\n",
              "<p>5009 rows × 5 columns</p>\n",
              "</div>"
            ],
            "text/plain": [
              "          id order_date ship_mode customer_id     sales\n",
              "0     100006 2014-09-07  Standard    DK-13375   377.970\n",
              "1     100090 2014-07-08  Standard    EB-13705   699.192\n",
              "2     100293 2014-03-14  Standard    NF-18475    91.056\n",
              "3     100328 2014-01-28  Standard    JC-15340     3.928\n",
              "4     100363 2014-04-08  Standard    JM-15655    21.376\n",
              "...      ...        ...       ...         ...       ...\n",
              "5004  168802 2017-11-03  Standard    JO-15145    18.368\n",
              "5005  169320 2017-07-23    Second    LH-16900   171.430\n",
              "5006  169488 2017-09-07     First    AA-10375    56.860\n",
              "5007  169502 2017-08-28  Standard    MG-17650   113.410\n",
              "5008  169551 2017-07-07     First    RL-19615  1344.838\n",
              "\n",
              "[5009 rows x 5 columns]"
            ]
          },
          "metadata": {
            "tags": []
          },
          "execution_count": 44
        }
      ]
    },
    {
      "cell_type": "markdown",
      "metadata": {
        "id": "u1xR8lPMNbt_",
        "colab_type": "text"
      },
      "source": [
        "Проверим поменялся ли формат"
      ]
    },
    {
      "cell_type": "code",
      "metadata": {
        "id": "jVeo21YfNdx5",
        "colab_type": "code",
        "colab": {
          "base_uri": "https://localhost:8080/",
          "height": 34
        },
        "outputId": "bd52d46c-f7af-4d19-be64-69d2e9f57439"
      },
      "source": [
        "type(df.order_date[0])"
      ],
      "execution_count": null,
      "outputs": [
        {
          "output_type": "execute_result",
          "data": {
            "text/plain": [
              "pandas._libs.tslibs.timestamps.Timestamp"
            ]
          },
          "metadata": {
            "tags": []
          },
          "execution_count": 5
        }
      ]
    },
    {
      "cell_type": "markdown",
      "metadata": {
        "id": "rrSm2LXGNjfa",
        "colab_type": "text"
      },
      "source": [
        "Сделаем дату - индексом"
      ]
    },
    {
      "cell_type": "code",
      "metadata": {
        "id": "SNyPFFxkNmCS",
        "colab_type": "code",
        "colab": {
          "base_uri": "https://localhost:8080/",
          "height": 450
        },
        "outputId": "02e763e8-c004-42ae-f29d-5434777186a6"
      },
      "source": [
        "df = pd.read_csv(url, parse_dates=['order_date'], index_col='order_date')\n",
        "df"
      ],
      "execution_count": null,
      "outputs": [
        {
          "output_type": "execute_result",
          "data": {
            "text/html": [
              "<div>\n",
              "<style scoped>\n",
              "    .dataframe tbody tr th:only-of-type {\n",
              "        vertical-align: middle;\n",
              "    }\n",
              "\n",
              "    .dataframe tbody tr th {\n",
              "        vertical-align: top;\n",
              "    }\n",
              "\n",
              "    .dataframe thead th {\n",
              "        text-align: right;\n",
              "    }\n",
              "</style>\n",
              "<table border=\"1\" class=\"dataframe\">\n",
              "  <thead>\n",
              "    <tr style=\"text-align: right;\">\n",
              "      <th></th>\n",
              "      <th>id</th>\n",
              "      <th>ship_mode</th>\n",
              "      <th>customer_id</th>\n",
              "      <th>sales</th>\n",
              "    </tr>\n",
              "    <tr>\n",
              "      <th>order_date</th>\n",
              "      <th></th>\n",
              "      <th></th>\n",
              "      <th></th>\n",
              "      <th></th>\n",
              "    </tr>\n",
              "  </thead>\n",
              "  <tbody>\n",
              "    <tr>\n",
              "      <th>2014-09-07</th>\n",
              "      <td>100006</td>\n",
              "      <td>Standard</td>\n",
              "      <td>DK-13375</td>\n",
              "      <td>377.970</td>\n",
              "    </tr>\n",
              "    <tr>\n",
              "      <th>2014-07-08</th>\n",
              "      <td>100090</td>\n",
              "      <td>Standard</td>\n",
              "      <td>EB-13705</td>\n",
              "      <td>699.192</td>\n",
              "    </tr>\n",
              "    <tr>\n",
              "      <th>2014-03-14</th>\n",
              "      <td>100293</td>\n",
              "      <td>Standard</td>\n",
              "      <td>NF-18475</td>\n",
              "      <td>91.056</td>\n",
              "    </tr>\n",
              "    <tr>\n",
              "      <th>2014-01-28</th>\n",
              "      <td>100328</td>\n",
              "      <td>Standard</td>\n",
              "      <td>JC-15340</td>\n",
              "      <td>3.928</td>\n",
              "    </tr>\n",
              "    <tr>\n",
              "      <th>2014-04-08</th>\n",
              "      <td>100363</td>\n",
              "      <td>Standard</td>\n",
              "      <td>JM-15655</td>\n",
              "      <td>21.376</td>\n",
              "    </tr>\n",
              "    <tr>\n",
              "      <th>...</th>\n",
              "      <td>...</td>\n",
              "      <td>...</td>\n",
              "      <td>...</td>\n",
              "      <td>...</td>\n",
              "    </tr>\n",
              "    <tr>\n",
              "      <th>2017-11-03</th>\n",
              "      <td>168802</td>\n",
              "      <td>Standard</td>\n",
              "      <td>JO-15145</td>\n",
              "      <td>18.368</td>\n",
              "    </tr>\n",
              "    <tr>\n",
              "      <th>2017-07-23</th>\n",
              "      <td>169320</td>\n",
              "      <td>Second</td>\n",
              "      <td>LH-16900</td>\n",
              "      <td>171.430</td>\n",
              "    </tr>\n",
              "    <tr>\n",
              "      <th>2017-09-07</th>\n",
              "      <td>169488</td>\n",
              "      <td>First</td>\n",
              "      <td>AA-10375</td>\n",
              "      <td>56.860</td>\n",
              "    </tr>\n",
              "    <tr>\n",
              "      <th>2017-08-28</th>\n",
              "      <td>169502</td>\n",
              "      <td>Standard</td>\n",
              "      <td>MG-17650</td>\n",
              "      <td>113.410</td>\n",
              "    </tr>\n",
              "    <tr>\n",
              "      <th>2017-07-07</th>\n",
              "      <td>169551</td>\n",
              "      <td>First</td>\n",
              "      <td>RL-19615</td>\n",
              "      <td>1344.838</td>\n",
              "    </tr>\n",
              "  </tbody>\n",
              "</table>\n",
              "<p>5009 rows × 4 columns</p>\n",
              "</div>"
            ],
            "text/plain": [
              "                id ship_mode customer_id     sales\n",
              "order_date                                        \n",
              "2014-09-07  100006  Standard    DK-13375   377.970\n",
              "2014-07-08  100090  Standard    EB-13705   699.192\n",
              "2014-03-14  100293  Standard    NF-18475    91.056\n",
              "2014-01-28  100328  Standard    JC-15340     3.928\n",
              "2014-04-08  100363  Standard    JM-15655    21.376\n",
              "...            ...       ...         ...       ...\n",
              "2017-11-03  168802  Standard    JO-15145    18.368\n",
              "2017-07-23  169320    Second    LH-16900   171.430\n",
              "2017-09-07  169488     First    AA-10375    56.860\n",
              "2017-08-28  169502  Standard    MG-17650   113.410\n",
              "2017-07-07  169551     First    RL-19615  1344.838\n",
              "\n",
              "[5009 rows x 4 columns]"
            ]
          },
          "metadata": {
            "tags": []
          },
          "execution_count": 6
        }
      ]
    },
    {
      "cell_type": "code",
      "metadata": {
        "id": "1DsW4Biu91L5",
        "colab_type": "code",
        "colab": {
          "base_uri": "https://localhost:8080/",
          "height": 204
        },
        "outputId": "fd31ff64-9136-4c0c-85a8-15b442f6b75f"
      },
      "source": [
        "s = df['sales'].value_counts(bins=10)\n",
        "s"
      ],
      "execution_count": null,
      "outputs": [
        {
          "output_type": "execute_result",
          "data": {
            "text/plain": [
              "(-23.106, 2366.623]       4851\n",
              "(2366.623, 4732.69]        125\n",
              "(4732.69, 7098.758]         18\n",
              "(7098.758, 9464.825]         7\n",
              "(9464.825, 11830.892]        4\n",
              "(11830.892, 14196.959]       2\n",
              "(21295.161, 23661.228]       1\n",
              "(16563.026, 18929.094]       1\n",
              "(18929.094, 21295.161]       0\n",
              "(14196.959, 16563.026]       0\n",
              "Name: sales, dtype: int64"
            ]
          },
          "metadata": {
            "tags": []
          },
          "execution_count": 47
        }
      ]
    },
    {
      "cell_type": "code",
      "metadata": {
        "id": "iSD5dgRw-elY",
        "colab_type": "code",
        "colab": {
          "base_uri": "https://localhost:8080/",
          "height": 34
        },
        "outputId": "5be57424-d2a5-4c2c-936a-4729c177c08f"
      },
      "source": [
        "s.index[3]"
      ],
      "execution_count": null,
      "outputs": [
        {
          "output_type": "execute_result",
          "data": {
            "text/plain": [
              "Interval(7098.758, 9464.825, closed='right')"
            ]
          },
          "metadata": {
            "tags": []
          },
          "execution_count": 48
        }
      ]
    },
    {
      "cell_type": "code",
      "metadata": {
        "id": "Mo_i-Px8-jV6",
        "colab_type": "code",
        "colab": {
          "base_uri": "https://localhost:8080/",
          "height": 34
        },
        "outputId": "c97159b4-976b-4912-e6bc-d2e6e760beef"
      },
      "source": [
        "s.index[3].left"
      ],
      "execution_count": null,
      "outputs": [
        {
          "output_type": "execute_result",
          "data": {
            "text/plain": [
              "7098.758"
            ]
          },
          "metadata": {
            "tags": []
          },
          "execution_count": 49
        }
      ]
    },
    {
      "cell_type": "code",
      "metadata": {
        "id": "1HwbmEWJ-tQD",
        "colab_type": "code",
        "colab": {
          "base_uri": "https://localhost:8080/",
          "height": 514
        },
        "outputId": "4484662a-9ced-4f1a-feb8-4af1052f361e"
      },
      "source": [
        "df.loc[(df['sales'] > s.index[3].left)]"
      ],
      "execution_count": null,
      "outputs": [
        {
          "output_type": "execute_result",
          "data": {
            "text/html": [
              "<div>\n",
              "<style scoped>\n",
              "    .dataframe tbody tr th:only-of-type {\n",
              "        vertical-align: middle;\n",
              "    }\n",
              "\n",
              "    .dataframe tbody tr th {\n",
              "        vertical-align: top;\n",
              "    }\n",
              "\n",
              "    .dataframe thead th {\n",
              "        text-align: right;\n",
              "    }\n",
              "</style>\n",
              "<table border=\"1\" class=\"dataframe\">\n",
              "  <thead>\n",
              "    <tr style=\"text-align: right;\">\n",
              "      <th></th>\n",
              "      <th>id</th>\n",
              "      <th>order_date</th>\n",
              "      <th>ship_mode</th>\n",
              "      <th>customer_id</th>\n",
              "      <th>sales</th>\n",
              "    </tr>\n",
              "  </thead>\n",
              "  <tbody>\n",
              "    <tr>\n",
              "      <th>215</th>\n",
              "      <td>116904</td>\n",
              "      <td>2014-09-23</td>\n",
              "      <td>Standard</td>\n",
              "      <td>SC-20095</td>\n",
              "      <td>9900.190</td>\n",
              "    </tr>\n",
              "    <tr>\n",
              "      <th>483</th>\n",
              "      <td>139892</td>\n",
              "      <td>2014-09-08</td>\n",
              "      <td>Standard</td>\n",
              "      <td>BM-11140</td>\n",
              "      <td>10539.896</td>\n",
              "    </tr>\n",
              "    <tr>\n",
              "      <th>534</th>\n",
              "      <td>143917</td>\n",
              "      <td>2014-07-25</td>\n",
              "      <td>Second</td>\n",
              "      <td>KL-16645</td>\n",
              "      <td>8319.290</td>\n",
              "    </tr>\n",
              "    <tr>\n",
              "      <th>545</th>\n",
              "      <td>145317</td>\n",
              "      <td>2014-03-18</td>\n",
              "      <td>Standard</td>\n",
              "      <td>SM-20320</td>\n",
              "      <td>23661.228</td>\n",
              "    </tr>\n",
              "    <tr>\n",
              "      <th>1967</th>\n",
              "      <td>117121</td>\n",
              "      <td>2016-12-17</td>\n",
              "      <td>Standard</td>\n",
              "      <td>AB-10105</td>\n",
              "      <td>9892.740</td>\n",
              "    </tr>\n",
              "    <tr>\n",
              "      <th>1992</th>\n",
              "      <td>118689</td>\n",
              "      <td>2016-10-02</td>\n",
              "      <td>Standard</td>\n",
              "      <td>TC-20980</td>\n",
              "      <td>18336.740</td>\n",
              "    </tr>\n",
              "    <tr>\n",
              "      <th>2366</th>\n",
              "      <td>143714</td>\n",
              "      <td>2016-05-23</td>\n",
              "      <td>Standard</td>\n",
              "      <td>CC-12370</td>\n",
              "      <td>8539.020</td>\n",
              "    </tr>\n",
              "    <tr>\n",
              "      <th>2614</th>\n",
              "      <td>158841</td>\n",
              "      <td>2016-02-02</td>\n",
              "      <td>Second</td>\n",
              "      <td>SE-20110</td>\n",
              "      <td>8805.040</td>\n",
              "    </tr>\n",
              "    <tr>\n",
              "      <th>2797</th>\n",
              "      <td>100111</td>\n",
              "      <td>2017-09-20</td>\n",
              "      <td>Standard</td>\n",
              "      <td>SV-20365</td>\n",
              "      <td>7359.918</td>\n",
              "    </tr>\n",
              "    <tr>\n",
              "      <th>3349</th>\n",
              "      <td>127180</td>\n",
              "      <td>2017-10-22</td>\n",
              "      <td>First</td>\n",
              "      <td>TA-21385</td>\n",
              "      <td>13716.458</td>\n",
              "    </tr>\n",
              "    <tr>\n",
              "      <th>3596</th>\n",
              "      <td>140151</td>\n",
              "      <td>2017-03-23</td>\n",
              "      <td>First</td>\n",
              "      <td>RB-19360</td>\n",
              "      <td>14052.480</td>\n",
              "    </tr>\n",
              "    <tr>\n",
              "      <th>4126</th>\n",
              "      <td>166709</td>\n",
              "      <td>2017-11-17</td>\n",
              "      <td>Standard</td>\n",
              "      <td>HL-15040</td>\n",
              "      <td>10499.970</td>\n",
              "    </tr>\n",
              "    <tr>\n",
              "      <th>4408</th>\n",
              "      <td>126977</td>\n",
              "      <td>2015-09-17</td>\n",
              "      <td>Standard</td>\n",
              "      <td>PF-19120</td>\n",
              "      <td>7678.228</td>\n",
              "    </tr>\n",
              "    <tr>\n",
              "      <th>4524</th>\n",
              "      <td>107440</td>\n",
              "      <td>2016-04-16</td>\n",
              "      <td>Standard</td>\n",
              "      <td>BS-11365</td>\n",
              "      <td>9135.190</td>\n",
              "    </tr>\n",
              "    <tr>\n",
              "      <th>5001</th>\n",
              "      <td>168116</td>\n",
              "      <td>2017-11-04</td>\n",
              "      <td>Same Day</td>\n",
              "      <td>GT-14635</td>\n",
              "      <td>8167.420</td>\n",
              "    </tr>\n",
              "  </tbody>\n",
              "</table>\n",
              "</div>"
            ],
            "text/plain": [
              "          id order_date ship_mode customer_id      sales\n",
              "215   116904 2014-09-23  Standard    SC-20095   9900.190\n",
              "483   139892 2014-09-08  Standard    BM-11140  10539.896\n",
              "534   143917 2014-07-25    Second    KL-16645   8319.290\n",
              "545   145317 2014-03-18  Standard    SM-20320  23661.228\n",
              "1967  117121 2016-12-17  Standard    AB-10105   9892.740\n",
              "1992  118689 2016-10-02  Standard    TC-20980  18336.740\n",
              "2366  143714 2016-05-23  Standard    CC-12370   8539.020\n",
              "2614  158841 2016-02-02    Second    SE-20110   8805.040\n",
              "2797  100111 2017-09-20  Standard    SV-20365   7359.918\n",
              "3349  127180 2017-10-22     First    TA-21385  13716.458\n",
              "3596  140151 2017-03-23     First    RB-19360  14052.480\n",
              "4126  166709 2017-11-17  Standard    HL-15040  10499.970\n",
              "4408  126977 2015-09-17  Standard    PF-19120   7678.228\n",
              "4524  107440 2016-04-16  Standard    BS-11365   9135.190\n",
              "5001  168116 2017-11-04  Same Day    GT-14635   8167.420"
            ]
          },
          "metadata": {
            "tags": []
          },
          "execution_count": 50
        }
      ]
    },
    {
      "cell_type": "code",
      "metadata": {
        "id": "6dMkqPoB_Ive",
        "colab_type": "code",
        "colab": {
          "base_uri": "https://localhost:8080/",
          "height": 34
        },
        "outputId": "7ea385ef-4229-47bd-c4c3-679768caba01"
      },
      "source": [
        "m = df['ship_mode'].value_counts()\n",
        "m.index"
      ],
      "execution_count": null,
      "outputs": [
        {
          "output_type": "execute_result",
          "data": {
            "text/plain": [
              "Index(['Standard', 'Second', 'First', 'Same Day'], dtype='object')"
            ]
          },
          "metadata": {
            "tags": []
          },
          "execution_count": 51
        }
      ]
    },
    {
      "cell_type": "code",
      "metadata": {
        "id": "PU9oyEWx_UvM",
        "colab_type": "code",
        "colab": {
          "base_uri": "https://localhost:8080/",
          "height": 34
        },
        "outputId": "b49d39af-4e45-47cf-cfaf-f89b68929410"
      },
      "source": [
        "len(m.index)"
      ],
      "execution_count": null,
      "outputs": [
        {
          "output_type": "execute_result",
          "data": {
            "text/plain": [
              "4"
            ]
          },
          "metadata": {
            "tags": []
          },
          "execution_count": 52
        }
      ]
    },
    {
      "cell_type": "code",
      "metadata": {
        "id": "n7ODwD0k_bWj",
        "colab_type": "code",
        "colab": {
          "base_uri": "https://localhost:8080/",
          "height": 34
        },
        "outputId": "e5e5b91c-ea9f-44ec-c2bb-9223323f94b3"
      },
      "source": [
        "df['ship_mode'].unique()"
      ],
      "execution_count": null,
      "outputs": [
        {
          "output_type": "execute_result",
          "data": {
            "text/plain": [
              "array(['Standard', 'Second', 'First', 'Same Day'], dtype=object)"
            ]
          },
          "metadata": {
            "tags": []
          },
          "execution_count": 54
        }
      ]
    },
    {
      "cell_type": "code",
      "metadata": {
        "id": "4qbUXv06_oU8",
        "colab_type": "code",
        "colab": {
          "base_uri": "https://localhost:8080/",
          "height": 34
        },
        "outputId": "c8d9254e-1e60-455e-9beb-cc7287731e90"
      },
      "source": [
        "df['ship_mode'].nunique()"
      ],
      "execution_count": null,
      "outputs": [
        {
          "output_type": "execute_result",
          "data": {
            "text/plain": [
              "4"
            ]
          },
          "metadata": {
            "tags": []
          },
          "execution_count": 55
        }
      ]
    },
    {
      "cell_type": "markdown",
      "metadata": {
        "id": "EaDbvIfz_ySa",
        "colab_type": "text"
      },
      "source": [
        "Иногда бывает полезно преобразовать серию, получившуюся в результате работы функции value_counts, в датафрейм. Для этого нужно к получившейся серии применить функцию reset_index. Эта операция может пригодиться вам в ходе дальнейшего решения задач."
      ]
    },
    {
      "cell_type": "code",
      "metadata": {
        "id": "SdZfY4AD_zPB",
        "colab_type": "code",
        "colab": {
          "base_uri": "https://localhost:8080/",
          "height": 173
        },
        "outputId": "3754eee5-5606-4c17-fcf2-c7de93f17f8d"
      },
      "source": [
        "m = df['ship_mode'].value_counts()\n",
        "m_df = m.reset_index()\n",
        "m_df"
      ],
      "execution_count": null,
      "outputs": [
        {
          "output_type": "execute_result",
          "data": {
            "text/html": [
              "<div>\n",
              "<style scoped>\n",
              "    .dataframe tbody tr th:only-of-type {\n",
              "        vertical-align: middle;\n",
              "    }\n",
              "\n",
              "    .dataframe tbody tr th {\n",
              "        vertical-align: top;\n",
              "    }\n",
              "\n",
              "    .dataframe thead th {\n",
              "        text-align: right;\n",
              "    }\n",
              "</style>\n",
              "<table border=\"1\" class=\"dataframe\">\n",
              "  <thead>\n",
              "    <tr style=\"text-align: right;\">\n",
              "      <th></th>\n",
              "      <th>index</th>\n",
              "      <th>ship_mode</th>\n",
              "    </tr>\n",
              "  </thead>\n",
              "  <tbody>\n",
              "    <tr>\n",
              "      <th>0</th>\n",
              "      <td>Standard</td>\n",
              "      <td>2994</td>\n",
              "    </tr>\n",
              "    <tr>\n",
              "      <th>1</th>\n",
              "      <td>Second</td>\n",
              "      <td>964</td>\n",
              "    </tr>\n",
              "    <tr>\n",
              "      <th>2</th>\n",
              "      <td>First</td>\n",
              "      <td>787</td>\n",
              "    </tr>\n",
              "    <tr>\n",
              "      <th>3</th>\n",
              "      <td>Same Day</td>\n",
              "      <td>264</td>\n",
              "    </tr>\n",
              "  </tbody>\n",
              "</table>\n",
              "</div>"
            ],
            "text/plain": [
              "      index  ship_mode\n",
              "0  Standard       2994\n",
              "1    Second        964\n",
              "2     First        787\n",
              "3  Same Day        264"
            ]
          },
          "metadata": {
            "tags": []
          },
          "execution_count": 56
        }
      ]
    },
    {
      "cell_type": "code",
      "metadata": {
        "id": "r7_UP3oGAGpz",
        "colab_type": "code",
        "colab": {
          "base_uri": "https://localhost:8080/",
          "height": 173
        },
        "outputId": "110aa7fd-8c90-4537-f363-66519797df89"
      },
      "source": [
        "m_df.columns = ['Ship_mode','Count']\n",
        "m_df"
      ],
      "execution_count": null,
      "outputs": [
        {
          "output_type": "execute_result",
          "data": {
            "text/html": [
              "<div>\n",
              "<style scoped>\n",
              "    .dataframe tbody tr th:only-of-type {\n",
              "        vertical-align: middle;\n",
              "    }\n",
              "\n",
              "    .dataframe tbody tr th {\n",
              "        vertical-align: top;\n",
              "    }\n",
              "\n",
              "    .dataframe thead th {\n",
              "        text-align: right;\n",
              "    }\n",
              "</style>\n",
              "<table border=\"1\" class=\"dataframe\">\n",
              "  <thead>\n",
              "    <tr style=\"text-align: right;\">\n",
              "      <th></th>\n",
              "      <th>Ship_mode</th>\n",
              "      <th>Count</th>\n",
              "    </tr>\n",
              "  </thead>\n",
              "  <tbody>\n",
              "    <tr>\n",
              "      <th>0</th>\n",
              "      <td>Standard</td>\n",
              "      <td>2994</td>\n",
              "    </tr>\n",
              "    <tr>\n",
              "      <th>1</th>\n",
              "      <td>Second</td>\n",
              "      <td>964</td>\n",
              "    </tr>\n",
              "    <tr>\n",
              "      <th>2</th>\n",
              "      <td>First</td>\n",
              "      <td>787</td>\n",
              "    </tr>\n",
              "    <tr>\n",
              "      <th>3</th>\n",
              "      <td>Same Day</td>\n",
              "      <td>264</td>\n",
              "    </tr>\n",
              "  </tbody>\n",
              "</table>\n",
              "</div>"
            ],
            "text/plain": [
              "  Ship_mode  Count\n",
              "0  Standard   2994\n",
              "1    Second    964\n",
              "2     First    787\n",
              "3  Same Day    264"
            ]
          },
          "metadata": {
            "tags": []
          },
          "execution_count": 57
        }
      ]
    },
    {
      "cell_type": "code",
      "metadata": {
        "id": "nfOYPJn7ByIv",
        "colab_type": "code",
        "colab": {
          "base_uri": "https://localhost:8080/",
          "height": 119
        },
        "outputId": "071c7247-d26b-41f7-c676-874bf391d727"
      },
      "source": [
        "# параметр ascending=False указывает, что данные надо сортировать по убыванию\n",
        "grouped_df = df.groupby(['ship_mode'])['sales'].sum().sort_values(ascending=False)\n",
        "grouped_df.head(5)"
      ],
      "execution_count": null,
      "outputs": [
        {
          "output_type": "execute_result",
          "data": {
            "text/plain": [
              "ship_mode\n",
              "Standard    1.358216e+06\n",
              "Second      4.591936e+05\n",
              "First       3.514284e+05\n",
              "Same Day    1.283631e+05\n",
              "Name: sales, dtype: float64"
            ]
          },
          "metadata": {
            "tags": []
          },
          "execution_count": 58
        }
      ]
    },
    {
      "cell_type": "markdown",
      "metadata": {
        "id": "D5Z0IsoxNuxc",
        "colab_type": "text"
      },
      "source": [
        "Построим график"
      ]
    },
    {
      "cell_type": "code",
      "metadata": {
        "id": "WLz_U2QgNwT7",
        "colab_type": "code",
        "colab": {
          "base_uri": "https://localhost:8080/",
          "height": 295
        },
        "outputId": "df1a8d00-9483-4d7c-f57a-4140612bf979"
      },
      "source": [
        "df.sales.plot()"
      ],
      "execution_count": null,
      "outputs": [
        {
          "output_type": "execute_result",
          "data": {
            "text/plain": [
              "<matplotlib.axes._subplots.AxesSubplot at 0x7f3c2e6bf4e0>"
            ]
          },
          "metadata": {
            "tags": []
          },
          "execution_count": 7
        },
        {
          "output_type": "display_data",
          "data": {
            "image/png": "[encoded data removed]",
            "text/plain": [
              "<Figure size 432x288 with 1 Axes>"
            ]
          },
          "metadata": {
            "tags": [],
            "needs_background": "light"
          }
        }
      ]
    },
    {
      "cell_type": "code",
      "metadata": {
        "id": "IMnEi2XAOHnG",
        "colab_type": "code",
        "colab": {
          "base_uri": "https://localhost:8080/",
          "height": 34
        },
        "outputId": "5980ba89-8dc1-47c2-ab7c-ed2ff1cc1387"
      },
      "source": [
        "df.shape"
      ],
      "execution_count": null,
      "outputs": [
        {
          "output_type": "execute_result",
          "data": {
            "text/plain": [
              "(5009, 4)"
            ]
          },
          "metadata": {
            "tags": []
          },
          "execution_count": 8
        }
      ]
    },
    {
      "cell_type": "code",
      "metadata": {
        "id": "6aiZvtqSOK-R",
        "colab_type": "code",
        "colab": {
          "base_uri": "https://localhost:8080/",
          "height": 272
        },
        "outputId": "8db82158-8265-46c3-cc92-38bd7f32bfe8"
      },
      "source": [
        "df.info"
      ],
      "execution_count": null,
      "outputs": [
        {
          "output_type": "execute_result",
          "data": {
            "text/plain": [
              "<bound method DataFrame.info of                 id ship_mode customer_id     sales\n",
              "order_date                                        \n",
              "2014-09-07  100006  Standard    DK-13375   377.970\n",
              "2014-07-08  100090  Standard    EB-13705   699.192\n",
              "2014-03-14  100293  Standard    NF-18475    91.056\n",
              "2014-01-28  100328  Standard    JC-15340     3.928\n",
              "2014-04-08  100363  Standard    JM-15655    21.376\n",
              "...            ...       ...         ...       ...\n",
              "2017-11-03  168802  Standard    JO-15145    18.368\n",
              "2017-07-23  169320    Second    LH-16900   171.430\n",
              "2017-09-07  169488     First    AA-10375    56.860\n",
              "2017-08-28  169502  Standard    MG-17650   113.410\n",
              "2017-07-07  169551     First    RL-19615  1344.838\n",
              "\n",
              "[5009 rows x 4 columns]>"
            ]
          },
          "metadata": {
            "tags": []
          },
          "execution_count": 9
        }
      ]
    },
    {
      "cell_type": "code",
      "metadata": {
        "id": "lc4SDczcOPPz",
        "colab_type": "code",
        "colab": {
          "base_uri": "https://localhost:8080/",
          "height": 34
        },
        "outputId": "fc1610b1-7e64-4bfe-a0b1-e16fee837002"
      },
      "source": [
        "len(df)"
      ],
      "execution_count": null,
      "outputs": [
        {
          "output_type": "execute_result",
          "data": {
            "text/plain": [
              "5009"
            ]
          },
          "metadata": {
            "tags": []
          },
          "execution_count": 10
        }
      ]
    },
    {
      "cell_type": "code",
      "metadata": {
        "id": "2wfhsr2fOZZY",
        "colab_type": "code",
        "colab": {
          "base_uri": "https://localhost:8080/",
          "height": 34
        },
        "outputId": "679b2bf6-ac1f-4e0b-f9bb-4e6cf9a77749"
      },
      "source": [
        "df.size"
      ],
      "execution_count": null,
      "outputs": [
        {
          "output_type": "execute_result",
          "data": {
            "text/plain": [
              "20036"
            ]
          },
          "metadata": {
            "tags": []
          },
          "execution_count": 11
        }
      ]
    },
    {
      "cell_type": "code",
      "metadata": {
        "id": "1i8H2EEWOhzv",
        "colab_type": "code",
        "colab": {
          "base_uri": "https://localhost:8080/",
          "height": 235
        },
        "outputId": "7b2aad2c-bcd8-4143-d576-ae19cfd9b2cd"
      },
      "source": [
        "df[['id', 'sales']].head()"
      ],
      "execution_count": null,
      "outputs": [
        {
          "output_type": "execute_result",
          "data": {
            "text/html": [
              "<div>\n",
              "<style scoped>\n",
              "    .dataframe tbody tr th:only-of-type {\n",
              "        vertical-align: middle;\n",
              "    }\n",
              "\n",
              "    .dataframe tbody tr th {\n",
              "        vertical-align: top;\n",
              "    }\n",
              "\n",
              "    .dataframe thead th {\n",
              "        text-align: right;\n",
              "    }\n",
              "</style>\n",
              "<table border=\"1\" class=\"dataframe\">\n",
              "  <thead>\n",
              "    <tr style=\"text-align: right;\">\n",
              "      <th></th>\n",
              "      <th>id</th>\n",
              "      <th>sales</th>\n",
              "    </tr>\n",
              "    <tr>\n",
              "      <th>order_date</th>\n",
              "      <th></th>\n",
              "      <th></th>\n",
              "    </tr>\n",
              "  </thead>\n",
              "  <tbody>\n",
              "    <tr>\n",
              "      <th>2014-09-07</th>\n",
              "      <td>100006</td>\n",
              "      <td>377.970</td>\n",
              "    </tr>\n",
              "    <tr>\n",
              "      <th>2014-07-08</th>\n",
              "      <td>100090</td>\n",
              "      <td>699.192</td>\n",
              "    </tr>\n",
              "    <tr>\n",
              "      <th>2014-03-14</th>\n",
              "      <td>100293</td>\n",
              "      <td>91.056</td>\n",
              "    </tr>\n",
              "    <tr>\n",
              "      <th>2014-01-28</th>\n",
              "      <td>100328</td>\n",
              "      <td>3.928</td>\n",
              "    </tr>\n",
              "    <tr>\n",
              "      <th>2014-04-08</th>\n",
              "      <td>100363</td>\n",
              "      <td>21.376</td>\n",
              "    </tr>\n",
              "  </tbody>\n",
              "</table>\n",
              "</div>"
            ],
            "text/plain": [
              "                id    sales\n",
              "order_date                 \n",
              "2014-09-07  100006  377.970\n",
              "2014-07-08  100090  699.192\n",
              "2014-03-14  100293   91.056\n",
              "2014-01-28  100328    3.928\n",
              "2014-04-08  100363   21.376"
            ]
          },
          "metadata": {
            "tags": []
          },
          "execution_count": 12
        }
      ]
    },
    {
      "cell_type": "code",
      "metadata": {
        "id": "L8UBVkY2Plyd",
        "colab_type": "code",
        "colab": {
          "base_uri": "https://localhost:8080/",
          "height": 450
        },
        "outputId": "1d0fad15-7f0c-43fb-8897-c9f5c6aa9eae"
      },
      "source": [
        "df[df.sales > 250]"
      ],
      "execution_count": null,
      "outputs": [
        {
          "output_type": "execute_result",
          "data": {
            "text/html": [
              "<div>\n",
              "<style scoped>\n",
              "    .dataframe tbody tr th:only-of-type {\n",
              "        vertical-align: middle;\n",
              "    }\n",
              "\n",
              "    .dataframe tbody tr th {\n",
              "        vertical-align: top;\n",
              "    }\n",
              "\n",
              "    .dataframe thead th {\n",
              "        text-align: right;\n",
              "    }\n",
              "</style>\n",
              "<table border=\"1\" class=\"dataframe\">\n",
              "  <thead>\n",
              "    <tr style=\"text-align: right;\">\n",
              "      <th></th>\n",
              "      <th>id</th>\n",
              "      <th>ship_mode</th>\n",
              "      <th>customer_id</th>\n",
              "      <th>sales</th>\n",
              "    </tr>\n",
              "    <tr>\n",
              "      <th>order_date</th>\n",
              "      <th></th>\n",
              "      <th></th>\n",
              "      <th></th>\n",
              "      <th></th>\n",
              "    </tr>\n",
              "  </thead>\n",
              "  <tbody>\n",
              "    <tr>\n",
              "      <th>2014-09-07</th>\n",
              "      <td>100006</td>\n",
              "      <td>Standard</td>\n",
              "      <td>DK-13375</td>\n",
              "      <td>377.970</td>\n",
              "    </tr>\n",
              "    <tr>\n",
              "      <th>2014-07-08</th>\n",
              "      <td>100090</td>\n",
              "      <td>Standard</td>\n",
              "      <td>EB-13705</td>\n",
              "      <td>699.192</td>\n",
              "    </tr>\n",
              "    <tr>\n",
              "      <th>2014-04-18</th>\n",
              "      <td>100678</td>\n",
              "      <td>Standard</td>\n",
              "      <td>KM-16720</td>\n",
              "      <td>697.074</td>\n",
              "    </tr>\n",
              "    <tr>\n",
              "      <th>2014-11-24</th>\n",
              "      <td>100762</td>\n",
              "      <td>Standard</td>\n",
              "      <td>NG-18355</td>\n",
              "      <td>508.620</td>\n",
              "    </tr>\n",
              "    <tr>\n",
              "      <th>2014-10-19</th>\n",
              "      <td>100867</td>\n",
              "      <td>Standard</td>\n",
              "      <td>EH-14125</td>\n",
              "      <td>321.552</td>\n",
              "    </tr>\n",
              "    <tr>\n",
              "      <th>...</th>\n",
              "      <td>...</td>\n",
              "      <td>...</td>\n",
              "      <td>...</td>\n",
              "      <td>...</td>\n",
              "    </tr>\n",
              "    <tr>\n",
              "      <th>2017-07-26</th>\n",
              "      <td>167318</td>\n",
              "      <td>Standard</td>\n",
              "      <td>GZ-14545</td>\n",
              "      <td>2012.302</td>\n",
              "    </tr>\n",
              "    <tr>\n",
              "      <th>2017-01-13</th>\n",
              "      <td>167402</td>\n",
              "      <td>Second</td>\n",
              "      <td>CP-12085</td>\n",
              "      <td>4619.330</td>\n",
              "    </tr>\n",
              "    <tr>\n",
              "      <th>2017-12-09</th>\n",
              "      <td>167920</td>\n",
              "      <td>Second</td>\n",
              "      <td>JL-15835</td>\n",
              "      <td>1827.510</td>\n",
              "    </tr>\n",
              "    <tr>\n",
              "      <th>2017-11-04</th>\n",
              "      <td>168116</td>\n",
              "      <td>Same Day</td>\n",
              "      <td>GT-14635</td>\n",
              "      <td>8167.420</td>\n",
              "    </tr>\n",
              "    <tr>\n",
              "      <th>2017-07-07</th>\n",
              "      <td>169551</td>\n",
              "      <td>First</td>\n",
              "      <td>RL-19615</td>\n",
              "      <td>1344.838</td>\n",
              "    </tr>\n",
              "  </tbody>\n",
              "</table>\n",
              "<p>1994 rows × 4 columns</p>\n",
              "</div>"
            ],
            "text/plain": [
              "                id ship_mode customer_id     sales\n",
              "order_date                                        \n",
              "2014-09-07  100006  Standard    DK-13375   377.970\n",
              "2014-07-08  100090  Standard    EB-13705   699.192\n",
              "2014-04-18  100678  Standard    KM-16720   697.074\n",
              "2014-11-24  100762  Standard    NG-18355   508.620\n",
              "2014-10-19  100867  Standard    EH-14125   321.552\n",
              "...            ...       ...         ...       ...\n",
              "2017-07-26  167318  Standard    GZ-14545  2012.302\n",
              "2017-01-13  167402    Second    CP-12085  4619.330\n",
              "2017-12-09  167920    Second    JL-15835  1827.510\n",
              "2017-11-04  168116  Same Day    GT-14635  8167.420\n",
              "2017-07-07  169551     First    RL-19615  1344.838\n",
              "\n",
              "[1994 rows x 4 columns]"
            ]
          },
          "metadata": {
            "tags": []
          },
          "execution_count": 14
        }
      ]
    },
    {
      "cell_type": "code",
      "metadata": {
        "id": "rSVgSxh8Pyse",
        "colab_type": "code",
        "colab": {
          "base_uri": "https://localhost:8080/",
          "height": 450
        },
        "outputId": "23fabf78-c31f-4c5c-ab3a-9a6df2e8d678"
      },
      "source": [
        "df[(df.ship_mode == 'Second')]"
      ],
      "execution_count": null,
      "outputs": [
        {
          "output_type": "execute_result",
          "data": {
            "text/html": [
              "<div>\n",
              "<style scoped>\n",
              "    .dataframe tbody tr th:only-of-type {\n",
              "        vertical-align: middle;\n",
              "    }\n",
              "\n",
              "    .dataframe tbody tr th {\n",
              "        vertical-align: top;\n",
              "    }\n",
              "\n",
              "    .dataframe thead th {\n",
              "        text-align: right;\n",
              "    }\n",
              "</style>\n",
              "<table border=\"1\" class=\"dataframe\">\n",
              "  <thead>\n",
              "    <tr style=\"text-align: right;\">\n",
              "      <th></th>\n",
              "      <th>id</th>\n",
              "      <th>ship_mode</th>\n",
              "      <th>customer_id</th>\n",
              "      <th>sales</th>\n",
              "    </tr>\n",
              "    <tr>\n",
              "      <th>order_date</th>\n",
              "      <th></th>\n",
              "      <th></th>\n",
              "      <th></th>\n",
              "      <th></th>\n",
              "    </tr>\n",
              "  </thead>\n",
              "  <tbody>\n",
              "    <tr>\n",
              "      <th>2014-12-16</th>\n",
              "      <td>100706</td>\n",
              "      <td>Second</td>\n",
              "      <td>LE-16810</td>\n",
              "      <td>129.44</td>\n",
              "    </tr>\n",
              "    <tr>\n",
              "      <th>2014-03-26</th>\n",
              "      <td>100860</td>\n",
              "      <td>Second</td>\n",
              "      <td>CS-12505</td>\n",
              "      <td>18.75</td>\n",
              "    </tr>\n",
              "    <tr>\n",
              "      <th>2014-11-19</th>\n",
              "      <td>100972</td>\n",
              "      <td>Second</td>\n",
              "      <td>DB-13360</td>\n",
              "      <td>166.44</td>\n",
              "    </tr>\n",
              "    <tr>\n",
              "      <th>2014-08-27</th>\n",
              "      <td>101266</td>\n",
              "      <td>Second</td>\n",
              "      <td>MM-17920</td>\n",
              "      <td>13.36</td>\n",
              "    </tr>\n",
              "    <tr>\n",
              "      <th>2014-11-28</th>\n",
              "      <td>101560</td>\n",
              "      <td>Second</td>\n",
              "      <td>CS-12250</td>\n",
              "      <td>542.34</td>\n",
              "    </tr>\n",
              "    <tr>\n",
              "      <th>...</th>\n",
              "      <td>...</td>\n",
              "      <td>...</td>\n",
              "      <td>...</td>\n",
              "      <td>...</td>\n",
              "    </tr>\n",
              "    <tr>\n",
              "      <th>2017-04-29</th>\n",
              "      <td>164056</td>\n",
              "      <td>Second</td>\n",
              "      <td>FM-14215</td>\n",
              "      <td>1048.35</td>\n",
              "    </tr>\n",
              "    <tr>\n",
              "      <th>2017-09-04</th>\n",
              "      <td>166394</td>\n",
              "      <td>Second</td>\n",
              "      <td>VM-21835</td>\n",
              "      <td>14.82</td>\n",
              "    </tr>\n",
              "    <tr>\n",
              "      <th>2017-01-13</th>\n",
              "      <td>167402</td>\n",
              "      <td>Second</td>\n",
              "      <td>CP-12085</td>\n",
              "      <td>4619.33</td>\n",
              "    </tr>\n",
              "    <tr>\n",
              "      <th>2017-12-09</th>\n",
              "      <td>167920</td>\n",
              "      <td>Second</td>\n",
              "      <td>JL-15835</td>\n",
              "      <td>1827.51</td>\n",
              "    </tr>\n",
              "    <tr>\n",
              "      <th>2017-07-23</th>\n",
              "      <td>169320</td>\n",
              "      <td>Second</td>\n",
              "      <td>LH-16900</td>\n",
              "      <td>171.43</td>\n",
              "    </tr>\n",
              "  </tbody>\n",
              "</table>\n",
              "<p>964 rows × 4 columns</p>\n",
              "</div>"
            ],
            "text/plain": [
              "                id ship_mode customer_id    sales\n",
              "order_date                                       \n",
              "2014-12-16  100706    Second    LE-16810   129.44\n",
              "2014-03-26  100860    Second    CS-12505    18.75\n",
              "2014-11-19  100972    Second    DB-13360   166.44\n",
              "2014-08-27  101266    Second    MM-17920    13.36\n",
              "2014-11-28  101560    Second    CS-12250   542.34\n",
              "...            ...       ...         ...      ...\n",
              "2017-04-29  164056    Second    FM-14215  1048.35\n",
              "2017-09-04  166394    Second    VM-21835    14.82\n",
              "2017-01-13  167402    Second    CP-12085  4619.33\n",
              "2017-12-09  167920    Second    JL-15835  1827.51\n",
              "2017-07-23  169320    Second    LH-16900   171.43\n",
              "\n",
              "[964 rows x 4 columns]"
            ]
          },
          "metadata": {
            "tags": []
          },
          "execution_count": 22
        }
      ]
    },
    {
      "cell_type": "code",
      "metadata": {
        "id": "PuSziPhQRXmv",
        "colab_type": "code",
        "colab": {
          "base_uri": "https://localhost:8080/",
          "height": 450
        },
        "outputId": "e69dd36f-a673-434f-ba5b-f77f6a382d2e"
      },
      "source": [
        "df[(df.ship_mode == 'Second') & (df.sales > 250)]"
      ],
      "execution_count": null,
      "outputs": [
        {
          "output_type": "execute_result",
          "data": {
            "text/html": [
              "<div>\n",
              "<style scoped>\n",
              "    .dataframe tbody tr th:only-of-type {\n",
              "        vertical-align: middle;\n",
              "    }\n",
              "\n",
              "    .dataframe tbody tr th {\n",
              "        vertical-align: top;\n",
              "    }\n",
              "\n",
              "    .dataframe thead th {\n",
              "        text-align: right;\n",
              "    }\n",
              "</style>\n",
              "<table border=\"1\" class=\"dataframe\">\n",
              "  <thead>\n",
              "    <tr style=\"text-align: right;\">\n",
              "      <th></th>\n",
              "      <th>id</th>\n",
              "      <th>ship_mode</th>\n",
              "      <th>customer_id</th>\n",
              "      <th>sales</th>\n",
              "    </tr>\n",
              "    <tr>\n",
              "      <th>order_date</th>\n",
              "      <th></th>\n",
              "      <th></th>\n",
              "      <th></th>\n",
              "      <th></th>\n",
              "    </tr>\n",
              "  </thead>\n",
              "  <tbody>\n",
              "    <tr>\n",
              "      <th>2014-11-28</th>\n",
              "      <td>101560</td>\n",
              "      <td>Second</td>\n",
              "      <td>CS-12250</td>\n",
              "      <td>542.340</td>\n",
              "    </tr>\n",
              "    <tr>\n",
              "      <th>2014-04-05</th>\n",
              "      <td>102988</td>\n",
              "      <td>Second</td>\n",
              "      <td>GM-14695</td>\n",
              "      <td>4251.920</td>\n",
              "    </tr>\n",
              "    <tr>\n",
              "      <th>2014-03-01</th>\n",
              "      <td>104269</td>\n",
              "      <td>Second</td>\n",
              "      <td>DB-13060</td>\n",
              "      <td>457.568</td>\n",
              "    </tr>\n",
              "    <tr>\n",
              "      <th>2014-12-30</th>\n",
              "      <td>104738</td>\n",
              "      <td>Second</td>\n",
              "      <td>SP-20620</td>\n",
              "      <td>609.614</td>\n",
              "    </tr>\n",
              "    <tr>\n",
              "      <th>2014-06-07</th>\n",
              "      <td>106229</td>\n",
              "      <td>Second</td>\n",
              "      <td>NR-18550</td>\n",
              "      <td>268.935</td>\n",
              "    </tr>\n",
              "    <tr>\n",
              "      <th>...</th>\n",
              "      <td>...</td>\n",
              "      <td>...</td>\n",
              "      <td>...</td>\n",
              "      <td>...</td>\n",
              "    </tr>\n",
              "    <tr>\n",
              "      <th>2017-12-23</th>\n",
              "      <td>162670</td>\n",
              "      <td>Second</td>\n",
              "      <td>MF-18250</td>\n",
              "      <td>1152.870</td>\n",
              "    </tr>\n",
              "    <tr>\n",
              "      <th>2017-11-02</th>\n",
              "      <td>163790</td>\n",
              "      <td>Second</td>\n",
              "      <td>NL-18310</td>\n",
              "      <td>1158.882</td>\n",
              "    </tr>\n",
              "    <tr>\n",
              "      <th>2017-04-29</th>\n",
              "      <td>164056</td>\n",
              "      <td>Second</td>\n",
              "      <td>FM-14215</td>\n",
              "      <td>1048.350</td>\n",
              "    </tr>\n",
              "    <tr>\n",
              "      <th>2017-01-13</th>\n",
              "      <td>167402</td>\n",
              "      <td>Second</td>\n",
              "      <td>CP-12085</td>\n",
              "      <td>4619.330</td>\n",
              "    </tr>\n",
              "    <tr>\n",
              "      <th>2017-12-09</th>\n",
              "      <td>167920</td>\n",
              "      <td>Second</td>\n",
              "      <td>JL-15835</td>\n",
              "      <td>1827.510</td>\n",
              "    </tr>\n",
              "  </tbody>\n",
              "</table>\n",
              "<p>405 rows × 4 columns</p>\n",
              "</div>"
            ],
            "text/plain": [
              "                id ship_mode customer_id     sales\n",
              "order_date                                        \n",
              "2014-11-28  101560    Second    CS-12250   542.340\n",
              "2014-04-05  102988    Second    GM-14695  4251.920\n",
              "2014-03-01  104269    Second    DB-13060   457.568\n",
              "2014-12-30  104738    Second    SP-20620   609.614\n",
              "2014-06-07  106229    Second    NR-18550   268.935\n",
              "...            ...       ...         ...       ...\n",
              "2017-12-23  162670    Second    MF-18250  1152.870\n",
              "2017-11-02  163790    Second    NL-18310  1158.882\n",
              "2017-04-29  164056    Second    FM-14215  1048.350\n",
              "2017-01-13  167402    Second    CP-12085  4619.330\n",
              "2017-12-09  167920    Second    JL-15835  1827.510\n",
              "\n",
              "[405 rows x 4 columns]"
            ]
          },
          "metadata": {
            "tags": []
          },
          "execution_count": 23
        }
      ]
    },
    {
      "cell_type": "markdown",
      "metadata": {
        "id": "PNZhvL-CS51O",
        "colab_type": "text"
      },
      "source": [
        "Изменить формат"
      ]
    },
    {
      "cell_type": "code",
      "metadata": {
        "id": "jNzggFN9R2qG",
        "colab_type": "code",
        "colab": {
          "base_uri": "https://localhost:8080/",
          "height": 450
        },
        "outputId": "408467ab-c112-4aab-d920-a394f52d8c63"
      },
      "source": [
        "df.sales = df.sales.astype(int)\n",
        "df.sales\n",
        "df"
      ],
      "execution_count": null,
      "outputs": [
        {
          "output_type": "execute_result",
          "data": {
            "text/html": [
              "<div>\n",
              "<style scoped>\n",
              "    .dataframe tbody tr th:only-of-type {\n",
              "        vertical-align: middle;\n",
              "    }\n",
              "\n",
              "    .dataframe tbody tr th {\n",
              "        vertical-align: top;\n",
              "    }\n",
              "\n",
              "    .dataframe thead th {\n",
              "        text-align: right;\n",
              "    }\n",
              "</style>\n",
              "<table border=\"1\" class=\"dataframe\">\n",
              "  <thead>\n",
              "    <tr style=\"text-align: right;\">\n",
              "      <th></th>\n",
              "      <th>id</th>\n",
              "      <th>ship_mode</th>\n",
              "      <th>customer_id</th>\n",
              "      <th>sales</th>\n",
              "    </tr>\n",
              "    <tr>\n",
              "      <th>order_date</th>\n",
              "      <th></th>\n",
              "      <th></th>\n",
              "      <th></th>\n",
              "      <th></th>\n",
              "    </tr>\n",
              "  </thead>\n",
              "  <tbody>\n",
              "    <tr>\n",
              "      <th>2014-09-07</th>\n",
              "      <td>100006</td>\n",
              "      <td>Standard</td>\n",
              "      <td>DK-13375</td>\n",
              "      <td>377</td>\n",
              "    </tr>\n",
              "    <tr>\n",
              "      <th>2014-07-08</th>\n",
              "      <td>100090</td>\n",
              "      <td>Standard</td>\n",
              "      <td>EB-13705</td>\n",
              "      <td>699</td>\n",
              "    </tr>\n",
              "    <tr>\n",
              "      <th>2014-03-14</th>\n",
              "      <td>100293</td>\n",
              "      <td>Standard</td>\n",
              "      <td>NF-18475</td>\n",
              "      <td>91</td>\n",
              "    </tr>\n",
              "    <tr>\n",
              "      <th>2014-01-28</th>\n",
              "      <td>100328</td>\n",
              "      <td>Standard</td>\n",
              "      <td>JC-15340</td>\n",
              "      <td>3</td>\n",
              "    </tr>\n",
              "    <tr>\n",
              "      <th>2014-04-08</th>\n",
              "      <td>100363</td>\n",
              "      <td>Standard</td>\n",
              "      <td>JM-15655</td>\n",
              "      <td>21</td>\n",
              "    </tr>\n",
              "    <tr>\n",
              "      <th>...</th>\n",
              "      <td>...</td>\n",
              "      <td>...</td>\n",
              "      <td>...</td>\n",
              "      <td>...</td>\n",
              "    </tr>\n",
              "    <tr>\n",
              "      <th>2017-11-03</th>\n",
              "      <td>168802</td>\n",
              "      <td>Standard</td>\n",
              "      <td>JO-15145</td>\n",
              "      <td>18</td>\n",
              "    </tr>\n",
              "    <tr>\n",
              "      <th>2017-07-23</th>\n",
              "      <td>169320</td>\n",
              "      <td>Second</td>\n",
              "      <td>LH-16900</td>\n",
              "      <td>171</td>\n",
              "    </tr>\n",
              "    <tr>\n",
              "      <th>2017-09-07</th>\n",
              "      <td>169488</td>\n",
              "      <td>First</td>\n",
              "      <td>AA-10375</td>\n",
              "      <td>56</td>\n",
              "    </tr>\n",
              "    <tr>\n",
              "      <th>2017-08-28</th>\n",
              "      <td>169502</td>\n",
              "      <td>Standard</td>\n",
              "      <td>MG-17650</td>\n",
              "      <td>113</td>\n",
              "    </tr>\n",
              "    <tr>\n",
              "      <th>2017-07-07</th>\n",
              "      <td>169551</td>\n",
              "      <td>First</td>\n",
              "      <td>RL-19615</td>\n",
              "      <td>1344</td>\n",
              "    </tr>\n",
              "  </tbody>\n",
              "</table>\n",
              "<p>5009 rows × 4 columns</p>\n",
              "</div>"
            ],
            "text/plain": [
              "                id ship_mode customer_id  sales\n",
              "order_date                                     \n",
              "2014-09-07  100006  Standard    DK-13375    377\n",
              "2014-07-08  100090  Standard    EB-13705    699\n",
              "2014-03-14  100293  Standard    NF-18475     91\n",
              "2014-01-28  100328  Standard    JC-15340      3\n",
              "2014-04-08  100363  Standard    JM-15655     21\n",
              "...            ...       ...         ...    ...\n",
              "2017-11-03  168802  Standard    JO-15145     18\n",
              "2017-07-23  169320    Second    LH-16900    171\n",
              "2017-09-07  169488     First    AA-10375     56\n",
              "2017-08-28  169502  Standard    MG-17650    113\n",
              "2017-07-07  169551     First    RL-19615   1344\n",
              "\n",
              "[5009 rows x 4 columns]"
            ]
          },
          "metadata": {
            "tags": []
          },
          "execution_count": 26
        }
      ]
    },
    {
      "cell_type": "markdown",
      "metadata": {
        "id": "fDrA_pTMTAvy",
        "colab_type": "text"
      },
      "source": [
        "Переименовать столбец"
      ]
    },
    {
      "cell_type": "code",
      "metadata": {
        "id": "P46WLvmXU3pS",
        "colab_type": "code",
        "colab": {
          "base_uri": "https://localhost:8080/",
          "height": 238
        },
        "outputId": "0b21864f-4783-4349-da79-b19e1ebd72b8"
      },
      "source": [
        "df.sales.describe"
      ],
      "execution_count": null,
      "outputs": [
        {
          "output_type": "execute_result",
          "data": {
            "text/plain": [
              "<bound method NDFrame.describe of order_date\n",
              "2014-09-07     377\n",
              "2014-07-08     699\n",
              "2014-03-14      91\n",
              "2014-01-28       3\n",
              "2014-04-08      21\n",
              "              ... \n",
              "2017-11-03      18\n",
              "2017-07-23     171\n",
              "2017-09-07      56\n",
              "2017-08-28     113\n",
              "2017-07-07    1344\n",
              "Name: sales, Length: 5009, dtype: int64>"
            ]
          },
          "metadata": {
            "tags": []
          },
          "execution_count": 28
        }
      ]
    },
    {
      "cell_type": "code",
      "metadata": {
        "id": "xSBt4D_VSjcR",
        "colab_type": "code",
        "colab": {
          "base_uri": "https://localhost:8080/",
          "height": 450
        },
        "outputId": "d3bf1c86-75ef-4e57-8512-15834891921e"
      },
      "source": [
        "df_rename = df.rename(columns={'id': 'id_point'})\n",
        "df_rename"
      ],
      "execution_count": null,
      "outputs": [
        {
          "output_type": "execute_result",
          "data": {
            "text/html": [
              "<div>\n",
              "<style scoped>\n",
              "    .dataframe tbody tr th:only-of-type {\n",
              "        vertical-align: middle;\n",
              "    }\n",
              "\n",
              "    .dataframe tbody tr th {\n",
              "        vertical-align: top;\n",
              "    }\n",
              "\n",
              "    .dataframe thead th {\n",
              "        text-align: right;\n",
              "    }\n",
              "</style>\n",
              "<table border=\"1\" class=\"dataframe\">\n",
              "  <thead>\n",
              "    <tr style=\"text-align: right;\">\n",
              "      <th></th>\n",
              "      <th>id_point</th>\n",
              "      <th>ship_mode</th>\n",
              "      <th>customer_id</th>\n",
              "      <th>sales</th>\n",
              "    </tr>\n",
              "    <tr>\n",
              "      <th>order_date</th>\n",
              "      <th></th>\n",
              "      <th></th>\n",
              "      <th></th>\n",
              "      <th></th>\n",
              "    </tr>\n",
              "  </thead>\n",
              "  <tbody>\n",
              "    <tr>\n",
              "      <th>2014-09-07</th>\n",
              "      <td>100006</td>\n",
              "      <td>Standard</td>\n",
              "      <td>DK-13375</td>\n",
              "      <td>377</td>\n",
              "    </tr>\n",
              "    <tr>\n",
              "      <th>2014-07-08</th>\n",
              "      <td>100090</td>\n",
              "      <td>Standard</td>\n",
              "      <td>EB-13705</td>\n",
              "      <td>699</td>\n",
              "    </tr>\n",
              "    <tr>\n",
              "      <th>2014-03-14</th>\n",
              "      <td>100293</td>\n",
              "      <td>Standard</td>\n",
              "      <td>NF-18475</td>\n",
              "      <td>91</td>\n",
              "    </tr>\n",
              "    <tr>\n",
              "      <th>2014-01-28</th>\n",
              "      <td>100328</td>\n",
              "      <td>Standard</td>\n",
              "      <td>JC-15340</td>\n",
              "      <td>3</td>\n",
              "    </tr>\n",
              "    <tr>\n",
              "      <th>2014-04-08</th>\n",
              "      <td>100363</td>\n",
              "      <td>Standard</td>\n",
              "      <td>JM-15655</td>\n",
              "      <td>21</td>\n",
              "    </tr>\n",
              "    <tr>\n",
              "      <th>...</th>\n",
              "      <td>...</td>\n",
              "      <td>...</td>\n",
              "      <td>...</td>\n",
              "      <td>...</td>\n",
              "    </tr>\n",
              "    <tr>\n",
              "      <th>2017-11-03</th>\n",
              "      <td>168802</td>\n",
              "      <td>Standard</td>\n",
              "      <td>JO-15145</td>\n",
              "      <td>18</td>\n",
              "    </tr>\n",
              "    <tr>\n",
              "      <th>2017-07-23</th>\n",
              "      <td>169320</td>\n",
              "      <td>Second</td>\n",
              "      <td>LH-16900</td>\n",
              "      <td>171</td>\n",
              "    </tr>\n",
              "    <tr>\n",
              "      <th>2017-09-07</th>\n",
              "      <td>169488</td>\n",
              "      <td>First</td>\n",
              "      <td>AA-10375</td>\n",
              "      <td>56</td>\n",
              "    </tr>\n",
              "    <tr>\n",
              "      <th>2017-08-28</th>\n",
              "      <td>169502</td>\n",
              "      <td>Standard</td>\n",
              "      <td>MG-17650</td>\n",
              "      <td>113</td>\n",
              "    </tr>\n",
              "    <tr>\n",
              "      <th>2017-07-07</th>\n",
              "      <td>169551</td>\n",
              "      <td>First</td>\n",
              "      <td>RL-19615</td>\n",
              "      <td>1344</td>\n",
              "    </tr>\n",
              "  </tbody>\n",
              "</table>\n",
              "<p>5009 rows × 4 columns</p>\n",
              "</div>"
            ],
            "text/plain": [
              "            id_point ship_mode customer_id  sales\n",
              "order_date                                       \n",
              "2014-09-07    100006  Standard    DK-13375    377\n",
              "2014-07-08    100090  Standard    EB-13705    699\n",
              "2014-03-14    100293  Standard    NF-18475     91\n",
              "2014-01-28    100328  Standard    JC-15340      3\n",
              "2014-04-08    100363  Standard    JM-15655     21\n",
              "...              ...       ...         ...    ...\n",
              "2017-11-03    168802  Standard    JO-15145     18\n",
              "2017-07-23    169320    Second    LH-16900    171\n",
              "2017-09-07    169488     First    AA-10375     56\n",
              "2017-08-28    169502  Standard    MG-17650    113\n",
              "2017-07-07    169551     First    RL-19615   1344\n",
              "\n",
              "[5009 rows x 4 columns]"
            ]
          },
          "metadata": {
            "tags": []
          },
          "execution_count": 27
        }
      ]
    },
    {
      "cell_type": "markdown",
      "metadata": {
        "id": "Sqi5rjD_zxnv",
        "colab_type": "text"
      },
      "source": [
        "**РИСУЕМ** **ГРАФИКИ**"
      ]
    },
    {
      "cell_type": "code",
      "metadata": {
        "id": "FePAhMBZz30-",
        "colab_type": "code",
        "colab": {}
      },
      "source": [
        "# импортируем библиотеки numpy и pandas\n",
        "import numpy as np\n",
        "import pandas as pd\n",
        "\n",
        "# импортируем библиотеку datetime для работы с датами\n",
        "import datetime\n",
        "from datetime import datetime, date\n",
        "\n",
        "# импортируем библиотеку matplotlib для построения графиков\n",
        "import matplotlib.pyplot as plt"
      ],
      "execution_count": null,
      "outputs": []
    },
    {
      "cell_type": "code",
      "metadata": {
        "id": "x8S_KFJ20MjH",
        "colab_type": "code",
        "colab": {
          "base_uri": "https://localhost:8080/",
          "height": 221
        },
        "outputId": "a3a6750e-213c-422e-bf72-57374f2a7c4b"
      },
      "source": [
        "# генерируем временной ряд на\n",
        "# основе случайного блуждания\n",
        "s = pd.Series(np.random.randn(1096),\n",
        "              index=pd.date_range('2012-01-01', \n",
        "                                  '2014-12-31'))\n",
        "s"
      ],
      "execution_count": null,
      "outputs": [
        {
          "output_type": "execute_result",
          "data": {
            "text/plain": [
              "2012-01-01    1.009978\n",
              "2012-01-02   -0.391720\n",
              "2012-01-03    1.880083\n",
              "2012-01-04   -0.319385\n",
              "2012-01-05   -1.179741\n",
              "                ...   \n",
              "2014-12-27    1.636881\n",
              "2014-12-28   -0.523037\n",
              "2014-12-29    0.033234\n",
              "2014-12-30   -2.377418\n",
              "2014-12-31    0.164124\n",
              "Freq: D, Length: 1096, dtype: float64"
            ]
          },
          "metadata": {
            "tags": []
          },
          "execution_count": 31
        }
      ]
    },
    {
      "cell_type": "code",
      "metadata": {
        "id": "DNEk0_Nz0Quo",
        "colab_type": "code",
        "colab": {
          "base_uri": "https://localhost:8080/",
          "height": 277
        },
        "outputId": "a4c2699d-fee3-47a7-8ffd-599fd62ac807"
      },
      "source": [
        "walk_ts = s.cumsum()\n",
        "# эта строка визуализирует случайное блуждание - так просто :)\n",
        "walk_ts.plot();"
      ],
      "execution_count": null,
      "outputs": [
        {
          "output_type": "display_data",
          "data": {
            "image/png": "[encoded data removed]",
            "text/plain": [
              "<Figure size 432x288 with 1 Axes>"
            ]
          },
          "metadata": {
            "tags": [],
            "needs_background": "light"
          }
        }
      ]
    },
    {
      "cell_type": "code",
      "metadata": {
        "id": "SuXUn3cU0T_a",
        "colab_type": "code",
        "colab": {
          "base_uri": "https://localhost:8080/",
          "height": 277
        },
        "outputId": "83e330a7-6181-4976-8eca-0a15eacbe943"
      },
      "source": [
        "walk_df = pd.DataFrame(walk_ts)\n",
        "walk_df.plot();"
      ],
      "execution_count": null,
      "outputs": [
        {
          "output_type": "display_data",
          "data": {
            "image/png": "[encoded data removed]",
            "text/plain": [
              "<Figure size 432x288 with 1 Axes>"
            ]
          },
          "metadata": {
            "tags": [],
            "needs_background": "light"
          }
        }
      ]
    },
    {
      "cell_type": "code",
      "metadata": {
        "id": "A4TfG8vAz7Yp",
        "colab_type": "code",
        "colab": {
          "base_uri": "https://localhost:8080/",
          "height": 204
        },
        "outputId": "20fef075-204f-4b45-8a87-ca41b3bf1c2b"
      },
      "source": [
        "# сгенерируем два случайных блуждания, которые станут двумя столбцами объекта DataFrame:\n",
        "df = pd.DataFrame(np.random.randn(1096, 2), \n",
        "                  index=walk_ts.index, columns=list('AB'))\n",
        "walk_df = df.cumsum()\n",
        "walk_df.head()"
      ],
      "execution_count": null,
      "outputs": [
        {
          "output_type": "execute_result",
          "data": {
            "text/html": [
              "<div>\n",
              "<style scoped>\n",
              "    .dataframe tbody tr th:only-of-type {\n",
              "        vertical-align: middle;\n",
              "    }\n",
              "\n",
              "    .dataframe tbody tr th {\n",
              "        vertical-align: top;\n",
              "    }\n",
              "\n",
              "    .dataframe thead th {\n",
              "        text-align: right;\n",
              "    }\n",
              "</style>\n",
              "<table border=\"1\" class=\"dataframe\">\n",
              "  <thead>\n",
              "    <tr style=\"text-align: right;\">\n",
              "      <th></th>\n",
              "      <th>A</th>\n",
              "      <th>B</th>\n",
              "    </tr>\n",
              "  </thead>\n",
              "  <tbody>\n",
              "    <tr>\n",
              "      <th>2012-01-01</th>\n",
              "      <td>0.871462</td>\n",
              "      <td>0.536774</td>\n",
              "    </tr>\n",
              "    <tr>\n",
              "      <th>2012-01-02</th>\n",
              "      <td>-0.390103</td>\n",
              "      <td>0.320417</td>\n",
              "    </tr>\n",
              "    <tr>\n",
              "      <th>2012-01-03</th>\n",
              "      <td>-0.522760</td>\n",
              "      <td>1.391338</td>\n",
              "    </tr>\n",
              "    <tr>\n",
              "      <th>2012-01-04</th>\n",
              "      <td>-0.105158</td>\n",
              "      <td>1.367353</td>\n",
              "    </tr>\n",
              "    <tr>\n",
              "      <th>2012-01-05</th>\n",
              "      <td>-1.379537</td>\n",
              "      <td>1.566086</td>\n",
              "    </tr>\n",
              "  </tbody>\n",
              "</table>\n",
              "</div>"
            ],
            "text/plain": [
              "                   A         B\n",
              "2012-01-01  0.871462  0.536774\n",
              "2012-01-02 -0.390103  0.320417\n",
              "2012-01-03 -0.522760  1.391338\n",
              "2012-01-04 -0.105158  1.367353\n",
              "2012-01-05 -1.379537  1.566086"
            ]
          },
          "metadata": {
            "tags": []
          },
          "execution_count": 34
        }
      ]
    },
    {
      "cell_type": "code",
      "metadata": {
        "id": "paRsZNiC0ZT3",
        "colab_type": "code",
        "colab": {
          "base_uri": "https://localhost:8080/",
          "height": 281
        },
        "outputId": "61c6834d-8a2a-40af-f1ef-4eb9ec5563a0"
      },
      "source": [
        "# создаем копию случайного блуждания\n",
        "df2 = walk_df.copy()\n",
        "# добавляем столбец C, который принимает значения от 0 до 1096\n",
        "df2['C'] = pd.Series(np.arange(0, len(df2)), index=df2.index)\n",
        "# в качестве меток оси X вместо дат используем значения столбца 'C', получаем метки оси x в диапазоне от 0 до 1000\n",
        "df2.plot(x='C', y=['A', 'B']);"
      ],
      "execution_count": null,
      "outputs": [
        {
          "output_type": "display_data",
          "data": {
            "image/png": "[encoded data removed]",
            "text/plain": [
              "<Figure size 432x288 with 1 Axes>"
            ]
          },
          "metadata": {
            "tags": [],
            "needs_background": "light"
          }
        }
      ]
    },
    {
      "cell_type": "code",
      "metadata": {
        "id": "G9FmaYaM0fm6",
        "colab_type": "code",
        "colab": {
          "base_uri": "https://localhost:8080/",
          "height": 307
        },
        "outputId": "4dc1e55a-f300-4670-b21a-353874fd34e3"
      },
      "source": [
        "# создаем график временного ряда с заголовком и заданными  подписями осей x и y\n",
        "\n",
        "# заголовок задаем с помощью параметра title метода .plot()\n",
        "walk_df.plot(title='Title of the Chart')\n",
        "# после вызова метода .plot() явно\n",
        "# задаем подписи осей x и y\n",
        "plt.xlabel('Time')\n",
        "plt.ylabel('Money');"
      ],
      "execution_count": null,
      "outputs": [
        {
          "output_type": "display_data",
          "data": {
            "image/png": "[encoded data removed]",
            "text/plain": [
              "<Figure size 432x288 with 1 Axes>"
            ]
          },
          "metadata": {
            "tags": [],
            "needs_background": "light"
          }
        }
      ]
    },
    {
      "cell_type": "code",
      "metadata": {
        "id": "dmsiG5kh0qRR",
        "colab_type": "code",
        "colab": {
          "base_uri": "https://localhost:8080/",
          "height": 278
        },
        "outputId": "ed29b178-b224-4e6c-e339-879c49141bee"
      },
      "source": [
        "# меняем цвета линий графика, используя символьный\n",
        "# код для первой линии и шестнадцатеричный\n",
        "# RGB-код для второй\n",
        "walk_df.plot(style=['g', '#FF0000']);"
      ],
      "execution_count": null,
      "outputs": [
        {
          "output_type": "display_data",
          "data": {
            "image/png": "[encoded data removed]",
            "text/plain": [
              "<Figure size 432x288 with 1 Axes>"
            ]
          },
          "metadata": {
            "tags": [],
            "needs_background": "light"
          }
        }
      ]
    },
    {
      "cell_type": "code",
      "metadata": {
        "id": "uyapazTd0r4y",
        "colab_type": "code",
        "colab": {
          "base_uri": "https://localhost:8080/",
          "height": 265
        },
        "outputId": "01269d3b-a660-42c2-e114-532cde3aa5c9"
      },
      "source": [
        "# демонстрируем различные стили линий\n",
        "t = np.arange(0., 5., 0.2)\n",
        "legend_labels = ['Solid', 'Dashed', 'Dotted', \n",
        "                 'Dot-dashed', 'Points']\n",
        "line_style = pd.DataFrame({0 : t,\n",
        "                           1 : t**1.5,\n",
        "                           2 : t**2.0,\n",
        "                           3 : t**2.5,\n",
        "                           4 : t**3.0})\n",
        "# создаем график, задав цвет и стиль каждой линии\n",
        "ax = line_style.plot(style=['r-', 'g--', 'b:', 'm-.', 'k:'])\n",
        "# задаем легенду\n",
        "ax.legend(legend_labels, loc='upper left');"
      ],
      "execution_count": null,
      "outputs": [
        {
          "output_type": "display_data",
          "data": {
            "image/png": "[encoded data removed]",
            "text/plain": [
              "<Figure size 432x288 with 1 Axes>"
            ]
          },
          "metadata": {
            "tags": [],
            "needs_background": "light"
          }
        }
      ]
    },
    {
      "cell_type": "code",
      "metadata": {
        "id": "uRguTEKx0whF",
        "colab_type": "code",
        "colab": {}
      },
      "source": [
        ""
      ],
      "execution_count": null,
      "outputs": []
    }
  ]
}