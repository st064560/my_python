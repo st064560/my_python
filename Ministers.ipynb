{
  "nbformat": 4,
  "nbformat_minor": 0,
  "metadata": {
    "kernelspec": {
      "display_name": "Python 3",
      "language": "python",
      "name": "python3"
    },
    "language_info": {
      "codemirror_mode": {
        "name": "ipython",
        "version": 3
      },
      "file_extension": ".py",
      "mimetype": "text/x-python",
      "name": "python",
      "nbconvert_exporter": "python",
      "pygments_lexer": "ipython3",
      "version": "3.7.3"
    },
    "colab": {
      "name": "Ministers.ipynb",
      "provenance": [],
      "include_colab_link": true
    }
  },
  "cells": [
    {
      "cell_type": "markdown",
      "metadata": {
        "id": "view-in-github",
        "colab_type": "text"
      },
      "source": [
        "<a href=\"https://colab.research.google.com/github/st064560/my_python/blob/master/Ministers.ipynb\" target=\"_parent\"><img src=\"https://colab.research.google.com/assets/colab-badge.svg\" alt=\"Open In Colab\"/></a>"
      ]
    },
    {
      "cell_type": "markdown",
      "metadata": {
        "id": "jjgYbMOGKbRx",
        "colab_type": "text"
      },
      "source": [
        "<a href=\"https://colab.research.google.com/github/dm-fedorov/pandas_basic/blob/master/%D0%A2%D0%B5%D0%BF%D0%BB%D0%B8%D1%86%D0%B0/4.%20%D0%94%D0%B5%D0%BF%D1%83%D1%82%D0%B0%D1%82%D1%8B.ipynb\"><img align=\"left\" src=\"https://colab.research.google.com/assets/colab-badge.svg\" alt=\"Open in Colab\" title=\"Open and Execute in Google Colaboratory\" target=\"_blank\"></a>"
      ]
    },
    {
      "cell_type": "code",
      "metadata": {
        "id": "cYdufoGKKbR2",
        "colab_type": "code",
        "outputId": "24db1ac4-d6c8-4791-fd63-b5bfe32421d0",
        "colab": {
          "base_uri": "https://localhost:8080/",
          "height": 419
        }
      },
      "source": [
        "import pandas as pd\n",
        "\n",
        "url = \"https://raw.githubusercontent.com/dm-fedorov/pandas_basic/master/data/deputat.csv\"\n",
        "df = pd.read_csv(url)\n",
        "df"
      ],
      "execution_count": 0,
      "outputs": [
        {
          "output_type": "execute_result",
          "data": {
            "text/html": [
              "<div>\n",
              "<style scoped>\n",
              "    .dataframe tbody tr th:only-of-type {\n",
              "        vertical-align: middle;\n",
              "    }\n",
              "\n",
              "    .dataframe tbody tr th {\n",
              "        vertical-align: top;\n",
              "    }\n",
              "\n",
              "    .dataframe thead th {\n",
              "        text-align: right;\n",
              "    }\n",
              "</style>\n",
              "<table border=\"1\" class=\"dataframe\">\n",
              "  <thead>\n",
              "    <tr style=\"text-align: right;\">\n",
              "      <th></th>\n",
              "      <th>name</th>\n",
              "      <th>lastname</th>\n",
              "      <th>otchestvo</th>\n",
              "      <th>gender</th>\n",
              "      <th>birdhdate</th>\n",
              "      <th>start</th>\n",
              "      <th>end</th>\n",
              "      <th>district</th>\n",
              "    </tr>\n",
              "  </thead>\n",
              "  <tbody>\n",
              "    <tr>\n",
              "      <th>0</th>\n",
              "      <td>Ефимов</td>\n",
              "      <td>Виталий</td>\n",
              "      <td>Борисович</td>\n",
              "      <td>м</td>\n",
              "      <td>04.04.1940</td>\n",
              "      <td>18.09.2016</td>\n",
              "      <td>NaN</td>\n",
              "      <td>Мордовский</td>\n",
              "    </tr>\n",
              "    <tr>\n",
              "      <th>1</th>\n",
              "      <td>Максимова</td>\n",
              "      <td>Надежда</td>\n",
              "      <td>Сергеевна</td>\n",
              "      <td>ж</td>\n",
              "      <td>13.01.1942</td>\n",
              "      <td>18.09.2016</td>\n",
              "      <td>NaN</td>\n",
              "      <td>Хакасский</td>\n",
              "    </tr>\n",
              "    <tr>\n",
              "      <th>2</th>\n",
              "      <td>Мищеряков</td>\n",
              "      <td>Юрий</td>\n",
              "      <td>Николаевич</td>\n",
              "      <td>м</td>\n",
              "      <td>01.01.1945</td>\n",
              "      <td>18.09.2016</td>\n",
              "      <td>NaN</td>\n",
              "      <td>Оренбургский</td>\n",
              "    </tr>\n",
              "    <tr>\n",
              "      <th>3</th>\n",
              "      <td>Борцов</td>\n",
              "      <td>Николай</td>\n",
              "      <td>Иванович</td>\n",
              "      <td>м</td>\n",
              "      <td>08.09.1945</td>\n",
              "      <td>18.09.2016</td>\n",
              "      <td>NaN</td>\n",
              "      <td>Липецкий</td>\n",
              "    </tr>\n",
              "    <tr>\n",
              "      <th>4</th>\n",
              "      <td>Гончар</td>\n",
              "      <td>Николай</td>\n",
              "      <td>Николаевич</td>\n",
              "      <td>м</td>\n",
              "      <td>18.10.1946</td>\n",
              "      <td>18.09.2016</td>\n",
              "      <td>NaN</td>\n",
              "      <td>Центральный</td>\n",
              "    </tr>\n",
              "    <tr>\n",
              "      <th>...</th>\n",
              "      <td>...</td>\n",
              "      <td>...</td>\n",
              "      <td>...</td>\n",
              "      <td>...</td>\n",
              "      <td>...</td>\n",
              "      <td>...</td>\n",
              "      <td>...</td>\n",
              "      <td>...</td>\n",
              "    </tr>\n",
              "    <tr>\n",
              "      <th>206</th>\n",
              "      <td>Федяев</td>\n",
              "      <td>Павел</td>\n",
              "      <td>Михайлович</td>\n",
              "      <td>м</td>\n",
              "      <td>31.07.1982</td>\n",
              "      <td>18.09.2016</td>\n",
              "      <td>NaN</td>\n",
              "      <td>Заводский</td>\n",
              "    </tr>\n",
              "    <tr>\n",
              "      <th>207</th>\n",
              "      <td>Романов</td>\n",
              "      <td>Михаил</td>\n",
              "      <td>Валентинович</td>\n",
              "      <td>м</td>\n",
              "      <td>03.11.1984</td>\n",
              "      <td>18.09.2016</td>\n",
              "      <td>NaN</td>\n",
              "      <td>Юго-Восточный</td>\n",
              "    </tr>\n",
              "    <tr>\n",
              "      <th>208</th>\n",
              "      <td>Грибов</td>\n",
              "      <td>Александр</td>\n",
              "      <td>Сергеевич</td>\n",
              "      <td>м</td>\n",
              "      <td>22.05.1986</td>\n",
              "      <td>18.09.2016</td>\n",
              "      <td>NaN</td>\n",
              "      <td>Ярославский</td>\n",
              "    </tr>\n",
              "    <tr>\n",
              "      <th>209</th>\n",
              "      <td>Прокопьев</td>\n",
              "      <td>Александр</td>\n",
              "      <td>Сергеевич</td>\n",
              "      <td>м</td>\n",
              "      <td>05.08.1986</td>\n",
              "      <td>18.09.2016</td>\n",
              "      <td>NaN</td>\n",
              "      <td>Бийский</td>\n",
              "    </tr>\n",
              "    <tr>\n",
              "      <th>210</th>\n",
              "      <td>Шипулин</td>\n",
              "      <td>Антон</td>\n",
              "      <td>Владимирович</td>\n",
              "      <td>м</td>\n",
              "      <td>21.08.1987</td>\n",
              "      <td>08.09.2019</td>\n",
              "      <td>NaN</td>\n",
              "      <td>Серовский</td>\n",
              "    </tr>\n",
              "  </tbody>\n",
              "</table>\n",
              "<p>211 rows × 8 columns</p>\n",
              "</div>"
            ],
            "text/plain": [
              "          name   lastname     otchestvo  ...       start  end       district\n",
              "0       Ефимов    Виталий     Борисович  ...  18.09.2016  NaN     Мордовский\n",
              "1    Максимова    Надежда     Сергеевна  ...  18.09.2016  NaN      Хакасский\n",
              "2    Мищеряков       Юрий    Николаевич  ...  18.09.2016  NaN   Оренбургский\n",
              "3       Борцов    Николай      Иванович  ...  18.09.2016  NaN       Липецкий\n",
              "4       Гончар    Николай    Николаевич  ...  18.09.2016  NaN    Центральный\n",
              "..         ...        ...           ...  ...         ...  ...            ...\n",
              "206     Федяев      Павел    Михайлович  ...  18.09.2016  NaN      Заводский\n",
              "207    Романов     Михаил  Валентинович  ...  18.09.2016  NaN  Юго-Восточный\n",
              "208     Грибов  Александр     Сергеевич  ...  18.09.2016  NaN    Ярославский\n",
              "209  Прокопьев  Александр     Сергеевич  ...  18.09.2016  NaN        Бийский\n",
              "210    Шипулин      Антон  Владимирович  ...  08.09.2019  NaN      Серовский\n",
              "\n",
              "[211 rows x 8 columns]"
            ]
          },
          "metadata": {
            "tags": []
          },
          "execution_count": 20
        }
      ]
    },
    {
      "cell_type": "markdown",
      "metadata": {
        "id": "IV9Oc8jgKbSh",
        "colab_type": "text"
      },
      "source": [
        "### Задания"
      ]
    },
    {
      "cell_type": "markdown",
      "metadata": {
        "id": "NkV8o0j2KbSj",
        "colab_type": "text"
      },
      "source": [
        "Определите средний возраст депутата?"
      ]
    },
    {
      "cell_type": "code",
      "metadata": {
        "id": "jpGb8UYDKbSl",
        "colab_type": "code",
        "outputId": "53f7a819-e79b-4cbe-930b-de3a97456cd6",
        "colab": {
          "base_uri": "https://localhost:8080/",
          "height": 419
        }
      },
      "source": [
        "df = df.rename(columns = {'birdhdate': 'birthdate'})\n",
        "df\n",
        "\n"
      ],
      "execution_count": 0,
      "outputs": [
        {
          "output_type": "execute_result",
          "data": {
            "text/html": [
              "<div>\n",
              "<style scoped>\n",
              "    .dataframe tbody tr th:only-of-type {\n",
              "        vertical-align: middle;\n",
              "    }\n",
              "\n",
              "    .dataframe tbody tr th {\n",
              "        vertical-align: top;\n",
              "    }\n",
              "\n",
              "    .dataframe thead th {\n",
              "        text-align: right;\n",
              "    }\n",
              "</style>\n",
              "<table border=\"1\" class=\"dataframe\">\n",
              "  <thead>\n",
              "    <tr style=\"text-align: right;\">\n",
              "      <th></th>\n",
              "      <th>name</th>\n",
              "      <th>lastname</th>\n",
              "      <th>otchestvo</th>\n",
              "      <th>gender</th>\n",
              "      <th>birthdate</th>\n",
              "      <th>start</th>\n",
              "      <th>end</th>\n",
              "      <th>district</th>\n",
              "    </tr>\n",
              "  </thead>\n",
              "  <tbody>\n",
              "    <tr>\n",
              "      <th>0</th>\n",
              "      <td>Ефимов</td>\n",
              "      <td>Виталий</td>\n",
              "      <td>Борисович</td>\n",
              "      <td>м</td>\n",
              "      <td>04.04.1940</td>\n",
              "      <td>18.09.2016</td>\n",
              "      <td>NaN</td>\n",
              "      <td>Мордовский</td>\n",
              "    </tr>\n",
              "    <tr>\n",
              "      <th>1</th>\n",
              "      <td>Максимова</td>\n",
              "      <td>Надежда</td>\n",
              "      <td>Сергеевна</td>\n",
              "      <td>ж</td>\n",
              "      <td>13.01.1942</td>\n",
              "      <td>18.09.2016</td>\n",
              "      <td>NaN</td>\n",
              "      <td>Хакасский</td>\n",
              "    </tr>\n",
              "    <tr>\n",
              "      <th>2</th>\n",
              "      <td>Мищеряков</td>\n",
              "      <td>Юрий</td>\n",
              "      <td>Николаевич</td>\n",
              "      <td>м</td>\n",
              "      <td>01.01.1945</td>\n",
              "      <td>18.09.2016</td>\n",
              "      <td>NaN</td>\n",
              "      <td>Оренбургский</td>\n",
              "    </tr>\n",
              "    <tr>\n",
              "      <th>3</th>\n",
              "      <td>Борцов</td>\n",
              "      <td>Николай</td>\n",
              "      <td>Иванович</td>\n",
              "      <td>м</td>\n",
              "      <td>08.09.1945</td>\n",
              "      <td>18.09.2016</td>\n",
              "      <td>NaN</td>\n",
              "      <td>Липецкий</td>\n",
              "    </tr>\n",
              "    <tr>\n",
              "      <th>4</th>\n",
              "      <td>Гончар</td>\n",
              "      <td>Николай</td>\n",
              "      <td>Николаевич</td>\n",
              "      <td>м</td>\n",
              "      <td>18.10.1946</td>\n",
              "      <td>18.09.2016</td>\n",
              "      <td>NaN</td>\n",
              "      <td>Центральный</td>\n",
              "    </tr>\n",
              "    <tr>\n",
              "      <th>...</th>\n",
              "      <td>...</td>\n",
              "      <td>...</td>\n",
              "      <td>...</td>\n",
              "      <td>...</td>\n",
              "      <td>...</td>\n",
              "      <td>...</td>\n",
              "      <td>...</td>\n",
              "      <td>...</td>\n",
              "    </tr>\n",
              "    <tr>\n",
              "      <th>206</th>\n",
              "      <td>Федяев</td>\n",
              "      <td>Павел</td>\n",
              "      <td>Михайлович</td>\n",
              "      <td>м</td>\n",
              "      <td>31.07.1982</td>\n",
              "      <td>18.09.2016</td>\n",
              "      <td>NaN</td>\n",
              "      <td>Заводский</td>\n",
              "    </tr>\n",
              "    <tr>\n",
              "      <th>207</th>\n",
              "      <td>Романов</td>\n",
              "      <td>Михаил</td>\n",
              "      <td>Валентинович</td>\n",
              "      <td>м</td>\n",
              "      <td>03.11.1984</td>\n",
              "      <td>18.09.2016</td>\n",
              "      <td>NaN</td>\n",
              "      <td>Юго-Восточный</td>\n",
              "    </tr>\n",
              "    <tr>\n",
              "      <th>208</th>\n",
              "      <td>Грибов</td>\n",
              "      <td>Александр</td>\n",
              "      <td>Сергеевич</td>\n",
              "      <td>м</td>\n",
              "      <td>22.05.1986</td>\n",
              "      <td>18.09.2016</td>\n",
              "      <td>NaN</td>\n",
              "      <td>Ярославский</td>\n",
              "    </tr>\n",
              "    <tr>\n",
              "      <th>209</th>\n",
              "      <td>Прокопьев</td>\n",
              "      <td>Александр</td>\n",
              "      <td>Сергеевич</td>\n",
              "      <td>м</td>\n",
              "      <td>05.08.1986</td>\n",
              "      <td>18.09.2016</td>\n",
              "      <td>NaN</td>\n",
              "      <td>Бийский</td>\n",
              "    </tr>\n",
              "    <tr>\n",
              "      <th>210</th>\n",
              "      <td>Шипулин</td>\n",
              "      <td>Антон</td>\n",
              "      <td>Владимирович</td>\n",
              "      <td>м</td>\n",
              "      <td>21.08.1987</td>\n",
              "      <td>08.09.2019</td>\n",
              "      <td>NaN</td>\n",
              "      <td>Серовский</td>\n",
              "    </tr>\n",
              "  </tbody>\n",
              "</table>\n",
              "<p>211 rows × 8 columns</p>\n",
              "</div>"
            ],
            "text/plain": [
              "          name   lastname     otchestvo  ...       start  end       district\n",
              "0       Ефимов    Виталий     Борисович  ...  18.09.2016  NaN     Мордовский\n",
              "1    Максимова    Надежда     Сергеевна  ...  18.09.2016  NaN      Хакасский\n",
              "2    Мищеряков       Юрий    Николаевич  ...  18.09.2016  NaN   Оренбургский\n",
              "3       Борцов    Николай      Иванович  ...  18.09.2016  NaN       Липецкий\n",
              "4       Гончар    Николай    Николаевич  ...  18.09.2016  NaN    Центральный\n",
              "..         ...        ...           ...  ...         ...  ...            ...\n",
              "206     Федяев      Павел    Михайлович  ...  18.09.2016  NaN      Заводский\n",
              "207    Романов     Михаил  Валентинович  ...  18.09.2016  NaN  Юго-Восточный\n",
              "208     Грибов  Александр     Сергеевич  ...  18.09.2016  NaN    Ярославский\n",
              "209  Прокопьев  Александр     Сергеевич  ...  18.09.2016  NaN        Бийский\n",
              "210    Шипулин      Антон  Владимирович  ...  08.09.2019  NaN      Серовский\n",
              "\n",
              "[211 rows x 8 columns]"
            ]
          },
          "metadata": {
            "tags": []
          },
          "execution_count": 21
        }
      ]
    },
    {
      "cell_type": "code",
      "metadata": {
        "id": "ZqEe5HSfNdQ-",
        "colab_type": "code",
        "outputId": "db1e46ba-b1a3-4f11-9e8e-38143e3b2e4b",
        "colab": {
          "base_uri": "https://localhost:8080/",
          "height": 221
        }
      },
      "source": [
        "import pandas as pd\n",
        "df['birthdate'] = pd.to_datetime(df['birthdate'])\n",
        "df['birthdate'] "
      ],
      "execution_count": 0,
      "outputs": [
        {
          "output_type": "execute_result",
          "data": {
            "text/plain": [
              "0     1940-04-04\n",
              "1     1942-01-13\n",
              "2     1945-01-01\n",
              "3     1945-08-09\n",
              "4     1946-10-18\n",
              "         ...    \n",
              "206   1982-07-31\n",
              "207   1984-03-11\n",
              "208   1986-05-22\n",
              "209   1986-05-08\n",
              "210   1987-08-21\n",
              "Name: birthdate, Length: 211, dtype: datetime64[ns]"
            ]
          },
          "metadata": {
            "tags": []
          },
          "execution_count": 22
        }
      ]
    },
    {
      "cell_type": "code",
      "metadata": {
        "id": "W-xkzN0uOntW",
        "colab_type": "code",
        "outputId": "d009173f-37f2-4d3c-f6ee-93295122a396",
        "colab": {
          "base_uri": "https://localhost:8080/",
          "height": 34
        }
      },
      "source": [
        "df['age'] = 2020 - df.birthdate.dt.year\n",
        "round(df.age.mean(), 1)"
      ],
      "execution_count": 0,
      "outputs": [
        {
          "output_type": "execute_result",
          "data": {
            "text/plain": [
              "56.3"
            ]
          },
          "metadata": {
            "tags": []
          },
          "execution_count": 29
        }
      ]
    },
    {
      "cell_type": "markdown",
      "metadata": {
        "id": "XvS73ELpKbSy",
        "colab_type": "text"
      },
      "source": [
        "Определите гендерное процентное соотношение состава депутатов"
      ]
    },
    {
      "cell_type": "code",
      "metadata": {
        "id": "HHw7WXsRKbSz",
        "colab_type": "code",
        "outputId": "f3e7cd9c-9224-44a0-e63c-f21d40292803",
        "colab": {
          "base_uri": "https://localhost:8080/",
          "height": 34
        }
      },
      "source": [
        "print(round(df[(df.gender == 'м')].gender.count()/df.gender.count(),3)*100,'%',\n",
        "round(df[(df.gender == 'ж')].gender.count()/df.gender.count(),3)*100,'%')"
      ],
      "execution_count": 0,
      "outputs": [
        {
          "output_type": "stream",
          "text": [
            "84.8 % 15.2 %\n"
          ],
          "name": "stdout"
        }
      ]
    }
  ]
}