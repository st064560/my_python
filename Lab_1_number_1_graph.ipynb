{
  "nbformat": 4,
  "nbformat_minor": 0,
  "metadata": {
    "colab": {
      "name": "Lab_1_number_1_graph",
      "provenance": [],
      "collapsed_sections": [],
      "authorship_tag": "ABX9TyMW+apxkgdTz3ye2GhuiER+",
      "include_colab_link": true
    },
    "kernelspec": {
      "name": "python3",
      "display_name": "Python 3"
    }
  },
  "cells": [
    {
      "cell_type": "markdown",
      "metadata": {
        "id": "view-in-github",
        "colab_type": "text"
      },
      "source": [
        "<a href=\"https://colab.research.google.com/github/st064560/my_python/blob/master/Lab_1_number_1_graph.ipynb\" target=\"_parent\"><img src=\"https://colab.research.google.com/assets/colab-badge.svg\" alt=\"Open In Colab\"/></a>"
      ]
    },
    {
      "cell_type": "code",
      "metadata": {
        "id": "JeQSb7ry7B5c",
        "colab_type": "code",
        "colab": {
          "base_uri": "https://localhost:8080/",
          "height": 247
        },
        "outputId": "2e4b32ed-4102-4ef1-8f14-9ff7e0bc67f0"
      },
      "source": [
        "## создадим словарь: дата - просмотры\n",
        "import csv\n",
        "\n",
        "vk_stat_2016 = dict()\n",
        "vk_stat_2017 = dict()\n",
        "vk_stat_2018 = dict()\n",
        "vk_stat_2019 = dict()\n",
        "vk_stat_2020 = dict()\n",
        "lst = []\n",
        "lst_1 = []\n",
        "year_ = []\n",
        "\n",
        "with open('Lab_1_data.stat', 'r') as file:\n",
        "    stat = csv.reader(file)\n",
        "    for line in stat:\n",
        "      if line[0] == \"Дата\":\n",
        "        continue\n",
        "      else:\n",
        "        #vk_stat[line[0]] = int(line[4])\n",
        "        if line[0].split('.') [2] == '2016' and line[1] == 'views':\n",
        "              vk_stat_2016[line[0]] = int(line[4])\n",
        "              year_.append(line[0].split('.') [2])\n",
        "\n",
        "              #lst.append(line[4])\n",
        "        elif line[0].split('.') [2] == '2017' and line[1] == 'views':\n",
        "              vk_stat_2017[line[0]] = int(line[4])\n",
        "              year_.append(line[0].split('.') [2])\n",
        "        elif line[0].split('.') [2] == '2018' and line[1] == 'views':\n",
        "              vk_stat_2018[line[0]] = int(line[4])\n",
        "              year_.append(line[0].split('.') [2])\n",
        "        elif line[0].split('.') [2] == '2019' and line[1] == 'views':\n",
        "              vk_stat_2019[line[0]] = int(line[4])\n",
        "              year_.append(line[0].split('.') [2])\n",
        "        elif line[0].split('.') [2] == '2020' and line[1] == 'views':\n",
        "              vk_stat_2020[line[0]] = int(line[4])\n",
        "              year_.append(line[0].split('.') [2])\n",
        "\n",
        "list(vk_stat_2016.values())\n",
        "list(vk_stat_2017.values())\n",
        "list(vk_stat_2018.values())\n",
        "list(vk_stat_2019.values())\n",
        "list(vk_stat_2020.values())\n",
        "\n",
        "from statistics import mean \n",
        "  \n",
        "def Average(lst): \n",
        "    return mean(lst) \n",
        "\n",
        "\n",
        "## достаём средние значения каждого года для графика  \n",
        "av_2016 = Average(list(vk_stat_2016.values())) \n",
        "\n",
        "lst_1.append(round(av_2016, 2))\n",
        "av_2017 = Average(list(vk_stat_2017.values())) \n",
        "lst_1.append(round(av_2017, 2))\n",
        "av_2018 = Average(list(vk_stat_2018.values())) \n",
        "lst_1.append(round(av_2018, 2))\n",
        "av_2019 = Average(list(vk_stat_2019.values())) \n",
        "lst_1.append(round(av_2019, 2))\n",
        "av_2020 = Average(list(vk_stat_2020.values())) \n",
        "lst_1.append(round(av_2020, 2))\n",
        "print(lst_1)\n",
        "res = list(set(year_))\n",
        "print(sorted(res))\n",
        "\n",
        "graph = dict(zip(sorted(res), lst_1)) \n",
        "print(graph)\n",
        "\n",
        "\n",
        "\n",
        "# Printing average of the list \n",
        "print(\"Average of the list Views in 2016 =\", round(av_2016, 2))\n",
        "print('Sum of the list Views', sum(list(vk_stat_2016.values())))\n",
        "\n",
        "print(\"Average of the list Views in 2017 =\", round(av_2017, 2))\n",
        "print('Sum of the list Views', sum(list(vk_stat_2017.values())))\n",
        "\n",
        "print(\"Average of the list Views in 2018 =\", round(av_2018, 2))\n",
        "print('Sum of the list Views', sum(list(vk_stat_2018.values())))\n",
        "\n",
        "print(\"Average of the list Views in 2019 =\", round(av_2019, 2))\n",
        "print('Sum of the list Views', sum(list(vk_stat_2019.values())))\n",
        "\n",
        "print(\"Average of the list Views in 2020 =\", round(av_2020, 2))\n",
        "print('Sum of the list Views', sum(list(vk_stat_2020.values())))"
      ],
      "execution_count": 8,
      "outputs": [
        {
          "output_type": "stream",
          "text": [
            "[5.5, 3.17, 2.62, 6.43, 4.18]\n",
            "['2016', '2017', '2018', '2019', '2020']\n",
            "{'2016': 5.5, '2017': 3.17, '2018': 2.62, '2019': 6.43, '2020': 4.18}\n",
            "Average of the list Views in 2016 = 5.5\n",
            "Sum of the list Views 841\n",
            "Average of the list Views in 2017 = 3.17\n",
            "Sum of the list Views 1132\n",
            "Average of the list Views in 2018 = 2.62\n",
            "Sum of the list Views 733\n",
            "Average of the list Views in 2019 = 6.43\n",
            "Sum of the list Views 1896\n",
            "Average of the list Views in 2020 = 4.18\n",
            "Sum of the list Views 309\n"
          ],
          "name": "stdout"
        }
      ]
    },
    {
      "cell_type": "code",
      "metadata": {
        "id": "7SUjlY-cnM7Y",
        "colab_type": "code",
        "colab": {}
      },
      "source": [
        "import numpy as np\n",
        "\n",
        "import matplotlib.pyplot as plt\n",
        "%matplotlib inline\n",
        "\n",
        "x_coords = list(vk_.keys())\n",
        "y_coords = list(vk_stat_2016.values())\n",
        "\n",
        "# Построить график.\n",
        "plt.plot(x_coords, y_coords)\n",
        "\n",
        "# Добавить заголовок.\n",
        "plt.title('Views in 2016')\n",
        "\n",
        "# Добавить на оси описательные метки.\n",
        "plt.xlabel('Date')\n",
        "plt.ylabel('Views')\n",
        "\n",
        "# Показать график.\n",
        "plt.show()"
      ],
      "execution_count": 0,
      "outputs": []
    },
    {
      "cell_type": "code",
      "metadata": {
        "id": "ws-3NMHP7V9i",
        "colab_type": "code",
        "colab": {
          "base_uri": "https://localhost:8080/",
          "height": 294
        },
        "outputId": "b36b383d-9e3a-42ea-c268-c277b90a67e7"
      },
      "source": [
        "import numpy as np\n",
        "\n",
        "import matplotlib.pyplot as plt\n",
        "%matplotlib inline\n",
        "\n",
        "x_coords = list(graph.keys())\n",
        "y_coords = list(graph.values())\n",
        "\n",
        "# Построить график.\n",
        "plt.plot(x_coords, y_coords)\n",
        "\n",
        "# Добавить заголовок.\n",
        "plt.title('Средний показатель просмотров в группе')\n",
        "\n",
        "# Добавить на оси описательные метки.\n",
        "plt.xlabel('Год')\n",
        "plt.ylabel('Средний показатель')\n",
        "\n",
        "# Показать график.\n",
        "plt.show()"
      ],
      "execution_count": 9,
      "outputs": [
        {
          "output_type": "display_data",
          "data": {
            "image/png": "[encoded data removed]",
            "text/plain": [
              "<Figure size 432x288 with 1 Axes>"
            ]
          },
          "metadata": {
            "tags": []
          }
        }
      ]
    },
    {
      "cell_type": "code",
      "metadata": {
        "id": "olYZmKH1oPof",
        "colab_type": "code",
        "colab": {
          "base_uri": "https://localhost:8080/",
          "height": 404
        },
        "outputId": "696791da-d4e9-4e17-89ad-8f193158a1a3"
      },
      "source": [
        "import numpy as np\n",
        "import matplotlib.pyplot as plt\n",
        "\n",
        "x = list(graph.keys())\n",
        "y = list(graph.values())\n",
        "\n",
        "fig, ax = plt.subplots()\n",
        "\n",
        "ax.bar(x, y)\n",
        "\n",
        "ax.set_facecolor('seashell')\n",
        "fig.set_facecolor('seashell')\n",
        "fig.set_figwidth(12)    #  ширина Figure\n",
        "fig.set_figheight(6)    #  высота Figure\n",
        "\n",
        "# Добавить заголовок.\n",
        "plt.title('Средний показатель просмотров в день в группе')\n",
        "\n",
        "# Добавить на оси описательные метки.\n",
        "plt.xlabel('Год')\n",
        "plt.ylabel('Средний показатель')\n",
        "\n",
        "plt.show()"
      ],
      "execution_count": 15,
      "outputs": [
        {
          "output_type": "display_data",
          "data": {
            "image/png": "[encoded data removed]",
            "text/plain": [
              "<Figure size 864x432 with 1 Axes>"
            ]
          },
          "metadata": {
            "tags": []
          }
        }
      ]
    }
  ]
}