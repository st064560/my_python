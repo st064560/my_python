{
  "nbformat": 4,
  "nbformat_minor": 0,
  "metadata": {
    "colab": {
      "name": "Loreal -1.ipynb",
      "provenance": [],
      "collapsed_sections": [],
      "include_colab_link": true
    },
    "kernelspec": {
      "name": "python3",
      "display_name": "Python 3"
    }
  },
  "cells": [
    {
      "cell_type": "markdown",
      "metadata": {
        "id": "view-in-github",
        "colab_type": "text"
      },
      "source": [
        "<a href=\"https://colab.research.google.com/github/st064560/my_python/blob/master/Loreal_1.ipynb\" target=\"_parent\"><img src=\"https://colab.research.google.com/assets/colab-badge.svg\" alt=\"Open In Colab\"/></a>"
      ]
    },
    {
      "cell_type": "code",
      "metadata": {
        "id": "7WEDjBXC3Zjc",
        "colab_type": "code",
        "colab": {
          "base_uri": "https://localhost:8080/",
          "height": 227
        },
        "outputId": "b3d09fdc-439d-4ae3-a411-7a17ff8a304f"
      },
      "source": [
        "import pandas as pd\n",
        "import numpy as np\n",
        "import matplotlib.pyplot as plt\n",
        "\n",
        "df = pd.read_excel('loreal bestsellers.xlsx', index_col='EAN') \n",
        "df.head() "
      ],
      "execution_count": 41,
      "outputs": [
        {
          "output_type": "execute_result",
          "data": {
            "text/html": [
              "<div>\n",
              "<style scoped>\n",
              "    .dataframe tbody tr th:only-of-type {\n",
              "        vertical-align: middle;\n",
              "    }\n",
              "\n",
              "    .dataframe tbody tr th {\n",
              "        vertical-align: top;\n",
              "    }\n",
              "\n",
              "    .dataframe thead th {\n",
              "        text-align: right;\n",
              "    }\n",
              "</style>\n",
              "<table border=\"1\" class=\"dataframe\">\n",
              "  <thead>\n",
              "    <tr style=\"text-align: right;\">\n",
              "      <th></th>\n",
              "      <th>SKU</th>\n",
              "      <th>Наименование</th>\n",
              "      <th>Продажи, руб.</th>\n",
              "      <th>Продажи, шт.</th>\n",
              "      <th>Продажи, руб..1</th>\n",
              "      <th>Продажи, шт..1</th>\n",
              "    </tr>\n",
              "    <tr>\n",
              "      <th>EAN</th>\n",
              "      <th></th>\n",
              "      <th></th>\n",
              "      <th></th>\n",
              "      <th></th>\n",
              "      <th></th>\n",
              "      <th></th>\n",
              "    </tr>\n",
              "  </thead>\n",
              "  <tbody>\n",
              "    <tr>\n",
              "      <th>3337875607254</th>\n",
              "      <td>MB119200</td>\n",
              "      <td>LiftActiv Коллаген Специалист</td>\n",
              "      <td>5825899.0</td>\n",
              "      <td>2556.0</td>\n",
              "      <td>9807510.0</td>\n",
              "      <td>4347.0</td>\n",
              "    </tr>\n",
              "    <tr>\n",
              "      <th>3337875522786</th>\n",
              "      <td>M9120501</td>\n",
              "      <td>DERCOS AMINEXIL INTENSIVE 5, средство против в...</td>\n",
              "      <td>4409936.0</td>\n",
              "      <td>1353.0</td>\n",
              "      <td>9907634.0</td>\n",
              "      <td>3202.0</td>\n",
              "    </tr>\n",
              "    <tr>\n",
              "      <th>3337875586283</th>\n",
              "      <td>MB058200</td>\n",
              "      <td>SLOW AGE Восстанавливающий ночной крем и маска...</td>\n",
              "      <td>3867992.0</td>\n",
              "      <td>2104.0</td>\n",
              "      <td>6552547.0</td>\n",
              "      <td>3574.0</td>\n",
              "    </tr>\n",
              "    <tr>\n",
              "      <th>3337875543248</th>\n",
              "      <td>M9154821</td>\n",
              "      <td>Mineral 89 Ежедневный гель-сыворотка для кожи,...</td>\n",
              "      <td>3073718.0</td>\n",
              "      <td>2766.0</td>\n",
              "      <td>7364994.0</td>\n",
              "      <td>6699.0</td>\n",
              "    </tr>\n",
              "    <tr>\n",
              "      <th>4690214632287</th>\n",
              "      <td>VRU10044</td>\n",
              "      <td>Набор для путешествий Система \"All Inclusive\" ...</td>\n",
              "      <td>2932880.0</td>\n",
              "      <td>4409.0</td>\n",
              "      <td>2932880.0</td>\n",
              "      <td>4409.0</td>\n",
              "    </tr>\n",
              "  </tbody>\n",
              "</table>\n",
              "</div>"
            ],
            "text/plain": [
              "                    SKU  ... Продажи, шт..1\n",
              "EAN                      ...               \n",
              "3337875607254  MB119200  ...         4347.0\n",
              "3337875522786  M9120501  ...         3202.0\n",
              "3337875586283  MB058200  ...         3574.0\n",
              "3337875543248  M9154821  ...         6699.0\n",
              "4690214632287  VRU10044  ...         4409.0\n",
              "\n",
              "[5 rows x 6 columns]"
            ]
          },
          "metadata": {
            "tags": []
          },
          "execution_count": 41
        }
      ]
    },
    {
      "cell_type": "code",
      "metadata": {
        "id": "6fYKXALdchLV",
        "colab_type": "code",
        "colab": {
          "base_uri": "https://localhost:8080/",
          "height": 247
        },
        "outputId": "c1cc7169-3aad-471e-daf9-80afa85ccba4"
      },
      "source": [
        "df.info()"
      ],
      "execution_count": 42,
      "outputs": [
        {
          "output_type": "stream",
          "text": [
            "<class 'pandas.core.frame.DataFrame'>\n",
            "Int64Index: 271 entries, 3337875607254 to 4690214586719\n",
            "Data columns (total 6 columns):\n",
            " #   Column           Non-Null Count  Dtype  \n",
            "---  ------           --------------  -----  \n",
            " 0   SKU              271 non-null    object \n",
            " 1   Наименование     271 non-null    object \n",
            " 2   Продажи, руб.    225 non-null    float64\n",
            " 3   Продажи, шт.     225 non-null    float64\n",
            " 4   Продажи, руб..1  270 non-null    float64\n",
            " 5   Продажи, шт..1   270 non-null    float64\n",
            "dtypes: float64(4), object(2)\n",
            "memory usage: 14.8+ KB\n"
          ],
          "name": "stdout"
        }
      ]
    },
    {
      "cell_type": "code",
      "metadata": {
        "id": "A-Ie6ZU5dKKm",
        "colab_type": "code",
        "colab": {
          "base_uri": "https://localhost:8080/",
          "height": 436
        },
        "outputId": "ee5f6889-be74-41ed-f3b1-2f2764a61b8b"
      },
      "source": [
        "df = df.rename(columns={'Наименование': 'name','Продажи, руб.':'sales_rub', 'Продажи, шт.':'sales_am'})\n",
        "\n",
        "del df['Продажи, руб..1']\n",
        "del df['Продажи, шт..1']\n",
        "df = df.dropna()\n",
        "\n",
        "df"
      ],
      "execution_count": 43,
      "outputs": [
        {
          "output_type": "execute_result",
          "data": {
            "text/html": [
              "<div>\n",
              "<style scoped>\n",
              "    .dataframe tbody tr th:only-of-type {\n",
              "        vertical-align: middle;\n",
              "    }\n",
              "\n",
              "    .dataframe tbody tr th {\n",
              "        vertical-align: top;\n",
              "    }\n",
              "\n",
              "    .dataframe thead th {\n",
              "        text-align: right;\n",
              "    }\n",
              "</style>\n",
              "<table border=\"1\" class=\"dataframe\">\n",
              "  <thead>\n",
              "    <tr style=\"text-align: right;\">\n",
              "      <th></th>\n",
              "      <th>SKU</th>\n",
              "      <th>name</th>\n",
              "      <th>sales_rub</th>\n",
              "      <th>sales_am</th>\n",
              "    </tr>\n",
              "    <tr>\n",
              "      <th>EAN</th>\n",
              "      <th></th>\n",
              "      <th></th>\n",
              "      <th></th>\n",
              "      <th></th>\n",
              "    </tr>\n",
              "  </thead>\n",
              "  <tbody>\n",
              "    <tr>\n",
              "      <th>3337875607254</th>\n",
              "      <td>MB119200</td>\n",
              "      <td>LiftActiv Коллаген Специалист</td>\n",
              "      <td>5825899.0</td>\n",
              "      <td>2556.0</td>\n",
              "    </tr>\n",
              "    <tr>\n",
              "      <th>3337875522786</th>\n",
              "      <td>M9120501</td>\n",
              "      <td>DERCOS AMINEXIL INTENSIVE 5, средство против в...</td>\n",
              "      <td>4409936.0</td>\n",
              "      <td>1353.0</td>\n",
              "    </tr>\n",
              "    <tr>\n",
              "      <th>3337875586283</th>\n",
              "      <td>MB058200</td>\n",
              "      <td>SLOW AGE Восстанавливающий ночной крем и маска...</td>\n",
              "      <td>3867992.0</td>\n",
              "      <td>2104.0</td>\n",
              "    </tr>\n",
              "    <tr>\n",
              "      <th>3337875543248</th>\n",
              "      <td>M9154821</td>\n",
              "      <td>Mineral 89 Ежедневный гель-сыворотка для кожи,...</td>\n",
              "      <td>3073718.0</td>\n",
              "      <td>2766.0</td>\n",
              "    </tr>\n",
              "    <tr>\n",
              "      <th>4690214632287</th>\n",
              "      <td>VRU10044</td>\n",
              "      <td>Набор для путешествий Система \"All Inclusive\" ...</td>\n",
              "      <td>2932880.0</td>\n",
              "      <td>4409.0</td>\n",
              "    </tr>\n",
              "    <tr>\n",
              "      <th>...</th>\n",
              "      <td>...</td>\n",
              "      <td>...</td>\n",
              "      <td>...</td>\n",
              "      <td>...</td>\n",
              "    </tr>\n",
              "    <tr>\n",
              "      <th>4690214737203</th>\n",
              "      <td>VRU10602</td>\n",
              "      <td>Набор Vichy Мини-набор Neovadiol</td>\n",
              "      <td>18307.0</td>\n",
              "      <td>29.0</td>\n",
              "    </tr>\n",
              "    <tr>\n",
              "      <th>3337875585200</th>\n",
              "      <td>MB054200</td>\n",
              "      <td>CAPITAL IDEAL SOLEIL Солнцезащитный двухфазный...</td>\n",
              "      <td>16164.0</td>\n",
              "      <td>15.0</td>\n",
              "    </tr>\n",
              "    <tr>\n",
              "      <th>4690214585514</th>\n",
              "      <td>VRU09620</td>\n",
              "      <td>Бьюти-бокс Очищение и уход за кожей и волосами</td>\n",
              "      <td>6900.0</td>\n",
              "      <td>14.0</td>\n",
              "    </tr>\n",
              "    <tr>\n",
              "      <th>4690214480215</th>\n",
              "      <td>VRU09006</td>\n",
              "      <td>DERCOS AMINEXIL Тонизирующий шампунь против вы...</td>\n",
              "      <td>6810.0</td>\n",
              "      <td>5.0</td>\n",
              "    </tr>\n",
              "    <tr>\n",
              "      <th>4690214472517</th>\n",
              "      <td>VRU08826</td>\n",
              "      <td>CAPITAL IDEAL SOLEIL Набор Летняя программа ан...</td>\n",
              "      <td>3447.0</td>\n",
              "      <td>2.0</td>\n",
              "    </tr>\n",
              "  </tbody>\n",
              "</table>\n",
              "<p>225 rows × 4 columns</p>\n",
              "</div>"
            ],
            "text/plain": [
              "                    SKU  ... sales_am\n",
              "EAN                      ...         \n",
              "3337875607254  MB119200  ...   2556.0\n",
              "3337875522786  M9120501  ...   1353.0\n",
              "3337875586283  MB058200  ...   2104.0\n",
              "3337875543248  M9154821  ...   2766.0\n",
              "4690214632287  VRU10044  ...   4409.0\n",
              "...                 ...  ...      ...\n",
              "4690214737203  VRU10602  ...     29.0\n",
              "3337875585200  MB054200  ...     15.0\n",
              "4690214585514  VRU09620  ...     14.0\n",
              "4690214480215  VRU09006  ...      5.0\n",
              "4690214472517  VRU08826  ...      2.0\n",
              "\n",
              "[225 rows x 4 columns]"
            ]
          },
          "metadata": {
            "tags": []
          },
          "execution_count": 43
        }
      ]
    },
    {
      "cell_type": "code",
      "metadata": {
        "id": "ff-L1Qx0iGOQ",
        "colab_type": "code",
        "colab": {
          "base_uri": "https://localhost:8080/",
          "height": 436
        },
        "outputId": "09135edf-f320-404e-b661-16cc8e1322c7"
      },
      "source": [
        "df.sales_rub = df.sales_rub.astype(int)\n",
        "df.sales_am = df.sales_am.astype(int)\n",
        "df"
      ],
      "execution_count": 44,
      "outputs": [
        {
          "output_type": "execute_result",
          "data": {
            "text/html": [
              "<div>\n",
              "<style scoped>\n",
              "    .dataframe tbody tr th:only-of-type {\n",
              "        vertical-align: middle;\n",
              "    }\n",
              "\n",
              "    .dataframe tbody tr th {\n",
              "        vertical-align: top;\n",
              "    }\n",
              "\n",
              "    .dataframe thead th {\n",
              "        text-align: right;\n",
              "    }\n",
              "</style>\n",
              "<table border=\"1\" class=\"dataframe\">\n",
              "  <thead>\n",
              "    <tr style=\"text-align: right;\">\n",
              "      <th></th>\n",
              "      <th>SKU</th>\n",
              "      <th>name</th>\n",
              "      <th>sales_rub</th>\n",
              "      <th>sales_am</th>\n",
              "    </tr>\n",
              "    <tr>\n",
              "      <th>EAN</th>\n",
              "      <th></th>\n",
              "      <th></th>\n",
              "      <th></th>\n",
              "      <th></th>\n",
              "    </tr>\n",
              "  </thead>\n",
              "  <tbody>\n",
              "    <tr>\n",
              "      <th>3337875607254</th>\n",
              "      <td>MB119200</td>\n",
              "      <td>LiftActiv Коллаген Специалист</td>\n",
              "      <td>5825899</td>\n",
              "      <td>2556</td>\n",
              "    </tr>\n",
              "    <tr>\n",
              "      <th>3337875522786</th>\n",
              "      <td>M9120501</td>\n",
              "      <td>DERCOS AMINEXIL INTENSIVE 5, средство против в...</td>\n",
              "      <td>4409936</td>\n",
              "      <td>1353</td>\n",
              "    </tr>\n",
              "    <tr>\n",
              "      <th>3337875586283</th>\n",
              "      <td>MB058200</td>\n",
              "      <td>SLOW AGE Восстанавливающий ночной крем и маска...</td>\n",
              "      <td>3867992</td>\n",
              "      <td>2104</td>\n",
              "    </tr>\n",
              "    <tr>\n",
              "      <th>3337875543248</th>\n",
              "      <td>M9154821</td>\n",
              "      <td>Mineral 89 Ежедневный гель-сыворотка для кожи,...</td>\n",
              "      <td>3073718</td>\n",
              "      <td>2766</td>\n",
              "    </tr>\n",
              "    <tr>\n",
              "      <th>4690214632287</th>\n",
              "      <td>VRU10044</td>\n",
              "      <td>Набор для путешествий Система \"All Inclusive\" ...</td>\n",
              "      <td>2932880</td>\n",
              "      <td>4409</td>\n",
              "    </tr>\n",
              "    <tr>\n",
              "      <th>...</th>\n",
              "      <td>...</td>\n",
              "      <td>...</td>\n",
              "      <td>...</td>\n",
              "      <td>...</td>\n",
              "    </tr>\n",
              "    <tr>\n",
              "      <th>4690214737203</th>\n",
              "      <td>VRU10602</td>\n",
              "      <td>Набор Vichy Мини-набор Neovadiol</td>\n",
              "      <td>18307</td>\n",
              "      <td>29</td>\n",
              "    </tr>\n",
              "    <tr>\n",
              "      <th>3337875585200</th>\n",
              "      <td>MB054200</td>\n",
              "      <td>CAPITAL IDEAL SOLEIL Солнцезащитный двухфазный...</td>\n",
              "      <td>16164</td>\n",
              "      <td>15</td>\n",
              "    </tr>\n",
              "    <tr>\n",
              "      <th>4690214585514</th>\n",
              "      <td>VRU09620</td>\n",
              "      <td>Бьюти-бокс Очищение и уход за кожей и волосами</td>\n",
              "      <td>6900</td>\n",
              "      <td>14</td>\n",
              "    </tr>\n",
              "    <tr>\n",
              "      <th>4690214480215</th>\n",
              "      <td>VRU09006</td>\n",
              "      <td>DERCOS AMINEXIL Тонизирующий шампунь против вы...</td>\n",
              "      <td>6810</td>\n",
              "      <td>5</td>\n",
              "    </tr>\n",
              "    <tr>\n",
              "      <th>4690214472517</th>\n",
              "      <td>VRU08826</td>\n",
              "      <td>CAPITAL IDEAL SOLEIL Набор Летняя программа ан...</td>\n",
              "      <td>3447</td>\n",
              "      <td>2</td>\n",
              "    </tr>\n",
              "  </tbody>\n",
              "</table>\n",
              "<p>225 rows × 4 columns</p>\n",
              "</div>"
            ],
            "text/plain": [
              "                    SKU  ... sales_am\n",
              "EAN                      ...         \n",
              "3337875607254  MB119200  ...     2556\n",
              "3337875522786  M9120501  ...     1353\n",
              "3337875586283  MB058200  ...     2104\n",
              "3337875543248  M9154821  ...     2766\n",
              "4690214632287  VRU10044  ...     4409\n",
              "...                 ...  ...      ...\n",
              "4690214737203  VRU10602  ...       29\n",
              "3337875585200  MB054200  ...       15\n",
              "4690214585514  VRU09620  ...       14\n",
              "4690214480215  VRU09006  ...        5\n",
              "4690214472517  VRU08826  ...        2\n",
              "\n",
              "[225 rows x 4 columns]"
            ]
          },
          "metadata": {
            "tags": []
          },
          "execution_count": 44
        }
      ]
    },
    {
      "cell_type": "code",
      "metadata": {
        "id": "93L_HlpOiraR",
        "colab_type": "code",
        "colab": {
          "base_uri": "https://localhost:8080/",
          "height": 287
        },
        "outputId": "0c15cece-e72f-4f41-e453-b4783f870360"
      },
      "source": [
        "pd.options.display.float_format = '{:,.1f}'.format\n",
        "df.describe()"
      ],
      "execution_count": 45,
      "outputs": [
        {
          "output_type": "execute_result",
          "data": {
            "text/html": [
              "<div>\n",
              "<style scoped>\n",
              "    .dataframe tbody tr th:only-of-type {\n",
              "        vertical-align: middle;\n",
              "    }\n",
              "\n",
              "    .dataframe tbody tr th {\n",
              "        vertical-align: top;\n",
              "    }\n",
              "\n",
              "    .dataframe thead th {\n",
              "        text-align: right;\n",
              "    }\n",
              "</style>\n",
              "<table border=\"1\" class=\"dataframe\">\n",
              "  <thead>\n",
              "    <tr style=\"text-align: right;\">\n",
              "      <th></th>\n",
              "      <th>sales_rub</th>\n",
              "      <th>sales_am</th>\n",
              "    </tr>\n",
              "  </thead>\n",
              "  <tbody>\n",
              "    <tr>\n",
              "      <th>count</th>\n",
              "      <td>225.0</td>\n",
              "      <td>225.0</td>\n",
              "    </tr>\n",
              "    <tr>\n",
              "      <th>mean</th>\n",
              "      <td>597,432.3</td>\n",
              "      <td>471.0</td>\n",
              "    </tr>\n",
              "    <tr>\n",
              "      <th>std</th>\n",
              "      <td>786,419.6</td>\n",
              "      <td>558.6</td>\n",
              "    </tr>\n",
              "    <tr>\n",
              "      <th>min</th>\n",
              "      <td>3,447.0</td>\n",
              "      <td>2.0</td>\n",
              "    </tr>\n",
              "    <tr>\n",
              "      <th>25%</th>\n",
              "      <td>136,684.0</td>\n",
              "      <td>134.0</td>\n",
              "    </tr>\n",
              "    <tr>\n",
              "      <th>50%</th>\n",
              "      <td>284,027.0</td>\n",
              "      <td>293.0</td>\n",
              "    </tr>\n",
              "    <tr>\n",
              "      <th>75%</th>\n",
              "      <td>794,082.0</td>\n",
              "      <td>588.0</td>\n",
              "    </tr>\n",
              "    <tr>\n",
              "      <th>max</th>\n",
              "      <td>5,825,899.0</td>\n",
              "      <td>4,409.0</td>\n",
              "    </tr>\n",
              "  </tbody>\n",
              "</table>\n",
              "</div>"
            ],
            "text/plain": [
              "        sales_rub  sales_am\n",
              "count       225.0     225.0\n",
              "mean    597,432.3     471.0\n",
              "std     786,419.6     558.6\n",
              "min       3,447.0       2.0\n",
              "25%     136,684.0     134.0\n",
              "50%     284,027.0     293.0\n",
              "75%     794,082.0     588.0\n",
              "max   5,825,899.0   4,409.0"
            ]
          },
          "metadata": {
            "tags": []
          },
          "execution_count": 45
        }
      ]
    },
    {
      "cell_type": "code",
      "metadata": {
        "id": "YCPcDpl6i4Rz",
        "colab_type": "code",
        "colab": {
          "base_uri": "https://localhost:8080/",
          "height": 34
        },
        "outputId": "18425441-7764-4a3c-89fe-a8d55ac9307b"
      },
      "source": [
        "df.sales_rub.max()"
      ],
      "execution_count": 49,
      "outputs": [
        {
          "output_type": "execute_result",
          "data": {
            "text/plain": [
              "5825899"
            ]
          },
          "metadata": {
            "tags": []
          },
          "execution_count": 49
        }
      ]
    },
    {
      "cell_type": "code",
      "metadata": {
        "id": "VQ4bEnL3lZsK",
        "colab_type": "code",
        "colab": {
          "base_uri": "https://localhost:8080/",
          "height": 377
        },
        "outputId": "aecb4b1b-0325-4a1e-e153-8271cf5e9031"
      },
      "source": [
        "m = df.sort_values('sales_rub', ascending=False)\n",
        "m.head(10)"
      ],
      "execution_count": 63,
      "outputs": [
        {
          "output_type": "execute_result",
          "data": {
            "text/html": [
              "<div>\n",
              "<style scoped>\n",
              "    .dataframe tbody tr th:only-of-type {\n",
              "        vertical-align: middle;\n",
              "    }\n",
              "\n",
              "    .dataframe tbody tr th {\n",
              "        vertical-align: top;\n",
              "    }\n",
              "\n",
              "    .dataframe thead th {\n",
              "        text-align: right;\n",
              "    }\n",
              "</style>\n",
              "<table border=\"1\" class=\"dataframe\">\n",
              "  <thead>\n",
              "    <tr style=\"text-align: right;\">\n",
              "      <th></th>\n",
              "      <th>SKU</th>\n",
              "      <th>name</th>\n",
              "      <th>sales_rub</th>\n",
              "      <th>sales_am</th>\n",
              "    </tr>\n",
              "    <tr>\n",
              "      <th>EAN</th>\n",
              "      <th></th>\n",
              "      <th></th>\n",
              "      <th></th>\n",
              "      <th></th>\n",
              "    </tr>\n",
              "  </thead>\n",
              "  <tbody>\n",
              "    <tr>\n",
              "      <th>3337875607254</th>\n",
              "      <td>MB119200</td>\n",
              "      <td>LiftActiv Коллаген Специалист</td>\n",
              "      <td>5825899</td>\n",
              "      <td>2556</td>\n",
              "    </tr>\n",
              "    <tr>\n",
              "      <th>3337875522786</th>\n",
              "      <td>M9120501</td>\n",
              "      <td>DERCOS AMINEXIL INTENSIVE 5, средство против в...</td>\n",
              "      <td>4409936</td>\n",
              "      <td>1353</td>\n",
              "    </tr>\n",
              "    <tr>\n",
              "      <th>3337875586283</th>\n",
              "      <td>MB058200</td>\n",
              "      <td>SLOW AGE Восстанавливающий ночной крем и маска...</td>\n",
              "      <td>3867992</td>\n",
              "      <td>2104</td>\n",
              "    </tr>\n",
              "    <tr>\n",
              "      <th>3337875543248</th>\n",
              "      <td>M9154821</td>\n",
              "      <td>Mineral 89 Ежедневный гель-сыворотка для кожи,...</td>\n",
              "      <td>3073718</td>\n",
              "      <td>2766</td>\n",
              "    </tr>\n",
              "    <tr>\n",
              "      <th>4690214632287</th>\n",
              "      <td>VRU10044</td>\n",
              "      <td>Набор для путешествий Система \"All Inclusive\" ...</td>\n",
              "      <td>2932880</td>\n",
              "      <td>4409</td>\n",
              "    </tr>\n",
              "    <tr>\n",
              "      <th>3337875670630</th>\n",
              "      <td>MB167100</td>\n",
              "      <td>LiftActiv Specialist Peptide-C Концентрированн...</td>\n",
              "      <td>2917469</td>\n",
              "      <td>1014</td>\n",
              "    </tr>\n",
              "    <tr>\n",
              "      <th>3337871322502</th>\n",
              "      <td>M2913005</td>\n",
              "      <td>LiftActiv Ночной крем-уход</td>\n",
              "      <td>2796794</td>\n",
              "      <td>1277</td>\n",
              "    </tr>\n",
              "    <tr>\n",
              "      <th>3337875483940</th>\n",
              "      <td>M9067101</td>\n",
              "      <td>Neovadiol Компенсирующий комплекс, ночной крем...</td>\n",
              "      <td>2433503</td>\n",
              "      <td>1065</td>\n",
              "    </tr>\n",
              "    <tr>\n",
              "      <th>3337875498234</th>\n",
              "      <td>M9101520</td>\n",
              "      <td>SLOW AGE Уход, защищающий от формирования перв...</td>\n",
              "      <td>2390213</td>\n",
              "      <td>1368</td>\n",
              "    </tr>\n",
              "    <tr>\n",
              "      <th>3337875663076</th>\n",
              "      <td>MB158501</td>\n",
              "      <td>Normaderm Phytosolution Очищающий гель для умы...</td>\n",
              "      <td>2292735</td>\n",
              "      <td>2493</td>\n",
              "    </tr>\n",
              "  </tbody>\n",
              "</table>\n",
              "</div>"
            ],
            "text/plain": [
              "                    SKU  ... sales_am\n",
              "EAN                      ...         \n",
              "3337875607254  MB119200  ...     2556\n",
              "3337875522786  M9120501  ...     1353\n",
              "3337875586283  MB058200  ...     2104\n",
              "3337875543248  M9154821  ...     2766\n",
              "4690214632287  VRU10044  ...     4409\n",
              "3337875670630  MB167100  ...     1014\n",
              "3337871322502  M2913005  ...     1277\n",
              "3337875483940  M9067101  ...     1065\n",
              "3337875498234  M9101520  ...     1368\n",
              "3337875663076  MB158501  ...     2493\n",
              "\n",
              "[10 rows x 4 columns]"
            ]
          },
          "metadata": {
            "tags": []
          },
          "execution_count": 63
        }
      ]
    },
    {
      "cell_type": "code",
      "metadata": {
        "id": "p0gF1_nsnHBU",
        "colab_type": "code",
        "colab": {
          "base_uri": "https://localhost:8080/",
          "height": 377
        },
        "outputId": "16bd85f2-66cb-4709-8f17-e7d1071adf9d"
      },
      "source": [
        "am = df.sort_values('sales_am', ascending=False)\n",
        "am.head(10)"
      ],
      "execution_count": 64,
      "outputs": [
        {
          "output_type": "execute_result",
          "data": {
            "text/html": [
              "<div>\n",
              "<style scoped>\n",
              "    .dataframe tbody tr th:only-of-type {\n",
              "        vertical-align: middle;\n",
              "    }\n",
              "\n",
              "    .dataframe tbody tr th {\n",
              "        vertical-align: top;\n",
              "    }\n",
              "\n",
              "    .dataframe thead th {\n",
              "        text-align: right;\n",
              "    }\n",
              "</style>\n",
              "<table border=\"1\" class=\"dataframe\">\n",
              "  <thead>\n",
              "    <tr style=\"text-align: right;\">\n",
              "      <th></th>\n",
              "      <th>SKU</th>\n",
              "      <th>name</th>\n",
              "      <th>sales_rub</th>\n",
              "      <th>sales_am</th>\n",
              "    </tr>\n",
              "    <tr>\n",
              "      <th>EAN</th>\n",
              "      <th></th>\n",
              "      <th></th>\n",
              "      <th></th>\n",
              "      <th></th>\n",
              "    </tr>\n",
              "  </thead>\n",
              "  <tbody>\n",
              "    <tr>\n",
              "      <th>4690214632287</th>\n",
              "      <td>VRU10044</td>\n",
              "      <td>Набор для путешествий Система \"All Inclusive\" ...</td>\n",
              "      <td>2932880</td>\n",
              "      <td>4409</td>\n",
              "    </tr>\n",
              "    <tr>\n",
              "      <th>3337875543248</th>\n",
              "      <td>M9154821</td>\n",
              "      <td>Mineral 89 Ежедневный гель-сыворотка для кожи,...</td>\n",
              "      <td>3073718</td>\n",
              "      <td>2766</td>\n",
              "    </tr>\n",
              "    <tr>\n",
              "      <th>3337875607254</th>\n",
              "      <td>MB119200</td>\n",
              "      <td>LiftActiv Коллаген Специалист</td>\n",
              "      <td>5825899</td>\n",
              "      <td>2556</td>\n",
              "    </tr>\n",
              "    <tr>\n",
              "      <th>3337875663076</th>\n",
              "      <td>MB158501</td>\n",
              "      <td>Normaderm Phytosolution Очищающий гель для умы...</td>\n",
              "      <td>2292735</td>\n",
              "      <td>2493</td>\n",
              "    </tr>\n",
              "    <tr>\n",
              "      <th>3337871320980</th>\n",
              "      <td>M5038720</td>\n",
              "      <td>Purete Thermale Очищающая пенка, придающая сияние</td>\n",
              "      <td>1716496</td>\n",
              "      <td>2335</td>\n",
              "    </tr>\n",
              "    <tr>\n",
              "      <th>3337871320751</th>\n",
              "      <td>M5063821</td>\n",
              "      <td>Normaderm Сужающий поры очищающий лосьон</td>\n",
              "      <td>897927</td>\n",
              "      <td>2320</td>\n",
              "    </tr>\n",
              "    <tr>\n",
              "      <th>3337875586283</th>\n",
              "      <td>MB058200</td>\n",
              "      <td>SLOW AGE Восстанавливающий ночной крем и маска...</td>\n",
              "      <td>3867992</td>\n",
              "      <td>2104</td>\n",
              "    </tr>\n",
              "    <tr>\n",
              "      <th>3337875660617</th>\n",
              "      <td>MB156801</td>\n",
              "      <td>Normaderm Phytosolution Корректирующий уход дв...</td>\n",
              "      <td>1751857</td>\n",
              "      <td>1689</td>\n",
              "    </tr>\n",
              "    <tr>\n",
              "      <th>3337875533768</th>\n",
              "      <td>M9116220</td>\n",
              "      <td>Минеральная маска Минеральная маска-пилинг \"Дв...</td>\n",
              "      <td>284027</td>\n",
              "      <td>1558</td>\n",
              "    </tr>\n",
              "    <tr>\n",
              "      <th>3337875596763</th>\n",
              "      <td>MB091901</td>\n",
              "      <td>Mineral 89 Восстанавливающий и укрепляющий ухо...</td>\n",
              "      <td>1690394</td>\n",
              "      <td>1538</td>\n",
              "    </tr>\n",
              "  </tbody>\n",
              "</table>\n",
              "</div>"
            ],
            "text/plain": [
              "                    SKU  ... sales_am\n",
              "EAN                      ...         \n",
              "4690214632287  VRU10044  ...     4409\n",
              "3337875543248  M9154821  ...     2766\n",
              "3337875607254  MB119200  ...     2556\n",
              "3337875663076  MB158501  ...     2493\n",
              "3337871320980  M5038720  ...     2335\n",
              "3337871320751  M5063821  ...     2320\n",
              "3337875586283  MB058200  ...     2104\n",
              "3337875660617  MB156801  ...     1689\n",
              "3337875533768  M9116220  ...     1558\n",
              "3337875596763  MB091901  ...     1538\n",
              "\n",
              "[10 rows x 4 columns]"
            ]
          },
          "metadata": {
            "tags": []
          },
          "execution_count": 64
        }
      ]
    },
    {
      "cell_type": "code",
      "metadata": {
        "id": "3D0H0jjqnabQ",
        "colab_type": "code",
        "colab": {}
      },
      "source": [
        "am.to_excel('Top - 10 SKU (amount).xlsx')"
      ],
      "execution_count": 65,
      "outputs": []
    },
    {
      "cell_type": "code",
      "metadata": {
        "id": "jsO52wTYnw1E",
        "colab_type": "code",
        "colab": {}
      },
      "source": [
        "m.to_excel('Top - 10 SKU (rubles).xlsx')"
      ],
      "execution_count": 66,
      "outputs": []
    },
    {
      "cell_type": "code",
      "metadata": {
        "id": "xYksHuWCdDeY",
        "colab_type": "code",
        "colab": {}
      },
      "source": [
        "df.sales = df.sales.astype(int)\n",
        "df.sales\n",
        "df"
      ],
      "execution_count": null,
      "outputs": []
    },
    {
      "cell_type": "code",
      "metadata": {
        "id": "pqW8zRVk5lXH",
        "colab_type": "code",
        "colab": {
          "base_uri": "https://localhost:8080/",
          "height": 34
        },
        "outputId": "218e8488-35e6-4d4b-c946-c56320887425"
      },
      "source": [
        "df.shape"
      ],
      "execution_count": null,
      "outputs": [
        {
          "output_type": "execute_result",
          "data": {
            "text/plain": [
              "(271, 7)"
            ]
          },
          "metadata": {
            "tags": []
          },
          "execution_count": 18
        }
      ]
    },
    {
      "cell_type": "code",
      "metadata": {
        "id": "hYk6nSbr7IKr",
        "colab_type": "code",
        "colab": {
          "base_uri": "https://localhost:8080/",
          "height": 68
        },
        "outputId": "758332a2-c02d-4c8f-bb6f-d0ae48c4be83"
      },
      "source": [
        "df.columns"
      ],
      "execution_count": null,
      "outputs": [
        {
          "output_type": "execute_result",
          "data": {
            "text/plain": [
              "Index(['EAN', 'SKU', 'Наименование', 'Продажи, руб.', 'Продажи, шт.',\n",
              "       'Продажи, руб..1', 'Продажи, шт..1'],\n",
              "      dtype='object')"
            ]
          },
          "metadata": {
            "tags": []
          },
          "execution_count": 19
        }
      ]
    },
    {
      "cell_type": "code",
      "metadata": {
        "id": "6YnSSk8b7ZBW",
        "colab_type": "code",
        "colab": {
          "base_uri": "https://localhost:8080/",
          "height": 153
        },
        "outputId": "4944df76-4ec3-4b50-ac33-7ff9545254e8"
      },
      "source": [
        "df.dtypes"
      ],
      "execution_count": null,
      "outputs": [
        {
          "output_type": "execute_result",
          "data": {
            "text/plain": [
              "EAN                  int64\n",
              "SKU                 object\n",
              "Наименование        object\n",
              "Продажи, руб.      float64\n",
              "Продажи, шт.       float64\n",
              "Продажи, руб..1    float64\n",
              "Продажи, шт..1     float64\n",
              "dtype: object"
            ]
          },
          "metadata": {
            "tags": []
          },
          "execution_count": 21
        }
      ]
    },
    {
      "cell_type": "code",
      "metadata": {
        "id": "nndM46HE7jUi",
        "colab_type": "code",
        "colab": {
          "base_uri": "https://localhost:8080/",
          "height": 153
        },
        "outputId": "e802ab74-2f90-4f63-9132-187c84033be4"
      },
      "source": [
        "df.index"
      ],
      "execution_count": null,
      "outputs": [
        {
          "output_type": "execute_result",
          "data": {
            "text/plain": [
              "Int64Index([3337875607254, 3337875522786, 3337875586283, 3337875543248,\n",
              "            4690214632287, 3337875670630, 3337871322502, 3337875483940,\n",
              "            3337875498234, 3337875663076,\n",
              "            ...\n",
              "            4690214480222, 4690214548489, 4690214557016, 4690214585453,\n",
              "            4690214585460, 4690214585477, 4690214585491, 4690214585507,\n",
              "            4690214586702, 4690214586719],\n",
              "           dtype='int64', name='EAN', length=271)"
            ]
          },
          "metadata": {
            "tags": []
          },
          "execution_count": 24
        }
      ]
    },
    {
      "cell_type": "code",
      "metadata": {
        "id": "u5i4q_Md7l50",
        "colab_type": "code",
        "colab": {
          "base_uri": "https://localhost:8080/",
          "height": 297
        },
        "outputId": "f89acf3a-b33e-43a2-d20e-a9fe6ea88504"
      },
      "source": [
        "pd.options.display.float_format = '{:,.1f}'.format\n",
        "df.describe()"
      ],
      "execution_count": null,
      "outputs": [
        {
          "output_type": "execute_result",
          "data": {
            "text/html": [
              "<div>\n",
              "<style scoped>\n",
              "    .dataframe tbody tr th:only-of-type {\n",
              "        vertical-align: middle;\n",
              "    }\n",
              "\n",
              "    .dataframe tbody tr th {\n",
              "        vertical-align: top;\n",
              "    }\n",
              "\n",
              "    .dataframe thead th {\n",
              "        text-align: right;\n",
              "    }\n",
              "</style>\n",
              "<table border=\"1\" class=\"dataframe\">\n",
              "  <thead>\n",
              "    <tr style=\"text-align: right;\">\n",
              "      <th></th>\n",
              "      <th>Продажи, руб.</th>\n",
              "      <th>Продажи, шт.</th>\n",
              "      <th>Продажи, руб..1</th>\n",
              "      <th>Продажи, шт..1</th>\n",
              "    </tr>\n",
              "  </thead>\n",
              "  <tbody>\n",
              "    <tr>\n",
              "      <th>count</th>\n",
              "      <td>225.0</td>\n",
              "      <td>225.0</td>\n",
              "      <td>270.0</td>\n",
              "      <td>270.0</td>\n",
              "    </tr>\n",
              "    <tr>\n",
              "      <th>mean</th>\n",
              "      <td>597,432.3</td>\n",
              "      <td>471.0</td>\n",
              "      <td>930,747.2</td>\n",
              "      <td>738.3</td>\n",
              "    </tr>\n",
              "    <tr>\n",
              "      <th>std</th>\n",
              "      <td>786,419.6</td>\n",
              "      <td>558.6</td>\n",
              "      <td>1,322,712.1</td>\n",
              "      <td>885.1</td>\n",
              "    </tr>\n",
              "    <tr>\n",
              "      <th>min</th>\n",
              "      <td>3,447.0</td>\n",
              "      <td>2.0</td>\n",
              "      <td>801.0</td>\n",
              "      <td>2.0</td>\n",
              "    </tr>\n",
              "    <tr>\n",
              "      <th>25%</th>\n",
              "      <td>136,684.0</td>\n",
              "      <td>134.0</td>\n",
              "      <td>174,351.0</td>\n",
              "      <td>161.8</td>\n",
              "    </tr>\n",
              "    <tr>\n",
              "      <th>50%</th>\n",
              "      <td>284,027.0</td>\n",
              "      <td>293.0</td>\n",
              "      <td>475,657.5</td>\n",
              "      <td>466.5</td>\n",
              "    </tr>\n",
              "    <tr>\n",
              "      <th>75%</th>\n",
              "      <td>794,082.0</td>\n",
              "      <td>588.0</td>\n",
              "      <td>1,119,708.0</td>\n",
              "      <td>933.0</td>\n",
              "    </tr>\n",
              "    <tr>\n",
              "      <th>max</th>\n",
              "      <td>5,825,899.0</td>\n",
              "      <td>4,409.0</td>\n",
              "      <td>9,907,634.0</td>\n",
              "      <td>6,699.0</td>\n",
              "    </tr>\n",
              "  </tbody>\n",
              "</table>\n",
              "</div>"
            ],
            "text/plain": [
              "       Продажи, руб.  Продажи, шт.  Продажи, руб..1  Продажи, шт..1\n",
              "count          225.0         225.0            270.0           270.0\n",
              "mean       597,432.3         471.0        930,747.2           738.3\n",
              "std        786,419.6         558.6      1,322,712.1           885.1\n",
              "min          3,447.0           2.0            801.0             2.0\n",
              "25%        136,684.0         134.0        174,351.0           161.8\n",
              "50%        284,027.0         293.0        475,657.5           466.5\n",
              "75%        794,082.0         588.0      1,119,708.0           933.0\n",
              "max      5,825,899.0       4,409.0      9,907,634.0         6,699.0"
            ]
          },
          "metadata": {
            "tags": []
          },
          "execution_count": 41
        }
      ]
    },
    {
      "cell_type": "code",
      "metadata": {
        "id": "W_fL1qL1C44j",
        "colab_type": "code",
        "colab": {}
      },
      "source": [
        ""
      ],
      "execution_count": null,
      "outputs": []
    },
    {
      "cell_type": "code",
      "metadata": {
        "id": "L1k642FH4mZN",
        "colab_type": "code",
        "colab": {
          "base_uri": "https://localhost:8080/",
          "height": 34
        },
        "outputId": "7a2bd73b-eecf-4c7c-f081-4546fcc47885"
      },
      "source": [
        "df.SKU.nunique()"
      ],
      "execution_count": null,
      "outputs": [
        {
          "output_type": "execute_result",
          "data": {
            "text/plain": [
              "271"
            ]
          },
          "metadata": {
            "tags": []
          },
          "execution_count": 8
        }
      ]
    },
    {
      "cell_type": "code",
      "metadata": {
        "id": "VGXBtZx46Y3S",
        "colab_type": "code",
        "colab": {
          "base_uri": "https://localhost:8080/",
          "height": 34
        },
        "outputId": "d79c1f1c-6f40-440e-b1c4-b95bb782142e"
      },
      "source": [
        "df.EAN.nunique()"
      ],
      "execution_count": null,
      "outputs": [
        {
          "output_type": "execute_result",
          "data": {
            "text/plain": [
              "271"
            ]
          },
          "metadata": {
            "tags": []
          },
          "execution_count": 15
        }
      ]
    },
    {
      "cell_type": "code",
      "metadata": {
        "id": "cEHGWa0o4yPi",
        "colab_type": "code",
        "colab": {
          "base_uri": "https://localhost:8080/",
          "height": 221
        },
        "outputId": "a747ecf5-6b9c-4eee-c73c-346a19e7b389"
      },
      "source": [
        "df['Продажи, руб.'].max"
      ],
      "execution_count": null,
      "outputs": [
        {
          "output_type": "execute_result",
          "data": {
            "text/plain": [
              "<bound method Series.max of 0      5825899.0\n",
              "1      4409936.0\n",
              "2      3867992.0\n",
              "3      3073718.0\n",
              "4      2932880.0\n",
              "         ...    \n",
              "266          NaN\n",
              "267          NaN\n",
              "268          NaN\n",
              "269          NaN\n",
              "270          NaN\n",
              "Name: Продажи, руб., Length: 271, dtype: float64>"
            ]
          },
          "metadata": {
            "tags": []
          },
          "execution_count": 11
        }
      ]
    },
    {
      "cell_type": "code",
      "metadata": {
        "id": "6sDOgcFF6jI3",
        "colab_type": "code",
        "colab": {
          "base_uri": "https://localhost:8080/",
          "height": 34
        },
        "outputId": "910a4ad8-570c-42a3-f679-8188e54612ad"
      },
      "source": [
        "df['Продажи, шт.'].dtype"
      ],
      "execution_count": null,
      "outputs": [
        {
          "output_type": "execute_result",
          "data": {
            "text/plain": [
              "dtype('float64')"
            ]
          },
          "metadata": {
            "tags": []
          },
          "execution_count": 17
        }
      ]
    },
    {
      "cell_type": "code",
      "metadata": {
        "id": "DTkgpTQ78qnz",
        "colab_type": "code",
        "colab": {
          "base_uri": "https://localhost:8080/",
          "height": 552
        },
        "outputId": "39f8279a-2f96-4f93-b109-0937efe49fbf"
      },
      "source": [
        "df_rename = df.rename(columns={'Наименование': 'name','Продажи, руб.':'sales_rub', 'Продажи, шт.':'sales_am','Продажи, руб..1':'sales_rub_year', 'Продажи, шт..1':'sales_am_year' })\n",
        "df_rename"
      ],
      "execution_count": null,
      "outputs": [
        {
          "output_type": "execute_result",
          "data": {
            "text/html": [
              "<div>\n",
              "<style scoped>\n",
              "    .dataframe tbody tr th:only-of-type {\n",
              "        vertical-align: middle;\n",
              "    }\n",
              "\n",
              "    .dataframe tbody tr th {\n",
              "        vertical-align: top;\n",
              "    }\n",
              "\n",
              "    .dataframe thead th {\n",
              "        text-align: right;\n",
              "    }\n",
              "</style>\n",
              "<table border=\"1\" class=\"dataframe\">\n",
              "  <thead>\n",
              "    <tr style=\"text-align: right;\">\n",
              "      <th></th>\n",
              "      <th>SKU</th>\n",
              "      <th>name</th>\n",
              "      <th>sales_rub</th>\n",
              "      <th>sales_am</th>\n",
              "      <th>sales_rub_year</th>\n",
              "      <th>sales_am_year</th>\n",
              "    </tr>\n",
              "    <tr>\n",
              "      <th>EAN</th>\n",
              "      <th></th>\n",
              "      <th></th>\n",
              "      <th></th>\n",
              "      <th></th>\n",
              "      <th></th>\n",
              "      <th></th>\n",
              "    </tr>\n",
              "  </thead>\n",
              "  <tbody>\n",
              "    <tr>\n",
              "      <th>3337875607254</th>\n",
              "      <td>MB119200</td>\n",
              "      <td>LiftActiv Коллаген Специалист</td>\n",
              "      <td>5825899.0</td>\n",
              "      <td>2556.0</td>\n",
              "      <td>9807510.0</td>\n",
              "      <td>4347.0</td>\n",
              "    </tr>\n",
              "    <tr>\n",
              "      <th>3337875522786</th>\n",
              "      <td>M9120501</td>\n",
              "      <td>DERCOS AMINEXIL INTENSIVE 5, средство против в...</td>\n",
              "      <td>4409936.0</td>\n",
              "      <td>1353.0</td>\n",
              "      <td>9907634.0</td>\n",
              "      <td>3202.0</td>\n",
              "    </tr>\n",
              "    <tr>\n",
              "      <th>3337875586283</th>\n",
              "      <td>MB058200</td>\n",
              "      <td>SLOW AGE Восстанавливающий ночной крем и маска...</td>\n",
              "      <td>3867992.0</td>\n",
              "      <td>2104.0</td>\n",
              "      <td>6552547.0</td>\n",
              "      <td>3574.0</td>\n",
              "    </tr>\n",
              "    <tr>\n",
              "      <th>3337875543248</th>\n",
              "      <td>M9154821</td>\n",
              "      <td>Mineral 89 Ежедневный гель-сыворотка для кожи,...</td>\n",
              "      <td>3073718.0</td>\n",
              "      <td>2766.0</td>\n",
              "      <td>7364994.0</td>\n",
              "      <td>6699.0</td>\n",
              "    </tr>\n",
              "    <tr>\n",
              "      <th>4690214632287</th>\n",
              "      <td>VRU10044</td>\n",
              "      <td>Набор для путешествий Система \"All Inclusive\" ...</td>\n",
              "      <td>2932880.0</td>\n",
              "      <td>4409.0</td>\n",
              "      <td>2932880.0</td>\n",
              "      <td>4409.0</td>\n",
              "    </tr>\n",
              "    <tr>\n",
              "      <th>...</th>\n",
              "      <td>...</td>\n",
              "      <td>...</td>\n",
              "      <td>...</td>\n",
              "      <td>...</td>\n",
              "      <td>...</td>\n",
              "      <td>...</td>\n",
              "    </tr>\n",
              "    <tr>\n",
              "      <th>4690214585477</th>\n",
              "      <td>VRU09615</td>\n",
              "      <td>Бьюти-бокс Увлажнение и очищение</td>\n",
              "      <td>NaN</td>\n",
              "      <td>NaN</td>\n",
              "      <td>461704.0</td>\n",
              "      <td>969.0</td>\n",
              "    </tr>\n",
              "    <tr>\n",
              "      <th>4690214585491</th>\n",
              "      <td>VRU09617</td>\n",
              "      <td>Бьюти-бокс Очищение и коррекция признаков стар...</td>\n",
              "      <td>NaN</td>\n",
              "      <td>NaN</td>\n",
              "      <td>332186.0</td>\n",
              "      <td>761.0</td>\n",
              "    </tr>\n",
              "    <tr>\n",
              "      <th>4690214585507</th>\n",
              "      <td>VRU09618</td>\n",
              "      <td>Бьюти-бокс LiftActiv Очищение и коррекция морщин</td>\n",
              "      <td>NaN</td>\n",
              "      <td>NaN</td>\n",
              "      <td>410436.0</td>\n",
              "      <td>966.0</td>\n",
              "    </tr>\n",
              "    <tr>\n",
              "      <th>4690214586702</th>\n",
              "      <td>VRU09628</td>\n",
              "      <td>Mineral 89 Ежедневная доза силы для вашей кожи</td>\n",
              "      <td>NaN</td>\n",
              "      <td>NaN</td>\n",
              "      <td>174051.0</td>\n",
              "      <td>71.0</td>\n",
              "    </tr>\n",
              "    <tr>\n",
              "      <th>4690214586719</th>\n",
              "      <td>VRU09629</td>\n",
              "      <td>DERCOS AMINEXIL Тонизирующий шампунь против вы...</td>\n",
              "      <td>NaN</td>\n",
              "      <td>NaN</td>\n",
              "      <td>142964.0</td>\n",
              "      <td>107.0</td>\n",
              "    </tr>\n",
              "  </tbody>\n",
              "</table>\n",
              "<p>271 rows × 6 columns</p>\n",
              "</div>"
            ],
            "text/plain": [
              "                    SKU  ... sales_am_year\n",
              "EAN                      ...              \n",
              "3337875607254  MB119200  ...        4347.0\n",
              "3337875522786  M9120501  ...        3202.0\n",
              "3337875586283  MB058200  ...        3574.0\n",
              "3337875543248  M9154821  ...        6699.0\n",
              "4690214632287  VRU10044  ...        4409.0\n",
              "...                 ...  ...           ...\n",
              "4690214585477  VRU09615  ...         969.0\n",
              "4690214585491  VRU09617  ...         761.0\n",
              "4690214585507  VRU09618  ...         966.0\n",
              "4690214586702  VRU09628  ...          71.0\n",
              "4690214586719  VRU09629  ...         107.0\n",
              "\n",
              "[271 rows x 6 columns]"
            ]
          },
          "metadata": {
            "tags": []
          },
          "execution_count": 30
        }
      ]
    },
    {
      "cell_type": "code",
      "metadata": {
        "id": "HqspjJgf99db",
        "colab_type": "code",
        "colab": {
          "base_uri": "https://localhost:8080/",
          "height": 204
        },
        "outputId": "48818805-abb2-4df9-85ee-359b09258a24"
      },
      "source": [
        "s = df_rename['sales_rub'].value_counts(bins=10)\n",
        "s"
      ],
      "execution_count": null,
      "outputs": [
        {
          "output_type": "execute_result",
          "data": {
            "text/plain": [
              "(-2375.4530000000004, 585692.2]    155\n",
              "(585692.2, 1167937.4]               33\n",
              "(1167937.4, 1750182.6]              23\n",
              "(1750182.6, 2332427.8]               5\n",
              "(2914673.0, 3496918.2]               3\n",
              "(2332427.8, 2914673.0]               3\n",
              "(5243653.8, 5825899.0]               1\n",
              "(4079163.4, 4661408.6]               1\n",
              "(3496918.2, 4079163.4]               1\n",
              "(4661408.6, 5243653.8]               0\n",
              "Name: sales_rub, dtype: int64"
            ]
          },
          "metadata": {
            "tags": []
          },
          "execution_count": 32
        }
      ]
    },
    {
      "cell_type": "code",
      "metadata": {
        "id": "kgqe-ToU-NE9",
        "colab_type": "code",
        "colab": {}
      },
      "source": [
        "filter_large = df_rename['sales_rub'] > 1750182.6"
      ],
      "execution_count": null,
      "outputs": []
    },
    {
      "cell_type": "code",
      "metadata": {
        "id": "QH2bgdlg-U7i",
        "colab_type": "code",
        "colab": {
          "base_uri": "https://localhost:8080/",
          "height": 684
        },
        "outputId": "87cac2fd-9d34-412d-b56e-9b182d0fd706"
      },
      "source": [
        "df_rename.loc[filter_large]"
      ],
      "execution_count": null,
      "outputs": [
        {
          "output_type": "execute_result",
          "data": {
            "text/html": [
              "<div>\n",
              "<style scoped>\n",
              "    .dataframe tbody tr th:only-of-type {\n",
              "        vertical-align: middle;\n",
              "    }\n",
              "\n",
              "    .dataframe tbody tr th {\n",
              "        vertical-align: top;\n",
              "    }\n",
              "\n",
              "    .dataframe thead th {\n",
              "        text-align: right;\n",
              "    }\n",
              "</style>\n",
              "<table border=\"1\" class=\"dataframe\">\n",
              "  <thead>\n",
              "    <tr style=\"text-align: right;\">\n",
              "      <th></th>\n",
              "      <th>SKU</th>\n",
              "      <th>name</th>\n",
              "      <th>sales_rub</th>\n",
              "      <th>sales_am</th>\n",
              "      <th>sales_rub_year</th>\n",
              "      <th>sales_am_year</th>\n",
              "    </tr>\n",
              "    <tr>\n",
              "      <th>EAN</th>\n",
              "      <th></th>\n",
              "      <th></th>\n",
              "      <th></th>\n",
              "      <th></th>\n",
              "      <th></th>\n",
              "      <th></th>\n",
              "    </tr>\n",
              "  </thead>\n",
              "  <tbody>\n",
              "    <tr>\n",
              "      <th>3337875607254</th>\n",
              "      <td>MB119200</td>\n",
              "      <td>LiftActiv Коллаген Специалист</td>\n",
              "      <td>5825899.0</td>\n",
              "      <td>2556.0</td>\n",
              "      <td>9807510.0</td>\n",
              "      <td>4347.0</td>\n",
              "    </tr>\n",
              "    <tr>\n",
              "      <th>3337875522786</th>\n",
              "      <td>M9120501</td>\n",
              "      <td>DERCOS AMINEXIL INTENSIVE 5, средство против в...</td>\n",
              "      <td>4409936.0</td>\n",
              "      <td>1353.0</td>\n",
              "      <td>9907634.0</td>\n",
              "      <td>3202.0</td>\n",
              "    </tr>\n",
              "    <tr>\n",
              "      <th>3337875586283</th>\n",
              "      <td>MB058200</td>\n",
              "      <td>SLOW AGE Восстанавливающий ночной крем и маска...</td>\n",
              "      <td>3867992.0</td>\n",
              "      <td>2104.0</td>\n",
              "      <td>6552547.0</td>\n",
              "      <td>3574.0</td>\n",
              "    </tr>\n",
              "    <tr>\n",
              "      <th>3337875543248</th>\n",
              "      <td>M9154821</td>\n",
              "      <td>Mineral 89 Ежедневный гель-сыворотка для кожи,...</td>\n",
              "      <td>3073718.0</td>\n",
              "      <td>2766.0</td>\n",
              "      <td>7364994.0</td>\n",
              "      <td>6699.0</td>\n",
              "    </tr>\n",
              "    <tr>\n",
              "      <th>4690214632287</th>\n",
              "      <td>VRU10044</td>\n",
              "      <td>Набор для путешествий Система \"All Inclusive\" ...</td>\n",
              "      <td>2932880.0</td>\n",
              "      <td>4409.0</td>\n",
              "      <td>2932880.0</td>\n",
              "      <td>4409.0</td>\n",
              "    </tr>\n",
              "    <tr>\n",
              "      <th>3337875670630</th>\n",
              "      <td>MB167100</td>\n",
              "      <td>LiftActiv Specialist Peptide-C Концентрированн...</td>\n",
              "      <td>2917469.0</td>\n",
              "      <td>1014.0</td>\n",
              "      <td>2937536.0</td>\n",
              "      <td>1022.0</td>\n",
              "    </tr>\n",
              "    <tr>\n",
              "      <th>3337871322502</th>\n",
              "      <td>M2913005</td>\n",
              "      <td>LiftActiv Ночной крем-уход</td>\n",
              "      <td>2796794.0</td>\n",
              "      <td>1277.0</td>\n",
              "      <td>5022622.0</td>\n",
              "      <td>2312.0</td>\n",
              "    </tr>\n",
              "    <tr>\n",
              "      <th>3337875483940</th>\n",
              "      <td>M9067101</td>\n",
              "      <td>Neovadiol Компенсирующий комплекс, ночной крем...</td>\n",
              "      <td>2433503.0</td>\n",
              "      <td>1065.0</td>\n",
              "      <td>4233525.0</td>\n",
              "      <td>1903.0</td>\n",
              "    </tr>\n",
              "    <tr>\n",
              "      <th>3337875498234</th>\n",
              "      <td>M9101520</td>\n",
              "      <td>SLOW AGE Уход, защищающий от формирования перв...</td>\n",
              "      <td>2390213.0</td>\n",
              "      <td>1368.0</td>\n",
              "      <td>4513846.0</td>\n",
              "      <td>2636.0</td>\n",
              "    </tr>\n",
              "    <tr>\n",
              "      <th>3337875663076</th>\n",
              "      <td>MB158501</td>\n",
              "      <td>Normaderm Phytosolution Очищающий гель для умы...</td>\n",
              "      <td>2292735.0</td>\n",
              "      <td>2493.0</td>\n",
              "      <td>3230734.0</td>\n",
              "      <td>3582.0</td>\n",
              "    </tr>\n",
              "    <tr>\n",
              "      <th>3337871323332</th>\n",
              "      <td>M3504205</td>\n",
              "      <td>LiftActiv SUPREME, крем-уход для кожи вокруг глаз</td>\n",
              "      <td>2290845.0</td>\n",
              "      <td>1360.0</td>\n",
              "      <td>4204750.0</td>\n",
              "      <td>2547.0</td>\n",
              "    </tr>\n",
              "    <tr>\n",
              "      <th>3337871331887</th>\n",
              "      <td>M9720202</td>\n",
              "      <td>Neovadiol Компенсирующий комплекс, дневной кре...</td>\n",
              "      <td>1871408.0</td>\n",
              "      <td>878.0</td>\n",
              "      <td>3123793.0</td>\n",
              "      <td>1492.0</td>\n",
              "    </tr>\n",
              "    <tr>\n",
              "      <th>4690214475969</th>\n",
              "      <td>VRU08950</td>\n",
              "      <td>LiftActiv Коррекция морщин и повышение упругос...</td>\n",
              "      <td>1766759.0</td>\n",
              "      <td>338.0</td>\n",
              "      <td>1851753.0</td>\n",
              "      <td>354.0</td>\n",
              "    </tr>\n",
              "    <tr>\n",
              "      <th>3337875660617</th>\n",
              "      <td>MB156801</td>\n",
              "      <td>Normaderm Phytosolution Корректирующий уход дв...</td>\n",
              "      <td>1751857.0</td>\n",
              "      <td>1689.0</td>\n",
              "      <td>3194431.0</td>\n",
              "      <td>3052.0</td>\n",
              "    </tr>\n",
              "  </tbody>\n",
              "</table>\n",
              "</div>"
            ],
            "text/plain": [
              "                    SKU  ... sales_am_year\n",
              "EAN                      ...              \n",
              "3337875607254  MB119200  ...        4347.0\n",
              "3337875522786  M9120501  ...        3202.0\n",
              "3337875586283  MB058200  ...        3574.0\n",
              "3337875543248  M9154821  ...        6699.0\n",
              "4690214632287  VRU10044  ...        4409.0\n",
              "3337875670630  MB167100  ...        1022.0\n",
              "3337871322502  M2913005  ...        2312.0\n",
              "3337875483940  M9067101  ...        1903.0\n",
              "3337875498234  M9101520  ...        2636.0\n",
              "3337875663076  MB158501  ...        3582.0\n",
              "3337871323332  M3504205  ...        2547.0\n",
              "3337871331887  M9720202  ...        1492.0\n",
              "4690214475969  VRU08950  ...         354.0\n",
              "3337875660617  MB156801  ...        3052.0\n",
              "\n",
              "[14 rows x 6 columns]"
            ]
          },
          "metadata": {
            "tags": []
          },
          "execution_count": 34
        }
      ]
    },
    {
      "cell_type": "code",
      "metadata": {
        "id": "RG3HoHPl-3Yo",
        "colab_type": "code",
        "colab": {
          "base_uri": "https://localhost:8080/",
          "height": 204
        },
        "outputId": "67778e2b-66f9-40aa-c9d7-1b88376e07e6"
      },
      "source": [
        "s_year = df_rename['sales_rub_year'].value_counts(bins=10)\n",
        "s_year"
      ],
      "execution_count": null,
      "outputs": [
        {
          "output_type": "execute_result",
          "data": {
            "text/plain": [
              "(-9105.834, 991484.3]     191\n",
              "(991484.3, 1982167.6]      43\n",
              "(1982167.6, 2972850.9]     18\n",
              "(2972850.9, 3963534.2]     10\n",
              "(3963534.2, 4954217.5]      3\n",
              "(8916950.7, 9907634.0]      2\n",
              "(6935584.1, 7926267.4]      1\n",
              "(5944900.8, 6935584.1]      1\n",
              "(4954217.5, 5944900.8]      1\n",
              "(7926267.4, 8916950.7]      0\n",
              "Name: sales_rub_year, dtype: int64"
            ]
          },
          "metadata": {
            "tags": []
          },
          "execution_count": 35
        }
      ]
    },
    {
      "cell_type": "code",
      "metadata": {
        "id": "R0dHU6xD_BcO",
        "colab_type": "code",
        "colab": {}
      },
      "source": [
        "filter_large_year = df_rename['sales_rub_year'] > 3963534.2"
      ],
      "execution_count": null,
      "outputs": []
    },
    {
      "cell_type": "code",
      "metadata": {
        "id": "5JLciOZM_NyW",
        "colab_type": "code",
        "colab": {
          "base_uri": "https://localhost:8080/",
          "height": 413
        },
        "outputId": "ef2c3415-3ffc-45d8-9cb0-453089080caa"
      },
      "source": [
        "df_rename.loc[filter_large_year]"
      ],
      "execution_count": null,
      "outputs": [
        {
          "output_type": "execute_result",
          "data": {
            "text/html": [
              "<div>\n",
              "<style scoped>\n",
              "    .dataframe tbody tr th:only-of-type {\n",
              "        vertical-align: middle;\n",
              "    }\n",
              "\n",
              "    .dataframe tbody tr th {\n",
              "        vertical-align: top;\n",
              "    }\n",
              "\n",
              "    .dataframe thead th {\n",
              "        text-align: right;\n",
              "    }\n",
              "</style>\n",
              "<table border=\"1\" class=\"dataframe\">\n",
              "  <thead>\n",
              "    <tr style=\"text-align: right;\">\n",
              "      <th></th>\n",
              "      <th>SKU</th>\n",
              "      <th>name</th>\n",
              "      <th>sales_rub</th>\n",
              "      <th>sales_am</th>\n",
              "      <th>sales_rub_year</th>\n",
              "      <th>sales_am_year</th>\n",
              "    </tr>\n",
              "    <tr>\n",
              "      <th>EAN</th>\n",
              "      <th></th>\n",
              "      <th></th>\n",
              "      <th></th>\n",
              "      <th></th>\n",
              "      <th></th>\n",
              "      <th></th>\n",
              "    </tr>\n",
              "  </thead>\n",
              "  <tbody>\n",
              "    <tr>\n",
              "      <th>3337875607254</th>\n",
              "      <td>MB119200</td>\n",
              "      <td>LiftActiv Коллаген Специалист</td>\n",
              "      <td>5825899.0</td>\n",
              "      <td>2556.0</td>\n",
              "      <td>9807510.0</td>\n",
              "      <td>4347.0</td>\n",
              "    </tr>\n",
              "    <tr>\n",
              "      <th>3337875522786</th>\n",
              "      <td>M9120501</td>\n",
              "      <td>DERCOS AMINEXIL INTENSIVE 5, средство против в...</td>\n",
              "      <td>4409936.0</td>\n",
              "      <td>1353.0</td>\n",
              "      <td>9907634.0</td>\n",
              "      <td>3202.0</td>\n",
              "    </tr>\n",
              "    <tr>\n",
              "      <th>3337875586283</th>\n",
              "      <td>MB058200</td>\n",
              "      <td>SLOW AGE Восстанавливающий ночной крем и маска...</td>\n",
              "      <td>3867992.0</td>\n",
              "      <td>2104.0</td>\n",
              "      <td>6552547.0</td>\n",
              "      <td>3574.0</td>\n",
              "    </tr>\n",
              "    <tr>\n",
              "      <th>3337875543248</th>\n",
              "      <td>M9154821</td>\n",
              "      <td>Mineral 89 Ежедневный гель-сыворотка для кожи,...</td>\n",
              "      <td>3073718.0</td>\n",
              "      <td>2766.0</td>\n",
              "      <td>7364994.0</td>\n",
              "      <td>6699.0</td>\n",
              "    </tr>\n",
              "    <tr>\n",
              "      <th>3337871322502</th>\n",
              "      <td>M2913005</td>\n",
              "      <td>LiftActiv Ночной крем-уход</td>\n",
              "      <td>2796794.0</td>\n",
              "      <td>1277.0</td>\n",
              "      <td>5022622.0</td>\n",
              "      <td>2312.0</td>\n",
              "    </tr>\n",
              "    <tr>\n",
              "      <th>3337875483940</th>\n",
              "      <td>M9067101</td>\n",
              "      <td>Neovadiol Компенсирующий комплекс, ночной крем...</td>\n",
              "      <td>2433503.0</td>\n",
              "      <td>1065.0</td>\n",
              "      <td>4233525.0</td>\n",
              "      <td>1903.0</td>\n",
              "    </tr>\n",
              "    <tr>\n",
              "      <th>3337875498234</th>\n",
              "      <td>M9101520</td>\n",
              "      <td>SLOW AGE Уход, защищающий от формирования перв...</td>\n",
              "      <td>2390213.0</td>\n",
              "      <td>1368.0</td>\n",
              "      <td>4513846.0</td>\n",
              "      <td>2636.0</td>\n",
              "    </tr>\n",
              "    <tr>\n",
              "      <th>3337871323332</th>\n",
              "      <td>M3504205</td>\n",
              "      <td>LiftActiv SUPREME, крем-уход для кожи вокруг глаз</td>\n",
              "      <td>2290845.0</td>\n",
              "      <td>1360.0</td>\n",
              "      <td>4204750.0</td>\n",
              "      <td>2547.0</td>\n",
              "    </tr>\n",
              "  </tbody>\n",
              "</table>\n",
              "</div>"
            ],
            "text/plain": [
              "                    SKU  ... sales_am_year\n",
              "EAN                      ...              \n",
              "3337875607254  MB119200  ...        4347.0\n",
              "3337875522786  M9120501  ...        3202.0\n",
              "3337875586283  MB058200  ...        3574.0\n",
              "3337875543248  M9154821  ...        6699.0\n",
              "3337871322502  M2913005  ...        2312.0\n",
              "3337875483940  M9067101  ...        1903.0\n",
              "3337875498234  M9101520  ...        2636.0\n",
              "3337871323332  M3504205  ...        2547.0\n",
              "\n",
              "[8 rows x 6 columns]"
            ]
          },
          "metadata": {
            "tags": []
          },
          "execution_count": 37
        }
      ]
    },
    {
      "cell_type": "code",
      "metadata": {
        "id": "E9kjcTZ2_lgD",
        "colab_type": "code",
        "colab": {
          "base_uri": "https://localhost:8080/",
          "height": 382
        },
        "outputId": "8d2a65b0-a641-41f7-bac9-dee96e6a4bce"
      },
      "source": [
        "df_rename.query(\"sales_rub > 2332427.8 and sales_rub_year > 3963534.2\")"
      ],
      "execution_count": null,
      "outputs": [
        {
          "output_type": "execute_result",
          "data": {
            "text/html": [
              "<div>\n",
              "<style scoped>\n",
              "    .dataframe tbody tr th:only-of-type {\n",
              "        vertical-align: middle;\n",
              "    }\n",
              "\n",
              "    .dataframe tbody tr th {\n",
              "        vertical-align: top;\n",
              "    }\n",
              "\n",
              "    .dataframe thead th {\n",
              "        text-align: right;\n",
              "    }\n",
              "</style>\n",
              "<table border=\"1\" class=\"dataframe\">\n",
              "  <thead>\n",
              "    <tr style=\"text-align: right;\">\n",
              "      <th></th>\n",
              "      <th>SKU</th>\n",
              "      <th>name</th>\n",
              "      <th>sales_rub</th>\n",
              "      <th>sales_am</th>\n",
              "      <th>sales_rub_year</th>\n",
              "      <th>sales_am_year</th>\n",
              "    </tr>\n",
              "    <tr>\n",
              "      <th>EAN</th>\n",
              "      <th></th>\n",
              "      <th></th>\n",
              "      <th></th>\n",
              "      <th></th>\n",
              "      <th></th>\n",
              "      <th></th>\n",
              "    </tr>\n",
              "  </thead>\n",
              "  <tbody>\n",
              "    <tr>\n",
              "      <th>3337875607254</th>\n",
              "      <td>MB119200</td>\n",
              "      <td>LiftActiv Коллаген Специалист</td>\n",
              "      <td>5825899.0</td>\n",
              "      <td>2556.0</td>\n",
              "      <td>9807510.0</td>\n",
              "      <td>4347.0</td>\n",
              "    </tr>\n",
              "    <tr>\n",
              "      <th>3337875522786</th>\n",
              "      <td>M9120501</td>\n",
              "      <td>DERCOS AMINEXIL INTENSIVE 5, средство против в...</td>\n",
              "      <td>4409936.0</td>\n",
              "      <td>1353.0</td>\n",
              "      <td>9907634.0</td>\n",
              "      <td>3202.0</td>\n",
              "    </tr>\n",
              "    <tr>\n",
              "      <th>3337875586283</th>\n",
              "      <td>MB058200</td>\n",
              "      <td>SLOW AGE Восстанавливающий ночной крем и маска...</td>\n",
              "      <td>3867992.0</td>\n",
              "      <td>2104.0</td>\n",
              "      <td>6552547.0</td>\n",
              "      <td>3574.0</td>\n",
              "    </tr>\n",
              "    <tr>\n",
              "      <th>3337875543248</th>\n",
              "      <td>M9154821</td>\n",
              "      <td>Mineral 89 Ежедневный гель-сыворотка для кожи,...</td>\n",
              "      <td>3073718.0</td>\n",
              "      <td>2766.0</td>\n",
              "      <td>7364994.0</td>\n",
              "      <td>6699.0</td>\n",
              "    </tr>\n",
              "    <tr>\n",
              "      <th>3337871322502</th>\n",
              "      <td>M2913005</td>\n",
              "      <td>LiftActiv Ночной крем-уход</td>\n",
              "      <td>2796794.0</td>\n",
              "      <td>1277.0</td>\n",
              "      <td>5022622.0</td>\n",
              "      <td>2312.0</td>\n",
              "    </tr>\n",
              "    <tr>\n",
              "      <th>3337875483940</th>\n",
              "      <td>M9067101</td>\n",
              "      <td>Neovadiol Компенсирующий комплекс, ночной крем...</td>\n",
              "      <td>2433503.0</td>\n",
              "      <td>1065.0</td>\n",
              "      <td>4233525.0</td>\n",
              "      <td>1903.0</td>\n",
              "    </tr>\n",
              "    <tr>\n",
              "      <th>3337875498234</th>\n",
              "      <td>M9101520</td>\n",
              "      <td>SLOW AGE Уход, защищающий от формирования перв...</td>\n",
              "      <td>2390213.0</td>\n",
              "      <td>1368.0</td>\n",
              "      <td>4513846.0</td>\n",
              "      <td>2636.0</td>\n",
              "    </tr>\n",
              "  </tbody>\n",
              "</table>\n",
              "</div>"
            ],
            "text/plain": [
              "                    SKU  ... sales_am_year\n",
              "EAN                      ...              \n",
              "3337875607254  MB119200  ...        4347.0\n",
              "3337875522786  M9120501  ...        3202.0\n",
              "3337875586283  MB058200  ...        3574.0\n",
              "3337875543248  M9154821  ...        6699.0\n",
              "3337871322502  M2913005  ...        2312.0\n",
              "3337875483940  M9067101  ...        1903.0\n",
              "3337875498234  M9101520  ...        2636.0\n",
              "\n",
              "[7 rows x 6 columns]"
            ]
          },
          "metadata": {
            "tags": []
          },
          "execution_count": 38
        }
      ]
    },
    {
      "cell_type": "code",
      "metadata": {
        "id": "IX67UUGFAFEd",
        "colab_type": "code",
        "colab": {
          "base_uri": "https://localhost:8080/",
          "height": 34
        },
        "outputId": "39be1ff0-2c1c-457a-a46b-81d3beaa1710"
      },
      "source": [
        "df_rename['sales_rub'].sum()"
      ],
      "execution_count": null,
      "outputs": [
        {
          "output_type": "execute_result",
          "data": {
            "text/plain": [
              "134422259.0"
            ]
          },
          "metadata": {
            "tags": []
          },
          "execution_count": 39
        }
      ]
    },
    {
      "cell_type": "code",
      "metadata": {
        "id": "HZF5OGI3AMli",
        "colab_type": "code",
        "colab": {
          "base_uri": "https://localhost:8080/",
          "height": 34
        },
        "outputId": "8f397740-5e10-4532-9238-2d0bf0c3a35f"
      },
      "source": [
        "df_rename['sales_rub_year'].sum()"
      ],
      "execution_count": null,
      "outputs": [
        {
          "output_type": "execute_result",
          "data": {
            "text/plain": [
              "251301755.0"
            ]
          },
          "metadata": {
            "tags": []
          },
          "execution_count": 40
        }
      ]
    },
    {
      "cell_type": "code",
      "metadata": {
        "id": "tp3FqxJeC6s8",
        "colab_type": "code",
        "colab": {
          "base_uri": "https://localhost:8080/",
          "height": 450
        },
        "outputId": "a31469fa-183e-4d80-ffde-a2f4b8d98ac0"
      },
      "source": [
        "df_rename.isnull()"
      ],
      "execution_count": null,
      "outputs": [
        {
          "output_type": "execute_result",
          "data": {
            "text/html": [
              "<div>\n",
              "<style scoped>\n",
              "    .dataframe tbody tr th:only-of-type {\n",
              "        vertical-align: middle;\n",
              "    }\n",
              "\n",
              "    .dataframe tbody tr th {\n",
              "        vertical-align: top;\n",
              "    }\n",
              "\n",
              "    .dataframe thead th {\n",
              "        text-align: right;\n",
              "    }\n",
              "</style>\n",
              "<table border=\"1\" class=\"dataframe\">\n",
              "  <thead>\n",
              "    <tr style=\"text-align: right;\">\n",
              "      <th></th>\n",
              "      <th>SKU</th>\n",
              "      <th>name</th>\n",
              "      <th>sales_rub</th>\n",
              "      <th>sales_am</th>\n",
              "      <th>sales_rub_year</th>\n",
              "      <th>sales_am_year</th>\n",
              "    </tr>\n",
              "    <tr>\n",
              "      <th>EAN</th>\n",
              "      <th></th>\n",
              "      <th></th>\n",
              "      <th></th>\n",
              "      <th></th>\n",
              "      <th></th>\n",
              "      <th></th>\n",
              "    </tr>\n",
              "  </thead>\n",
              "  <tbody>\n",
              "    <tr>\n",
              "      <th>3337875607254</th>\n",
              "      <td>False</td>\n",
              "      <td>False</td>\n",
              "      <td>False</td>\n",
              "      <td>False</td>\n",
              "      <td>False</td>\n",
              "      <td>False</td>\n",
              "    </tr>\n",
              "    <tr>\n",
              "      <th>3337875522786</th>\n",
              "      <td>False</td>\n",
              "      <td>False</td>\n",
              "      <td>False</td>\n",
              "      <td>False</td>\n",
              "      <td>False</td>\n",
              "      <td>False</td>\n",
              "    </tr>\n",
              "    <tr>\n",
              "      <th>3337875586283</th>\n",
              "      <td>False</td>\n",
              "      <td>False</td>\n",
              "      <td>False</td>\n",
              "      <td>False</td>\n",
              "      <td>False</td>\n",
              "      <td>False</td>\n",
              "    </tr>\n",
              "    <tr>\n",
              "      <th>3337875543248</th>\n",
              "      <td>False</td>\n",
              "      <td>False</td>\n",
              "      <td>False</td>\n",
              "      <td>False</td>\n",
              "      <td>False</td>\n",
              "      <td>False</td>\n",
              "    </tr>\n",
              "    <tr>\n",
              "      <th>4690214632287</th>\n",
              "      <td>False</td>\n",
              "      <td>False</td>\n",
              "      <td>False</td>\n",
              "      <td>False</td>\n",
              "      <td>False</td>\n",
              "      <td>False</td>\n",
              "    </tr>\n",
              "    <tr>\n",
              "      <th>...</th>\n",
              "      <td>...</td>\n",
              "      <td>...</td>\n",
              "      <td>...</td>\n",
              "      <td>...</td>\n",
              "      <td>...</td>\n",
              "      <td>...</td>\n",
              "    </tr>\n",
              "    <tr>\n",
              "      <th>4690214585477</th>\n",
              "      <td>False</td>\n",
              "      <td>False</td>\n",
              "      <td>True</td>\n",
              "      <td>True</td>\n",
              "      <td>False</td>\n",
              "      <td>False</td>\n",
              "    </tr>\n",
              "    <tr>\n",
              "      <th>4690214585491</th>\n",
              "      <td>False</td>\n",
              "      <td>False</td>\n",
              "      <td>True</td>\n",
              "      <td>True</td>\n",
              "      <td>False</td>\n",
              "      <td>False</td>\n",
              "    </tr>\n",
              "    <tr>\n",
              "      <th>4690214585507</th>\n",
              "      <td>False</td>\n",
              "      <td>False</td>\n",
              "      <td>True</td>\n",
              "      <td>True</td>\n",
              "      <td>False</td>\n",
              "      <td>False</td>\n",
              "    </tr>\n",
              "    <tr>\n",
              "      <th>4690214586702</th>\n",
              "      <td>False</td>\n",
              "      <td>False</td>\n",
              "      <td>True</td>\n",
              "      <td>True</td>\n",
              "      <td>False</td>\n",
              "      <td>False</td>\n",
              "    </tr>\n",
              "    <tr>\n",
              "      <th>4690214586719</th>\n",
              "      <td>False</td>\n",
              "      <td>False</td>\n",
              "      <td>True</td>\n",
              "      <td>True</td>\n",
              "      <td>False</td>\n",
              "      <td>False</td>\n",
              "    </tr>\n",
              "  </tbody>\n",
              "</table>\n",
              "<p>271 rows × 6 columns</p>\n",
              "</div>"
            ],
            "text/plain": [
              "                 SKU   name  sales_rub  sales_am  sales_rub_year  sales_am_year\n",
              "EAN                                                                            \n",
              "3337875607254  False  False      False     False           False          False\n",
              "3337875522786  False  False      False     False           False          False\n",
              "3337875586283  False  False      False     False           False          False\n",
              "3337875543248  False  False      False     False           False          False\n",
              "4690214632287  False  False      False     False           False          False\n",
              "...              ...    ...        ...       ...             ...            ...\n",
              "4690214585477  False  False       True      True           False          False\n",
              "4690214585491  False  False       True      True           False          False\n",
              "4690214585507  False  False       True      True           False          False\n",
              "4690214586702  False  False       True      True           False          False\n",
              "4690214586719  False  False       True      True           False          False\n",
              "\n",
              "[271 rows x 6 columns]"
            ]
          },
          "metadata": {
            "tags": []
          },
          "execution_count": 42
        }
      ]
    },
    {
      "cell_type": "code",
      "metadata": {
        "id": "hK74yIPfDIge",
        "colab_type": "code",
        "colab": {
          "base_uri": "https://localhost:8080/",
          "height": 136
        },
        "outputId": "08dd3f45-2f27-4584-9673-ac3fd528174a"
      },
      "source": [
        "df_rename.isnull().sum()"
      ],
      "execution_count": null,
      "outputs": [
        {
          "output_type": "execute_result",
          "data": {
            "text/plain": [
              "SKU                0\n",
              "name               0\n",
              "sales_rub         46\n",
              "sales_am          46\n",
              "sales_rub_year     1\n",
              "sales_am_year      1\n",
              "dtype: int64"
            ]
          },
          "metadata": {
            "tags": []
          },
          "execution_count": 43
        }
      ]
    },
    {
      "cell_type": "code",
      "metadata": {
        "id": "_CWedU2ADbOS",
        "colab_type": "code",
        "colab": {
          "base_uri": "https://localhost:8080/",
          "height": 569
        },
        "outputId": "d6fc4777-e1ee-4105-be0a-19c4936759ea"
      },
      "source": [
        "df_rename.dropna()"
      ],
      "execution_count": null,
      "outputs": [
        {
          "output_type": "execute_result",
          "data": {
            "text/html": [
              "<div>\n",
              "<style scoped>\n",
              "    .dataframe tbody tr th:only-of-type {\n",
              "        vertical-align: middle;\n",
              "    }\n",
              "\n",
              "    .dataframe tbody tr th {\n",
              "        vertical-align: top;\n",
              "    }\n",
              "\n",
              "    .dataframe thead th {\n",
              "        text-align: right;\n",
              "    }\n",
              "</style>\n",
              "<table border=\"1\" class=\"dataframe\">\n",
              "  <thead>\n",
              "    <tr style=\"text-align: right;\">\n",
              "      <th></th>\n",
              "      <th>SKU</th>\n",
              "      <th>name</th>\n",
              "      <th>sales_rub</th>\n",
              "      <th>sales_am</th>\n",
              "      <th>sales_rub_year</th>\n",
              "      <th>sales_am_year</th>\n",
              "    </tr>\n",
              "    <tr>\n",
              "      <th>EAN</th>\n",
              "      <th></th>\n",
              "      <th></th>\n",
              "      <th></th>\n",
              "      <th></th>\n",
              "      <th></th>\n",
              "      <th></th>\n",
              "    </tr>\n",
              "  </thead>\n",
              "  <tbody>\n",
              "    <tr>\n",
              "      <th>3337875607254</th>\n",
              "      <td>MB119200</td>\n",
              "      <td>LiftActiv Коллаген Специалист</td>\n",
              "      <td>5,825,899.0</td>\n",
              "      <td>2,556.0</td>\n",
              "      <td>9,807,510.0</td>\n",
              "      <td>4,347.0</td>\n",
              "    </tr>\n",
              "    <tr>\n",
              "      <th>3337875522786</th>\n",
              "      <td>M9120501</td>\n",
              "      <td>DERCOS AMINEXIL INTENSIVE 5, средство против в...</td>\n",
              "      <td>4,409,936.0</td>\n",
              "      <td>1,353.0</td>\n",
              "      <td>9,907,634.0</td>\n",
              "      <td>3,202.0</td>\n",
              "    </tr>\n",
              "    <tr>\n",
              "      <th>3337875586283</th>\n",
              "      <td>MB058200</td>\n",
              "      <td>SLOW AGE Восстанавливающий ночной крем и маска...</td>\n",
              "      <td>3,867,992.0</td>\n",
              "      <td>2,104.0</td>\n",
              "      <td>6,552,547.0</td>\n",
              "      <td>3,574.0</td>\n",
              "    </tr>\n",
              "    <tr>\n",
              "      <th>3337875543248</th>\n",
              "      <td>M9154821</td>\n",
              "      <td>Mineral 89 Ежедневный гель-сыворотка для кожи,...</td>\n",
              "      <td>3,073,718.0</td>\n",
              "      <td>2,766.0</td>\n",
              "      <td>7,364,994.0</td>\n",
              "      <td>6,699.0</td>\n",
              "    </tr>\n",
              "    <tr>\n",
              "      <th>4690214632287</th>\n",
              "      <td>VRU10044</td>\n",
              "      <td>Набор для путешествий Система \"All Inclusive\" ...</td>\n",
              "      <td>2,932,880.0</td>\n",
              "      <td>4,409.0</td>\n",
              "      <td>2,932,880.0</td>\n",
              "      <td>4,409.0</td>\n",
              "    </tr>\n",
              "    <tr>\n",
              "      <th>...</th>\n",
              "      <td>...</td>\n",
              "      <td>...</td>\n",
              "      <td>...</td>\n",
              "      <td>...</td>\n",
              "      <td>...</td>\n",
              "      <td>...</td>\n",
              "    </tr>\n",
              "    <tr>\n",
              "      <th>4690214737203</th>\n",
              "      <td>VRU10602</td>\n",
              "      <td>Набор Vichy Мини-набор Neovadiol</td>\n",
              "      <td>18,307.0</td>\n",
              "      <td>29.0</td>\n",
              "      <td>18,307.0</td>\n",
              "      <td>29.0</td>\n",
              "    </tr>\n",
              "    <tr>\n",
              "      <th>3337875585200</th>\n",
              "      <td>MB054200</td>\n",
              "      <td>CAPITAL IDEAL SOLEIL Солнцезащитный двухфазный...</td>\n",
              "      <td>16,164.0</td>\n",
              "      <td>15.0</td>\n",
              "      <td>190,244.0</td>\n",
              "      <td>172.0</td>\n",
              "    </tr>\n",
              "    <tr>\n",
              "      <th>4690214585514</th>\n",
              "      <td>VRU09620</td>\n",
              "      <td>Бьюти-бокс Очищение и уход за кожей и волосами</td>\n",
              "      <td>6,900.0</td>\n",
              "      <td>14.0</td>\n",
              "      <td>350,981.0</td>\n",
              "      <td>907.0</td>\n",
              "    </tr>\n",
              "    <tr>\n",
              "      <th>4690214480215</th>\n",
              "      <td>VRU09006</td>\n",
              "      <td>DERCOS AMINEXIL Тонизирующий шампунь против вы...</td>\n",
              "      <td>6,810.0</td>\n",
              "      <td>5.0</td>\n",
              "      <td>310,539.0</td>\n",
              "      <td>229.0</td>\n",
              "    </tr>\n",
              "    <tr>\n",
              "      <th>4690214472517</th>\n",
              "      <td>VRU08826</td>\n",
              "      <td>CAPITAL IDEAL SOLEIL Набор Летняя программа ан...</td>\n",
              "      <td>3,447.0</td>\n",
              "      <td>2.0</td>\n",
              "      <td>370,383.0</td>\n",
              "      <td>255.0</td>\n",
              "    </tr>\n",
              "  </tbody>\n",
              "</table>\n",
              "<p>225 rows × 6 columns</p>\n",
              "</div>"
            ],
            "text/plain": [
              "                    SKU  ... sales_am_year\n",
              "EAN                      ...              \n",
              "3337875607254  MB119200  ...       4,347.0\n",
              "3337875522786  M9120501  ...       3,202.0\n",
              "3337875586283  MB058200  ...       3,574.0\n",
              "3337875543248  M9154821  ...       6,699.0\n",
              "4690214632287  VRU10044  ...       4,409.0\n",
              "...                 ...  ...           ...\n",
              "4690214737203  VRU10602  ...          29.0\n",
              "3337875585200  MB054200  ...         172.0\n",
              "4690214585514  VRU09620  ...         907.0\n",
              "4690214480215  VRU09006  ...         229.0\n",
              "4690214472517  VRU08826  ...         255.0\n",
              "\n",
              "[225 rows x 6 columns]"
            ]
          },
          "metadata": {
            "tags": []
          },
          "execution_count": 44
        }
      ]
    },
    {
      "cell_type": "code",
      "metadata": {
        "id": "wttIkBQJD3hE",
        "colab_type": "code",
        "colab": {
          "base_uri": "https://localhost:8080/",
          "height": 586
        },
        "outputId": "e09916a6-f81a-4668-d0e5-799909d8ec76"
      },
      "source": [
        "df_rename['price'] = df_rename['sales_rub'] / df_rename['sales_am']\n",
        "df_rename"
      ],
      "execution_count": null,
      "outputs": [
        {
          "output_type": "execute_result",
          "data": {
            "text/html": [
              "<div>\n",
              "<style scoped>\n",
              "    .dataframe tbody tr th:only-of-type {\n",
              "        vertical-align: middle;\n",
              "    }\n",
              "\n",
              "    .dataframe tbody tr th {\n",
              "        vertical-align: top;\n",
              "    }\n",
              "\n",
              "    .dataframe thead th {\n",
              "        text-align: right;\n",
              "    }\n",
              "</style>\n",
              "<table border=\"1\" class=\"dataframe\">\n",
              "  <thead>\n",
              "    <tr style=\"text-align: right;\">\n",
              "      <th></th>\n",
              "      <th>SKU</th>\n",
              "      <th>name</th>\n",
              "      <th>sales_rub</th>\n",
              "      <th>sales_am</th>\n",
              "      <th>sales_rub_year</th>\n",
              "      <th>sales_am_year</th>\n",
              "      <th>price</th>\n",
              "    </tr>\n",
              "    <tr>\n",
              "      <th>EAN</th>\n",
              "      <th></th>\n",
              "      <th></th>\n",
              "      <th></th>\n",
              "      <th></th>\n",
              "      <th></th>\n",
              "      <th></th>\n",
              "      <th></th>\n",
              "    </tr>\n",
              "  </thead>\n",
              "  <tbody>\n",
              "    <tr>\n",
              "      <th>3337875607254</th>\n",
              "      <td>MB119200</td>\n",
              "      <td>LiftActiv Коллаген Специалист</td>\n",
              "      <td>5,825,899.0</td>\n",
              "      <td>2,556.0</td>\n",
              "      <td>9,807,510.0</td>\n",
              "      <td>4,347.0</td>\n",
              "      <td>2,279.3</td>\n",
              "    </tr>\n",
              "    <tr>\n",
              "      <th>3337875522786</th>\n",
              "      <td>M9120501</td>\n",
              "      <td>DERCOS AMINEXIL INTENSIVE 5, средство против в...</td>\n",
              "      <td>4,409,936.0</td>\n",
              "      <td>1,353.0</td>\n",
              "      <td>9,907,634.0</td>\n",
              "      <td>3,202.0</td>\n",
              "      <td>3,259.4</td>\n",
              "    </tr>\n",
              "    <tr>\n",
              "      <th>3337875586283</th>\n",
              "      <td>MB058200</td>\n",
              "      <td>SLOW AGE Восстанавливающий ночной крем и маска...</td>\n",
              "      <td>3,867,992.0</td>\n",
              "      <td>2,104.0</td>\n",
              "      <td>6,552,547.0</td>\n",
              "      <td>3,574.0</td>\n",
              "      <td>1,838.4</td>\n",
              "    </tr>\n",
              "    <tr>\n",
              "      <th>3337875543248</th>\n",
              "      <td>M9154821</td>\n",
              "      <td>Mineral 89 Ежедневный гель-сыворотка для кожи,...</td>\n",
              "      <td>3,073,718.0</td>\n",
              "      <td>2,766.0</td>\n",
              "      <td>7,364,994.0</td>\n",
              "      <td>6,699.0</td>\n",
              "      <td>1,111.3</td>\n",
              "    </tr>\n",
              "    <tr>\n",
              "      <th>4690214632287</th>\n",
              "      <td>VRU10044</td>\n",
              "      <td>Набор для путешествий Система \"All Inclusive\" ...</td>\n",
              "      <td>2,932,880.0</td>\n",
              "      <td>4,409.0</td>\n",
              "      <td>2,932,880.0</td>\n",
              "      <td>4,409.0</td>\n",
              "      <td>665.2</td>\n",
              "    </tr>\n",
              "    <tr>\n",
              "      <th>...</th>\n",
              "      <td>...</td>\n",
              "      <td>...</td>\n",
              "      <td>...</td>\n",
              "      <td>...</td>\n",
              "      <td>...</td>\n",
              "      <td>...</td>\n",
              "      <td>...</td>\n",
              "    </tr>\n",
              "    <tr>\n",
              "      <th>4690214585477</th>\n",
              "      <td>VRU09615</td>\n",
              "      <td>Бьюти-бокс Увлажнение и очищение</td>\n",
              "      <td>nan</td>\n",
              "      <td>nan</td>\n",
              "      <td>461,704.0</td>\n",
              "      <td>969.0</td>\n",
              "      <td>nan</td>\n",
              "    </tr>\n",
              "    <tr>\n",
              "      <th>4690214585491</th>\n",
              "      <td>VRU09617</td>\n",
              "      <td>Бьюти-бокс Очищение и коррекция признаков стар...</td>\n",
              "      <td>nan</td>\n",
              "      <td>nan</td>\n",
              "      <td>332,186.0</td>\n",
              "      <td>761.0</td>\n",
              "      <td>nan</td>\n",
              "    </tr>\n",
              "    <tr>\n",
              "      <th>4690214585507</th>\n",
              "      <td>VRU09618</td>\n",
              "      <td>Бьюти-бокс LiftActiv Очищение и коррекция морщин</td>\n",
              "      <td>nan</td>\n",
              "      <td>nan</td>\n",
              "      <td>410,436.0</td>\n",
              "      <td>966.0</td>\n",
              "      <td>nan</td>\n",
              "    </tr>\n",
              "    <tr>\n",
              "      <th>4690214586702</th>\n",
              "      <td>VRU09628</td>\n",
              "      <td>Mineral 89 Ежедневная доза силы для вашей кожи</td>\n",
              "      <td>nan</td>\n",
              "      <td>nan</td>\n",
              "      <td>174,051.0</td>\n",
              "      <td>71.0</td>\n",
              "      <td>nan</td>\n",
              "    </tr>\n",
              "    <tr>\n",
              "      <th>4690214586719</th>\n",
              "      <td>VRU09629</td>\n",
              "      <td>DERCOS AMINEXIL Тонизирующий шампунь против вы...</td>\n",
              "      <td>nan</td>\n",
              "      <td>nan</td>\n",
              "      <td>142,964.0</td>\n",
              "      <td>107.0</td>\n",
              "      <td>nan</td>\n",
              "    </tr>\n",
              "  </tbody>\n",
              "</table>\n",
              "<p>271 rows × 7 columns</p>\n",
              "</div>"
            ],
            "text/plain": [
              "                    SKU  ...   price\n",
              "EAN                      ...        \n",
              "3337875607254  MB119200  ... 2,279.3\n",
              "3337875522786  M9120501  ... 3,259.4\n",
              "3337875586283  MB058200  ... 1,838.4\n",
              "3337875543248  M9154821  ... 1,111.3\n",
              "4690214632287  VRU10044  ...   665.2\n",
              "...                 ...  ...     ...\n",
              "4690214585477  VRU09615  ...     nan\n",
              "4690214585491  VRU09617  ...     nan\n",
              "4690214585507  VRU09618  ...     nan\n",
              "4690214586702  VRU09628  ...     nan\n",
              "4690214586719  VRU09629  ...     nan\n",
              "\n",
              "[271 rows x 7 columns]"
            ]
          },
          "metadata": {
            "tags": []
          },
          "execution_count": 46
        }
      ]
    }
  ]
}