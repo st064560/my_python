{
  "nbformat": 4,
  "nbformat_minor": 0,
  "metadata": {
    "colab": {
      "name": "vk_average.ipynb",
      "provenance": [],
      "authorship_tag": "ABX9TyOT4SCCtwYPHMg8kpqGUK+9"
    },
    "kernelspec": {
      "name": "python3",
      "display_name": "Python 3"
    }
  },
  "cells": [
    {
      "cell_type": "code",
      "metadata": {
        "id": "Rv1AIlnwUHXd",
        "colab_type": "code",
        "colab": {
          "base_uri": "https://localhost:8080/",
          "height": 54
        },
        "outputId": "b537b127-950c-4710-c7bd-8fd0d4e2b13f"
      },
      "source": [
        "import csv\n",
        "\n",
        "lst = []\n",
        "\n",
        "with open('vk.stat', 'r') as file:\n",
        "    stat = csv.reader(file)\n",
        "    for line in stat:\n",
        "        if line[0] == 'Дата':\n",
        "          continue\n",
        "        else:\n",
        "          #print(line[0])\n",
        "          #print(line[0].split('-'))\n",
        "          #print(line[0].split('-')[1])\n",
        "          lst.append(line[0].split('-')[1])\n",
        "print(lst)"
      ],
      "execution_count": 7,
      "outputs": [
        {
          "output_type": "stream",
          "text": [
            "['02', '12', '12', '11', '11', '10', '10', '10', '10', '10', '09', '09', '09', '09', '09', '09', '09', '08', '08', '08', '08', '08', '08', '08', '08', '06', '05', '05', '05', '05', '05', '05', '05', '05', '05', '05', '05', '05']\n"
          ],
          "name": "stdout"
        }
      ]
    },
    {
      "cell_type": "code",
      "metadata": {
        "id": "16zefP4mWfvw",
        "colab_type": "code",
        "colab": {
          "base_uri": "https://localhost:8080/",
          "height": 34
        },
        "outputId": "739f1b1f-2efc-48e6-db4d-4f5d87a85c95"
      },
      "source": [
        "import collections\n",
        "count = collections.Counter(lst)\n",
        "dict(count)"
      ],
      "execution_count": 8,
      "outputs": [
        {
          "output_type": "execute_result",
          "data": {
            "text/plain": [
              "{'02': 1, '05': 12, '06': 1, '08': 8, '09': 7, '10': 5, '11': 2, '12': 2}"
            ]
          },
          "metadata": {
            "tags": []
          },
          "execution_count": 8
        }
      ]
    }
  ]
}