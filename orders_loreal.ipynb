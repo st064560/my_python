{
  "nbformat": 4,
  "nbformat_minor": 0,
  "metadata": {
    "colab": {
      "name": "orders_loreal.ipynb",
      "provenance": [],
      "collapsed_sections": [],
      "include_colab_link": true
    },
    "kernelspec": {
      "name": "python3",
      "display_name": "Python 3"
    }
  },
  "cells": [
    {
      "cell_type": "markdown",
      "metadata": {
        "id": "view-in-github",
        "colab_type": "text"
      },
      "source": [
        "<a href=\"https://colab.research.google.com/github/st064560/my_python/blob/master/orders_loreal.ipynb\" target=\"_parent\"><img src=\"https://colab.research.google.com/assets/colab-badge.svg\" alt=\"Open In Colab\"/></a>"
      ]
    },
    {
      "cell_type": "code",
      "metadata": {
        "id": "pUFSGiGjq1vb",
        "colab_type": "code",
        "colab": {}
      },
      "source": [
        "\n",
        "# импортируем библиотеки numpy и pandas\n",
        "import numpy as np\n",
        "import pandas as pd\n",
        "\n",
        "# импортируем библиотеку datetime для работы с датами\n",
        "import datetime\n",
        "from datetime import datetime, date\n",
        "\n",
        "# импортируем библиотеку matplotlib для построения графиков\n",
        "import matplotlib.pyplot as plt\n",
        "%matplotlib inline"
      ],
      "execution_count": 1,
      "outputs": []
    },
    {
      "cell_type": "code",
      "metadata": {
        "id": "FGRVb2H9tG_4",
        "colab_type": "code",
        "colab": {
          "base_uri": "https://localhost:8080/",
          "height": 617
        },
        "outputId": "09536b96-5f54-4e89-d13f-e0ed5132e5fa"
      },
      "source": [
        "#представим данные в виду датафрэйма\n",
        "url = '/content/orders (1).csv'\n",
        "df = pd.read_csv(url)\n",
        "df.head()\n",
        "\n",
        "\n"
      ],
      "execution_count": 2,
      "outputs": [
        {
          "output_type": "execute_result",
          "data": {
            "text/html": [
              "<div>\n",
              "<style scoped>\n",
              "    .dataframe tbody tr th:only-of-type {\n",
              "        vertical-align: middle;\n",
              "    }\n",
              "\n",
              "    .dataframe tbody tr th {\n",
              "        vertical-align: top;\n",
              "    }\n",
              "\n",
              "    .dataframe thead th {\n",
              "        text-align: right;\n",
              "    }\n",
              "</style>\n",
              "<table border=\"1\" class=\"dataframe\">\n",
              "  <thead>\n",
              "    <tr style=\"text-align: right;\">\n",
              "      <th></th>\n",
              "      <th>Заказ #</th>\n",
              "      <th>Delivery</th>\n",
              "      <th>UN</th>\n",
              "      <th>Сумма (покупки)</th>\n",
              "      <th>Предварительный итог</th>\n",
              "      <th>Итог без скидок</th>\n",
              "      <th>Полный промобюджет</th>\n",
              "      <th>Промобюджет ПЛ</th>\n",
              "      <th>Промо првило</th>\n",
              "      <th>Другие корзиночные правила</th>\n",
              "      <th>Метод оплаты</th>\n",
              "      <th>Customer</th>\n",
              "      <th>Доставка на Имя</th>\n",
              "      <th>Телефон</th>\n",
              "      <th>Дата покупки</th>\n",
              "      <th>Статус</th>\n",
              "      <th>Причина отмены заказа</th>\n",
              "      <th>Дата доставки</th>\n",
              "      <th>Время доставки</th>\n",
              "      <th>Страна</th>\n",
              "      <th>Регион</th>\n",
              "      <th>Город</th>\n",
              "      <th>Улица</th>\n",
              "      <th>Код купона</th>\n",
              "      <th>В один клик</th>\n",
              "      <th>Source Type</th>\n",
              "      <th>Источник</th>\n",
              "      <th>Оформлен после</th>\n",
              "      <th>Метод доставки</th>\n",
              "      <th>Номер карты «Аэрофлот Бонус»</th>\n",
              "    </tr>\n",
              "  </thead>\n",
              "  <tbody>\n",
              "    <tr>\n",
              "      <th>0</th>\n",
              "      <td>132615134</td>\n",
              "      <td>NaN</td>\n",
              "      <td>4</td>\n",
              "      <td>3169.0</td>\n",
              "      <td>4116.00</td>\n",
              "      <td>4116.0</td>\n",
              "      <td>947.0</td>\n",
              "      <td>0.0</td>\n",
              "      <td>NaN</td>\n",
              "      <td>Бесплатная доставка от 3000 руб. для России</td>\n",
              "      <td>Карта (Оплата на сайте онлайн)</td>\n",
              "      <td>NaN</td>\n",
              "      <td>Елена Коновалова</td>\n",
              "      <td>+7 (950) 335-30-46</td>\n",
              "      <td>6 июля 2020 г. 14:35:10</td>\n",
              "      <td>Ожидает оплаты</td>\n",
              "      <td>NaN</td>\n",
              "      <td>10 июля 2020 г.</td>\n",
              "      <td>С 9 - до 18</td>\n",
              "      <td>Россия</td>\n",
              "      <td>Омская обл.</td>\n",
              "      <td>Омск</td>\n",
              "      <td>пр-кт. Космический, 57 квартира 36</td>\n",
              "      <td>NaN</td>\n",
              "      <td>Нет</td>\n",
              "      <td>CPA</td>\n",
              "      <td>admitad_tracking</td>\n",
              "      <td>NaN</td>\n",
              "      <td>Курьерская доставка - DPD</td>\n",
              "      <td>NaN</td>\n",
              "    </tr>\n",
              "    <tr>\n",
              "      <th>1</th>\n",
              "      <td>132615125</td>\n",
              "      <td>NaN</td>\n",
              "      <td>4</td>\n",
              "      <td>1383.0</td>\n",
              "      <td>1271.60</td>\n",
              "      <td>1496.0</td>\n",
              "      <td>263.0</td>\n",
              "      <td>0.0</td>\n",
              "      <td>NaN</td>\n",
              "      <td>NaN</td>\n",
              "      <td>Карта (Оплата на сайте онлайн)</td>\n",
              "      <td>415345.0</td>\n",
              "      <td>Кащеева Светлана</td>\n",
              "      <td>+7 (968) 823-44-98</td>\n",
              "      <td>6 июля 2020 г. 14:34:42</td>\n",
              "      <td>Ожидает оплаты</td>\n",
              "      <td>NaN</td>\n",
              "      <td>7 июля 2020 г.</td>\n",
              "      <td>NaN</td>\n",
              "      <td>Россия</td>\n",
              "      <td>Москва</td>\n",
              "      <td>Москва</td>\n",
              "      <td>Боровское шоссе , дом 18 корп 3 , кВ 259</td>\n",
              "      <td>NaN</td>\n",
              "      <td>Нет</td>\n",
              "      <td>CPA</td>\n",
              "      <td>yandex</td>\n",
              "      <td>NaN</td>\n",
              "      <td>Пункт самовывоза - PickPoint</td>\n",
              "      <td>NaN</td>\n",
              "    </tr>\n",
              "    <tr>\n",
              "      <th>2</th>\n",
              "      <td>132615116</td>\n",
              "      <td>NaN</td>\n",
              "      <td>2</td>\n",
              "      <td>1587.0</td>\n",
              "      <td>1326.85</td>\n",
              "      <td>1561.0</td>\n",
              "      <td>274.0</td>\n",
              "      <td>0.0</td>\n",
              "      <td>NaN</td>\n",
              "      <td>NaN</td>\n",
              "      <td>Карта (Оплата на сайте онлайн)</td>\n",
              "      <td>NaN</td>\n",
              "      <td>Марина Алексеева</td>\n",
              "      <td>+7 (913) 032-16-64</td>\n",
              "      <td>6 июля 2020 г. 14:34:38</td>\n",
              "      <td>Ожидает оплаты</td>\n",
              "      <td>NaN</td>\n",
              "      <td>15 июля 2020 г.</td>\n",
              "      <td>NaN</td>\n",
              "      <td>Россия</td>\n",
              "      <td>Красноярский край</td>\n",
              "      <td>Минусинск</td>\n",
              "      <td>Тимирязева 20, кв 43</td>\n",
              "      <td>NaN</td>\n",
              "      <td>Нет</td>\n",
              "      <td>CPA</td>\n",
              "      <td>google</td>\n",
              "      <td>NaN</td>\n",
              "      <td>Пункт самовывоза - PickPoint</td>\n",
              "      <td>NaN</td>\n",
              "    </tr>\n",
              "    <tr>\n",
              "      <th>3</th>\n",
              "      <td>132615108</td>\n",
              "      <td>NaN</td>\n",
              "      <td>4</td>\n",
              "      <td>2674.0</td>\n",
              "      <td>2715.60</td>\n",
              "      <td>2940.0</td>\n",
              "      <td>516.0</td>\n",
              "      <td>0.0</td>\n",
              "      <td>#1867 - MINERAL 89: пул промокодов на скидку 1...</td>\n",
              "      <td>NaN</td>\n",
              "      <td>Карта (Оплата на сайте онлайн)</td>\n",
              "      <td>199200.0</td>\n",
              "      <td>Светлана Рожман</td>\n",
              "      <td>+7 (962) 854-97-24</td>\n",
              "      <td>6 июля 2020 г. 14:18:23</td>\n",
              "      <td>Передано в SAP</td>\n",
              "      <td>NaN</td>\n",
              "      <td>10 июля 2020 г.</td>\n",
              "      <td>NaN</td>\n",
              "      <td>Россия</td>\n",
              "      <td>Краснодарский край</td>\n",
              "      <td>Геленджик</td>\n",
              "      <td>NaN</td>\n",
              "      <td>WO7VAN-mineral</td>\n",
              "      <td>Нет</td>\n",
              "      <td>CPA</td>\n",
              "      <td>yandex</td>\n",
              "      <td>NaN</td>\n",
              "      <td>Пункт самовывоза - PickPoint</td>\n",
              "      <td>NaN</td>\n",
              "    </tr>\n",
              "    <tr>\n",
              "      <th>4</th>\n",
              "      <td>132615102</td>\n",
              "      <td>NaN</td>\n",
              "      <td>6</td>\n",
              "      <td>3195.0</td>\n",
              "      <td>4323.85</td>\n",
              "      <td>4558.0</td>\n",
              "      <td>1363.0</td>\n",
              "      <td>0.0</td>\n",
              "      <td>NaN</td>\n",
              "      <td>Бесплатная доставка от 3000 руб. для России</td>\n",
              "      <td>Карта (Оплата на сайте онлайн)</td>\n",
              "      <td>415339.0</td>\n",
              "      <td>Ирина Криставчук</td>\n",
              "      <td>+7 (908) 194-00-20</td>\n",
              "      <td>6 июля 2020 г. 14:11:07</td>\n",
              "      <td>Передано в SAP</td>\n",
              "      <td>NaN</td>\n",
              "      <td>8 июля 2020 г.</td>\n",
              "      <td>С 9 - до 18</td>\n",
              "      <td>Россия</td>\n",
              "      <td>Ростовская обл.</td>\n",
              "      <td>Новочеркасск</td>\n",
              "      <td>Проспект Баклановский 184, кв 20</td>\n",
              "      <td>NaN</td>\n",
              "      <td>Нет</td>\n",
              "      <td>Пользовательская часть</td>\n",
              "      <td>Версия для компьютера</td>\n",
              "      <td>NaN</td>\n",
              "      <td>Курьерская доставка - DPD</td>\n",
              "      <td>NaN</td>\n",
              "    </tr>\n",
              "  </tbody>\n",
              "</table>\n",
              "</div>"
            ],
            "text/plain": [
              "     Заказ #  ...  Номер карты «Аэрофлот Бонус»\n",
              "0  132615134  ...                           NaN\n",
              "1  132615125  ...                           NaN\n",
              "2  132615116  ...                           NaN\n",
              "3  132615108  ...                           NaN\n",
              "4  132615102  ...                           NaN\n",
              "\n",
              "[5 rows x 30 columns]"
            ]
          },
          "metadata": {
            "tags": []
          },
          "execution_count": 2
        }
      ]
    },
    {
      "cell_type": "code",
      "metadata": {
        "id": "KiLSjloJN3xA",
        "colab_type": "code",
        "colab": {
          "base_uri": "https://localhost:8080/",
          "height": 34
        },
        "outputId": "5c46cdcf-3daf-4e20-f21c-7617cab6fadf"
      },
      "source": [
        "#посчиатем кол-во заказов\n",
        "df['Заказ #'].nunique()"
      ],
      "execution_count": 28,
      "outputs": [
        {
          "output_type": "execute_result",
          "data": {
            "text/plain": [
              "1081"
            ]
          },
          "metadata": {
            "tags": []
          },
          "execution_count": 28
        }
      ]
    },
    {
      "cell_type": "code",
      "metadata": {
        "id": "7zXgT_loL2A2",
        "colab_type": "code",
        "colab": {
          "base_uri": "https://localhost:8080/",
          "height": 34
        },
        "outputId": "fbc7cfeb-fc55-4943-8581-5e1c0fc66a00"
      },
      "source": [
        "#общая сумма заказов\n",
        "sales = df['Сумма (покупки)'].sum()\n",
        "sales"
      ],
      "execution_count": 9,
      "outputs": [
        {
          "output_type": "execute_result",
          "data": {
            "text/plain": [
              "3770399.0"
            ]
          },
          "metadata": {
            "tags": []
          },
          "execution_count": 9
        }
      ]
    },
    {
      "cell_type": "code",
      "metadata": {
        "id": "lI5uGkJaMEYm",
        "colab_type": "code",
        "colab": {
          "base_uri": "https://localhost:8080/",
          "height": 34
        },
        "outputId": "8f366f8b-f757-4975-8f6a-cd9550dfbab9"
      },
      "source": [
        "#общая сумма рекламной кампании\n",
        "promo = df['Полный промобюджет'].sum()\n",
        "promo"
      ],
      "execution_count": 10,
      "outputs": [
        {
          "output_type": "execute_result",
          "data": {
            "text/plain": [
              "902790.5599999999"
            ]
          },
          "metadata": {
            "tags": []
          },
          "execution_count": 10
        }
      ]
    },
    {
      "cell_type": "code",
      "metadata": {
        "id": "VT48DxLjMWhB",
        "colab_type": "code",
        "colab": {
          "base_uri": "https://localhost:8080/",
          "height": 34
        },
        "outputId": "4b454b3f-4674-4971-d7cb-a358241be09f"
      },
      "source": [
        "k = promo/sales\n",
        "k\n",
        "print(round(k * 100), '% от суммы покупок занимает бюджет промо')"
      ],
      "execution_count": 17,
      "outputs": [
        {
          "output_type": "stream",
          "text": [
            "24.0 % от суммы покупок занимает бюджет промо\n"
          ],
          "name": "stdout"
        }
      ]
    },
    {
      "cell_type": "code",
      "metadata": {
        "id": "UCGN_T1cNA56",
        "colab_type": "code",
        "colab": {
          "base_uri": "https://localhost:8080/",
          "height": 34
        },
        "outputId": "f104523d-97b9-4d00-f256-0c12abb3484d"
      },
      "source": [
        "df['Город'].nunique()"
      ],
      "execution_count": 20,
      "outputs": [
        {
          "output_type": "execute_result",
          "data": {
            "text/plain": [
              "323"
            ]
          },
          "metadata": {
            "tags": []
          },
          "execution_count": 20
        }
      ]
    },
    {
      "cell_type": "code",
      "metadata": {
        "id": "MxEgdG31NVo6",
        "colab_type": "code",
        "colab": {
          "base_uri": "https://localhost:8080/",
          "height": 212
        },
        "outputId": "d4fbafd3-aac1-4281-c60b-624234ea161b"
      },
      "source": [
        "#посмотрим, из каких город было сделано больше всего заказов\n",
        "city = df['Город'].value_counts()\n",
        "ns = city.head(10)\n",
        "ns"
      ],
      "execution_count": 25,
      "outputs": [
        {
          "output_type": "execute_result",
          "data": {
            "text/plain": [
              "Санкт-Петербург    139\n",
              "Москва             126\n",
              "Краснодар           36\n",
              "Казань              26\n",
              "Екатеринбург        21\n",
              "Ростов-на-Дону      18\n",
              "Самара              14\n",
              "Сочи                12\n",
              "Красноярск          12\n",
              "Южно-Сахалинск      12\n",
              "Name: Город, dtype: int64"
            ]
          },
          "metadata": {
            "tags": []
          },
          "execution_count": 25
        }
      ]
    },
    {
      "cell_type": "code",
      "metadata": {
        "id": "H5ITs5uQNr4t",
        "colab_type": "code",
        "colab": {
          "base_uri": "https://localhost:8080/",
          "height": 364
        },
        "outputId": "b2293edb-2009-40bf-8b85-cd18d26133d9"
      },
      "source": [
        "#Видим, что Санкт-Петеребург занимает лидирующие позиции\n",
        "ns.plot.bar()"
      ],
      "execution_count": 27,
      "outputs": [
        {
          "output_type": "execute_result",
          "data": {
            "text/plain": [
              "<matplotlib.axes._subplots.AxesSubplot at 0x7fa360995208>"
            ]
          },
          "metadata": {
            "tags": []
          },
          "execution_count": 27
        },
        {
          "output_type": "display_data",
          "data": {
            "image/png": "[encoded data removed]",
            "text/plain": [
              "<Figure size 432x288 with 1 Axes>"
            ]
          },
          "metadata": {
            "tags": [],
            "needs_background": "light"
          }
        }
      ]
    },
    {
      "cell_type": "code",
      "metadata": {
        "id": "uIbPLWIn91m0",
        "colab_type": "code",
        "colab": {
          "base_uri": "https://localhost:8080/",
          "height": 34
        },
        "outputId": "048f0035-cb83-4869-9621-ac848cb4ed16"
      },
      "source": [
        "df['Метод доставки'].nunique()"
      ],
      "execution_count": null,
      "outputs": [
        {
          "output_type": "execute_result",
          "data": {
            "text/plain": [
              "7"
            ]
          },
          "metadata": {
            "tags": []
          },
          "execution_count": 9
        }
      ]
    },
    {
      "cell_type": "code",
      "metadata": {
        "id": "6mGOiLc7-Czn",
        "colab_type": "code",
        "colab": {
          "base_uri": "https://localhost:8080/",
          "height": 287
        },
        "outputId": "18d3b4b1-24d4-4613-e095-ba4038072ff1"
      },
      "source": [
        "#Посмотрим, какие методы доставки пользуются популярностью\n",
        "mk = df['Метод доставки'].value_counts()\n",
        "m_df = mk.reset_index()\n",
        "m_df = m_df.set_index(['index'])\n",
        "m_df"
      ],
      "execution_count": 49,
      "outputs": [
        {
          "output_type": "execute_result",
          "data": {
            "text/html": [
              "<div>\n",
              "<style scoped>\n",
              "    .dataframe tbody tr th:only-of-type {\n",
              "        vertical-align: middle;\n",
              "    }\n",
              "\n",
              "    .dataframe tbody tr th {\n",
              "        vertical-align: top;\n",
              "    }\n",
              "\n",
              "    .dataframe thead th {\n",
              "        text-align: right;\n",
              "    }\n",
              "</style>\n",
              "<table border=\"1\" class=\"dataframe\">\n",
              "  <thead>\n",
              "    <tr style=\"text-align: right;\">\n",
              "      <th></th>\n",
              "      <th>Метод доставки</th>\n",
              "    </tr>\n",
              "    <tr>\n",
              "      <th>index</th>\n",
              "      <th></th>\n",
              "    </tr>\n",
              "  </thead>\n",
              "  <tbody>\n",
              "    <tr>\n",
              "      <th>Курьерская доставка - CDEK</th>\n",
              "      <td>376</td>\n",
              "    </tr>\n",
              "    <tr>\n",
              "      <th>Пункт самовывоза - PickPoint</th>\n",
              "      <td>233</td>\n",
              "    </tr>\n",
              "    <tr>\n",
              "      <th>Курьерская доставка - DPD</th>\n",
              "      <td>149</td>\n",
              "    </tr>\n",
              "    <tr>\n",
              "      <th>Пункт самовывоза - CDEK</th>\n",
              "      <td>127</td>\n",
              "    </tr>\n",
              "    <tr>\n",
              "      <th>Курьерская доставка - Стриж</th>\n",
              "      <td>82</td>\n",
              "    </tr>\n",
              "    <tr>\n",
              "      <th>Пункт самовывоза - DPD</th>\n",
              "      <td>60</td>\n",
              "    </tr>\n",
              "    <tr>\n",
              "      <th>Почта России</th>\n",
              "      <td>54</td>\n",
              "    </tr>\n",
              "  </tbody>\n",
              "</table>\n",
              "</div>"
            ],
            "text/plain": [
              "                              Метод доставки\n",
              "index                                       \n",
              "Курьерская доставка - CDEK               376\n",
              "Пункт самовывоза - PickPoint             233\n",
              "Курьерская доставка - DPD                149\n",
              "Пункт самовывоза - CDEK                  127\n",
              "Курьерская доставка - Стриж               82\n",
              "Пункт самовывоза - DPD                    60\n",
              "Почта России                              54"
            ]
          },
          "metadata": {
            "tags": []
          },
          "execution_count": 49
        }
      ]
    },
    {
      "cell_type": "code",
      "metadata": {
        "id": "SX_cuL4t-Kkp",
        "colab_type": "code",
        "colab": {
          "base_uri": "https://localhost:8080/",
          "height": 443
        },
        "outputId": "e89064d1-68fc-411e-d62f-28ad03aff2e6"
      },
      "source": [
        "#Тройка лидеров: Сдек, Пикпоинт и DPD\n",
        "m_df.plot.bar()"
      ],
      "execution_count": 6,
      "outputs": [
        {
          "output_type": "execute_result",
          "data": {
            "text/plain": [
              "<matplotlib.axes._subplots.AxesSubplot at 0x7fa360a4a908>"
            ]
          },
          "metadata": {
            "tags": []
          },
          "execution_count": 6
        },
        {
          "output_type": "display_data",
          "data": {
            "image/png": "[encoded data removed]",
            "text/plain": [
              "<Figure size 432x288 with 1 Axes>"
            ]
          },
          "metadata": {
            "tags": [],
            "needs_background": "light"
          }
        }
      ]
    },
    {
      "cell_type": "code",
      "metadata": {
        "id": "v6U3a8CsOLMX",
        "colab_type": "code",
        "colab": {
          "base_uri": "https://localhost:8080/",
          "height": 341
        },
        "outputId": "f0f814ed-9475-4d39-cf72-2a10749762dc"
      },
      "source": [
        "df.describe()"
      ],
      "execution_count": 29,
      "outputs": [
        {
          "output_type": "execute_result",
          "data": {
            "text/html": [
              "<div>\n",
              "<style scoped>\n",
              "    .dataframe tbody tr th:only-of-type {\n",
              "        vertical-align: middle;\n",
              "    }\n",
              "\n",
              "    .dataframe tbody tr th {\n",
              "        vertical-align: top;\n",
              "    }\n",
              "\n",
              "    .dataframe thead th {\n",
              "        text-align: right;\n",
              "    }\n",
              "</style>\n",
              "<table border=\"1\" class=\"dataframe\">\n",
              "  <thead>\n",
              "    <tr style=\"text-align: right;\">\n",
              "      <th></th>\n",
              "      <th>Заказ #</th>\n",
              "      <th>Delivery</th>\n",
              "      <th>UN</th>\n",
              "      <th>Сумма (покупки)</th>\n",
              "      <th>Предварительный итог</th>\n",
              "      <th>Итог без скидок</th>\n",
              "      <th>Полный промобюджет</th>\n",
              "      <th>Промобюджет ПЛ</th>\n",
              "      <th>Customer</th>\n",
              "      <th>Причина отмены заказа</th>\n",
              "      <th>Номер карты «Аэрофлот Бонус»</th>\n",
              "    </tr>\n",
              "  </thead>\n",
              "  <tbody>\n",
              "    <tr>\n",
              "      <th>count</th>\n",
              "      <td>1.081000e+03</td>\n",
              "      <td>1.072000e+03</td>\n",
              "      <td>1081.000000</td>\n",
              "      <td>1081.000000</td>\n",
              "      <td>1081.000000</td>\n",
              "      <td>1081.000000</td>\n",
              "      <td>1081.000000</td>\n",
              "      <td>1081.000000</td>\n",
              "      <td>923.000000</td>\n",
              "      <td>0.0</td>\n",
              "      <td>1.440000e+02</td>\n",
              "    </tr>\n",
              "    <tr>\n",
              "      <th>mean</th>\n",
              "      <td>1.326045e+08</td>\n",
              "      <td>8.634716e+07</td>\n",
              "      <td>6.333025</td>\n",
              "      <td>3487.880666</td>\n",
              "      <td>4084.859019</td>\n",
              "      <td>4253.949639</td>\n",
              "      <td>835.143904</td>\n",
              "      <td>58.334875</td>\n",
              "      <td>324769.596966</td>\n",
              "      <td>NaN</td>\n",
              "      <td>6.830519e+13</td>\n",
              "    </tr>\n",
              "    <tr>\n",
              "      <th>std</th>\n",
              "      <td>1.734483e+04</td>\n",
              "      <td>1.401400e+04</td>\n",
              "      <td>2.919936</td>\n",
              "      <td>2240.787413</td>\n",
              "      <td>2716.900136</td>\n",
              "      <td>2807.409654</td>\n",
              "      <td>740.343945</td>\n",
              "      <td>265.678047</td>\n",
              "      <td>127582.529720</td>\n",
              "      <td>NaN</td>\n",
              "      <td>5.825155e+14</td>\n",
              "    </tr>\n",
              "    <tr>\n",
              "      <th>min</th>\n",
              "      <td>1.322992e+08</td>\n",
              "      <td>8.629614e+07</td>\n",
              "      <td>2.000000</td>\n",
              "      <td>0.000000</td>\n",
              "      <td>0.000000</td>\n",
              "      <td>0.000000</td>\n",
              "      <td>0.000000</td>\n",
              "      <td>0.000000</td>\n",
              "      <td>353.000000</td>\n",
              "      <td>NaN</td>\n",
              "      <td>3.109635e+06</td>\n",
              "    </tr>\n",
              "    <tr>\n",
              "      <th>25%</th>\n",
              "      <td>1.326042e+08</td>\n",
              "      <td>8.634286e+07</td>\n",
              "      <td>4.000000</td>\n",
              "      <td>2157.000000</td>\n",
              "      <td>2532.000000</td>\n",
              "      <td>2739.000000</td>\n",
              "      <td>263.000000</td>\n",
              "      <td>0.000000</td>\n",
              "      <td>231094.500000</td>\n",
              "      <td>NaN</td>\n",
              "      <td>1.883352e+08</td>\n",
              "    </tr>\n",
              "    <tr>\n",
              "      <th>50%</th>\n",
              "      <td>1.326106e+08</td>\n",
              "      <td>8.635384e+07</td>\n",
              "      <td>6.000000</td>\n",
              "      <td>3137.000000</td>\n",
              "      <td>3643.960000</td>\n",
              "      <td>3877.000000</td>\n",
              "      <td>699.000000</td>\n",
              "      <td>0.000000</td>\n",
              "      <td>400053.000000</td>\n",
              "      <td>NaN</td>\n",
              "      <td>1.015658e+09</td>\n",
              "    </tr>\n",
              "    <tr>\n",
              "      <th>75%</th>\n",
              "      <td>1.326131e+08</td>\n",
              "      <td>8.635622e+07</td>\n",
              "      <td>8.000000</td>\n",
              "      <td>4053.000000</td>\n",
              "      <td>4914.210000</td>\n",
              "      <td>5078.000000</td>\n",
              "      <td>1146.000000</td>\n",
              "      <td>0.000000</td>\n",
              "      <td>414597.500000</td>\n",
              "      <td>NaN</td>\n",
              "      <td>1.075140e+09</td>\n",
              "    </tr>\n",
              "    <tr>\n",
              "      <th>max</th>\n",
              "      <td>1.326151e+08</td>\n",
              "      <td>8.635756e+07</td>\n",
              "      <td>17.000000</td>\n",
              "      <td>30327.000000</td>\n",
              "      <td>37429.760000</td>\n",
              "      <td>37429.760000</td>\n",
              "      <td>7102.760000</td>\n",
              "      <td>2772.000000</td>\n",
              "      <td>415345.000000</td>\n",
              "      <td>NaN</td>\n",
              "      <td>5.559493e+15</td>\n",
              "    </tr>\n",
              "  </tbody>\n",
              "</table>\n",
              "</div>"
            ],
            "text/plain": [
              "            Заказ #  ...  Номер карты «Аэрофлот Бонус»\n",
              "count  1.081000e+03  ...                  1.440000e+02\n",
              "mean   1.326045e+08  ...                  6.830519e+13\n",
              "std    1.734483e+04  ...                  5.825155e+14\n",
              "min    1.322992e+08  ...                  3.109635e+06\n",
              "25%    1.326042e+08  ...                  1.883352e+08\n",
              "50%    1.326106e+08  ...                  1.015658e+09\n",
              "75%    1.326131e+08  ...                  1.075140e+09\n",
              "max    1.326151e+08  ...                  5.559493e+15\n",
              "\n",
              "[8 rows x 11 columns]"
            ]
          },
          "metadata": {
            "tags": []
          },
          "execution_count": 29
        }
      ]
    },
    {
      "cell_type": "code",
      "metadata": {
        "id": "I5mCfT_lPmNy",
        "colab_type": "code",
        "colab": {
          "base_uri": "https://localhost:8080/",
          "height": 321
        },
        "outputId": "c047db6f-037d-4493-da7a-2d90bb435f94"
      },
      "source": [
        "df.describe(include=['object'])"
      ],
      "execution_count": 30,
      "outputs": [
        {
          "output_type": "execute_result",
          "data": {
            "text/html": [
              "<div>\n",
              "<style scoped>\n",
              "    .dataframe tbody tr th:only-of-type {\n",
              "        vertical-align: middle;\n",
              "    }\n",
              "\n",
              "    .dataframe tbody tr th {\n",
              "        vertical-align: top;\n",
              "    }\n",
              "\n",
              "    .dataframe thead th {\n",
              "        text-align: right;\n",
              "    }\n",
              "</style>\n",
              "<table border=\"1\" class=\"dataframe\">\n",
              "  <thead>\n",
              "    <tr style=\"text-align: right;\">\n",
              "      <th></th>\n",
              "      <th>Промо првило</th>\n",
              "      <th>Другие корзиночные правила</th>\n",
              "      <th>Метод оплаты</th>\n",
              "      <th>Доставка на Имя</th>\n",
              "      <th>Телефон</th>\n",
              "      <th>Дата покупки</th>\n",
              "      <th>Статус</th>\n",
              "      <th>Дата доставки</th>\n",
              "      <th>Время доставки</th>\n",
              "      <th>Страна</th>\n",
              "      <th>Регион</th>\n",
              "      <th>Город</th>\n",
              "      <th>Улица</th>\n",
              "      <th>Код купона</th>\n",
              "      <th>В один клик</th>\n",
              "      <th>Source Type</th>\n",
              "      <th>Источник</th>\n",
              "      <th>Оформлен после</th>\n",
              "      <th>Метод доставки</th>\n",
              "    </tr>\n",
              "  </thead>\n",
              "  <tbody>\n",
              "    <tr>\n",
              "      <th>count</th>\n",
              "      <td>427</td>\n",
              "      <td>762</td>\n",
              "      <td>1081</td>\n",
              "      <td>1081</td>\n",
              "      <td>1081</td>\n",
              "      <td>1081</td>\n",
              "      <td>1081</td>\n",
              "      <td>1081</td>\n",
              "      <td>633</td>\n",
              "      <td>1081</td>\n",
              "      <td>1081</td>\n",
              "      <td>1081</td>\n",
              "      <td>981</td>\n",
              "      <td>395</td>\n",
              "      <td>1081</td>\n",
              "      <td>1081</td>\n",
              "      <td>1081</td>\n",
              "      <td>89</td>\n",
              "      <td>1081</td>\n",
              "    </tr>\n",
              "    <tr>\n",
              "      <th>unique</th>\n",
              "      <td>25</td>\n",
              "      <td>41</td>\n",
              "      <td>3</td>\n",
              "      <td>1061</td>\n",
              "      <td>1061</td>\n",
              "      <td>1081</td>\n",
              "      <td>6</td>\n",
              "      <td>41</td>\n",
              "      <td>2</td>\n",
              "      <td>1</td>\n",
              "      <td>81</td>\n",
              "      <td>323</td>\n",
              "      <td>963</td>\n",
              "      <td>291</td>\n",
              "      <td>1</td>\n",
              "      <td>3</td>\n",
              "      <td>15</td>\n",
              "      <td>1</td>\n",
              "      <td>7</td>\n",
              "    </tr>\n",
              "    <tr>\n",
              "      <th>top</th>\n",
              "      <td>#1907 - Скидка 20% на всю корзину при прохожде...</td>\n",
              "      <td>Бесплатная доставка от 3000 руб. для России</td>\n",
              "      <td>Карта (Оплата на сайте онлайн)</td>\n",
              "      <td>Юлия Драндрова</td>\n",
              "      <td>+7 (916) 505-24-21</td>\n",
              "      <td>3 июля 2020 г. 22:01:51</td>\n",
              "      <td>Доставляется</td>\n",
              "      <td>6 июля 2020 г.</td>\n",
              "      <td>С 9 - до 21</td>\n",
              "      <td>Россия</td>\n",
              "      <td>Санкт-Петербург</td>\n",
              "      <td>Санкт-Петербург</td>\n",
              "      <td>Космонавтов 8 а, 31</td>\n",
              "      <td>THANKYOU</td>\n",
              "      <td>Нет</td>\n",
              "      <td>Пользовательская часть</td>\n",
              "      <td>Версия для компьютера</td>\n",
              "      <td>Skinconsult</td>\n",
              "      <td>Курьерская доставка - CDEK</td>\n",
              "    </tr>\n",
              "    <tr>\n",
              "      <th>freq</th>\n",
              "      <td>148</td>\n",
              "      <td>487</td>\n",
              "      <td>700</td>\n",
              "      <td>4</td>\n",
              "      <td>3</td>\n",
              "      <td>1</td>\n",
              "      <td>889</td>\n",
              "      <td>263</td>\n",
              "      <td>471</td>\n",
              "      <td>1081</td>\n",
              "      <td>139</td>\n",
              "      <td>139</td>\n",
              "      <td>3</td>\n",
              "      <td>75</td>\n",
              "      <td>1081</td>\n",
              "      <td>696</td>\n",
              "      <td>693</td>\n",
              "      <td>89</td>\n",
              "      <td>376</td>\n",
              "    </tr>\n",
              "  </tbody>\n",
              "</table>\n",
              "</div>"
            ],
            "text/plain": [
              "                                             Промо првило  ...              Метод доставки\n",
              "count                                                 427  ...                        1081\n",
              "unique                                                 25  ...                           7\n",
              "top     #1907 - Скидка 20% на всю корзину при прохожде...  ...  Курьерская доставка - CDEK\n",
              "freq                                                  148  ...                         376\n",
              "\n",
              "[4 rows x 19 columns]"
            ]
          },
          "metadata": {
            "tags": []
          },
          "execution_count": 30
        }
      ]
    },
    {
      "cell_type": "code",
      "metadata": {
        "id": "I2981etEP4SW",
        "colab_type": "code",
        "colab": {
          "base_uri": "https://localhost:8080/",
          "height": 176
        },
        "outputId": "eabd65b9-2d88-4b43-f3e3-7e06f0d136bb"
      },
      "source": [
        "#Далее, посмотрим какая сумма заказов была отправлена каждым методом доставки\n",
        "grouped_by_orders = df.groupby('Метод доставки') # sort=True\n",
        "#grouped_by_orders\n",
        "nk = grouped_by_orders['Сумма (покупки)'].sum()\n",
        "nk"
      ],
      "execution_count": 50,
      "outputs": [
        {
          "output_type": "execute_result",
          "data": {
            "text/plain": [
              "Метод доставки\n",
              "Курьерская доставка - CDEK      1385832.0\n",
              "Курьерская доставка - DPD        600208.0\n",
              "Курьерская доставка - Стриж      319433.0\n",
              "Почта России                     217570.0\n",
              "Пункт самовывоза - CDEK          374665.0\n",
              "Пункт самовывоза - DPD           183213.0\n",
              "Пункт самовывоза - PickPoint     689478.0\n",
              "Name: Сумма (покупки), dtype: float64"
            ]
          },
          "metadata": {
            "tags": []
          },
          "execution_count": 50
        }
      ]
    },
    {
      "cell_type": "code",
      "metadata": {
        "id": "v4kddirWTQDh",
        "colab_type": "code",
        "colab": {
          "base_uri": "https://localhost:8080/",
          "height": 287
        },
        "outputId": "954532ac-2f2a-4aec-9543-ea6b739344bf"
      },
      "source": [
        "n_df = nk.reset_index()\n",
        "n_df = n_df.set_index(['Метод доставки'])\n",
        "n_df"
      ],
      "execution_count": 43,
      "outputs": [
        {
          "output_type": "execute_result",
          "data": {
            "text/html": [
              "<div>\n",
              "<style scoped>\n",
              "    .dataframe tbody tr th:only-of-type {\n",
              "        vertical-align: middle;\n",
              "    }\n",
              "\n",
              "    .dataframe tbody tr th {\n",
              "        vertical-align: top;\n",
              "    }\n",
              "\n",
              "    .dataframe thead th {\n",
              "        text-align: right;\n",
              "    }\n",
              "</style>\n",
              "<table border=\"1\" class=\"dataframe\">\n",
              "  <thead>\n",
              "    <tr style=\"text-align: right;\">\n",
              "      <th></th>\n",
              "      <th>Сумма (покупки)</th>\n",
              "    </tr>\n",
              "    <tr>\n",
              "      <th>Метод доставки</th>\n",
              "      <th></th>\n",
              "    </tr>\n",
              "  </thead>\n",
              "  <tbody>\n",
              "    <tr>\n",
              "      <th>Курьерская доставка - CDEK</th>\n",
              "      <td>1385832.0</td>\n",
              "    </tr>\n",
              "    <tr>\n",
              "      <th>Курьерская доставка - DPD</th>\n",
              "      <td>600208.0</td>\n",
              "    </tr>\n",
              "    <tr>\n",
              "      <th>Курьерская доставка - Стриж</th>\n",
              "      <td>319433.0</td>\n",
              "    </tr>\n",
              "    <tr>\n",
              "      <th>Почта России</th>\n",
              "      <td>217570.0</td>\n",
              "    </tr>\n",
              "    <tr>\n",
              "      <th>Пункт самовывоза - CDEK</th>\n",
              "      <td>374665.0</td>\n",
              "    </tr>\n",
              "    <tr>\n",
              "      <th>Пункт самовывоза - DPD</th>\n",
              "      <td>183213.0</td>\n",
              "    </tr>\n",
              "    <tr>\n",
              "      <th>Пункт самовывоза - PickPoint</th>\n",
              "      <td>689478.0</td>\n",
              "    </tr>\n",
              "  </tbody>\n",
              "</table>\n",
              "</div>"
            ],
            "text/plain": [
              "                              Сумма (покупки)\n",
              "Метод доставки                               \n",
              "Курьерская доставка - CDEK          1385832.0\n",
              "Курьерская доставка - DPD            600208.0\n",
              "Курьерская доставка - Стриж          319433.0\n",
              "Почта России                         217570.0\n",
              "Пункт самовывоза - CDEK              374665.0\n",
              "Пункт самовывоза - DPD               183213.0\n",
              "Пункт самовывоза - PickPoint         689478.0"
            ]
          },
          "metadata": {
            "tags": []
          },
          "execution_count": 43
        }
      ]
    },
    {
      "cell_type": "code",
      "metadata": {
        "id": "-ZjxV52dTgz9",
        "colab_type": "code",
        "colab": {
          "base_uri": "https://localhost:8080/",
          "height": 454
        },
        "outputId": "11eebf55-2707-421e-d76e-6c4d59a0e83e"
      },
      "source": [
        "\n",
        "n_df.plot.bar()"
      ],
      "execution_count": 48,
      "outputs": [
        {
          "output_type": "execute_result",
          "data": {
            "text/plain": [
              "<matplotlib.axes._subplots.AxesSubplot at 0x7fa35fef4c50>"
            ]
          },
          "metadata": {
            "tags": []
          },
          "execution_count": 48
        },
        {
          "output_type": "display_data",
          "data": {
            "image/png": "[encoded data removed]",
            "text/plain": [
              "<Figure size 432x288 with 1 Axes>"
            ]
          },
          "metadata": {
            "tags": [],
            "needs_background": "light"
          }
        }
      ]
    },
    {
      "cell_type": "code",
      "metadata": {
        "id": "K6YK8vVc6-d8",
        "colab_type": "code",
        "colab": {
          "base_uri": "https://localhost:8080/",
          "height": 674
        },
        "outputId": "2bbc446c-a7fc-4ca1-8490-587cb7864b3f"
      },
      "source": [
        "df.info()"
      ],
      "execution_count": null,
      "outputs": [
        {
          "output_type": "stream",
          "text": [
            "<class 'pandas.core.frame.DataFrame'>\n",
            "RangeIndex: 1081 entries, 0 to 1080\n",
            "Data columns (total 30 columns):\n",
            " #   Column                        Non-Null Count  Dtype  \n",
            "---  ------                        --------------  -----  \n",
            " 0   Заказ #                       1081 non-null   int64  \n",
            " 1   Delivery                      1072 non-null   float64\n",
            " 2   UN                            1081 non-null   int64  \n",
            " 3   Сумма (покупки)               1081 non-null   float64\n",
            " 4   Предварительный итог          1081 non-null   float64\n",
            " 5   Итог без скидок               1081 non-null   float64\n",
            " 6   Полный промобюджет            1081 non-null   float64\n",
            " 7   Промобюджет ПЛ                1081 non-null   float64\n",
            " 8   Промо првило                  427 non-null    object \n",
            " 9   Другие корзиночные правила    762 non-null    object \n",
            " 10  Метод оплаты                  1081 non-null   object \n",
            " 11  Customer                      923 non-null    float64\n",
            " 12  Доставка на Имя               1081 non-null   object \n",
            " 13  Телефон                       1081 non-null   object \n",
            " 14  Дата покупки                  1081 non-null   object \n",
            " 15  Статус                        1081 non-null   object \n",
            " 16  Причина отмены заказа         0 non-null      float64\n",
            " 17  Дата доставки                 1081 non-null   object \n",
            " 18  Время доставки                633 non-null    object \n",
            " 19  Страна                        1081 non-null   object \n",
            " 20  Регион                        1081 non-null   object \n",
            " 21  Город                         1081 non-null   object \n",
            " 22  Улица                         981 non-null    object \n",
            " 23  Код купона                    395 non-null    object \n",
            " 24  В один клик                   1081 non-null   object \n",
            " 25  Source Type                   1081 non-null   object \n",
            " 26  Источник                      1081 non-null   object \n",
            " 27  Оформлен после                89 non-null     object \n",
            " 28  Метод доставки                1081 non-null   object \n",
            " 29  Номер карты «Аэрофлот Бонус»  144 non-null    float64\n",
            "dtypes: float64(9), int64(2), object(19)\n",
            "memory usage: 253.5+ KB\n"
          ],
          "name": "stdout"
        }
      ]
    },
    {
      "cell_type": "code",
      "metadata": {
        "id": "cI6Pep6Y7bVz",
        "colab_type": "code",
        "colab": {
          "base_uri": "https://localhost:8080/",
          "height": 34
        },
        "outputId": "68bcd737-77a0-40b1-cb28-33556dd11ec8"
      },
      "source": [
        "df.size"
      ],
      "execution_count": null,
      "outputs": [
        {
          "output_type": "execute_result",
          "data": {
            "text/plain": [
              "32430"
            ]
          },
          "metadata": {
            "tags": []
          },
          "execution_count": 7
        }
      ]
    }
  ]
}