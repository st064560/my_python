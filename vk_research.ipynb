{
  "nbformat": 4,
  "nbformat_minor": 0,
  "metadata": {
    "colab": {
      "name": "vk_research.ipynb",
      "provenance": [],
      "authorship_tag": "ABX9TyMzoOl5pIJqH9HTMWn3LF3D",
      "include_colab_link": true
    },
    "kernelspec": {
      "name": "python3",
      "display_name": "Python 3"
    }
  },
  "cells": [
    {
      "cell_type": "markdown",
      "metadata": {
        "id": "view-in-github",
        "colab_type": "text"
      },
      "source": [
        "<a href=\"https://colab.research.google.com/github/st064560/my_python/blob/master/vk_research.ipynb\" target=\"_parent\"><img src=\"https://colab.research.google.com/assets/colab-badge.svg\" alt=\"Open In Colab\"/></a>"
      ]
    },
    {
      "cell_type": "code",
      "metadata": {
        "id": "nhjQaA9bQ--S",
        "colab_type": "code",
        "colab": {
          "base_uri": "https://localhost:8080/",
          "height": 336
        },
        "outputId": "9dc276ef-7da7-473e-c2f7-ea712f169d74"
      },
      "source": [
        "import csv\n",
        "\n",
        "vk_stat = dict()\n",
        "\n",
        "with open('vk.stat', 'r') as file:\n",
        "    stat = csv.reader(file)\n",
        "    for line in stat:\n",
        "      ## enumerate - чтобы не считать номер столбца\n",
        "      for i, j in enumerate(line):\n",
        "        print(i, j)\n",
        "      break"
      ],
      "execution_count": 1,
      "outputs": [
        {
          "output_type": "stream",
          "text": [
            "0 Дата\n",
            "1 Создатель записи\n",
            "2 Запись\n",
            "3 Ссылка\n",
            "4 Охват подписчиков\n",
            "5 Виральный охват\n",
            "6 Рекламный охват\n",
            "7 Полный охват\n",
            "8 Нравится\n",
            "9 Поделились\n",
            "10 Комментариев\n",
            "11 Скрыли запись\n",
            "12 Жалобы\n",
            "13 Скрыли все записи\n",
            "14 Переходы в сообщество\n",
            "15 Подписались на страницу\n",
            "16 Переходы по ссылке\n",
            "ERROR! Session/line number was not unique in database. History logging moved to new session 60\n"
          ],
          "name": "stdout"
        }
      ]
    },
    {
      "cell_type": "code",
      "metadata": {
        "id": "2W56yzdxSM2l",
        "colab_type": "code",
        "colab": {
          "base_uri": "https://localhost:8080/",
          "height": 692
        },
        "outputId": "dea6f2f7-473e-4a59-89f2-e727481a6c98"
      },
      "source": [
        "import csv\n",
        "\n",
        "vk_stat = dict()\n",
        "\n",
        "with open('vk.stat', 'r') as file:\n",
        "    stat = csv.reader(file)\n",
        "    for line in stat:\n",
        "      if line[0] == 'Дата':\n",
        "        continue\n",
        "      else:\n",
        "        ## сопоставим ссылку и полный охват\n",
        "        vk_stat[line[3]] = int(line[7])\n",
        "vk_stat"
      ],
      "execution_count": 4,
      "outputs": [
        {
          "output_type": "execute_result",
          "data": {
            "text/plain": [
              "{'https://vk.com/wall-181854671_10': 112,\n",
              " 'https://vk.com/wall-181854671_11': 114,\n",
              " 'https://vk.com/wall-181854671_12': 83,\n",
              " 'https://vk.com/wall-181854671_13': 130,\n",
              " 'https://vk.com/wall-181854671_15': 135,\n",
              " 'https://vk.com/wall-181854671_17': 170,\n",
              " 'https://vk.com/wall-181854671_18': 117,\n",
              " 'https://vk.com/wall-181854671_19': 127,\n",
              " 'https://vk.com/wall-181854671_2': 38,\n",
              " 'https://vk.com/wall-181854671_20': 200,\n",
              " 'https://vk.com/wall-181854671_21': 149,\n",
              " 'https://vk.com/wall-181854671_23': 168,\n",
              " 'https://vk.com/wall-181854671_24': 184,\n",
              " 'https://vk.com/wall-181854671_25': 219,\n",
              " 'https://vk.com/wall-181854671_27': 1190,\n",
              " 'https://vk.com/wall-181854671_3': 48,\n",
              " 'https://vk.com/wall-181854671_32': 558,\n",
              " 'https://vk.com/wall-181854671_36': 816,\n",
              " 'https://vk.com/wall-181854671_37': 248,\n",
              " 'https://vk.com/wall-181854671_4': 52,\n",
              " 'https://vk.com/wall-181854671_40': 314,\n",
              " 'https://vk.com/wall-181854671_42': 254,\n",
              " 'https://vk.com/wall-181854671_43': 311,\n",
              " 'https://vk.com/wall-181854671_44': 268,\n",
              " 'https://vk.com/wall-181854671_46': 282,\n",
              " 'https://vk.com/wall-181854671_47': 301,\n",
              " 'https://vk.com/wall-181854671_48': 311,\n",
              " 'https://vk.com/wall-181854671_49': 686,\n",
              " 'https://vk.com/wall-181854671_5': 75,\n",
              " 'https://vk.com/wall-181854671_50': 270,\n",
              " 'https://vk.com/wall-181854671_51': 280,\n",
              " 'https://vk.com/wall-181854671_52': 778,\n",
              " 'https://vk.com/wall-181854671_53': 734,\n",
              " 'https://vk.com/wall-181854671_54': 228,\n",
              " 'https://vk.com/wall-181854671_6': 81,\n",
              " 'https://vk.com/wall-181854671_7': 71,\n",
              " 'https://vk.com/wall-181854671_8': 68,\n",
              " 'https://vk.com/wall-181854671_9': 101}"
            ]
          },
          "metadata": {
            "tags": []
          },
          "execution_count": 4
        }
      ]
    },
    {
      "cell_type": "code",
      "metadata": {
        "id": "gftrPuReTWEC",
        "colab_type": "code",
        "colab": {
          "base_uri": "https://localhost:8080/",
          "height": 692
        },
        "outputId": "d61ea425-d663-4d24-b45b-1ed8c7807005"
      },
      "source": [
        "for i in sorted(vk_stat, key=vk_stat.get,):\n",
        "  print(i, vk_stat[i])\n",
        "  ##полный охват в порядке возрастания\n"
      ],
      "execution_count": 7,
      "outputs": [
        {
          "output_type": "stream",
          "text": [
            "https://vk.com/wall-181854671_2 38\n",
            "https://vk.com/wall-181854671_3 48\n",
            "https://vk.com/wall-181854671_4 52\n",
            "https://vk.com/wall-181854671_8 68\n",
            "https://vk.com/wall-181854671_7 71\n",
            "https://vk.com/wall-181854671_5 75\n",
            "https://vk.com/wall-181854671_6 81\n",
            "https://vk.com/wall-181854671_12 83\n",
            "https://vk.com/wall-181854671_9 101\n",
            "https://vk.com/wall-181854671_10 112\n",
            "https://vk.com/wall-181854671_11 114\n",
            "https://vk.com/wall-181854671_18 117\n",
            "https://vk.com/wall-181854671_19 127\n",
            "https://vk.com/wall-181854671_13 130\n",
            "https://vk.com/wall-181854671_15 135\n",
            "https://vk.com/wall-181854671_21 149\n",
            "https://vk.com/wall-181854671_23 168\n",
            "https://vk.com/wall-181854671_17 170\n",
            "https://vk.com/wall-181854671_24 184\n",
            "https://vk.com/wall-181854671_20 200\n",
            "https://vk.com/wall-181854671_25 219\n",
            "https://vk.com/wall-181854671_54 228\n",
            "https://vk.com/wall-181854671_37 248\n",
            "https://vk.com/wall-181854671_42 254\n",
            "https://vk.com/wall-181854671_44 268\n",
            "https://vk.com/wall-181854671_50 270\n",
            "https://vk.com/wall-181854671_51 280\n",
            "https://vk.com/wall-181854671_46 282\n",
            "https://vk.com/wall-181854671_47 301\n",
            "https://vk.com/wall-181854671_48 311\n",
            "https://vk.com/wall-181854671_43 311\n",
            "https://vk.com/wall-181854671_40 314\n",
            "https://vk.com/wall-181854671_32 558\n",
            "https://vk.com/wall-181854671_49 686\n",
            "https://vk.com/wall-181854671_53 734\n",
            "https://vk.com/wall-181854671_52 778\n",
            "https://vk.com/wall-181854671_36 816\n",
            "https://vk.com/wall-181854671_27 1190\n"
          ],
          "name": "stdout"
        }
      ]
    },
    {
      "cell_type": "code",
      "metadata": {
        "id": "x6QzCmmaS2tc",
        "colab_type": "code",
        "colab": {
          "base_uri": "https://localhost:8080/",
          "height": 34
        },
        "outputId": "940cdf72-9ed5-4e83-e20e-6111f9189848"
      },
      "source": [
        "## наибольший полный охват\n",
        "for i in sorted(vk_stat, key=vk_stat.get, reverse=True):\n",
        "  print(i, vk_stat[i])\n",
        "  break"
      ],
      "execution_count": 6,
      "outputs": [
        {
          "output_type": "stream",
          "text": [
            "https://vk.com/wall-181854671_27 1190\n"
          ],
          "name": "stdout"
        }
      ]
    }
  ]
}