{
  "nbformat": 4,
  "nbformat_minor": 0,
  "metadata": {
    "colab": {
      "name": "gas_prices.ipynb",
      "provenance": [],
      "authorship_tag": "ABX9TyOKFVFGvasbp+VBepLPin4L",
      "include_colab_link": true
    },
    "kernelspec": {
      "name": "python3",
      "display_name": "Python 3"
    }
  },
  "cells": [
    {
      "cell_type": "markdown",
      "metadata": {
        "id": "view-in-github",
        "colab_type": "text"
      },
      "source": [
        "<a href=\"https://colab.research.google.com/github/st064560/my_python/blob/master/gas_prices.ipynb\" target=\"_parent\"><img src=\"https://colab.research.google.com/assets/colab-badge.svg\" alt=\"Open In Colab\"/></a>"
      ]
    },
    {
      "cell_type": "code",
      "metadata": {
        "id": "nR7LYzsqWbqj",
        "colab_type": "code",
        "colab": {
          "base_uri": "https://localhost:8080/",
          "height": 52
        },
        "outputId": "8c61ded3-2834-4a22-e190-539afccb2902"
      },
      "source": [
        "## выведем строку файла\n",
        "with open('gas_prices.stat', 'r') as file:\n",
        "  for line in file:\n",
        "    print(line)\n",
        "    break"
      ],
      "execution_count": 2,
      "outputs": [
        {
          "output_type": "stream",
          "text": [
            "04-05-1993:1.068\n",
            "\n"
          ],
          "name": "stdout"
        }
      ]
    },
    {
      "cell_type": "code",
      "metadata": {
        "id": "97gqBe3uXJyU",
        "colab_type": "code",
        "colab": {
          "base_uri": "https://localhost:8080/",
          "height": 34
        },
        "outputId": "c2472c83-3431-415f-ad62-057a0765245c"
      },
      "source": [
        "##разделим значение - сплит\n",
        "with open('gas_prices.stat', 'r') as file:\n",
        "  for line in file:\n",
        "    print(line.split(':'))\n",
        "    break"
      ],
      "execution_count": 3,
      "outputs": [
        {
          "output_type": "stream",
          "text": [
            "['04-05-1993', '1.068\\n']\n"
          ],
          "name": "stdout"
        }
      ]
    },
    {
      "cell_type": "code",
      "metadata": {
        "id": "owaZk-KVXqFx",
        "colab_type": "code",
        "colab": {
          "base_uri": "https://localhost:8080/",
          "height": 34
        },
        "outputId": "29ca087b-378d-4379-fec6-5b62841d102e"
      },
      "source": [
        "##вытащим год\n",
        "with open('gas_prices.stat', 'r') as file:\n",
        "  for line in file:\n",
        "    print(line.split(':')[0].split('-')[2])\n",
        "    break"
      ],
      "execution_count": 5,
      "outputs": [
        {
          "output_type": "stream",
          "text": [
            "1993\n"
          ],
          "name": "stdout"
        }
      ]
    },
    {
      "cell_type": "code",
      "metadata": {
        "id": "nW1jlgkvYBOs",
        "colab_type": "code",
        "colab": {
          "base_uri": "https://localhost:8080/",
          "height": 34
        },
        "outputId": "76a35d45-96ab-4109-9b44-a57ca2dcf452"
      },
      "source": [
        "##создадим словарь \n",
        "price = dict()\n",
        "\n",
        "with open('gas_prices.stat', 'r') as file:\n",
        "  for line in file:\n",
        "    #print(line.split(':')[0].split('-')[2])\n",
        "    price[int(line.split(':')[0].split('-')[2])] = float(line.split(':')[1].strip())\n",
        "    break\n",
        "price"
      ],
      "execution_count": 7,
      "outputs": [
        {
          "output_type": "execute_result",
          "data": {
            "text/plain": [
              "{1993: 1.068}"
            ]
          },
          "metadata": {
            "tags": []
          },
          "execution_count": 7
        }
      ]
    },
    {
      "cell_type": "code",
      "metadata": {
        "id": "OkwRDWfnZKqM",
        "colab_type": "code",
        "colab": {
          "base_uri": "https://localhost:8080/",
          "height": 70
        },
        "outputId": "18d943cb-1101-47ce-84cc-ddfb73bd68f6"
      },
      "source": [
        "##поиск максимального для данного года\n",
        "\n",
        "price = dict()\n",
        "\n",
        "with open('gas_prices.stat', 'r') as file:\n",
        "  for line in file:\n",
        "    #print(line.split(':')[0].split('-')[2])\n",
        "\n",
        "    year = int(line.split(':')[0].split('-')[2])\n",
        "    \n",
        "    price[year] = 0\n",
        "\n",
        "    value = float(line.split(':')[1].strip())\n",
        "    \n",
        "    if value > price[year]:\n",
        "      price[year] = value\n",
        "\n",
        "    print(price)\n",
        "    print(value)\n",
        "\n",
        "    break\n",
        "price"
      ],
      "execution_count": 9,
      "outputs": [
        {
          "output_type": "stream",
          "text": [
            "{1993: 1.068}\n",
            "1.068\n"
          ],
          "name": "stdout"
        },
        {
          "output_type": "execute_result",
          "data": {
            "text/plain": [
              "{1993: 1.068}"
            ]
          },
          "metadata": {
            "tags": []
          },
          "execution_count": 9
        }
      ]
    },
    {
      "cell_type": "code",
      "metadata": {
        "id": "2kbCph0efIck",
        "colab_type": "code",
        "colab": {
          "base_uri": "https://localhost:8080/",
          "height": 87
        },
        "outputId": "1805d1dd-7ce6-49b4-d362-6ad6ee11c84f"
      },
      "source": [
        "!pip install datetime\n",
        "import datetime"
      ],
      "execution_count": 14,
      "outputs": [
        {
          "output_type": "stream",
          "text": [
            "Requirement already satisfied: datetime in /usr/local/lib/python3.6/dist-packages (4.3)\n",
            "Requirement already satisfied: zope.interface in /usr/local/lib/python3.6/dist-packages (from datetime) (5.0.2)\n",
            "Requirement already satisfied: pytz in /usr/local/lib/python3.6/dist-packages (from datetime) (2018.9)\n",
            "Requirement already satisfied: setuptools in /usr/local/lib/python3.6/dist-packages (from zope.interface->datetime) (46.0.0)\n"
          ],
          "name": "stdout"
        }
      ]
    },
    {
      "cell_type": "code",
      "metadata": {
        "id": "WFwobdoOd_mK",
        "colab_type": "code",
        "colab": {
          "base_uri": "https://localhost:8080/",
          "height": 54
        },
        "outputId": "05e0a410-47e7-4131-e45e-eabc1c2148d0"
      },
      "source": [
        "\n",
        "\n",
        "import csv\n",
        "import datetime\n",
        "\n",
        "gas = {}\n",
        "with open('gas_prices.stat', 'r') as file:\n",
        "  stat = csv.reader(file)\n",
        "  for line in file:\n",
        "    year = int(line.split(':')[0].split('-')[2])\n",
        "    price = float(line.split(':')[1].strip())\n",
        "\n",
        "    if (year not in gas):\n",
        "      gas[year] = price\n",
        "\n",
        "    else:\n",
        "      if gas[year] < price:\n",
        "        gas[year] = price\n",
        "print(gas)\n",
        "\n"
      ],
      "execution_count": 18,
      "outputs": [
        {
          "output_type": "stream",
          "text": [
            "{1993: 1.107, 1994: 1.165, 1995: 1.246, 1996: 1.33, 1997: 1.288, 1998: 1.148, 1999: 1.315, 2000: 1.711, 2001: 1.748, 2002: 1.499, 2003: 1.787, 2004: 2.104, 2005: 3.117, 2006: 3.083, 2007: 3.258, 2008: 4.165, 2009: 2.746, 2010: 3.106, 2011: 4.018, 2012: 3.997, 2013: 3.851}\n"
          ],
          "name": "stdout"
        }
      ]
    }
  ]
}