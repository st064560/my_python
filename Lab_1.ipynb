{
  "nbformat": 4,
  "nbformat_minor": 0,
  "metadata": {
    "colab": {
      "name": "Lab_1.ipynb",
      "provenance": [],
      "collapsed_sections": [],
      "include_colab_link": true
    },
    "kernelspec": {
      "name": "python3",
      "display_name": "Python 3"
    }
  },
  "cells": [
    {
      "cell_type": "markdown",
      "metadata": {
        "id": "view-in-github",
        "colab_type": "text"
      },
      "source": [
        "<a href=\"https://colab.research.google.com/github/st064560/my_python/blob/master/Lab_1.ipynb\" target=\"_parent\"><img src=\"https://colab.research.google.com/assets/colab-badge.svg\" alt=\"Open In Colab\"/></a>"
      ]
    },
    {
      "cell_type": "code",
      "metadata": {
        "id": "3TKM5vgQwmOE",
        "colab_type": "code",
        "outputId": "107098e6-261c-4542-a966-53cf23fedba1",
        "colab": {
          "base_uri": "https://localhost:8080/",
          "height": 674
        }
      },
      "source": [
        "import csv\n",
        "\n",
        "vk_stat = dict()\n",
        "lst = []\n",
        "\n",
        "with open('Lab_1_data.stat', 'r') as file:\n",
        "    stat = csv.reader(file)\n",
        "    for line in stat:\n",
        "      if line[0] == \"Дата\":\n",
        "        continue\n",
        "      else:\n",
        "        if line[1] == \"views\":\n",
        "            #print(line[4])\n",
        "            lst.append(line[4])\n",
        "\n",
        "#print(lst)\n",
        "\n",
        "## сколько раз встречается число\n",
        "import collections\n",
        "count = collections.Counter(lst)\n",
        "dict(count)\n"
      ],
      "execution_count": 0,
      "outputs": [
        {
          "output_type": "execute_result",
          "data": {
            "text/plain": [
              "{'0': 67,\n",
              " '1': 261,\n",
              " '10': 13,\n",
              " '11': 12,\n",
              " '12': 9,\n",
              " '13': 11,\n",
              " '14': 7,\n",
              " '15': 6,\n",
              " '16': 1,\n",
              " '17': 6,\n",
              " '18': 4,\n",
              " '19': 1,\n",
              " '2': 235,\n",
              " '20': 2,\n",
              " '21': 3,\n",
              " '22': 3,\n",
              " '24': 1,\n",
              " '25': 2,\n",
              " '26': 2,\n",
              " '28': 1,\n",
              " '29': 1,\n",
              " '3': 152,\n",
              " '30': 1,\n",
              " '31': 1,\n",
              " '33': 2,\n",
              " '34': 2,\n",
              " '37': 2,\n",
              " '4': 129,\n",
              " '46': 1,\n",
              " '5': 96,\n",
              " '55': 2,\n",
              " '57': 2,\n",
              " '6': 40,\n",
              " '7': 43,\n",
              " '76': 1,\n",
              " '8': 23,\n",
              " '9': 14}"
            ]
          },
          "metadata": {
            "tags": []
          },
          "execution_count": 21
        }
      ]
    },
    {
      "cell_type": "code",
      "metadata": {
        "id": "WSgRCPqP_Gkl",
        "colab_type": "code",
        "outputId": "4fbacf23-49e7-4c94-afa3-419a2ee9739d",
        "colab": {
          "base_uri": "https://localhost:8080/",
          "height": 34
        }
      },
      "source": [
        "import csv\n",
        "\n",
        "vk_stat = dict()\n",
        "lst = []\n",
        "\n",
        "with open('Lab_1_data.stat', 'r') as file:\n",
        "    stat = csv.reader(file)\n",
        "    for line in stat:\n",
        "        if line[0] == \"Дата\":\n",
        "          continue\n",
        "        else:\n",
        "          \n",
        "          if line[0].split('.') [2] == '2020' and line[1] == \"views\":\n",
        "            vk_stat[int(line[0].split('.') [1])] = int(line[4])\n",
        "vk_stat"
      ],
      "execution_count": 0,
      "outputs": [
        {
          "output_type": "execute_result",
          "data": {
            "text/plain": [
              "{1: 1, 2: 1, 3: 2}"
            ]
          },
          "metadata": {
            "tags": []
          },
          "execution_count": 29
        }
      ]
    },
    {
      "cell_type": "code",
      "metadata": {
        "id": "p0fxIFna7BTM",
        "colab_type": "code",
        "outputId": "366815f7-cdac-4bb9-ce03-8f0c08b04cd8",
        "colab": {
          "base_uri": "https://localhost:8080/",
          "height": 34
        }
      },
      "source": [
        "## создадим словарь: дата - просмотры\n",
        "import csv\n",
        "\n",
        "vk_stat = dict()\n",
        "lst = []\n",
        "\n",
        "with open('Lab_1_data.stat', 'r') as file:\n",
        "    stat = csv.reader(file)\n",
        "    for line in stat:\n",
        "      if line[0] == \"Дата\":\n",
        "        continue\n",
        "      else:\n",
        "        #vk_stat[line[0]] = int(line[4])\n",
        "        if line[0].split('.') [2] == '2020' and line[1] == 'views':\n",
        "              vk_stat[line[0]] = int(line[4])\n",
        "              #lst.append(line[4])\n",
        "list(vk_stat.values())\n",
        "\n",
        "from statistics import mean \n",
        "  \n",
        "def Average(lst): \n",
        "    return mean(lst) \n",
        "  \n",
        "average = Average(list(vk_stat.values())) \n",
        "  \n",
        "# Printing average of the list \n",
        "print(\"Average of the list Views =\", round(average, 2))\n",
        "\n"
      ],
      "execution_count": 0,
      "outputs": [
        {
          "output_type": "stream",
          "text": [
            "Average of the list = 4.18\n"
          ],
          "name": "stdout"
        }
      ]
    },
    {
      "cell_type": "code",
      "metadata": {
        "id": "8CnkNX4wTHXA",
        "colab_type": "code",
        "outputId": "bc771a07-5b59-4cdc-df70-fecbc2029983",
        "colab": {
          "base_uri": "https://localhost:8080/",
          "height": 34
        }
      },
      "source": [
        "## создадим словарь: дата - посетители (visitors)\n",
        "import csv\n",
        "\n",
        "vk_stat_1 = dict()\n",
        "\n",
        "with open('Lab_1_data.stat', 'r') as file:\n",
        "    stat = csv.reader(file)\n",
        "    for line in stat:\n",
        "      if line[0] == \"Дата\":\n",
        "        continue\n",
        "      else:\n",
        "        if line[0].split('.') [2] == '2020' and line[1] == 'visitors':\n",
        "              vk_stat_1[line[0]] = int(line[4])\n",
        "              \n",
        "list(vk_stat_1.values())\n",
        "\n",
        "from statistics import mean \n",
        "  \n",
        "def Average(lst): \n",
        "    return mean(lst) \n",
        "  \n",
        "average = Average(list(vk_stat_1.values())) \n",
        "  \n",
        "# Printing average of the list \n",
        "print(\"Average of the list Visitors =\", round(average, 2))"
      ],
      "execution_count": 0,
      "outputs": [
        {
          "output_type": "stream",
          "text": [
            "Average of the list Visitors = 2.76\n"
          ],
          "name": "stdout"
        }
      ]
    },
    {
      "cell_type": "code",
      "metadata": {
        "id": "sGlFaOJV7gSa",
        "colab_type": "code",
        "outputId": "c93df8c7-e0c6-4c3b-dc04-b3748e42d078",
        "colab": {
          "base_uri": "https://localhost:8080/",
          "height": 34
        }
      },
      "source": [
        "#№ наибольшее количество просмотров\n",
        "for i in sorted(vk_stat, key=vk_stat.get, reverse=True):\n",
        "  print(i, vk_stat[i])\n",
        "  break"
      ],
      "execution_count": 0,
      "outputs": [
        {
          "output_type": "stream",
          "text": [
            "25.09.2019 130\n"
          ],
          "name": "stdout"
        }
      ]
    },
    {
      "cell_type": "code",
      "metadata": {
        "id": "ZbamAVrU8RDa",
        "colab_type": "code",
        "outputId": "127c5271-4fa2-4bb0-b10f-5958a128ae84",
        "colab": {
          "base_uri": "https://localhost:8080/",
          "height": 34
        }
      },
      "source": [
        "import collections\n",
        "count = collections.Counter(lst)\n",
        "dict(count)"
      ],
      "execution_count": 0,
      "outputs": [
        {
          "output_type": "execute_result",
          "data": {
            "text/plain": [
              "{}"
            ]
          },
          "metadata": {
            "tags": []
          },
          "execution_count": 20
        }
      ]
    }
  ]
}