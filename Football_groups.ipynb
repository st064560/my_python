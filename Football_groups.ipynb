{
  "nbformat": 4,
  "nbformat_minor": 0,
  "metadata": {
    "kernelspec": {
      "display_name": "Python 3",
      "language": "python",
      "name": "python3"
    },
    "language_info": {
      "codemirror_mode": {
        "name": "ipython",
        "version": 3
      },
      "file_extension": ".py",
      "mimetype": "text/x-python",
      "name": "python",
      "nbconvert_exporter": "python",
      "pygments_lexer": "ipython3",
      "version": "3.7.3"
    },
    "colab": {
      "name": "Football_groups.ipynb",
      "provenance": [],
      "include_colab_link": true
    }
  },
  "cells": [
    {
      "cell_type": "markdown",
      "metadata": {
        "id": "view-in-github",
        "colab_type": "text"
      },
      "source": [
        "<a href=\"https://colab.research.google.com/github/st064560/my_python/blob/master/Football_groups.ipynb\" target=\"_parent\"><img src=\"https://colab.research.google.com/assets/colab-badge.svg\" alt=\"Open In Colab\"/></a>"
      ]
    },
    {
      "cell_type": "markdown",
      "metadata": {
        "id": "3phtuUg0TVz-",
        "colab_type": "text"
      },
      "source": [
        "<a href=\"https://colab.research.google.com/github/dm-fedorov/pandas_basic/blob/master/%D1%83%D0%BF%D1%80%D0%B0%D0%B6%D0%BD%D0%B5%D0%BD%D0%B8%D1%8F/2.%20%D0%93%D1%80%D1%83%D0%BF%D0%BF%D0%B8%D1%80%D0%BE%D0%B2%D0%BA%D0%B0.ipynb\"><img align=\"left\" src=\"https://colab.research.google.com/assets/colab-badge.svg\" alt=\"Open in Colab\" title=\"Open and Execute in Google Colaboratory\" target=\"_blank\"></a>"
      ]
    },
    {
      "cell_type": "markdown",
      "metadata": {
        "id": "kpSde8G-TV0J",
        "colab_type": "text"
      },
      "source": [
        "Возьмем по `5 футболистов` трех различных национальностей, а затем посчитаем средний возраст внутри каждой из национальностей."
      ]
    },
    {
      "cell_type": "markdown",
      "metadata": {
        "id": "2_z8tZGuTV0V",
        "colab_type": "text"
      },
      "source": [
        "<img src=\"https://raw.githubusercontent.com/dm-fedorov/pandas_basic/master/pic/split_apply_combine.png\">"
      ]
    },
    {
      "cell_type": "markdown",
      "metadata": {
        "id": "zDip8YWoTV0d",
        "colab_type": "text"
      },
      "source": [
        "Мы видим, что средний возраст приблизительно одинаков между всеми тремя группами. "
      ]
    },
    {
      "cell_type": "code",
      "metadata": {
        "id": "CZqmVzRATV0h",
        "colab_type": "code",
        "outputId": "76e405d2-d5aa-413a-fd1d-c14aeab3c922",
        "colab": {
          "base_uri": "https://localhost:8080/",
          "height": 326
        }
      },
      "source": [
        "import pandas as pd\n",
        "\n",
        "url = \"https://raw.githubusercontent.com/dm-fedorov/pandas_basic/master/data/football.csv\"\n",
        "\n",
        "football = pd.read_csv(url)\n",
        "football.head()"
      ],
      "execution_count": 0,
      "outputs": [
        {
          "output_type": "execute_result",
          "data": {
            "text/html": [
              "<div>\n",
              "<style scoped>\n",
              "    .dataframe tbody tr th:only-of-type {\n",
              "        vertical-align: middle;\n",
              "    }\n",
              "\n",
              "    .dataframe tbody tr th {\n",
              "        vertical-align: top;\n",
              "    }\n",
              "\n",
              "    .dataframe thead th {\n",
              "        text-align: right;\n",
              "    }\n",
              "</style>\n",
              "<table border=\"1\" class=\"dataframe\">\n",
              "  <thead>\n",
              "    <tr style=\"text-align: right;\">\n",
              "      <th></th>\n",
              "      <th>Unnamed: 0</th>\n",
              "      <th>Name</th>\n",
              "      <th>Age</th>\n",
              "      <th>Nationality</th>\n",
              "      <th>Club</th>\n",
              "      <th>Value</th>\n",
              "      <th>Wage</th>\n",
              "      <th>Position</th>\n",
              "      <th>Crossing</th>\n",
              "      <th>Finishing</th>\n",
              "      <th>HeadingAccuracy</th>\n",
              "      <th>ShortPassing</th>\n",
              "      <th>Volleys</th>\n",
              "      <th>Dribbling</th>\n",
              "      <th>Curve</th>\n",
              "      <th>FKAccuracy</th>\n",
              "      <th>LongPassing</th>\n",
              "      <th>BallControl</th>\n",
              "      <th>Acceleration</th>\n",
              "      <th>SprintSpeed</th>\n",
              "      <th>Agility</th>\n",
              "      <th>Reactions</th>\n",
              "      <th>Balance</th>\n",
              "      <th>ShotPower</th>\n",
              "      <th>Jumping</th>\n",
              "      <th>Stamina</th>\n",
              "      <th>Strength</th>\n",
              "      <th>LongShots</th>\n",
              "      <th>Aggression</th>\n",
              "      <th>Interceptions</th>\n",
              "      <th>Positioning</th>\n",
              "      <th>Vision</th>\n",
              "      <th>Penalties</th>\n",
              "      <th>Composure</th>\n",
              "      <th>Marking</th>\n",
              "      <th>StandingTackle</th>\n",
              "      <th>SlidingTackle</th>\n",
              "      <th>GKDiving</th>\n",
              "      <th>GKHandling</th>\n",
              "      <th>GKKicking</th>\n",
              "      <th>GKPositioning</th>\n",
              "      <th>GKReflexes</th>\n",
              "    </tr>\n",
              "  </thead>\n",
              "  <tbody>\n",
              "    <tr>\n",
              "      <th>0</th>\n",
              "      <td>0</td>\n",
              "      <td>L. Messi</td>\n",
              "      <td>31</td>\n",
              "      <td>Argentina</td>\n",
              "      <td>FC Barcelona</td>\n",
              "      <td>110500000</td>\n",
              "      <td>565000</td>\n",
              "      <td>RF</td>\n",
              "      <td>84</td>\n",
              "      <td>95</td>\n",
              "      <td>70</td>\n",
              "      <td>90</td>\n",
              "      <td>86</td>\n",
              "      <td>97</td>\n",
              "      <td>93</td>\n",
              "      <td>94</td>\n",
              "      <td>87</td>\n",
              "      <td>96</td>\n",
              "      <td>91</td>\n",
              "      <td>86</td>\n",
              "      <td>91</td>\n",
              "      <td>95</td>\n",
              "      <td>95</td>\n",
              "      <td>85</td>\n",
              "      <td>68</td>\n",
              "      <td>72</td>\n",
              "      <td>59</td>\n",
              "      <td>94</td>\n",
              "      <td>48</td>\n",
              "      <td>22</td>\n",
              "      <td>94</td>\n",
              "      <td>94</td>\n",
              "      <td>75</td>\n",
              "      <td>96</td>\n",
              "      <td>33</td>\n",
              "      <td>28</td>\n",
              "      <td>26</td>\n",
              "      <td>6</td>\n",
              "      <td>11</td>\n",
              "      <td>15</td>\n",
              "      <td>14</td>\n",
              "      <td>8</td>\n",
              "    </tr>\n",
              "    <tr>\n",
              "      <th>1</th>\n",
              "      <td>1</td>\n",
              "      <td>Cristiano Ronaldo</td>\n",
              "      <td>33</td>\n",
              "      <td>Portugal</td>\n",
              "      <td>Juventus</td>\n",
              "      <td>77000000</td>\n",
              "      <td>405000</td>\n",
              "      <td>ST</td>\n",
              "      <td>84</td>\n",
              "      <td>94</td>\n",
              "      <td>89</td>\n",
              "      <td>81</td>\n",
              "      <td>87</td>\n",
              "      <td>88</td>\n",
              "      <td>81</td>\n",
              "      <td>76</td>\n",
              "      <td>77</td>\n",
              "      <td>94</td>\n",
              "      <td>89</td>\n",
              "      <td>91</td>\n",
              "      <td>87</td>\n",
              "      <td>96</td>\n",
              "      <td>70</td>\n",
              "      <td>95</td>\n",
              "      <td>95</td>\n",
              "      <td>88</td>\n",
              "      <td>79</td>\n",
              "      <td>93</td>\n",
              "      <td>63</td>\n",
              "      <td>29</td>\n",
              "      <td>95</td>\n",
              "      <td>82</td>\n",
              "      <td>85</td>\n",
              "      <td>95</td>\n",
              "      <td>28</td>\n",
              "      <td>31</td>\n",
              "      <td>23</td>\n",
              "      <td>7</td>\n",
              "      <td>11</td>\n",
              "      <td>15</td>\n",
              "      <td>14</td>\n",
              "      <td>11</td>\n",
              "    </tr>\n",
              "    <tr>\n",
              "      <th>2</th>\n",
              "      <td>2</td>\n",
              "      <td>Neymar Jr</td>\n",
              "      <td>26</td>\n",
              "      <td>Brazil</td>\n",
              "      <td>Paris Saint-Germain</td>\n",
              "      <td>118500000</td>\n",
              "      <td>290000</td>\n",
              "      <td>LW</td>\n",
              "      <td>79</td>\n",
              "      <td>87</td>\n",
              "      <td>62</td>\n",
              "      <td>84</td>\n",
              "      <td>84</td>\n",
              "      <td>96</td>\n",
              "      <td>88</td>\n",
              "      <td>87</td>\n",
              "      <td>78</td>\n",
              "      <td>95</td>\n",
              "      <td>94</td>\n",
              "      <td>90</td>\n",
              "      <td>96</td>\n",
              "      <td>94</td>\n",
              "      <td>84</td>\n",
              "      <td>80</td>\n",
              "      <td>61</td>\n",
              "      <td>81</td>\n",
              "      <td>49</td>\n",
              "      <td>82</td>\n",
              "      <td>56</td>\n",
              "      <td>36</td>\n",
              "      <td>89</td>\n",
              "      <td>87</td>\n",
              "      <td>81</td>\n",
              "      <td>94</td>\n",
              "      <td>27</td>\n",
              "      <td>24</td>\n",
              "      <td>33</td>\n",
              "      <td>9</td>\n",
              "      <td>9</td>\n",
              "      <td>15</td>\n",
              "      <td>15</td>\n",
              "      <td>11</td>\n",
              "    </tr>\n",
              "    <tr>\n",
              "      <th>3</th>\n",
              "      <td>3</td>\n",
              "      <td>De Gea</td>\n",
              "      <td>27</td>\n",
              "      <td>Spain</td>\n",
              "      <td>Manchester United</td>\n",
              "      <td>72000000</td>\n",
              "      <td>260000</td>\n",
              "      <td>GK</td>\n",
              "      <td>17</td>\n",
              "      <td>13</td>\n",
              "      <td>21</td>\n",
              "      <td>50</td>\n",
              "      <td>13</td>\n",
              "      <td>18</td>\n",
              "      <td>21</td>\n",
              "      <td>19</td>\n",
              "      <td>51</td>\n",
              "      <td>42</td>\n",
              "      <td>57</td>\n",
              "      <td>58</td>\n",
              "      <td>60</td>\n",
              "      <td>90</td>\n",
              "      <td>43</td>\n",
              "      <td>31</td>\n",
              "      <td>67</td>\n",
              "      <td>43</td>\n",
              "      <td>64</td>\n",
              "      <td>12</td>\n",
              "      <td>38</td>\n",
              "      <td>30</td>\n",
              "      <td>12</td>\n",
              "      <td>68</td>\n",
              "      <td>40</td>\n",
              "      <td>68</td>\n",
              "      <td>15</td>\n",
              "      <td>21</td>\n",
              "      <td>13</td>\n",
              "      <td>90</td>\n",
              "      <td>85</td>\n",
              "      <td>87</td>\n",
              "      <td>88</td>\n",
              "      <td>94</td>\n",
              "    </tr>\n",
              "    <tr>\n",
              "      <th>4</th>\n",
              "      <td>4</td>\n",
              "      <td>K. De Bruyne</td>\n",
              "      <td>27</td>\n",
              "      <td>Belgium</td>\n",
              "      <td>Manchester City</td>\n",
              "      <td>102000000</td>\n",
              "      <td>355000</td>\n",
              "      <td>RCM</td>\n",
              "      <td>93</td>\n",
              "      <td>82</td>\n",
              "      <td>55</td>\n",
              "      <td>92</td>\n",
              "      <td>82</td>\n",
              "      <td>86</td>\n",
              "      <td>85</td>\n",
              "      <td>83</td>\n",
              "      <td>91</td>\n",
              "      <td>91</td>\n",
              "      <td>78</td>\n",
              "      <td>76</td>\n",
              "      <td>79</td>\n",
              "      <td>91</td>\n",
              "      <td>77</td>\n",
              "      <td>91</td>\n",
              "      <td>63</td>\n",
              "      <td>90</td>\n",
              "      <td>75</td>\n",
              "      <td>91</td>\n",
              "      <td>76</td>\n",
              "      <td>61</td>\n",
              "      <td>87</td>\n",
              "      <td>94</td>\n",
              "      <td>79</td>\n",
              "      <td>88</td>\n",
              "      <td>68</td>\n",
              "      <td>58</td>\n",
              "      <td>51</td>\n",
              "      <td>15</td>\n",
              "      <td>13</td>\n",
              "      <td>5</td>\n",
              "      <td>10</td>\n",
              "      <td>13</td>\n",
              "    </tr>\n",
              "  </tbody>\n",
              "</table>\n",
              "</div>"
            ],
            "text/plain": [
              "   Unnamed: 0               Name  Age  ... GKKicking GKPositioning  GKReflexes\n",
              "0           0           L. Messi   31  ...        15            14           8\n",
              "1           1  Cristiano Ronaldo   33  ...        15            14          11\n",
              "2           2          Neymar Jr   26  ...        15            15          11\n",
              "3           3             De Gea   27  ...        87            88          94\n",
              "4           4       K. De Bruyne   27  ...         5            10          13\n",
              "\n",
              "[5 rows x 42 columns]"
            ]
          },
          "metadata": {
            "tags": []
          },
          "execution_count": 13
        }
      ]
    },
    {
      "cell_type": "code",
      "metadata": {
        "id": "2ufePx56TV1J",
        "colab_type": "code",
        "outputId": "d4411f63-58a0-45d0-ded2-32b3ccc76b9a",
        "colab": {
          "base_uri": "https://localhost:8080/",
          "height": 824
        }
      },
      "source": [
        "small_football = football[football.columns[1:8]].head(25)\n",
        "small_football"
      ],
      "execution_count": 0,
      "outputs": [
        {
          "output_type": "execute_result",
          "data": {
            "text/html": [
              "<div>\n",
              "<style scoped>\n",
              "    .dataframe tbody tr th:only-of-type {\n",
              "        vertical-align: middle;\n",
              "    }\n",
              "\n",
              "    .dataframe tbody tr th {\n",
              "        vertical-align: top;\n",
              "    }\n",
              "\n",
              "    .dataframe thead th {\n",
              "        text-align: right;\n",
              "    }\n",
              "</style>\n",
              "<table border=\"1\" class=\"dataframe\">\n",
              "  <thead>\n",
              "    <tr style=\"text-align: right;\">\n",
              "      <th></th>\n",
              "      <th>Name</th>\n",
              "      <th>Age</th>\n",
              "      <th>Nationality</th>\n",
              "      <th>Club</th>\n",
              "      <th>Value</th>\n",
              "      <th>Wage</th>\n",
              "      <th>Position</th>\n",
              "    </tr>\n",
              "  </thead>\n",
              "  <tbody>\n",
              "    <tr>\n",
              "      <th>0</th>\n",
              "      <td>L. Messi</td>\n",
              "      <td>31</td>\n",
              "      <td>Argentina</td>\n",
              "      <td>FC Barcelona</td>\n",
              "      <td>110500000</td>\n",
              "      <td>565000</td>\n",
              "      <td>RF</td>\n",
              "    </tr>\n",
              "    <tr>\n",
              "      <th>1</th>\n",
              "      <td>Cristiano Ronaldo</td>\n",
              "      <td>33</td>\n",
              "      <td>Portugal</td>\n",
              "      <td>Juventus</td>\n",
              "      <td>77000000</td>\n",
              "      <td>405000</td>\n",
              "      <td>ST</td>\n",
              "    </tr>\n",
              "    <tr>\n",
              "      <th>2</th>\n",
              "      <td>Neymar Jr</td>\n",
              "      <td>26</td>\n",
              "      <td>Brazil</td>\n",
              "      <td>Paris Saint-Germain</td>\n",
              "      <td>118500000</td>\n",
              "      <td>290000</td>\n",
              "      <td>LW</td>\n",
              "    </tr>\n",
              "    <tr>\n",
              "      <th>3</th>\n",
              "      <td>De Gea</td>\n",
              "      <td>27</td>\n",
              "      <td>Spain</td>\n",
              "      <td>Manchester United</td>\n",
              "      <td>72000000</td>\n",
              "      <td>260000</td>\n",
              "      <td>GK</td>\n",
              "    </tr>\n",
              "    <tr>\n",
              "      <th>4</th>\n",
              "      <td>K. De Bruyne</td>\n",
              "      <td>27</td>\n",
              "      <td>Belgium</td>\n",
              "      <td>Manchester City</td>\n",
              "      <td>102000000</td>\n",
              "      <td>355000</td>\n",
              "      <td>RCM</td>\n",
              "    </tr>\n",
              "    <tr>\n",
              "      <th>5</th>\n",
              "      <td>E. Hazard</td>\n",
              "      <td>27</td>\n",
              "      <td>Belgium</td>\n",
              "      <td>Chelsea</td>\n",
              "      <td>93000000</td>\n",
              "      <td>340000</td>\n",
              "      <td>LF</td>\n",
              "    </tr>\n",
              "    <tr>\n",
              "      <th>6</th>\n",
              "      <td>L. Modrić</td>\n",
              "      <td>32</td>\n",
              "      <td>Croatia</td>\n",
              "      <td>Real Madrid</td>\n",
              "      <td>67000000</td>\n",
              "      <td>420000</td>\n",
              "      <td>RCM</td>\n",
              "    </tr>\n",
              "    <tr>\n",
              "      <th>7</th>\n",
              "      <td>L. Suárez</td>\n",
              "      <td>31</td>\n",
              "      <td>Uruguay</td>\n",
              "      <td>FC Barcelona</td>\n",
              "      <td>80000000</td>\n",
              "      <td>455000</td>\n",
              "      <td>RS</td>\n",
              "    </tr>\n",
              "    <tr>\n",
              "      <th>8</th>\n",
              "      <td>Sergio Ramos</td>\n",
              "      <td>32</td>\n",
              "      <td>Spain</td>\n",
              "      <td>Real Madrid</td>\n",
              "      <td>51000000</td>\n",
              "      <td>380000</td>\n",
              "      <td>RCB</td>\n",
              "    </tr>\n",
              "    <tr>\n",
              "      <th>9</th>\n",
              "      <td>J. Oblak</td>\n",
              "      <td>25</td>\n",
              "      <td>Slovenia</td>\n",
              "      <td>Atlético Madrid</td>\n",
              "      <td>68000000</td>\n",
              "      <td>94000</td>\n",
              "      <td>GK</td>\n",
              "    </tr>\n",
              "    <tr>\n",
              "      <th>10</th>\n",
              "      <td>R. Lewandowski</td>\n",
              "      <td>29</td>\n",
              "      <td>Poland</td>\n",
              "      <td>FC Bayern München</td>\n",
              "      <td>77000000</td>\n",
              "      <td>205000</td>\n",
              "      <td>ST</td>\n",
              "    </tr>\n",
              "    <tr>\n",
              "      <th>11</th>\n",
              "      <td>T. Kroos</td>\n",
              "      <td>28</td>\n",
              "      <td>Germany</td>\n",
              "      <td>Real Madrid</td>\n",
              "      <td>76500000</td>\n",
              "      <td>355000</td>\n",
              "      <td>LCM</td>\n",
              "    </tr>\n",
              "    <tr>\n",
              "      <th>12</th>\n",
              "      <td>D. Godín</td>\n",
              "      <td>32</td>\n",
              "      <td>Uruguay</td>\n",
              "      <td>Atlético Madrid</td>\n",
              "      <td>44000000</td>\n",
              "      <td>125000</td>\n",
              "      <td>CB</td>\n",
              "    </tr>\n",
              "    <tr>\n",
              "      <th>13</th>\n",
              "      <td>David Silva</td>\n",
              "      <td>32</td>\n",
              "      <td>Spain</td>\n",
              "      <td>Manchester City</td>\n",
              "      <td>60000000</td>\n",
              "      <td>285000</td>\n",
              "      <td>LCM</td>\n",
              "    </tr>\n",
              "    <tr>\n",
              "      <th>14</th>\n",
              "      <td>N. Kanté</td>\n",
              "      <td>27</td>\n",
              "      <td>France</td>\n",
              "      <td>Chelsea</td>\n",
              "      <td>63000000</td>\n",
              "      <td>225000</td>\n",
              "      <td>LDM</td>\n",
              "    </tr>\n",
              "    <tr>\n",
              "      <th>15</th>\n",
              "      <td>P. Dybala</td>\n",
              "      <td>24</td>\n",
              "      <td>Argentina</td>\n",
              "      <td>Juventus</td>\n",
              "      <td>89000000</td>\n",
              "      <td>205000</td>\n",
              "      <td>LF</td>\n",
              "    </tr>\n",
              "    <tr>\n",
              "      <th>16</th>\n",
              "      <td>H. Kane</td>\n",
              "      <td>24</td>\n",
              "      <td>England</td>\n",
              "      <td>Tottenham Hotspur</td>\n",
              "      <td>83500000</td>\n",
              "      <td>205000</td>\n",
              "      <td>ST</td>\n",
              "    </tr>\n",
              "    <tr>\n",
              "      <th>17</th>\n",
              "      <td>A. Griezmann</td>\n",
              "      <td>27</td>\n",
              "      <td>France</td>\n",
              "      <td>Atlético Madrid</td>\n",
              "      <td>78000000</td>\n",
              "      <td>145000</td>\n",
              "      <td>CAM</td>\n",
              "    </tr>\n",
              "    <tr>\n",
              "      <th>18</th>\n",
              "      <td>M. ter Stegen</td>\n",
              "      <td>26</td>\n",
              "      <td>Germany</td>\n",
              "      <td>FC Barcelona</td>\n",
              "      <td>58000000</td>\n",
              "      <td>240000</td>\n",
              "      <td>GK</td>\n",
              "    </tr>\n",
              "    <tr>\n",
              "      <th>19</th>\n",
              "      <td>T. Courtois</td>\n",
              "      <td>26</td>\n",
              "      <td>Belgium</td>\n",
              "      <td>Real Madrid</td>\n",
              "      <td>53500000</td>\n",
              "      <td>240000</td>\n",
              "      <td>GK</td>\n",
              "    </tr>\n",
              "    <tr>\n",
              "      <th>20</th>\n",
              "      <td>Sergio Busquets</td>\n",
              "      <td>29</td>\n",
              "      <td>Spain</td>\n",
              "      <td>FC Barcelona</td>\n",
              "      <td>51500000</td>\n",
              "      <td>315000</td>\n",
              "      <td>CDM</td>\n",
              "    </tr>\n",
              "    <tr>\n",
              "      <th>21</th>\n",
              "      <td>E. Cavani</td>\n",
              "      <td>31</td>\n",
              "      <td>Uruguay</td>\n",
              "      <td>Paris Saint-Germain</td>\n",
              "      <td>60000000</td>\n",
              "      <td>200000</td>\n",
              "      <td>LS</td>\n",
              "    </tr>\n",
              "    <tr>\n",
              "      <th>22</th>\n",
              "      <td>M. Neuer</td>\n",
              "      <td>32</td>\n",
              "      <td>Germany</td>\n",
              "      <td>FC Bayern München</td>\n",
              "      <td>38000000</td>\n",
              "      <td>130000</td>\n",
              "      <td>GK</td>\n",
              "    </tr>\n",
              "    <tr>\n",
              "      <th>23</th>\n",
              "      <td>S. Agüero</td>\n",
              "      <td>30</td>\n",
              "      <td>Argentina</td>\n",
              "      <td>Manchester City</td>\n",
              "      <td>64500000</td>\n",
              "      <td>300000</td>\n",
              "      <td>ST</td>\n",
              "    </tr>\n",
              "    <tr>\n",
              "      <th>24</th>\n",
              "      <td>G. Chiellini</td>\n",
              "      <td>33</td>\n",
              "      <td>Italy</td>\n",
              "      <td>Juventus</td>\n",
              "      <td>27000000</td>\n",
              "      <td>215000</td>\n",
              "      <td>LCB</td>\n",
              "    </tr>\n",
              "  </tbody>\n",
              "</table>\n",
              "</div>"
            ],
            "text/plain": [
              "                 Name  Age Nationality  ...      Value    Wage  Position\n",
              "0            L. Messi   31   Argentina  ...  110500000  565000        RF\n",
              "1   Cristiano Ronaldo   33    Portugal  ...   77000000  405000        ST\n",
              "2           Neymar Jr   26      Brazil  ...  118500000  290000        LW\n",
              "3              De Gea   27       Spain  ...   72000000  260000        GK\n",
              "4        K. De Bruyne   27     Belgium  ...  102000000  355000       RCM\n",
              "5           E. Hazard   27     Belgium  ...   93000000  340000        LF\n",
              "6           L. Modrić   32     Croatia  ...   67000000  420000       RCM\n",
              "7           L. Suárez   31     Uruguay  ...   80000000  455000        RS\n",
              "8        Sergio Ramos   32       Spain  ...   51000000  380000       RCB\n",
              "9            J. Oblak   25    Slovenia  ...   68000000   94000        GK\n",
              "10     R. Lewandowski   29      Poland  ...   77000000  205000        ST\n",
              "11           T. Kroos   28     Germany  ...   76500000  355000       LCM\n",
              "12           D. Godín   32     Uruguay  ...   44000000  125000        CB\n",
              "13        David Silva   32       Spain  ...   60000000  285000       LCM\n",
              "14           N. Kanté   27      France  ...   63000000  225000       LDM\n",
              "15          P. Dybala   24   Argentina  ...   89000000  205000        LF\n",
              "16            H. Kane   24     England  ...   83500000  205000        ST\n",
              "17       A. Griezmann   27      France  ...   78000000  145000       CAM\n",
              "18      M. ter Stegen   26     Germany  ...   58000000  240000        GK\n",
              "19        T. Courtois   26     Belgium  ...   53500000  240000        GK\n",
              "20    Sergio Busquets   29       Spain  ...   51500000  315000       CDM\n",
              "21          E. Cavani   31     Uruguay  ...   60000000  200000        LS\n",
              "22           M. Neuer   32     Germany  ...   38000000  130000        GK\n",
              "23          S. Agüero   30   Argentina  ...   64500000  300000        ST\n",
              "24       G. Chiellini   33       Italy  ...   27000000  215000       LCB\n",
              "\n",
              "[25 rows x 7 columns]"
            ]
          },
          "metadata": {
            "tags": []
          },
          "execution_count": 2
        }
      ]
    },
    {
      "cell_type": "markdown",
      "metadata": {
        "id": "rnoIDn-BTV1W",
        "colab_type": "text"
      },
      "source": [
        "Предположим, что перед нами стоит задача быстро оценить, сколько футболистов относится к каждой из представленных национальностей."
      ]
    },
    {
      "cell_type": "markdown",
      "metadata": {
        "id": "Nb5NnNf-TV1Z",
        "colab_type": "text"
      },
      "source": [
        "Так как каждая строка датафрейма содержит информацию об отдельно взятом футболисте, то достаточно посчитать, сколько раз каждая из национальностей встречается в столбце (в серии) `Nationality`: "
      ]
    },
    {
      "cell_type": "code",
      "metadata": {
        "id": "5gMGV3ubTV1g",
        "colab_type": "code",
        "outputId": "487eb878-bfb0-407f-e71e-c007c0c237a5",
        "colab": {
          "base_uri": "https://localhost:8080/",
          "height": 255
        }
      },
      "source": [
        "s = small_football['Nationality'].value_counts()\n",
        "s"
      ],
      "execution_count": 0,
      "outputs": [
        {
          "output_type": "execute_result",
          "data": {
            "text/plain": [
              "Spain        4\n",
              "Belgium      3\n",
              "Uruguay      3\n",
              "Argentina    3\n",
              "Germany      3\n",
              "France       2\n",
              "Italy        1\n",
              "Slovenia     1\n",
              "England      1\n",
              "Brazil       1\n",
              "Croatia      1\n",
              "Poland       1\n",
              "Portugal     1\n",
              "Name: Nationality, dtype: int64"
            ]
          },
          "metadata": {
            "tags": []
          },
          "execution_count": 3
        }
      ]
    },
    {
      "cell_type": "markdown",
      "metadata": {
        "id": "PgXZ1JVeTV1u",
        "colab_type": "text"
      },
      "source": [
        "Таким образом, функция `value_counts` подсчитывает для каждого значения в серии количество раз, которое это значение встречается.\n",
        "\n",
        "Индекс серии `s` — это уникальные значения, встречающиеся в исходной серии `small_df['Nationality']`:"
      ]
    },
    {
      "cell_type": "code",
      "metadata": {
        "id": "JxyT9lmbTV1w",
        "colab_type": "code",
        "outputId": "932be0e4-bc9e-4035-ffa7-968dd132953b",
        "colab": {
          "base_uri": "https://localhost:8080/",
          "height": 85
        }
      },
      "source": [
        "s.index"
      ],
      "execution_count": 0,
      "outputs": [
        {
          "output_type": "execute_result",
          "data": {
            "text/plain": [
              "Index(['Spain', 'Belgium', 'Uruguay', 'Argentina', 'Germany', 'France',\n",
              "       'Italy', 'Slovenia', 'England', 'Brazil', 'Croatia', 'Poland',\n",
              "       'Portugal'],\n",
              "      dtype='object')"
            ]
          },
          "metadata": {
            "tags": []
          },
          "execution_count": 4
        }
      ]
    },
    {
      "cell_type": "markdown",
      "metadata": {
        "id": "VrA_jcZXTV2C",
        "colab_type": "text"
      },
      "source": [
        "Обратите внимание, что в индексе названия сборных идут так же, как в серии, то есть по убыванию числа футболистов. Значит, вызвав первый элемент индекса, мы получим название сборной, у которой больше всего футболистов в рамках датафрейма:"
      ]
    },
    {
      "cell_type": "code",
      "metadata": {
        "id": "IUUlD90QTV2H",
        "colab_type": "code",
        "outputId": "8a94a058-e772-49f6-a025-d5d2510931ba",
        "colab": {
          "base_uri": "https://localhost:8080/",
          "height": 34
        }
      },
      "source": [
        "s.index[0]"
      ],
      "execution_count": 0,
      "outputs": [
        {
          "output_type": "execute_result",
          "data": {
            "text/plain": [
              "'Spain'"
            ]
          },
          "metadata": {
            "tags": []
          },
          "execution_count": 5
        }
      ]
    },
    {
      "cell_type": "markdown",
      "metadata": {
        "id": "a1VNIvl_TV2U",
        "colab_type": "text"
      },
      "source": [
        "Если вызовем функцию `len` для серии `s`, то получим количество уникальных значений исходной серии, то есть количество национальностей, которые встречаются в датафрейме `small_football`:"
      ]
    },
    {
      "cell_type": "code",
      "metadata": {
        "id": "XYf0YnasTV2X",
        "colab_type": "code",
        "outputId": "b7c92e67-375d-42fa-be9c-a4810409948f",
        "colab": {
          "base_uri": "https://localhost:8080/",
          "height": 34
        }
      },
      "source": [
        "len(s.index)"
      ],
      "execution_count": 0,
      "outputs": [
        {
          "output_type": "execute_result",
          "data": {
            "text/plain": [
              "13"
            ]
          },
          "metadata": {
            "tags": []
          },
          "execution_count": 6
        }
      ]
    },
    {
      "cell_type": "markdown",
      "metadata": {
        "id": "1fH-NYChTV2l",
        "colab_type": "text"
      },
      "source": [
        "Если хотим определить количество футболистов в `small_football`, которые относятся к определенной национальности, то достаточно обратиться по нужному индексу к элементу серии:"
      ]
    },
    {
      "cell_type": "code",
      "metadata": {
        "id": "wta51m4YTV2n",
        "colab_type": "code",
        "outputId": "a5fb0e91-af62-4448-ffc9-e7ac414e960f",
        "colab": {
          "base_uri": "https://localhost:8080/",
          "height": 34
        }
      },
      "source": [
        "s['Germany']"
      ],
      "execution_count": 0,
      "outputs": [
        {
          "output_type": "execute_result",
          "data": {
            "text/plain": [
              "3"
            ]
          },
          "metadata": {
            "tags": []
          },
          "execution_count": 7
        }
      ]
    },
    {
      "cell_type": "markdown",
      "metadata": {
        "id": "-9i21w7ETV2x",
        "colab_type": "text"
      },
      "source": [
        "Получившуюся серию s можно отфильтровать по определенному значению. Например, оставить только такие сборные, в которых больше 1 футболиста:"
      ]
    },
    {
      "cell_type": "code",
      "metadata": {
        "id": "GaMEc0bQTV2z",
        "colab_type": "code",
        "outputId": "e74d396b-736f-4a2e-d0ed-f929425a7680",
        "colab": {
          "base_uri": "https://localhost:8080/",
          "height": 136
        }
      },
      "source": [
        "s.loc[s > 1]"
      ],
      "execution_count": 0,
      "outputs": [
        {
          "output_type": "execute_result",
          "data": {
            "text/plain": [
              "Spain        4\n",
              "Belgium      3\n",
              "Uruguay      3\n",
              "Argentina    3\n",
              "Germany      3\n",
              "France       2\n",
              "Name: Nationality, dtype: int64"
            ]
          },
          "metadata": {
            "tags": []
          },
          "execution_count": 8
        }
      ]
    },
    {
      "cell_type": "markdown",
      "metadata": {
        "id": "3HTePOLeTV2-",
        "colab_type": "text"
      },
      "source": [
        "### Сколько футбольных клубов представлено в датасете?"
      ]
    },
    {
      "cell_type": "code",
      "metadata": {
        "id": "hTcTN6f4TV3A",
        "colab_type": "code",
        "outputId": "ece5399b-4ab1-4454-c65d-c7f885321cdd",
        "colab": {
          "base_uri": "https://localhost:8080/",
          "height": 34
        }
      },
      "source": [
        "len(football['Club'].value_counts())"
      ],
      "execution_count": 0,
      "outputs": [
        {
          "output_type": "execute_result",
          "data": {
            "text/plain": [
              "650"
            ]
          },
          "metadata": {
            "tags": []
          },
          "execution_count": 15
        }
      ]
    },
    {
      "cell_type": "code",
      "metadata": {
        "id": "puQSOwUxU4KB",
        "colab_type": "code",
        "outputId": "9f475110-7665-4386-8168-0126cce15f15",
        "colab": {
          "base_uri": "https://localhost:8080/",
          "height": 34
        }
      },
      "source": [
        "len(football.Club.unique())"
      ],
      "execution_count": 0,
      "outputs": [
        {
          "output_type": "execute_result",
          "data": {
            "text/plain": [
              "650"
            ]
          },
          "metadata": {
            "tags": []
          },
          "execution_count": 16
        }
      ]
    },
    {
      "cell_type": "markdown",
      "metadata": {
        "id": "qz5_qn23TV3P",
        "colab_type": "text"
      },
      "source": [
        "### Как называется футбольный клуб, представленный наименьшим количеством игроков в датасете?"
      ]
    },
    {
      "cell_type": "code",
      "metadata": {
        "id": "LntXxSHvVl8g",
        "colab_type": "code",
        "outputId": "85d3a6e8-d799-4542-d244-6edb486a54e4",
        "colab": {
          "base_uri": "https://localhost:8080/",
          "height": 221
        }
      },
      "source": [
        "football.Club.value_counts()"
      ],
      "execution_count": 0,
      "outputs": [
        {
          "output_type": "execute_result",
          "data": {
            "text/plain": [
              "V-Varen Nagasaki     30\n",
              "Shonan Bellmare      30\n",
              "De Graafschap        29\n",
              "Vissel Kobe          29\n",
              "Padova               29\n",
              "                     ..\n",
              "Cruzeiro              8\n",
              "Dinamo Zagreb         7\n",
              "Vitória Guimarães     7\n",
              "GD Chaves             7\n",
              "Atlético Mineiro      6\n",
              "Name: Club, Length: 650, dtype: int64"
            ]
          },
          "metadata": {
            "tags": []
          },
          "execution_count": 19
        }
      ]
    },
    {
      "cell_type": "code",
      "metadata": {
        "id": "5coSZphHTV3R",
        "colab_type": "code",
        "outputId": "edb931b1-3803-40e4-ebac-3dc97ce1f94b",
        "colab": {
          "base_uri": "https://localhost:8080/",
          "height": 34
        }
      },
      "source": [
        "football.Club.value_counts().index[-1]"
      ],
      "execution_count": 0,
      "outputs": [
        {
          "output_type": "execute_result",
          "data": {
            "text/plain": [
              "'Atlético Mineiro'"
            ]
          },
          "metadata": {
            "tags": []
          },
          "execution_count": 17
        }
      ]
    },
    {
      "cell_type": "code",
      "metadata": {
        "id": "apsAhM78Vg6X",
        "colab_type": "code",
        "outputId": "867a6db0-fa99-4d95-bae7-9fbc6d32e9be",
        "colab": {
          "base_uri": "https://localhost:8080/",
          "height": 34
        }
      },
      "source": [
        "football.Club.value_counts().index[0]"
      ],
      "execution_count": 0,
      "outputs": [
        {
          "output_type": "execute_result",
          "data": {
            "text/plain": [
              "'V-Varen Nagasaki'"
            ]
          },
          "metadata": {
            "tags": []
          },
          "execution_count": 20
        }
      ]
    },
    {
      "cell_type": "markdown",
      "metadata": {
        "id": "RuCQeIxTTV3b",
        "colab_type": "text"
      },
      "source": [
        "Можно посчитать количество футболистов не в абсолютных числах, а в процентах от общего числа в датасете. Для этого надо вызвать функцию `value_counts()` с параметром `normalize=True`:"
      ]
    },
    {
      "cell_type": "code",
      "metadata": {
        "id": "bCiswj6dTV3e",
        "colab_type": "code",
        "colab": {}
      },
      "source": [
        "s = small_football['Nationality'].value_counts(normalize=True)\n",
        "s"
      ],
      "execution_count": 0,
      "outputs": []
    },
    {
      "cell_type": "markdown",
      "metadata": {
        "id": "PY9zeN-qTV3l",
        "colab_type": "text"
      },
      "source": [
        "Таким образом, мы можем быстро определить характеристики распределения футболистов между национальностями в нашем наборе данных. Например, мы узнали, что испанцы составляют 16% от общего числа футболистов, которые были взяты нами для выборки `small_football`."
      ]
    },
    {
      "cell_type": "markdown",
      "metadata": {
        "id": "TTnMWV5pTV3n",
        "colab_type": "text"
      },
      "source": [
        "### Данные об игроках каких позиций (Position) занимают более 10% датасета?"
      ]
    },
    {
      "cell_type": "code",
      "metadata": {
        "id": "qoKS-J-sTV3p",
        "colab_type": "code",
        "colab": {}
      },
      "source": [
        ""
      ],
      "execution_count": 0,
      "outputs": []
    },
    {
      "cell_type": "markdown",
      "metadata": {
        "id": "-Py6Szc_TV3z",
        "colab_type": "text"
      },
      "source": [
        "### Данные об игроках каких позиций (Position) занимают менее 1% датасета?"
      ]
    },
    {
      "cell_type": "code",
      "metadata": {
        "id": "CKLN4GWfTV30",
        "colab_type": "code",
        "colab": {}
      },
      "source": [
        ""
      ],
      "execution_count": 0,
      "outputs": []
    },
    {
      "cell_type": "markdown",
      "metadata": {
        "id": "l5O39ZTETV3_",
        "colab_type": "text"
      },
      "source": [
        "Ещё один параметр, который можно передать в функцию `value_counts`, — это параметр `bins`. Этот параметр удобно передавать, когда мы хотим сгруппировать данные не по категориальному признаку (каким, например, является национальность), а по численному признаку (например, по возрасту).\n",
        "\n",
        "Сначала сгруппируем данные по численному признаку без параметра `bins`:"
      ]
    },
    {
      "cell_type": "code",
      "metadata": {
        "id": "h7b6Qtl0TV4B",
        "colab_type": "code",
        "colab": {}
      },
      "source": [
        "s = small_football['Age'].value_counts()\n",
        "s"
      ],
      "execution_count": 0,
      "outputs": []
    },
    {
      "cell_type": "markdown",
      "metadata": {
        "id": "C4Zsdsu2TV4J",
        "colab_type": "text"
      },
      "source": [
        "Как видно, мы просто сгруппировали футболистов по возрасту и посчитали количество футболистов внутри каждой возрастной группы. Разброс возрастов не слишком большой, поэтому воспринимается эта информация достаточно легко. Например, мы узнали, что больше всего футболистов в двух группах: `27 лет` и `32 года`.\n",
        "\n",
        "Другая ситуация складывается, когда мы попытаемся сгруппировать футболистов по их заработной плате:"
      ]
    },
    {
      "cell_type": "code",
      "metadata": {
        "id": "m-ZMvXyxTV4L",
        "colab_type": "code",
        "colab": {}
      },
      "source": [
        "s = small_football['Wage'].value_counts()\n",
        "s"
      ],
      "execution_count": 0,
      "outputs": []
    },
    {
      "cell_type": "markdown",
      "metadata": {
        "id": "wX0NyztWTV4k",
        "colab_type": "text"
      },
      "source": [
        "Из-за того, что цифры зарплат повторяются не часто , трудно сделать какие-то выводы. Но всё будет более наглядно, если мы разобьем весь возможный диапазон зарплат на 4 равных промежутка и подсчитаем количество футболистов, попадающих в каждый из промежутков. Именно для этого нужен параметр `bins`:"
      ]
    },
    {
      "cell_type": "code",
      "metadata": {
        "id": "oJTf-N63TV4m",
        "colab_type": "code",
        "colab": {}
      },
      "source": [
        "s = small_football['Wage'].value_counts(bins=4)\n",
        "s"
      ],
      "execution_count": 0,
      "outputs": []
    },
    {
      "cell_type": "markdown",
      "metadata": {
        "id": "jQNCCprQTV4w",
        "colab_type": "text"
      },
      "source": [
        "Теперь видно, что распределение неравномерное и только 2 футболиста из 25 получают сверхвысокую зарплату.\n",
        "\n",
        "Давайте посмотрим, что это за футболисты:"
      ]
    },
    {
      "cell_type": "code",
      "metadata": {
        "id": "3AiNQBuHTV4x",
        "colab_type": "code",
        "colab": {}
      },
      "source": [
        "small_football.loc[(small_football['Wage'] > s.index[3].left) & \n",
        "                   (small_football['Wage'] <= s.index[3].right)]"
      ],
      "execution_count": 0,
      "outputs": []
    },
    {
      "cell_type": "markdown",
      "metadata": {
        "id": "21ChbZKhTV47",
        "colab_type": "text"
      },
      "source": [
        "Попробуйте самостоятельно разобраться в том, как работает приведенный выше код, поэтапно вызвав несколько команд и наблюдая за результатом вывода:"
      ]
    },
    {
      "cell_type": "code",
      "metadata": {
        "id": "J0-dpS1qTV5C",
        "colab_type": "code",
        "colab": {}
      },
      "source": [
        "small_football = football[football.columns[0:7]].head(25)"
      ],
      "execution_count": 0,
      "outputs": []
    },
    {
      "cell_type": "code",
      "metadata": {
        "id": "XygH_DoNTV5O",
        "colab_type": "code",
        "colab": {}
      },
      "source": [
        "s = small_football['Wage'].value_counts(bins=4)"
      ],
      "execution_count": 0,
      "outputs": []
    },
    {
      "cell_type": "code",
      "metadata": {
        "id": "DLSocE55TV5X",
        "colab_type": "code",
        "colab": {}
      },
      "source": [
        "s"
      ],
      "execution_count": 0,
      "outputs": []
    },
    {
      "cell_type": "code",
      "metadata": {
        "id": "qyB6BEfSTV5g",
        "colab_type": "code",
        "colab": {}
      },
      "source": [
        "s.index"
      ],
      "execution_count": 0,
      "outputs": []
    },
    {
      "cell_type": "code",
      "metadata": {
        "id": "tJLPb2iyTV5y",
        "colab_type": "code",
        "colab": {}
      },
      "source": [
        "s.index[3]"
      ],
      "execution_count": 0,
      "outputs": []
    },
    {
      "cell_type": "code",
      "metadata": {
        "id": "RqGGLHnBTV58",
        "colab_type": "code",
        "colab": {}
      },
      "source": [
        "s.index[3].left"
      ],
      "execution_count": 0,
      "outputs": []
    },
    {
      "cell_type": "code",
      "metadata": {
        "id": "dszp7ZzMTV6N",
        "colab_type": "code",
        "colab": {}
      },
      "source": [
        "s.index[3].right"
      ],
      "execution_count": 0,
      "outputs": []
    },
    {
      "cell_type": "code",
      "metadata": {
        "id": "sBjl8xiLTV6W",
        "colab_type": "code",
        "colab": {}
      },
      "source": [
        "small_football['Wage'] > s.index[3].left"
      ],
      "execution_count": 0,
      "outputs": []
    },
    {
      "cell_type": "markdown",
      "metadata": {
        "id": "u4RR2SDfTV6d",
        "colab_type": "text"
      },
      "source": [
        "### В каких пределах находятся худшие 20% показателей точности ударов ногой (FKAccuracy)?"
      ]
    },
    {
      "cell_type": "code",
      "metadata": {
        "id": "1uGpt-JMTV6e",
        "colab_type": "code",
        "colab": {}
      },
      "source": [
        ""
      ],
      "execution_count": 0,
      "outputs": []
    },
    {
      "cell_type": "markdown",
      "metadata": {
        "id": "gd16ptu7TV6s",
        "colab_type": "text"
      },
      "source": [
        "### Какие показатели точности ударов ногой демонстрирует большинство футболистов?"
      ]
    },
    {
      "cell_type": "code",
      "metadata": {
        "id": "7mg3UOqQTV6t",
        "colab_type": "code",
        "colab": {}
      },
      "source": [
        ""
      ],
      "execution_count": 0,
      "outputs": []
    },
    {
      "cell_type": "markdown",
      "metadata": {
        "id": "SXNnSN1fTV65",
        "colab_type": "text"
      },
      "source": [
        "В одном из предыдущих примеров мы подсчитывали количество уникальных национальностей с помощью следующего кода:"
      ]
    },
    {
      "cell_type": "code",
      "metadata": {
        "id": "l9tOOIBbTV66",
        "colab_type": "code",
        "colab": {}
      },
      "source": [
        "s = small_football['Nationality'].value_counts()\n",
        "s.index"
      ],
      "execution_count": 0,
      "outputs": []
    },
    {
      "cell_type": "code",
      "metadata": {
        "id": "VeUYSAq9TV7E",
        "colab_type": "code",
        "colab": {}
      },
      "source": [
        "len(s.index)"
      ],
      "execution_count": 0,
      "outputs": []
    },
    {
      "cell_type": "markdown",
      "metadata": {
        "id": "k4M_4Jl7TV7X",
        "colab_type": "text"
      },
      "source": [
        "s.index в данном случае выводит количество уникальных значений, а `len(s.index)` подсчитывает количество этих значений. На самом деле, сделать это можно было проще, при помощи функции `unique`:"
      ]
    },
    {
      "cell_type": "code",
      "metadata": {
        "id": "o9bHA2UeTV7Z",
        "colab_type": "code",
        "colab": {}
      },
      "source": [
        "small_football['Nationality'].unique()"
      ],
      "execution_count": 0,
      "outputs": []
    },
    {
      "cell_type": "markdown",
      "metadata": {
        "id": "QcNtwdDPTV7k",
        "colab_type": "text"
      },
      "source": [
        "Функция unique возвращает список уникальных элементов из серии.\n",
        "\n",
        "Передав получившийся список в функцию `len`, мы можем подсчитать количество уникальных значений в серии:"
      ]
    },
    {
      "cell_type": "code",
      "metadata": {
        "id": "_A8Pbbc-TV7m",
        "colab_type": "code",
        "colab": {}
      },
      "source": [
        "len(small_football['Nationality'].unique())"
      ],
      "execution_count": 0,
      "outputs": []
    },
    {
      "cell_type": "markdown",
      "metadata": {
        "id": "nK4ofm2pTV7x",
        "colab_type": "text"
      },
      "source": [
        "Но если наша конечная цель - получить количество уникальных значений в серии, то мы можем поступить ещё проще, вызвав функцию nunique:"
      ]
    },
    {
      "cell_type": "code",
      "metadata": {
        "id": "7oVPkQHXTV70",
        "colab_type": "code",
        "colab": {}
      },
      "source": [
        "small_football['Nationality'].nunique()"
      ],
      "execution_count": 0,
      "outputs": []
    },
    {
      "cell_type": "markdown",
      "metadata": {
        "id": "3QcPcGm7TV7_",
        "colab_type": "text"
      },
      "source": [
        "Иногда бывает полезно преобразовать серию, получившуюся в результате работы функции `value_counts`, в датафрейм. Для этого нужно к получившейся серии применить функцию `reset_index`. Эта операция может пригодиться вам в ходе дальнейшего решения задач."
      ]
    },
    {
      "cell_type": "code",
      "metadata": {
        "id": "vUfddB-sTV8A",
        "colab_type": "code",
        "colab": {}
      },
      "source": [
        "s = small_football['Nationality'].value_counts()\n",
        "s_df = s.reset_index()\n",
        "s_df"
      ],
      "execution_count": 0,
      "outputs": []
    },
    {
      "cell_type": "markdown",
      "metadata": {
        "id": "Ln1V3tkNTV8K",
        "colab_type": "text"
      },
      "source": [
        "Ну и чтобы всё выглядело красиво и правильно, переименуем столбцы получившегося датафрейма в соответствии с тем, что в них хранится:"
      ]
    },
    {
      "cell_type": "code",
      "metadata": {
        "id": "cfziACZGTV8M",
        "colab_type": "code",
        "colab": {}
      },
      "source": [
        "s_df.columns = ['Nationality','Players Count']\n",
        "s_df"
      ],
      "execution_count": 0,
      "outputs": []
    },
    {
      "cell_type": "markdown",
      "metadata": {
        "id": "t0kvXsIJTV8Z",
        "colab_type": "text"
      },
      "source": [
        "### Задача 1\n",
        "\n",
        "У какого процента испанских специалистов (`Nationality = 'Spain'`) зарплата (`Wage`) находится в пределах 25% минимума от наблюдаемого уровня зарплат? Ответ в виде целого числа (округлите полученный результат) без знака %.\n",
        "\n",
        "Подсказка: Для решения задачи используйте `value_counts()` с параметром `bins = 4`."
      ]
    },
    {
      "cell_type": "code",
      "metadata": {
        "id": "Lvlj_KgzTV8c",
        "colab_type": "code",
        "colab": {}
      },
      "source": [
        ""
      ],
      "execution_count": 0,
      "outputs": []
    },
    {
      "cell_type": "markdown",
      "metadata": {
        "id": "WUEtncqwTV8m",
        "colab_type": "text"
      },
      "source": [
        "### Задача 2\n",
        "\n",
        "Укажите количество уникальных сборных (`Nationality`), к которым относятся футболисты, выступающие за клуб (`Club`) `\"Manchester United\"`."
      ]
    },
    {
      "cell_type": "code",
      "metadata": {
        "id": "ZerPzHemTV8o",
        "colab_type": "code",
        "colab": {}
      },
      "source": [
        ""
      ],
      "execution_count": 0,
      "outputs": []
    },
    {
      "cell_type": "markdown",
      "metadata": {
        "id": "HlQU3SjYTV80",
        "colab_type": "text"
      },
      "source": [
        "### Задача 3\n",
        "\n",
        "С помощью функции unique определите двух футболистов из Бразилии (`Nationality = 'Brazil'`), выступающих за клуб (`Club`) `'Juventus'`. Перечислите их имена (`Name`, как в датафрейме) через запятую в алфавитном порядке."
      ]
    },
    {
      "cell_type": "code",
      "metadata": {
        "id": "RKO8AQ3vTV8-",
        "colab_type": "code",
        "colab": {}
      },
      "source": [
        ""
      ],
      "execution_count": 0,
      "outputs": []
    },
    {
      "cell_type": "markdown",
      "metadata": {
        "id": "Jq62U2ljTV9L",
        "colab_type": "text"
      },
      "source": [
        "### Задача 4\n",
        "\n",
        "Укажите, какой из клубов (`Club`) насчитывает большее количество футболистов возрастом (`Age`) `старше 35 лет`."
      ]
    },
    {
      "cell_type": "code",
      "metadata": {
        "id": "A-_kiLYLTV9N",
        "colab_type": "code",
        "colab": {}
      },
      "source": [
        ""
      ],
      "execution_count": 0,
      "outputs": []
    },
    {
      "cell_type": "markdown",
      "metadata": {
        "id": "K8rVObQmTV9b",
        "colab_type": "text"
      },
      "source": [
        "### Задача 5\n",
        "\n",
        "С помощью функции `value_counts` с параметром `bins` разбейте всех футболистов сборной (`Nationality`) Аргентины (`'Argentina'`) на 4 равные группы. Укажите, сколько футболистов в возрасте от `34.75 до 41 года` в сборной `Аргентины`."
      ]
    },
    {
      "cell_type": "code",
      "metadata": {
        "id": "y5BjIo0VTV9e",
        "colab_type": "code",
        "colab": {}
      },
      "source": [
        ""
      ],
      "execution_count": 0,
      "outputs": []
    },
    {
      "cell_type": "markdown",
      "metadata": {
        "id": "ReyEdZkKTV9s",
        "colab_type": "text"
      },
      "source": [
        "### Задача 6\n",
        "\n",
        "Сколько процентов футболистов из Испании (`Nationality = 'Spain'`) имеют возраст (`Age`) `21 год`? Введите с точностью до 2 знаков после запятой без указания знака % (например, 12.35)."
      ]
    },
    {
      "cell_type": "code",
      "metadata": {
        "id": "180pc-upTV92",
        "colab_type": "code",
        "colab": {}
      },
      "source": [
        ""
      ],
      "execution_count": 0,
      "outputs": []
    }
  ]
}